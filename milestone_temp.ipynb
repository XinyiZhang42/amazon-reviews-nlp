{
 "cells": [
  {
   "cell_type": "markdown",
   "metadata": {},
   "source": [
    "Louie Balderrama<br>\n",
    "Springboard Data Science Career Track, January 2019 cohort<br>\n",
    "\n",
    "<h1 align=\"center\">Capstone Project II</h1>\n",
    "\n",
    "# Introduction #\n",
    "**Problem Statement**: Classifying Amazon reviews based on customer ratings using NLP"
   ]
  },
  {
   "cell_type": "markdown",
   "metadata": {},
   "source": [
    "<h4 align=\"center\">Impact</h4>\n",
    "\n",
    "Reviews provide objective feedback to a product and are therefore inherently useful for consumers. These ratings are often summarized by a numerical rating, or the number of stars. Of course there is more value in the actual text itself than the quantified stars. And at times, the given rating does not truly convey the experience of the product – the heart of the feedback is actually in the text itself. The goal therefore is to build a classifier that would understand the essence of a piece of review and assign it the most appropriate rating based on the meaning of the text.\n",
    "\n",
    "<h4 align=\"center\">Background</h4>\n",
    "\n",
    "Though product ratings on Amazon are aggregated from all the reviews by every customer, each individual rating is actually only an integer that ranges from one star to five stars. This reduces our predictions to discrete classes totaling five possibilities. Therefore what we'll have is a supervised, multi-class classifier with the actual review text as the core predictor.\n",
    "\n",
    "This study is an exploration of Natural Language Processing (NLP). The goal of predicting the star rating given a piece of text will take on different NLP topics including word embedding, topic modeling, and dimension reduction. From there, we'll arrive on a final dataframe and we'll be employing different machine learning techniques in order to come up with the best approach (i.e. most accurate estimator) for our classifier.\n",
    "\n",
    "<h4 align=\"center\" id=\"Datasets\">Datasets</h4>\n",
    "\n",
    "The [Amazon dataset](http://jmcauley.ucsd.edu/data/amazon/index.html) contains the customer reviews for all listed *Electronics* products spanning from May 1996 up to July 2014. There are a total of 1,689,188 reviews by a total of 192,403 customers on 63,001 unique products. The data dictionary is as follows:\n",
    "\n",
    "*  **asin** - Unique ID of the product being reviewed, *string*\n",
    "*  **helpful** - A list with two elements: the number of users that voted *helpful*, and the total number of users that voted on the review (including the *not helpful* votes), *list*\n",
    "*  **overall** - The reviewer's rating of the product, *int64*\n",
    "*  **reviewText** - The review text itself, *string*\n",
    "*  **reviewerID** - Unique ID of the reviewer, *string*\n",
    "*  **reviewerName** - Specified name of the reviewer, *string*\n",
    "*  **summary** - Headline summary of the review, *string*\n",
    "*  **unixReviewTime** - Unix Time of when the review was posted, *string*"
   ]
  },
  {
   "cell_type": "markdown",
   "metadata": {},
   "source": [
    "# Data Wrangling #"
   ]
  },
  {
   "cell_type": "code",
   "execution_count": 1,
   "metadata": {
    "code_folding": []
   },
   "outputs": [],
   "source": [
    "import warnings\n",
    "\n",
    "warnings.simplefilter(\"ignore\", UserWarning)\n",
    "warnings.simplefilter(\"ignore\", FutureWarning)\n",
    "warnings.simplefilter(\"ignore\", DeprecationWarning)"
   ]
  },
  {
   "cell_type": "markdown",
   "metadata": {},
   "source": [
    "The `df` is created from the Amazon dataset. If the file has been downloaded then the dataset is loaded from the local file. Otherwise the file is accessed and extracted directly from the repository."
   ]
  },
  {
   "cell_type": "code",
   "execution_count": 2,
   "metadata": {},
   "outputs": [
    {
     "data": {
      "text/html": [
       "<div>\n",
       "<style scoped>\n",
       "    .dataframe tbody tr th:only-of-type {\n",
       "        vertical-align: middle;\n",
       "    }\n",
       "\n",
       "    .dataframe tbody tr th {\n",
       "        vertical-align: top;\n",
       "    }\n",
       "\n",
       "    .dataframe thead th {\n",
       "        text-align: right;\n",
       "    }\n",
       "</style>\n",
       "<table border=\"1\" class=\"dataframe\">\n",
       "  <thead>\n",
       "    <tr style=\"text-align: right;\">\n",
       "      <th></th>\n",
       "      <th>asin</th>\n",
       "      <th>helpful</th>\n",
       "      <th>overall</th>\n",
       "      <th>reviewText</th>\n",
       "      <th>reviewTime</th>\n",
       "      <th>reviewerID</th>\n",
       "      <th>reviewerName</th>\n",
       "      <th>summary</th>\n",
       "      <th>unixReviewTime</th>\n",
       "    </tr>\n",
       "  </thead>\n",
       "  <tbody>\n",
       "    <tr>\n",
       "      <th>0</th>\n",
       "      <td>0528881469</td>\n",
       "      <td>[0, 0]</td>\n",
       "      <td>5</td>\n",
       "      <td>We got this GPS for my husband who is an (OTR)...</td>\n",
       "      <td>06 2, 2013</td>\n",
       "      <td>AO94DHGC771SJ</td>\n",
       "      <td>amazdnu</td>\n",
       "      <td>Gotta have GPS!</td>\n",
       "      <td>1370131200</td>\n",
       "    </tr>\n",
       "    <tr>\n",
       "      <th>1</th>\n",
       "      <td>0528881469</td>\n",
       "      <td>[12, 15]</td>\n",
       "      <td>1</td>\n",
       "      <td>I'm a professional OTR truck driver, and I bou...</td>\n",
       "      <td>11 25, 2010</td>\n",
       "      <td>AMO214LNFCEI4</td>\n",
       "      <td>Amazon Customer</td>\n",
       "      <td>Very Disappointed</td>\n",
       "      <td>1290643200</td>\n",
       "    </tr>\n",
       "    <tr>\n",
       "      <th>2</th>\n",
       "      <td>0528881469</td>\n",
       "      <td>[43, 45]</td>\n",
       "      <td>3</td>\n",
       "      <td>Well, what can I say.  I've had this unit in m...</td>\n",
       "      <td>09 9, 2010</td>\n",
       "      <td>A3N7T0DY83Y4IG</td>\n",
       "      <td>C. A. Freeman</td>\n",
       "      <td>1st impression</td>\n",
       "      <td>1283990400</td>\n",
       "    </tr>\n",
       "    <tr>\n",
       "      <th>3</th>\n",
       "      <td>0528881469</td>\n",
       "      <td>[9, 10]</td>\n",
       "      <td>2</td>\n",
       "      <td>Not going to write a long review, even thought...</td>\n",
       "      <td>11 24, 2010</td>\n",
       "      <td>A1H8PY3QHMQQA0</td>\n",
       "      <td>Dave M. Shaw \"mack dave\"</td>\n",
       "      <td>Great grafics, POOR GPS</td>\n",
       "      <td>1290556800</td>\n",
       "    </tr>\n",
       "    <tr>\n",
       "      <th>4</th>\n",
       "      <td>0528881469</td>\n",
       "      <td>[0, 0]</td>\n",
       "      <td>1</td>\n",
       "      <td>I've had mine for a year and here's what we go...</td>\n",
       "      <td>09 29, 2011</td>\n",
       "      <td>A24EV6RXELQZ63</td>\n",
       "      <td>Wayne Smith</td>\n",
       "      <td>Major issues, only excuses for support</td>\n",
       "      <td>1317254400</td>\n",
       "    </tr>\n",
       "    <tr>\n",
       "      <th>5</th>\n",
       "      <td>0594451647</td>\n",
       "      <td>[3, 3]</td>\n",
       "      <td>5</td>\n",
       "      <td>I am using this with a Nook HD+. It works as d...</td>\n",
       "      <td>01 3, 2014</td>\n",
       "      <td>A2JXAZZI9PHK9Z</td>\n",
       "      <td>Billy G. Noland \"Bill Noland\"</td>\n",
       "      <td>HDMI Nook adapter cable</td>\n",
       "      <td>1388707200</td>\n",
       "    </tr>\n",
       "    <tr>\n",
       "      <th>6</th>\n",
       "      <td>0594451647</td>\n",
       "      <td>[0, 0]</td>\n",
       "      <td>2</td>\n",
       "      <td>The cable is very wobbly and sometimes disconn...</td>\n",
       "      <td>04 27, 2014</td>\n",
       "      <td>A2P5U7BDKKT7FW</td>\n",
       "      <td>Christian</td>\n",
       "      <td>Cheap proprietary scam</td>\n",
       "      <td>1398556800</td>\n",
       "    </tr>\n",
       "    <tr>\n",
       "      <th>7</th>\n",
       "      <td>0594451647</td>\n",
       "      <td>[0, 0]</td>\n",
       "      <td>5</td>\n",
       "      <td>This adaptor is real easy to setup and use rig...</td>\n",
       "      <td>05 4, 2014</td>\n",
       "      <td>AAZ084UMH8VZ2</td>\n",
       "      <td>D. L. Brown \"A Knower Of Good Things\"</td>\n",
       "      <td>A Perfdect Nook HD+ hook up</td>\n",
       "      <td>1399161600</td>\n",
       "    </tr>\n",
       "    <tr>\n",
       "      <th>8</th>\n",
       "      <td>0594451647</td>\n",
       "      <td>[0, 0]</td>\n",
       "      <td>4</td>\n",
       "      <td>This adapter easily connects my Nook HD 7&amp;#34;...</td>\n",
       "      <td>07 11, 2014</td>\n",
       "      <td>AEZ3CR6BKIROJ</td>\n",
       "      <td>Mark Dietter</td>\n",
       "      <td>A nice easy to use accessory.</td>\n",
       "      <td>1405036800</td>\n",
       "    </tr>\n",
       "    <tr>\n",
       "      <th>9</th>\n",
       "      <td>0594451647</td>\n",
       "      <td>[3, 3]</td>\n",
       "      <td>5</td>\n",
       "      <td>This product really works great but I found th...</td>\n",
       "      <td>01 20, 2014</td>\n",
       "      <td>A3BY5KCNQZXV5U</td>\n",
       "      <td>Matenai</td>\n",
       "      <td>This works great but read the details...</td>\n",
       "      <td>1390176000</td>\n",
       "    </tr>\n",
       "  </tbody>\n",
       "</table>\n",
       "</div>"
      ],
      "text/plain": [
       "         asin   helpful  overall  \\\n",
       "0  0528881469    [0, 0]        5   \n",
       "1  0528881469  [12, 15]        1   \n",
       "2  0528881469  [43, 45]        3   \n",
       "3  0528881469   [9, 10]        2   \n",
       "4  0528881469    [0, 0]        1   \n",
       "5  0594451647    [3, 3]        5   \n",
       "6  0594451647    [0, 0]        2   \n",
       "7  0594451647    [0, 0]        5   \n",
       "8  0594451647    [0, 0]        4   \n",
       "9  0594451647    [3, 3]        5   \n",
       "\n",
       "                                          reviewText   reviewTime  \\\n",
       "0  We got this GPS for my husband who is an (OTR)...   06 2, 2013   \n",
       "1  I'm a professional OTR truck driver, and I bou...  11 25, 2010   \n",
       "2  Well, what can I say.  I've had this unit in m...   09 9, 2010   \n",
       "3  Not going to write a long review, even thought...  11 24, 2010   \n",
       "4  I've had mine for a year and here's what we go...  09 29, 2011   \n",
       "5  I am using this with a Nook HD+. It works as d...   01 3, 2014   \n",
       "6  The cable is very wobbly and sometimes disconn...  04 27, 2014   \n",
       "7  This adaptor is real easy to setup and use rig...   05 4, 2014   \n",
       "8  This adapter easily connects my Nook HD 7&#34;...  07 11, 2014   \n",
       "9  This product really works great but I found th...  01 20, 2014   \n",
       "\n",
       "       reviewerID                           reviewerName  \\\n",
       "0   AO94DHGC771SJ                                amazdnu   \n",
       "1   AMO214LNFCEI4                        Amazon Customer   \n",
       "2  A3N7T0DY83Y4IG                          C. A. Freeman   \n",
       "3  A1H8PY3QHMQQA0               Dave M. Shaw \"mack dave\"   \n",
       "4  A24EV6RXELQZ63                            Wayne Smith   \n",
       "5  A2JXAZZI9PHK9Z          Billy G. Noland \"Bill Noland\"   \n",
       "6  A2P5U7BDKKT7FW                              Christian   \n",
       "7   AAZ084UMH8VZ2  D. L. Brown \"A Knower Of Good Things\"   \n",
       "8   AEZ3CR6BKIROJ                           Mark Dietter   \n",
       "9  A3BY5KCNQZXV5U                                Matenai   \n",
       "\n",
       "                                    summary  unixReviewTime  \n",
       "0                           Gotta have GPS!      1370131200  \n",
       "1                         Very Disappointed      1290643200  \n",
       "2                            1st impression      1283990400  \n",
       "3                   Great grafics, POOR GPS      1290556800  \n",
       "4    Major issues, only excuses for support      1317254400  \n",
       "5                   HDMI Nook adapter cable      1388707200  \n",
       "6                    Cheap proprietary scam      1398556800  \n",
       "7               A Perfdect Nook HD+ hook up      1399161600  \n",
       "8             A nice easy to use accessory.      1405036800  \n",
       "9  This works great but read the details...      1390176000  "
      ]
     },
     "metadata": {},
     "output_type": "display_data"
    }
   ],
   "source": [
    "import os\n",
    "import pandas as pd\n",
    "\n",
    "dataset = \"Electronics_5.json\"\n",
    "\n",
    "if os.path.isfile(dataset):\n",
    "    df = pd.read_json(\"Electronics_5.json\", lines=True)\n",
    "else:\n",
    "    url = r\"http://snap.stanford.edu/data/amazon/productGraph/categoryFiles/reviews_Electronics_5.json.gz\"\n",
    "    df = pd.read_json(url, compression='gzip', lines=True)\n",
    "\n",
    "display(df.head(10))"
   ]
  },
  {
   "cell_type": "markdown",
   "metadata": {},
   "source": [
    "Only the `overall` and the `unixReviewTime` series are stored as integers. The rest are interpreted as strings (objects)."
   ]
  },
  {
   "cell_type": "code",
   "execution_count": 3,
   "metadata": {},
   "outputs": [
    {
     "name": "stdout",
     "output_type": "stream",
     "text": [
      "<class 'pandas.core.frame.DataFrame'>\n",
      "RangeIndex: 1689188 entries, 0 to 1689187\n",
      "Data columns (total 9 columns):\n",
      "asin              1689188 non-null object\n",
      "helpful           1689188 non-null object\n",
      "overall           1689188 non-null int64\n",
      "reviewText        1689188 non-null object\n",
      "reviewTime        1689188 non-null object\n",
      "reviewerID        1689188 non-null object\n",
      "reviewerName      1664458 non-null object\n",
      "summary           1689188 non-null object\n",
      "unixReviewTime    1689188 non-null int64\n",
      "dtypes: int64(2), object(7)\n",
      "memory usage: 116.0+ MB\n",
      "None\n"
     ]
    }
   ],
   "source": [
    "print(df.info())"
   ]
  },
  {
   "cell_type": "markdown",
   "metadata": {},
   "source": [
    "The `unixReviewTime` is converted from Unix time to the more intuitive `datetime` datatype."
   ]
  },
  {
   "cell_type": "code",
   "execution_count": 4,
   "metadata": {
    "scrolled": true
   },
   "outputs": [],
   "source": [
    "from datetime import datetime\n",
    "\n",
    "condition = lambda row: datetime.fromtimestamp(row).strftime(\"%m-%d-%Y\")\n",
    "df[\"unixReviewTime\"] = df[\"unixReviewTime\"].apply(condition)"
   ]
  },
  {
   "cell_type": "markdown",
   "metadata": {},
   "source": [
    "The `reviewTime` is dropped since the `unixReviewTime` series more accurately describes the time when each review was posted."
   ]
  },
  {
   "cell_type": "code",
   "execution_count": 5,
   "metadata": {
    "scrolled": false
   },
   "outputs": [
    {
     "data": {
      "text/html": [
       "<div>\n",
       "<style scoped>\n",
       "    .dataframe tbody tr th:only-of-type {\n",
       "        vertical-align: middle;\n",
       "    }\n",
       "\n",
       "    .dataframe tbody tr th {\n",
       "        vertical-align: top;\n",
       "    }\n",
       "\n",
       "    .dataframe thead th {\n",
       "        text-align: right;\n",
       "    }\n",
       "</style>\n",
       "<table border=\"1\" class=\"dataframe\">\n",
       "  <thead>\n",
       "    <tr style=\"text-align: right;\">\n",
       "      <th></th>\n",
       "      <th>asin</th>\n",
       "      <th>helpful</th>\n",
       "      <th>overall</th>\n",
       "      <th>reviewText</th>\n",
       "      <th>reviewerID</th>\n",
       "      <th>reviewerName</th>\n",
       "      <th>summary</th>\n",
       "      <th>unixReviewTime</th>\n",
       "    </tr>\n",
       "  </thead>\n",
       "  <tbody>\n",
       "    <tr>\n",
       "      <th>0</th>\n",
       "      <td>0528881469</td>\n",
       "      <td>[0, 0]</td>\n",
       "      <td>5</td>\n",
       "      <td>We got this GPS for my husband who is an (OTR)...</td>\n",
       "      <td>AO94DHGC771SJ</td>\n",
       "      <td>amazdnu</td>\n",
       "      <td>Gotta have GPS!</td>\n",
       "      <td>06-01-2013</td>\n",
       "    </tr>\n",
       "    <tr>\n",
       "      <th>1</th>\n",
       "      <td>0528881469</td>\n",
       "      <td>[12, 15]</td>\n",
       "      <td>1</td>\n",
       "      <td>I'm a professional OTR truck driver, and I bou...</td>\n",
       "      <td>AMO214LNFCEI4</td>\n",
       "      <td>Amazon Customer</td>\n",
       "      <td>Very Disappointed</td>\n",
       "      <td>11-24-2010</td>\n",
       "    </tr>\n",
       "    <tr>\n",
       "      <th>2</th>\n",
       "      <td>0528881469</td>\n",
       "      <td>[43, 45]</td>\n",
       "      <td>3</td>\n",
       "      <td>Well, what can I say.  I've had this unit in m...</td>\n",
       "      <td>A3N7T0DY83Y4IG</td>\n",
       "      <td>C. A. Freeman</td>\n",
       "      <td>1st impression</td>\n",
       "      <td>09-08-2010</td>\n",
       "    </tr>\n",
       "    <tr>\n",
       "      <th>3</th>\n",
       "      <td>0528881469</td>\n",
       "      <td>[9, 10]</td>\n",
       "      <td>2</td>\n",
       "      <td>Not going to write a long review, even thought...</td>\n",
       "      <td>A1H8PY3QHMQQA0</td>\n",
       "      <td>Dave M. Shaw \"mack dave\"</td>\n",
       "      <td>Great grafics, POOR GPS</td>\n",
       "      <td>11-23-2010</td>\n",
       "    </tr>\n",
       "    <tr>\n",
       "      <th>4</th>\n",
       "      <td>0528881469</td>\n",
       "      <td>[0, 0]</td>\n",
       "      <td>1</td>\n",
       "      <td>I've had mine for a year and here's what we go...</td>\n",
       "      <td>A24EV6RXELQZ63</td>\n",
       "      <td>Wayne Smith</td>\n",
       "      <td>Major issues, only excuses for support</td>\n",
       "      <td>09-28-2011</td>\n",
       "    </tr>\n",
       "  </tbody>\n",
       "</table>\n",
       "</div>"
      ],
      "text/plain": [
       "         asin   helpful  overall  \\\n",
       "0  0528881469    [0, 0]        5   \n",
       "1  0528881469  [12, 15]        1   \n",
       "2  0528881469  [43, 45]        3   \n",
       "3  0528881469   [9, 10]        2   \n",
       "4  0528881469    [0, 0]        1   \n",
       "\n",
       "                                          reviewText      reviewerID  \\\n",
       "0  We got this GPS for my husband who is an (OTR)...   AO94DHGC771SJ   \n",
       "1  I'm a professional OTR truck driver, and I bou...   AMO214LNFCEI4   \n",
       "2  Well, what can I say.  I've had this unit in m...  A3N7T0DY83Y4IG   \n",
       "3  Not going to write a long review, even thought...  A1H8PY3QHMQQA0   \n",
       "4  I've had mine for a year and here's what we go...  A24EV6RXELQZ63   \n",
       "\n",
       "               reviewerName                                 summary  \\\n",
       "0                   amazdnu                         Gotta have GPS!   \n",
       "1           Amazon Customer                       Very Disappointed   \n",
       "2             C. A. Freeman                          1st impression   \n",
       "3  Dave M. Shaw \"mack dave\"                 Great grafics, POOR GPS   \n",
       "4               Wayne Smith  Major issues, only excuses for support   \n",
       "\n",
       "  unixReviewTime  \n",
       "0     06-01-2013  \n",
       "1     11-24-2010  \n",
       "2     09-08-2010  \n",
       "3     11-23-2010  \n",
       "4     09-28-2011  "
      ]
     },
     "metadata": {},
     "output_type": "display_data"
    }
   ],
   "source": [
    "df.drop(labels=\"reviewTime\", axis=1, inplace=True)\n",
    "\n",
    "display(df.head())"
   ]
  },
  {
   "cell_type": "markdown",
   "metadata": {},
   "source": [
    "Each review is stored as string in the `reviewText` series. A sample product review is below:"
   ]
  },
  {
   "cell_type": "code",
   "execution_count": 6,
   "metadata": {},
   "outputs": [
    {
     "name": "stdout",
     "output_type": "stream",
     "text": [
      "I&#8217;m a big fan of the Brainwavz S1 (actually all of their headphones &#8211; have yet to be disappointed with any of their products). The S1 has been my main set for active use (e.g., workouts, runs, etc.) since the flat cable is very durable and resistant to tangles. The S5 keeps all the good features of the S1 and adds to it &#8211; the sound quality is richer and better defined.That&#8217;s not to say the S1 sounds poor &#8211; they are quite good, in fact. But the S5 are better. The highs are better defined and the midrange has more punch to it. The bass comes through clearly without moving into the harsh territory when the volume is pushed (as the S1s can do). The overall sound quality is very pleasing.The build quality seems solid &#8211; as solid as the S1 or better. I love the flat cable! I know that&#8217;s something that is not appreciated by everyone, but for me it&#8217;s been working out wonderfully. Although this (as most other Brainwavz headsets) comes with an excellent hard shell case, I usually tote my earbuds wrapped around my mp3 player in my pocket. Easy to carry; very stressful on the cables and can lead to tangles with round wires. Flat wires, especially those with a thick jacket such as these, survive that abuse with zero problems.The earbuds themselves are more sleekly shaped than the &#8220;can&#8221; style of the S1.Comfort is in line with the customary Brainwavz style, which is to say it&#8217;s outstanding. It comes with a wide range of tips to fit pretty much any ear, plus the Comply foam tips (which are my favorite). If fitted properly you end up with zero ear irritation plus excellent sound isolation and bass response.These are an over-the-ear design much like the S1. I never used that design prior to the S1 and it did take me a little time to get accustomed to it. It became second nature quickly, and the design is a lot more stable when exercising than the conventional in-ear design.These are more expensive than the S1, but you can hear the difference in price. Still, if you&#8217;re looking to keep the cost down a bit, the S1 is an excellent performer as well.Great sound, great comfort, wonderful cable design, and it comes with a solidly made case and lots of eartips. Highly recommend.[Sample provided for review]\n"
     ]
    }
   ],
   "source": [
    "print(df[\"reviewText\"].iloc[1689185])"
   ]
  },
  {
   "cell_type": "markdown",
   "metadata": {},
   "source": [
    "Each review is associated with a rating stored under the `overall` field. This serves as the quantified summary of a given review and will thus be used as the ground truth labels for the model."
   ]
  },
  {
   "cell_type": "code",
   "execution_count": 7,
   "metadata": {},
   "outputs": [
    {
     "name": "stdout",
     "output_type": "stream",
     "text": [
      "[5 1 3 2 4]\n"
     ]
    }
   ],
   "source": [
    "print(df.overall.unique())"
   ]
  },
  {
   "cell_type": "markdown",
   "metadata": {},
   "source": [
    "The distribution of ratings shows that, in general, users highly approve of products bought on Amazon. This however gives us a highly imbalanced dataset.\n",
    "\n",
    "To deal with this we will take into account underrepresenting the majority and overrepresenting the minority. These will be performed during the train-test split later on."
   ]
  },
  {
   "cell_type": "code",
   "execution_count": 20,
   "metadata": {},
   "outputs": [
    {
     "data": {
      "image/png": "[encoded data removed]",
      "text/plain": [
       "<Figure size 1440x504 with 1 Axes>"
      ]
     },
     "metadata": {
      "needs_background": "light"
     },
     "output_type": "display_data"
    }
   ],
   "source": [
    "import matplotlib.pyplot as plt\n",
    "import seaborn as sns\n",
    "\n",
    "f, axes = plt.subplots(figsize=(20,7))\n",
    "ax = sns.countplot(x=df[\"overall\"], palette=\"OrRd_r\")\n",
    "ax.set(title=\"Distribution of Product Ratings\", \\\n",
    "       xlabel=\"Rating\", ylabel=\"Number of Reviews\")\n",
    "plt.show()"
   ]
  },
  {
   "cell_type": "markdown",
   "metadata": {},
   "source": [
    "If the model simply classified every review as `5`, then the model would achieve an accuracy of around 60% given the entire dataset. Since this will still outperform predictions made by chance, we would therefore ensure that our test set is as stratified as the \"balanced\" training set."
   ]
  },
  {
   "cell_type": "code",
   "execution_count": 9,
   "metadata": {},
   "outputs": [
    {
     "name": "stdout",
     "output_type": "stream",
     "text": [
      "59.73%\n"
     ]
    }
   ],
   "source": [
    "majority = df[\"overall\"] == 5\n",
    "majority_ratio = len(df[majority]) / len(df)\n",
    "\n",
    "print(f\"{majority_ratio*100:.2f}%\")"
   ]
  },
  {
   "cell_type": "markdown",
   "metadata": {},
   "source": [
    "## NLP Pre-Processing ##\n",
    "We'll work with `reviewText` to prepare our model's final dataframe. The goal is to produce tokens for every document (i.e. every review). These documents will make up our corpora where we'll draw our vocabulary from.\n",
    "\n",
    "The following is a sample text in its original form. This is the same as what was inspected in the previous section."
   ]
  },
  {
   "cell_type": "code",
   "execution_count": 10,
   "metadata": {},
   "outputs": [
    {
     "name": "stdout",
     "output_type": "stream",
     "text": [
      "I&#8217;m a big fan of the Brainwavz S1 (actually all of their headphones &#8211; have yet to be disappointed with any of their products). The S1 has been my main set for active use (e.g., workouts, runs, etc.) since the flat cable is very durable and resistant to tangles. The S5 keeps all the good features of the S1 and adds to it &#8211; the sound quality is richer and better defined.That&#8217;s not to say the S1 sounds poor &#8211; they are quite good, in fact. But the S5 are better. The highs are better defined and the midrange has more punch to it. The bass comes through clearly without moving into the harsh territory when the volume is pushed (as the S1s can do). The overall sound quality is very pleasing.The build quality seems solid &#8211; as solid as the S1 or better. I love the flat cable! I know that&#8217;s something that is not appreciated by everyone, but for me it&#8217;s been working out wonderfully. Although this (as most other Brainwavz headsets) comes with an excellent hard shell case, I usually tote my earbuds wrapped around my mp3 player in my pocket. Easy to carry; very stressful on the cables and can lead to tangles with round wires. Flat wires, especially those with a thick jacket such as these, survive that abuse with zero problems.The earbuds themselves are more sleekly shaped than the &#8220;can&#8221; style of the S1.Comfort is in line with the customary Brainwavz style, which is to say it&#8217;s outstanding. It comes with a wide range of tips to fit pretty much any ear, plus the Comply foam tips (which are my favorite). If fitted properly you end up with zero ear irritation plus excellent sound isolation and bass response.These are an over-the-ear design much like the S1. I never used that design prior to the S1 and it did take me a little time to get accustomed to it. It became second nature quickly, and the design is a lot more stable when exercising than the conventional in-ear design.These are more expensive than the S1, but you can hear the difference in price. Still, if you&#8217;re looking to keep the cost down a bit, the S1 is an excellent performer as well.Great sound, great comfort, wonderful cable design, and it comes with a solidly made case and lots of eartips. Highly recommend.[Sample provided for review]\n"
     ]
    }
   ],
   "source": [
    "sample_review = df[\"reviewText\"].iloc[1689185]\n",
    "print(sample_review)"
   ]
  },
  {
   "cell_type": "markdown",
   "metadata": {},
   "source": [
    "### HTML Entities ###\n",
    "Some special characters like the apostrophe (’) and the en dash (–) are expressed as a set of numbers prefixed by `&#` and suffixed by `;`. This is because the dataset was scraped from an HTML parser, and the dataset itself includes data that predated the universal UTF-8 standard.\n",
    "\n",
    "These *HTML Entities* can be decoded by importing the `html` library."
   ]
  },
  {
   "cell_type": "code",
   "execution_count": 11,
   "metadata": {},
   "outputs": [
    {
     "name": "stdout",
     "output_type": "stream",
     "text": [
      "I’m a big fan of the Brainwavz S1 (actually all of their headphones – have yet to be disappointed with any of their products). The S1 has been my main set for active use (e.g., workouts, runs, etc.) since the flat cable is very durable and resistant to tangles. The S5 keeps all the good features of the S1 and adds to it – the sound quality is richer and better defined.That’s not to say the S1 sounds poor – they are quite good, in fact. But the S5 are better. The highs are better defined and the midrange has more punch to it. The bass comes through clearly without moving into the harsh territory when the volume is pushed (as the S1s can do). The overall sound quality is very pleasing.The build quality seems solid – as solid as the S1 or better. I love the flat cable! I know that’s something that is not appreciated by everyone, but for me it’s been working out wonderfully. Although this (as most other Brainwavz headsets) comes with an excellent hard shell case, I usually tote my earbuds wrapped around my mp3 player in my pocket. Easy to carry; very stressful on the cables and can lead to tangles with round wires. Flat wires, especially those with a thick jacket such as these, survive that abuse with zero problems.The earbuds themselves are more sleekly shaped than the “can” style of the S1.Comfort is in line with the customary Brainwavz style, which is to say it’s outstanding. It comes with a wide range of tips to fit pretty much any ear, plus the Comply foam tips (which are my favorite). If fitted properly you end up with zero ear irritation plus excellent sound isolation and bass response.These are an over-the-ear design much like the S1. I never used that design prior to the S1 and it did take me a little time to get accustomed to it. It became second nature quickly, and the design is a lot more stable when exercising than the conventional in-ear design.These are more expensive than the S1, but you can hear the difference in price. Still, if you’re looking to keep the cost down a bit, the S1 is an excellent performer as well.Great sound, great comfort, wonderful cable design, and it comes with a solidly made case and lots of eartips. Highly recommend.[Sample provided for review]\n"
     ]
    }
   ],
   "source": [
    "import html\n",
    "\n",
    "decoded_review = html.unescape(sample_review)\n",
    "print(decoded_review)"
   ]
  },
  {
   "cell_type": "markdown",
   "metadata": {},
   "source": [
    "Since punctuation marks do not add value in the way we'll perform NLP, all the HTML entities in the review texts can be dropped. The output series `preprocessed` is our `reviewText` but without the special characters."
   ]
  },
  {
   "cell_type": "code",
   "execution_count": 12,
   "metadata": {},
   "outputs": [
    {
     "name": "stdout",
     "output_type": "stream",
     "text": [
      "Im a big fan of the Brainwavz S1 (actually all of their headphones  have yet to be disappointed with any of their products). The S1 has been my main set for active use (e.g., workouts, runs, etc.) since the flat cable is very durable and resistant to tangles. The S5 keeps all the good features of the S1 and adds to it  the sound quality is richer and better defined.Thats not to say the S1 sounds poor  they are quite good, in fact. But the S5 are better. The highs are better defined and the midrange has more punch to it. The bass comes through clearly without moving into the harsh territory when the volume is pushed (as the S1s can do). The overall sound quality is very pleasing.The build quality seems solid  as solid as the S1 or better. I love the flat cable! I know thats something that is not appreciated by everyone, but for me its been working out wonderfully. Although this (as most other Brainwavz headsets) comes with an excellent hard shell case, I usually tote my earbuds wrapped around my mp3 player in my pocket. Easy to carry; very stressful on the cables and can lead to tangles with round wires. Flat wires, especially those with a thick jacket such as these, survive that abuse with zero problems.The earbuds themselves are more sleekly shaped than the can style of the S1.Comfort is in line with the customary Brainwavz style, which is to say its outstanding. It comes with a wide range of tips to fit pretty much any ear, plus the Comply foam tips (which are my favorite). If fitted properly you end up with zero ear irritation plus excellent sound isolation and bass response.These are an over-the-ear design much like the S1. I never used that design prior to the S1 and it did take me a little time to get accustomed to it. It became second nature quickly, and the design is a lot more stable when exercising than the conventional in-ear design.These are more expensive than the S1, but you can hear the difference in price. Still, if youre looking to keep the cost down a bit, the S1 is an excellent performer as well.Great sound, great comfort, wonderful cable design, and it comes with a solidly made case and lots of eartips. Highly recommend.[Sample provided for review]\n"
     ]
    }
   ],
   "source": [
    "pattern = r\"\\&\\#[0-9]+\\;\"\n",
    "\n",
    "df[\"preprocessed\"] = df[\"reviewText\"].str.replace(pat=pattern, repl=\"\", regex=True)\n",
    "\n",
    "print(df[\"preprocessed\"].iloc[1689185])"
   ]
  },
  {
   "cell_type": "markdown",
   "metadata": {},
   "source": [
    "### Extracting the root word ###\n",
    "How often a word is used is key information in natural language processing. It is therefore important to reduce words to their root form. An example would be the usage of the word \"*learn*\". If we differentiate this base form from a modified version like \"*learning*\" then we might lose relational context between two documents that have used either word.\n",
    "\n",
    "We'll be using Lemmatization to reduce tokens to their base word. This technique takes into account context similarity according to part-of-speech anatomy. Stemming is another common approach, although stemming only performs truncation and would not be able to reduce \"*taught*\" to \"*teach*\".\n",
    "\n",
    "We will be using the *WordNetLemmatizer* from the Natural Language Toolkit (or *NLTK*). Lemmatization only applies to each word but it is dependent on sentence structure to understand context. We therefore need to have part-of-speech tags associated with each word. Our output is derived from applying the `lemmatize_doc` function to our `preprocessed` column.\n",
    "\n",
    "The `lemmatize_doc` works as follows:\n",
    "* Each review is broken down into a list of sentences\n",
    "* Punctuations that only group words or separate sentences (hyphens therefore are excluded) are removed (replaced by whitespace) using RegEx\n",
    "* Every sentence is further broken down into words (tokens)\n",
    "\n",
    "Each of the sentences then becomes an ordered bag of words. Every word is then *tagged* to a part-of-speech. This word-tag tuple pair is then fed one at a time to the `lemmatize_word` function, which works as follows:\n",
    "* Only modifiable words – nouns, verbs, adjectives, and adverbs – can be reduced to roots\n",
    "* These words are lemmatized and appended to the `root` list\n",
    "* Words that are not modifiable are added as they are to the `root` list\n",
    "\n",
    "The output lists are linked together as a string using whitespace. In the end, each `preprocessed` review will retain its text form but with each word simplified as much as possible."
   ]
  },
  {
   "cell_type": "code",
   "execution_count": 13,
   "metadata": {},
   "outputs": [
    {
     "name": "stdout",
     "output_type": "stream",
     "text": [
      "Im a big fan of the Brainwavz S1 actually all of their headphone have yet to be disappoint with any of their product The S1 have be my main set for active use e g workouts run etc since the flat cable be very durable and resistant to tangle The S5 keep all the good feature of the S1 and add to it the sound quality be rich and well define Thats not to say the S1 sound poor they be quite good in fact But the S5 be well The high be well define and the midrange have more punch to it The bass come through clearly without move into the harsh territory when the volume be push as the S1s can do The overall sound quality be very please The build quality seem solid as solid as the S1 or good I love the flat cable I know thats something that be not appreciate by everyone but for me its be work out wonderfully Although this as most other Brainwavz headset come with an excellent hard shell case I usually tote my earbuds wrap around my mp3 player in my pocket Easy to carry ; very stressful on the cable and can lead to tangle with round wire Flat wire especially those with a thick jacket such as these survive that abuse with zero problem The earbuds themselves be more sleekly shape than the can style of the S1 Comfort be in line with the customary Brainwavz style which be to say its outstanding It come with a wide range of tip to fit pretty much any ear plus the Comply foam tip which be my favorite If fit properly you end up with zero ear irritation plus excellent sound isolation and bass response These be an over-the-ear design much like the S1 I never use that design prior to the S1 and it do take me a little time to get accustom to it It become second nature quickly and the design be a lot more stable when exercise than the conventional in-ear design These be more expensive than the S1 but you can hear the difference in price Still if youre look to keep the cost down a bit the S1 be an excellent performer as well Great sound great comfort wonderful cable design and it come with a solidly make case and lot of eartips Highly recommend [ Sample provide for review ]\n",
      "Wall time: 3h 18min 57s\n"
     ]
    }
   ],
   "source": [
    "%%time\n",
    "import re\n",
    "import nltk\n",
    "\n",
    "from nltk import word_tokenize, pos_tag\n",
    "from nltk.stem import WordNetLemmatizer\n",
    "from nltk.tokenize import sent_tokenize\n",
    "from nltk.corpus import wordnet\n",
    "\n",
    "#import nltk resources\n",
    "resources = [\"wordnet\", \"stopwords\", \"punkt\", \\\n",
    "             \"averaged_perceptron_tagger\", \"maxent_treebank_pos_tagger\"]\n",
    "\n",
    "#placeholder\n",
    "#for resource in resources:\n",
    "#    try:\n",
    "#        nltk.data.find(\"tokenizers/\" + resource)\n",
    "#    except LookupError:\n",
    "#        nltk.download(resource)\n",
    "\n",
    "#create Lemmatizer object\n",
    "lemma = WordNetLemmatizer()\n",
    "\n",
    "def lemmatize_word(tagged_token):\n",
    "    \"\"\" Returns lemmatized word given its tag\"\"\"\n",
    "    root = []\n",
    "    for token in tagged_token:\n",
    "        tag = token[1][0]\n",
    "        word = token[0]\n",
    "        if tag.startswith('J'):\n",
    "            root.append(lemma.lemmatize(word, wordnet.ADJ))\n",
    "        elif tag.startswith('V'):\n",
    "            root.append(lemma.lemmatize(word, wordnet.VERB))\n",
    "        elif tag.startswith('N'):\n",
    "            root.append(lemma.lemmatize(word, wordnet.NOUN))\n",
    "        elif tag.startswith('R'):\n",
    "            root.append(lemma.lemmatize(word, wordnet.ADV))\n",
    "        else:          \n",
    "            root.append(word)\n",
    "    return root\n",
    "\n",
    "def lemmatize_doc(document):\n",
    "    \"\"\" Tags words then returns sentence with lemmatized words\"\"\"\n",
    "    lemmatized_list = []\n",
    "    tokenized_sent = sent_tokenize(document)\n",
    "    for sentence in tokenized_sent:\n",
    "        no_punctuation = re.sub(r\"[`'\\\",.!?()]\", \" \", sentence)\n",
    "        tokenized_word = word_tokenize(no_punctuation)\n",
    "        tagged_token = pos_tag(tokenized_word)\n",
    "        lemmatized = lemmatize_word(tagged_token)\n",
    "        lemmatized_list.extend(lemmatized)\n",
    "    return \" \".join(lemmatized_list)\n",
    "\n",
    "#apply our functions\n",
    "df[\"preprocessed\"] = df[\"preprocessed\"].apply(lambda row: lemmatize_doc(row))\n",
    "\n",
    "print(df[\"preprocessed\"].iloc[1689185])"
   ]
  },
  {
   "cell_type": "markdown",
   "metadata": {},
   "source": [
    "### Removing Accents ###\n",
    "Each review is normalized from longform UTF-8 to ASCII encoding. This will remove accents in characters and ensure that words like \"*naïve*\" will simply be interpreted as (and therefore not differentiated from) \"*naive*\"."
   ]
  },
  {
   "cell_type": "code",
   "execution_count": 14,
   "metadata": {},
   "outputs": [
    {
     "name": "stdout",
     "output_type": "stream",
     "text": [
      "Im a big fan of the Brainwavz S1 actually all of their headphone have yet to be disappoint with any of their product The S1 have be my main set for active use e g workouts run etc since the flat cable be very durable and resistant to tangle The S5 keep all the good feature of the S1 and add to it the sound quality be rich and well define Thats not to say the S1 sound poor they be quite good in fact But the S5 be well The high be well define and the midrange have more punch to it The bass come through clearly without move into the harsh territory when the volume be push as the S1s can do The overall sound quality be very please The build quality seem solid as solid as the S1 or good I love the flat cable I know thats something that be not appreciate by everyone but for me its be work out wonderfully Although this as most other Brainwavz headset come with an excellent hard shell case I usually tote my earbuds wrap around my mp3 player in my pocket Easy to carry ; very stressful on the cable and can lead to tangle with round wire Flat wire especially those with a thick jacket such as these survive that abuse with zero problem The earbuds themselves be more sleekly shape than the can style of the S1 Comfort be in line with the customary Brainwavz style which be to say its outstanding It come with a wide range of tip to fit pretty much any ear plus the Comply foam tip which be my favorite If fit properly you end up with zero ear irritation plus excellent sound isolation and bass response These be an over-the-ear design much like the S1 I never use that design prior to the S1 and it do take me a little time to get accustom to it It become second nature quickly and the design be a lot more stable when exercise than the conventional in-ear design These be more expensive than the S1 but you can hear the difference in price Still if youre look to keep the cost down a bit the S1 be an excellent performer as well Great sound great comfort wonderful cable design and it come with a solidly make case and lot of eartips Highly recommend [ Sample provide for review ]\n"
     ]
    }
   ],
   "source": [
    "from unicodedata import normalize\n",
    "\n",
    "remove_accent = lambda text: normalize(\"NFKD\", text).encode(\"ascii\", \"ignore\").decode(\"utf-8\", \"ignore\")\n",
    "\n",
    "df[\"preprocessed\"] = df[\"preprocessed\"].apply(remove_accent)\n",
    "\n",
    "print(df[\"preprocessed\"].iloc[1689185])"
   ]
  },
  {
   "cell_type": "markdown",
   "metadata": {},
   "source": [
    "### Removing Punctuations ###\n",
    "The `preprocessed` reviews are further cleaned by dropping punctuations. Using regular expressions, only whitespaces and alphanumeric characters are kept."
   ]
  },
  {
   "cell_type": "code",
   "execution_count": 15,
   "metadata": {},
   "outputs": [
    {
     "name": "stdout",
     "output_type": "stream",
     "text": [
      "Im a big fan of the Brainwavz S1 actually all of their headphone have yet to be disappoint with any of their product The S1 have be my main set for active use e g workouts run etc since the flat cable be very durable and resistant to tangle The S5 keep all the good feature of the S1 and add to it the sound quality be rich and well define Thats not to say the S1 sound poor they be quite good in fact But the S5 be well The high be well define and the midrange have more punch to it The bass come through clearly without move into the harsh territory when the volume be push as the S1s can do The overall sound quality be very please The build quality seem solid as solid as the S1 or good I love the flat cable I know thats something that be not appreciate by everyone but for me its be work out wonderfully Although this as most other Brainwavz headset come with an excellent hard shell case I usually tote my earbuds wrap around my mp3 player in my pocket Easy to carry   very stressful on the cable and can lead to tangle with round wire Flat wire especially those with a thick jacket such as these survive that abuse with zero problem The earbuds themselves be more sleekly shape than the can style of the S1 Comfort be in line with the customary Brainwavz style which be to say its outstanding It come with a wide range of tip to fit pretty much any ear plus the Comply foam tip which be my favorite If fit properly you end up with zero ear irritation plus excellent sound isolation and bass response These be an over the ear design much like the S1 I never use that design prior to the S1 and it do take me a little time to get accustom to it It become second nature quickly and the design be a lot more stable when exercise than the conventional in ear design These be more expensive than the S1 but you can hear the difference in price Still if youre look to keep the cost down a bit the S1 be an excellent performer as well Great sound great comfort wonderful cable design and it come with a solidly make case and lot of eartips Highly recommend   Sample provide for review  \n"
     ]
    }
   ],
   "source": [
    "pattern = r\"[^\\w\\s]\"\n",
    "\n",
    "df[\"preprocessed\"] = df[\"preprocessed\"].str.replace(pat=pattern, repl=\" \", regex=True)\n",
    "\n",
    "print(df[\"preprocessed\"].iloc[1689185])"
   ]
  },
  {
   "cell_type": "markdown",
   "metadata": {},
   "source": [
    "### Converting to Lower Case ###\n",
    "Every letter is also converted to lower case. This makes it so that \"*iPhone*\" will not be distinguishable from \"*iphone*\"."
   ]
  },
  {
   "cell_type": "code",
   "execution_count": 16,
   "metadata": {},
   "outputs": [
    {
     "name": "stdout",
     "output_type": "stream",
     "text": [
      "im a big fan of the brainwavz s1 actually all of their headphone have yet to be disappoint with any of their product the s1 have be my main set for active use e g workouts run etc since the flat cable be very durable and resistant to tangle the s5 keep all the good feature of the s1 and add to it the sound quality be rich and well define thats not to say the s1 sound poor they be quite good in fact but the s5 be well the high be well define and the midrange have more punch to it the bass come through clearly without move into the harsh territory when the volume be push as the s1s can do the overall sound quality be very please the build quality seem solid as solid as the s1 or good i love the flat cable i know thats something that be not appreciate by everyone but for me its be work out wonderfully although this as most other brainwavz headset come with an excellent hard shell case i usually tote my earbuds wrap around my mp3 player in my pocket easy to carry   very stressful on the cable and can lead to tangle with round wire flat wire especially those with a thick jacket such as these survive that abuse with zero problem the earbuds themselves be more sleekly shape than the can style of the s1 comfort be in line with the customary brainwavz style which be to say its outstanding it come with a wide range of tip to fit pretty much any ear plus the comply foam tip which be my favorite if fit properly you end up with zero ear irritation plus excellent sound isolation and bass response these be an over the ear design much like the s1 i never use that design prior to the s1 and it do take me a little time to get accustom to it it become second nature quickly and the design be a lot more stable when exercise than the conventional in ear design these be more expensive than the s1 but you can hear the difference in price still if youre look to keep the cost down a bit the s1 be an excellent performer as well great sound great comfort wonderful cable design and it come with a solidly make case and lot of eartips highly recommend   sample provide for review  \n"
     ]
    }
   ],
   "source": [
    "df[\"preprocessed\"] = df[\"preprocessed\"].str.lower()\n",
    "\n",
    "print(df[\"preprocessed\"].iloc[1689185])"
   ]
  },
  {
   "cell_type": "markdown",
   "metadata": {},
   "source": [
    "### Removing Stop Words ###\n",
    "Stop words consist of the most commonly used words that include pronouns (e.g. *us*, *she*, *their*), articles (e.g. *the*), and prepositions (e.g. *under*, *from*, *off*). These words are not helpful in distinguishing a document from another and are therefore dropped.\n",
    "\n",
    "Note that the `stop_words` were stripped of punctuations just as what we have done to our dataset."
   ]
  },
  {
   "cell_type": "code",
   "execution_count": 17,
   "metadata": {},
   "outputs": [
    {
     "name": "stdout",
     "output_type": "stream",
     "text": [
      "sample stop words: ['i', 'me', 'my', 'myself', 'we', 'our', 'ours', 'ourselves', 'you', 'youre', 'youve', 'youll', 'youd', 'your', 'yours'] \n",
      "\n",
      "im big fan brainwavz s1 actually headphone yet disappoint product s1 main set active use e g workouts run etc since flat cable durable resistant tangle s5 keep good feature s1 add sound quality rich well define thats say s1 sound poor quite good fact s5 well high well define midrange punch bass come clearly without move harsh territory volume push s1s overall sound quality please build quality seem solid solid s1 good love flat cable know thats something appreciate everyone work wonderfully although brainwavz headset come excellent hard shell case usually tote earbuds wrap around mp3 player pocket easy carry   stressful cable lead tangle round wire flat wire especially thick jacket survive abuse zero problem earbuds sleekly shape style s1 comfort line customary brainwavz style say outstanding come wide range tip fit pretty much ear plus comply foam tip favorite fit properly end zero ear irritation plus excellent sound isolation bass response ear design much like s1 never use design prior s1 take little time get accustom become second nature quickly design lot stable exercise conventional ear design expensive s1 hear difference price still look keep cost bit s1 excellent performer well great sound great comfort wonderful cable design come solidly make case lot eartips highly recommend   sample provide review  \n"
     ]
    }
   ],
   "source": [
    "from nltk.corpus import stopwords\n",
    "\n",
    "stop_words = stopwords.words(\"english\")\n",
    "\n",
    "stop_words = [word.replace(\"\\'\", \"\") for word in stop_words]\n",
    "\n",
    "print(f\"sample stop words: {stop_words[:15]} \\n\")\n",
    "\n",
    "remove_stop_words = lambda row: \" \".join([token for token in row.split(\" \") \\\n",
    "                                          if token not in stop_words])\n",
    "df[\"preprocessed\"] = df[\"preprocessed\"].apply(remove_stop_words)\n",
    "\n",
    "print(df[\"preprocessed\"].iloc[1689185])"
   ]
  },
  {
   "cell_type": "markdown",
   "metadata": {},
   "source": [
    "### Removing Extra Spaces ###\n",
    "Again, we make use of regular expressions to ensure we never get more than a single whitespace to separate words in our sentences."
   ]
  },
  {
   "cell_type": "code",
   "execution_count": 18,
   "metadata": {},
   "outputs": [
    {
     "name": "stdout",
     "output_type": "stream",
     "text": [
      "im big fan brainwavz s1 actually headphone yet disappoint product s1 main set active use e g workouts run etc since flat cable durable resistant tangle s5 keep good feature s1 add sound quality rich well define thats say s1 sound poor quite good fact s5 well high well define midrange punch bass come clearly without move harsh territory volume push s1s overall sound quality please build quality seem solid solid s1 good love flat cable know thats something appreciate everyone work wonderfully although brainwavz headset come excellent hard shell case usually tote earbuds wrap around mp3 player pocket easy carry stressful cable lead tangle round wire flat wire especially thick jacket survive abuse zero problem earbuds sleekly shape style s1 comfort line customary brainwavz style say outstanding come wide range tip fit pretty much ear plus comply foam tip favorite fit properly end zero ear irritation plus excellent sound isolation bass response ear design much like s1 never use design prior s1 take little time get accustom become second nature quickly design lot stable exercise conventional ear design expensive s1 hear difference price still look keep cost bit s1 excellent performer well great sound great comfort wonderful cable design come solidly make case lot eartips highly recommend sample provide review \n"
     ]
    }
   ],
   "source": [
    "pattern = r\"[\\s]+\"\n",
    "\n",
    "df[\"preprocessed\"] = df[\"preprocessed\"].str.replace(pat=pattern, repl=\" \", regex=True)\n",
    "\n",
    "print(df[\"preprocessed\"].iloc[1689185])"
   ]
  },
  {
   "cell_type": "markdown",
   "metadata": {},
   "source": [
    "## Tokenization ##\n",
    "The entries for the `preprocessed` column are extracted to make up our *corpora*, which is simply a collection of all our documents. Each review is then transformed into an ordered list of words. This is the process of *tokenization* – the document is broken down into individual words or tokens.\n",
    "\n",
    "Our tokenized sample review is below:"
   ]
  },
  {
   "cell_type": "code",
   "execution_count": 19,
   "metadata": {},
   "outputs": [
    {
     "name": "stdout",
     "output_type": "stream",
     "text": [
      "['im', 'big', 'fan', 'brainwavz', 's1', 'actually', 'headphone', 'yet', 'disappoint', 'product', 's1', 'main', 'set', 'active', 'use', 'e', 'g', 'workouts', 'run', 'etc', 'since', 'flat', 'cable', 'durable', 'resistant', 'tangle', 's5', 'keep', 'good', 'feature', 's1', 'add', 'sound', 'quality', 'rich', 'well', 'define', 'thats', 'say', 's1', 'sound', 'poor', 'quite', 'good', 'fact', 's5', 'well', 'high', 'well', 'define', 'midrange', 'punch', 'bass', 'come', 'clearly', 'without', 'move', 'harsh', 'territory', 'volume', 'push', 's1s', 'overall', 'sound', 'quality', 'please', 'build', 'quality', 'seem', 'solid', 'solid', 's1', 'good', 'love', 'flat', 'cable', 'know', 'thats', 'something', 'appreciate', 'everyone', 'work', 'wonderfully', 'although', 'brainwavz', 'headset', 'come', 'excellent', 'hard', 'shell', 'case', 'usually', 'tote', 'earbuds', 'wrap', 'around', 'mp3', 'player', 'pocket', 'easy', 'carry', 'stressful', 'cable', 'lead', 'tangle', 'round', 'wire', 'flat', 'wire', 'especially', 'thick', 'jacket', 'survive', 'abuse', 'zero', 'problem', 'earbuds', 'sleekly', 'shape', 'style', 's1', 'comfort', 'line', 'customary', 'brainwavz', 'style', 'say', 'outstanding', 'come', 'wide', 'range', 'tip', 'fit', 'pretty', 'much', 'ear', 'plus', 'comply', 'foam', 'tip', 'favorite', 'fit', 'properly', 'end', 'zero', 'ear', 'irritation', 'plus', 'excellent', 'sound', 'isolation', 'bass', 'response', 'ear', 'design', 'much', 'like', 's1', 'never', 'use', 'design', 'prior', 's1', 'take', 'little', 'time', 'get', 'accustom', 'become', 'second', 'nature', 'quickly', 'design', 'lot', 'stable', 'exercise', 'conventional', 'ear', 'design', 'expensive', 's1', 'hear', 'difference', 'price', 'still', 'look', 'keep', 'cost', 'bit', 's1', 'excellent', 'performer', 'well', 'great', 'sound', 'great', 'comfort', 'wonderful', 'cable', 'design', 'come', 'solidly', 'make', 'case', 'lot', 'eartips', 'highly', 'recommend', 'sample', 'provide', 'review', '']\n"
     ]
    }
   ],
   "source": [
    "corpora = df[\"preprocessed\"].values\n",
    "tokenized = [corpus.split(\" \") for corpus in corpora]\n",
    "\n",
    "print(tokenized[1689185])"
   ]
  },
  {
   "cell_type": "markdown",
   "metadata": {},
   "source": [
    "## Phrase Modeling ##\n",
    "Since order of words matter in most NLP models, it is often helpful to group neighboring words that appear to convey one meaning as though they are a single word, like *smart TV*.\n",
    "\n",
    "To be considered a *phrase*, the number of times that two words should appear next to each other is set to at least `300`. The *threshold* then takes that minimum and compares it to the total number of token instances in the corpora. The higher the threshold, the more often two words must appear adjacent to be grouped into a phrase."
   ]
  },
  {
   "cell_type": "code",
   "execution_count": null,
   "metadata": {},
   "outputs": [],
   "source": [
    "from gensim.models import Phrases\n",
    "from gensim.models.phrases import Phraser\n",
    "\n",
    "bi_gram = Phrases(tokenized, min_count=300, threshold=50)\n",
    "\n",
    "tri_gram = Phrases(bi_gram[tokenized], min_count=300, threshold=50)"
   ]
  },
  {
   "cell_type": "markdown",
   "metadata": {},
   "source": [
    "### Unigrams ###\n",
    "Unigrams are single pieces of tokens. The code below takes all the unique words from the entire corpora and prints a sample:"
   ]
  },
  {
   "cell_type": "code",
   "execution_count": 22,
   "metadata": {},
   "outputs": [
    {
     "name": "stdout",
     "output_type": "stream",
     "text": [
      "['childen', 'andpowered', 'whitestone', 'collapased', 'tastictwo', 'renamedtuff', 'protectable', 'preset', 'specificationssupported', 'editingmint', 'starsconsthe', 'froman', '829b', 'quikstrips', 'transfare', 'minohdbut', 'zonking', 'sqeegeeing', 'lc60i', 'arefinished', 'c6b', 'bouillon', 'wirelesscams', 'rf3f2gvw3jf0j', 'coversi', 'atseahorse', 'removed', 'spilitter', 'sooriginal', 'lightweightnice', 'heckcrucial', 'easilytl', 'rubberized', 'shootingfast', 'slimlines', 'purchasedringke', 'junk', 'nc8000', 'balcar', 'streetpilotat', '51color', 'connectsamson', '13box', 'nono', 'mytrusty', 'offdvd', 'dtmptool', 'burnable', 'ahhhclip', 'accessoriesstep']\n"
     ]
    }
   ],
   "source": [
    "uni_gram_tokens = set([token for text in tokenized for token in text])\n",
    "uni_gram_tokens = set(filter(lambda x: x != \"\", uni_gram_tokens))\n",
    "\n",
    "print(list(uni_gram_tokens)[:50])"
   ]
  },
  {
   "cell_type": "markdown",
   "metadata": {},
   "source": [
    "### Bigrams ###\n",
    "Bigrams are generated from using the *gensim* phraser. Only those that pass the `bi_gram` criteria are considered.\n",
    "\n",
    "The code below takes all the unique bigram phrases from the entire corpora:"
   ]
  },
  {
   "cell_type": "code",
   "execution_count": 23,
   "metadata": {},
   "outputs": [
    {
     "name": "stdout",
     "output_type": "stream",
     "text": [
      "['hdmi_dvi', 'lens_without', 'time_forget', 'like_return', '2_00', 'fast_run', 'make_convenient', 'point_think', 'matter_fact', 'although_make', 'actually_see', 'sure_problem', 'course_good', 'get_catch', 'take_find', 'include_product', 'problem_design', 'work_everything', 'standard_camera', '1080p_120hz', 'make_give', 'set_ipad', 'control_cable', 'nikon_brand', 'really_beat', 'game_also', 'tiny_size', 'tiny_camera', 'use_default', 'color_come', 'get_12', 'plug_network', 'piece_technology', 'light_fit', 'button_click', '4kb_qd', 'wheel_click', 'wish_purchase', 'hold_device', 'ipod_phone', 'might_break', 'work_need', 'big_small', 'tell_would', 'lot_high', 'noise_ratio', 'less_200', 'star_seem', 'design_camera', 'camera_function']\n"
     ]
    }
   ],
   "source": [
    "bigram_min = bi_gram.min_count\n",
    "\n",
    "bi_condition = lambda x: x[1] >= bigram_min\n",
    "\n",
    "bi_gram_tokens = dict(filter(bi_condition, bi_gram.vocab.items()))\n",
    "bi_gram_tokens = set([token.decode(\"utf-8\") \\\n",
    "                      for token in bi_gram_tokens])\n",
    "\n",
    "bi_grams_only = bi_gram_tokens.difference(uni_gram_tokens)\n",
    "print(list(bi_grams_only)[1:51]) ##placeholder"
   ]
  },
  {
   "cell_type": "markdown",
   "metadata": {},
   "source": [
    "### Trigrams ###\n",
    "Trigrams are generated by applying another *gensim* phraser on top of a bigram phraser. Take for example the tokens *sd* and *card*. Because they appear often together enough, they become linked together as *sd_card*. In turn, if *sd_card* appears adjacent to the token *reader* in enough instances, then the `tri_gram` model would link them together as well to tokenize *sd_card_reader*.\n",
    "\n",
    "The code below takes all the unique trigram phrases from the entire corpora:"
   ]
  },
  {
   "cell_type": "code",
   "execution_count": 24,
   "metadata": {},
   "outputs": [
    {
     "name": "stdout",
     "output_type": "stream",
     "text": [
      "['play_blu_ray', 'samsung_galaxy_s4', 'old_macbook_pro', 'quality_top_notch', 'b_w_filter', 'one_living_room', 'mac_os_x', 'far_exceed_expectation', 'nexus_7_2013', 'cell_phone_use', 'customer_service_great', '5d_mark_iii', 'cell_phone_camera', 'macbook_pro_work', 'first_blu_ray', 'case_nexus_7', 'double_sided_tape', 'price_highly_recommended', 'almost_non_existent', '2_4ghz_5ghz', 'macbook_pro_13', 'customer_service_rep', 'samsung_840_pro', 'blu_ray_disk', 'use_third_party', 'n_uuml_vi', 'home_theater_pc', 'complete_waste_money', 'small_form_factor', 'use_home_theater', 'fast_forward_rewind', 'wi_fi_connection', 'amazon_return_policy', 'new_kindle_fire', '192_168_1', 'aps_c_sensor', 'ear_bud_come', 'mp3_player_work', 'mp3_player_use', 'use_macbook_pro', 'run_os_x', 'canon_5d_mark', 'blu_ray_movie', 'western_digital_passport', 'dd_wrt_firmware', 'inch_macbook_pro', 'heart_rate_monitor', 'great_mp3_player', 'kindle_fire_hd', 'samsung_galaxy_tab']\n"
     ]
    }
   ],
   "source": [
    "trigram_min = tri_gram.min_count\n",
    "\n",
    "tri_condition = lambda x: x[1] >= trigram_min\n",
    "\n",
    "tri_gram_tokens = dict(filter(tri_condition, tri_gram.vocab.items()))\n",
    "tri_gram_tokens = set([token.decode(\"utf-8\") \\\n",
    "                       for token in tri_gram_tokens])\n",
    "\n",
    "tri_grams_only = tri_gram_tokens.difference(bi_gram_tokens)\n",
    "print(list(tri_grams_only)[:50])"
   ]
  },
  {
   "cell_type": "markdown",
   "metadata": {},
   "source": [
    "The `tri_gram` and `bi_gram` phrasers are applied to our `tokenized` corpora."
   ]
  },
  {
   "cell_type": "code",
   "execution_count": 25,
   "metadata": {
    "scrolled": true
   },
   "outputs": [],
   "source": [
    "#tokenized = [Phraser(tri_gram)[Phraser(bi_gram)[i]] for i in tokenized] ##placeholder"
   ]
  },
  {
   "cell_type": "markdown",
   "metadata": {},
   "source": [
    "Single-character tokens are removed from every tokenized document. Our tokenized review, in its final form, is below."
   ]
  },
  {
   "cell_type": "code",
   "execution_count": 26,
   "metadata": {},
   "outputs": [
    {
     "name": "stdout",
     "output_type": "stream",
     "text": [
      "['im', 'big', 'fan', 'brainwavz', 's1', 'actually', 'headphone', 'yet', 'disappoint', 'product', 's1', 'main', 'set', 'active', 'use', 'workouts', 'run', 'etc', 'since', 'flat', 'cable', 'durable', 'resistant', 'tangle', 's5', 'keep', 'good', 'feature', 's1', 'add', 'sound', 'quality', 'rich', 'well', 'define', 'thats', 'say', 's1', 'sound', 'poor', 'quite', 'good', 'fact', 's5', 'well', 'high', 'well', 'define', 'midrange', 'punch', 'bass', 'come', 'clearly', 'without', 'move', 'harsh', 'territory', 'volume', 'push', 's1s', 'overall', 'sound', 'quality', 'please', 'build', 'quality', 'seem', 'solid', 'solid', 's1', 'good', 'love', 'flat', 'cable', 'know', 'thats', 'something', 'appreciate', 'everyone', 'work', 'wonderfully', 'although', 'brainwavz', 'headset', 'come', 'excellent', 'hard', 'shell', 'case', 'usually', 'tote', 'earbuds', 'wrap', 'around', 'mp3', 'player', 'pocket', 'easy', 'carry', 'stressful', 'cable', 'lead', 'tangle', 'round', 'wire', 'flat', 'wire', 'especially', 'thick', 'jacket', 'survive', 'abuse', 'zero', 'problem', 'earbuds', 'sleekly', 'shape', 'style', 's1', 'comfort', 'line', 'customary', 'brainwavz', 'style', 'say', 'outstanding', 'come', 'wide', 'range', 'tip', 'fit', 'pretty', 'much', 'ear', 'plus', 'comply', 'foam', 'tip', 'favorite', 'fit', 'properly', 'end', 'zero', 'ear', 'irritation', 'plus', 'excellent', 'sound', 'isolation', 'bass', 'response', 'ear', 'design', 'much', 'like', 's1', 'never', 'use', 'design', 'prior', 's1', 'take', 'little', 'time', 'get', 'accustom', 'become', 'second', 'nature', 'quickly', 'design', 'lot', 'stable', 'exercise', 'conventional', 'ear', 'design', 'expensive', 's1', 'hear', 'difference', 'price', 'still', 'look', 'keep', 'cost', 'bit', 's1', 'excellent', 'performer', 'well', 'great', 'sound', 'great', 'comfort', 'wonderful', 'cable', 'design', 'come', 'solidly', 'make', 'case', 'lot', 'eartips', 'highly', 'recommend', 'sample', 'provide', 'review']\n"
     ]
    }
   ],
   "source": [
    "tokenized = [list(filter(lambda x: len(x) > 1, document)) \\\n",
    "             for document in tokenized]\n",
    "\n",
    "print(tokenized[1689185])"
   ]
  },
  {
   "cell_type": "markdown",
   "metadata": {},
   "source": [
    "## Creating the Vocabulary ##\n",
    "The `vocabulary` is the key-value pairs of all the unique tokens from every product review. Each token is assigned a lookup ID. The first 10 words in our dictionary are as follows:"
   ]
  },
  {
   "cell_type": "code",
   "execution_count": 27,
   "metadata": {
    "scrolled": false
   },
   "outputs": [
    {
     "name": "stdout",
     "output_type": "stream",
     "text": [
      "ID: 0, Token: address\n",
      "ID: 1, Token: around\n",
      "ID: 2, Token: arrive\n",
      "ID: 3, Token: back\n",
      "ID: 4, Token: bad\n",
      "ID: 5, Token: big\n",
      "ID: 6, Token: come\n",
      "ID: 7, Token: contact\n",
      "ID: 8, Token: could\n",
      "ID: 9, Token: day\n"
     ]
    }
   ],
   "source": [
    "from gensim.corpora.dictionary import Dictionary\n",
    "\n",
    "vocabulary = Dictionary(tokenized)\n",
    "\n",
    "vocabulary_keys = list(vocabulary.token2id)[0:10]\n",
    "\n",
    "for key in vocabulary_keys:\n",
    "    print(f\"ID: {vocabulary.token2id[key]}, Token: {key}\")"
   ]
  },
  {
   "cell_type": "markdown",
   "metadata": {},
   "source": [
    "## Count-based Feature Engineering ##\n",
    "In order for a machine learning model to work with text input, the document must first be *vectorized*. This simply means that the input has to be converted into containers of numerical values.\n",
    "\n",
    "### Bag of Words Model ###\n",
    "The classical approach in expressing text as a set of features is getting the token frequency. Each entry to the dataframe is a document while each column corresponds to every unique token in the entire corpora. The row will identify how many times a word appears in the document. The `bow` model for the sample review is below:"
   ]
  },
  {
   "cell_type": "code",
   "execution_count": 28,
   "metadata": {},
   "outputs": [
    {
     "name": "stdout",
     "output_type": "stream",
     "text": [
      "Word: address, Frequency: 1\n",
      "Word: around, Frequency: 1\n",
      "Word: arrive, Frequency: 1\n",
      "Word: back, Frequency: 1\n",
      "Word: bad, Frequency: 1\n",
      "Word: big, Frequency: 2\n",
      "Word: come, Frequency: 1\n",
      "Word: contact, Frequency: 1\n",
      "Word: could, Frequency: 1\n",
      "Word: day, Frequency: 1\n",
      "Word: earlier, Frequency: 1\n",
      "Word: ease, Frequency: 2\n",
      "Word: ect, Frequency: 1\n",
      "Word: email, Frequency: 2\n",
      "Word: exception, Frequency: 1\n",
      "Word: exchange, Frequency: 1\n",
      "Word: expect, Frequency: 1\n",
      "Word: freeze, Frequency: 2\n",
      "Word: get, Frequency: 1\n",
      "Word: glitch, Frequency: 1\n",
      "Word: gps, Frequency: 1\n",
      "Word: great, Frequency: 2\n",
      "Word: however, Frequency: 1\n",
      "Word: husband, Frequency: 1\n",
      "Word: impressed, Frequency: 2\n",
      "Word: instruction, Frequency: 1\n",
      "Word: love, Frequency: 1\n",
      "Word: luck, Frequency: 1\n",
      "Word: memory, Frequency: 1\n",
      "Word: million, Frequency: 1\n",
      "Word: minute, Frequency: 1\n",
      "Word: normal, Frequency: 1\n",
      "Word: nothing, Frequency: 1\n",
      "Word: one, Frequency: 1\n",
      "Word: option, Frequency: 1\n",
      "Word: otr, Frequency: 1\n",
      "Word: person, Frequency: 1\n",
      "Word: probably, Frequency: 1\n",
      "Word: put, Frequency: 1\n",
      "Word: really, Frequency: 1\n",
      "Word: receive, Frequency: 1\n",
      "Word: road, Frequency: 1\n",
      "Word: rout, Frequency: 1\n",
      "Word: say, Frequency: 1\n",
      "Word: scale, Frequency: 1\n",
      "Word: screen, Frequency: 1\n",
      "Word: seller, Frequency: 1\n",
      "Word: shipping, Frequency: 1\n",
      "Word: start, Frequency: 1\n",
      "Word: tell, Frequency: 1\n",
      "Word: time, Frequency: 1\n",
      "Word: truck, Frequency: 1\n",
      "Word: trucker, Frequency: 2\n",
      "Word: unit, Frequency: 2\n",
      "Word: use, Frequency: 2\n",
      "Word: way, Frequency: 1\n",
      "Word: week, Frequency: 1\n",
      "Word: well, Frequency: 1\n",
      "Word: within, Frequency: 2\n",
      "Word: work, Frequency: 2\n",
      "Word: worked, Frequency: 1\n"
     ]
    }
   ],
   "source": [
    "bow = [vocabulary.doc2bow(doc) for doc in tokenized]\n",
    "\n",
    "for idx, freq in bow[0]:\n",
    "    print(f\"Word: {vocabulary.get(idx)}, Frequency: {freq}\")"
   ]
  },
  {
   "cell_type": "markdown",
   "metadata": {},
   "source": [
    "### TF-IDF Model ###\n",
    "The Term Frequency-Inverse Document Frequency (*TF-IDF*) approach assigns continuous values instead of simple integers for the token frequency. Words that appear frequently overall tend to not establish saliency in a document, and are thus weighted lower. Words that are unique to some documents tend to help distinguish it from the rest and are thus weighted higher. The `tfidf` weighting is based on our `bow` variable."
   ]
  },
  {
   "cell_type": "code",
   "execution_count": 29,
   "metadata": {},
   "outputs": [
    {
     "name": "stdout",
     "output_type": "stream",
     "text": [
      "Word: address, Weight: 0.113\n",
      "Word: around, Weight: 0.060\n",
      "Word: arrive, Weight: 0.093\n",
      "Word: back, Weight: 0.051\n",
      "Word: bad, Weight: 0.068\n",
      "Word: big, Weight: 0.126\n",
      "Word: come, Weight: 0.046\n",
      "Word: contact, Weight: 0.103\n",
      "Word: could, Weight: 0.054\n",
      "Word: day, Weight: 0.061\n",
      "Word: earlier, Weight: 0.141\n",
      "Word: ease, Weight: 0.220\n",
      "Word: ect, Weight: 0.181\n",
      "Word: email, Weight: 0.213\n",
      "Word: exception, Weight: 0.131\n",
      "Word: exchange, Weight: 0.132\n",
      "Word: expect, Weight: 0.067\n",
      "Word: freeze, Weight: 0.259\n",
      "Word: get, Weight: 0.028\n",
      "Word: glitch, Weight: 0.141\n",
      "Word: gps, Weight: 0.102\n",
      "Word: great, Weight: 0.059\n",
      "Word: however, Weight: 0.064\n",
      "Word: husband, Weight: 0.126\n",
      "Word: impressed, Weight: 0.211\n",
      "Word: instruction, Weight: 0.090\n",
      "Word: love, Weight: 0.057\n",
      "Word: luck, Weight: 0.114\n",
      "Word: memory, Weight: 0.084\n",
      "Word: million, Weight: 0.158\n",
      "Word: minute, Weight: 0.079\n",
      "Word: normal, Weight: 0.099\n",
      "Word: nothing, Weight: 0.080\n",
      "Word: one, Weight: 0.028\n",
      "Word: option, Weight: 0.080\n",
      "Word: otr, Weight: 0.264\n",
      "Word: person, Weight: 0.105\n",
      "Word: probably, Weight: 0.075\n",
      "Word: put, Weight: 0.060\n",
      "Word: really, Weight: 0.046\n",
      "Word: receive, Weight: 0.080\n",
      "Word: road, Weight: 0.114\n",
      "Word: rout, Weight: 0.154\n",
      "Word: say, Weight: 0.050\n",
      "Word: scale, Weight: 0.150\n",
      "Word: screen, Weight: 0.059\n",
      "Word: seller, Weight: 0.111\n",
      "Word: shipping, Weight: 0.100\n",
      "Word: start, Weight: 0.070\n",
      "Word: tell, Weight: 0.077\n",
      "Word: time, Weight: 0.040\n",
      "Word: truck, Weight: 0.142\n",
      "Word: trucker, Weight: 0.443\n",
      "Word: unit, Weight: 0.128\n",
      "Word: use, Weight: 0.043\n",
      "Word: way, Weight: 0.055\n",
      "Word: week, Weight: 0.076\n",
      "Word: well, Weight: 0.033\n",
      "Word: within, Weight: 0.188\n",
      "Word: work, Weight: 0.049\n",
      "Word: worked, Weight: 0.121\n"
     ]
    }
   ],
   "source": [
    "from gensim.models.tfidfmodel import TfidfModel\n",
    "\n",
    "tfidf = TfidfModel(bow)\n",
    "\n",
    "for idx, weight in tfidf[bow[0]]:\n",
    "    print(f\"Word: {vocabulary.get(idx)}, Weight: {weight:.3f}\")"
   ]
  },
  {
   "cell_type": "markdown",
   "metadata": {},
   "source": [
    "## Word Embedding for Feature Engineering ##\n",
    "The downside of count-based techniques is that without regards to word sequence and sentence structure, the semantics get lost. The *Word2Vec* technique, on the other hand, actually embeds meaning in vectors by quantifying how often a word appears within the vicinity of a given set of other words.\n",
    "\n",
    "A context window the span of `context_size` slides across every document one token at a time. In each step, the center word is described by its adjacent words and the probability that the token appears together with the others is expressed in `feature_size` dimensions. Since the minimum word requirement is set to `1`, every token in the corpora is embedded in the *Word2Vec* model."
   ]
  },
  {
   "cell_type": "code",
   "execution_count": 30,
   "metadata": {},
   "outputs": [
    {
     "name": "stdout",
     "output_type": "stream",
     "text": [
      "Wall time: 1h 33min 7s\n"
     ]
    }
   ],
   "source": [
    "%%time\n",
    "import numpy as np\n",
    "\n",
    "from gensim.models import word2vec\n",
    "\n",
    "np.set_printoptions(suppress=True)\n",
    "\n",
    "feature_size = 100\n",
    "context_size = 20\n",
    "min_word = 1\n",
    "\n",
    "word_vec= word2vec.Word2Vec(tokenized, size=feature_size, \\\n",
    "                            window=context_size, min_count=min_word, \\\n",
    "                            iter=50, seed=42)"
   ]
  },
  {
   "cell_type": "markdown",
   "metadata": {},
   "source": [
    "## Final Dataframe ##\n",
    "The goal is to have a dataframe with observations corresponding to the product reviews. In a given review, the `word_vec` model is applied to every word thus creating the `vector_array`. Its shape, therefore, is the word count on *axis 0* and the number of dimensions on *axis 1*. The mean of the `vector_array` is taken along *axis 0* for every document. This singularizes multiple word embeddings into one observation for each review.\n",
    "\n",
    "The `mean_vectors` only initiates the array to give it its shape and is dropped when `model_df` is created. Every document is provided the ground truth label by imposing its `overall` rating. This completes our finalized `model_df` dataframe."
   ]
  },
  {
   "cell_type": "code",
   "execution_count": null,
   "metadata": {},
   "outputs": [],
   "source": [
    "%%time\n",
    "mean_vectors = np.zeros(feature_size)\n",
    "\n",
    "for document in tokenized:\n",
    "    if np.shape(document) != (0, ):\n",
    "        vector_list = [word_vec[word] for word in document] \n",
    "        vector_array = np.array(vector_list)\n",
    "        vector_array = [np.mean(vector_array[:,i]) \\\n",
    "                        for i in range(feature_size)]\n",
    "    else:\n",
    "        vector_array = np.zeros(100)\n",
    "    mean_vectors = np.vstack((mean_vectors, vector_array))\n",
    "    \n",
    "model_df = pd.DataFrame(mean_vectors[1:])\n",
    "model_df[\"label\"] = df[\"overall\"]\n",
    "\n",
    "display(model_df.head())\n",
    "\n",
    "#placeholder\n",
    "import pickle\n",
    "f = open(\"df.pckl\", \"wb\")\n",
    "pickle.dump(model_df, f)\n",
    "f.close()"
   ]
  },
  {
   "cell_type": "markdown",
   "metadata": {},
   "source": [
    "# Exploratory Data Analysis #\n",
    "We'll implement several interesting Natural Language Processing techniques in order to explore our Amazon dataset.\n",
    "\n",
    "## Principal Component Analysis ##\n",
    "We use Principal Component Analysis (*PCA*) on our `model_df` to reduce its 100 dimensions to just two dimensions. This will help visualize if there is a clear decision boundary along the five `overall` rating classifications. The more datapoints belonging to the same class are clustered together, the higher the likelihood that our machine learning model is simpler and more effective."
   ]
  },
  {
   "cell_type": "code",
   "execution_count": null,
   "metadata": {},
   "outputs": [],
   "source": [
    "%%time\n",
    "from sklearn.decomposition import PCA\n",
    "\n",
    "pca = PCA(n_components=2, random_state=42)\n",
    "pca = pca.fit_transform(model_df[:-1])\n",
    "labels = model_df[\"label\"]\n",
    "\n",
    "f, axes = plt.subplots(figsize=(20,7))\n",
    "\n",
    "for i in range(len(labels)):\n",
    "    label = labels[i]\n",
    "    x, y = pca[i-1]\n",
    "    color_map = {1:\"blue\", 2:\"red\", 3:\"yellow\", 4:\"green\", 5:\"orange\"}\n",
    "    color = color_map[label]\n",
    "    plt.scatter(x, y, c=color)"
   ]
  },
  {
   "cell_type": "markdown",
   "metadata": {},
   "source": [
    "## More on Word2Vec ##\n",
    "To better appreciate the concept of word embeddings, we take five common words in our corpora and derive their five most related words using our `word_vec` model. The similarity comes from how often these tokens appear in the same window of words as their `word_bank` counterpart."
   ]
  },
  {
   "cell_type": "code",
   "execution_count": 33,
   "metadata": {},
   "outputs": [
    {
     "name": "stdout",
     "output_type": "stream",
     "text": [
      "nook: ['kindle' 'ereader' 'nookcolor' 'kobo' 'paperwhite']\n",
      "phone: ['cellphone' 'smartphone' 'cell' 'droid' 'iphone']\n",
      "tv: ['television' 'hdtv' 'tvs' 'vizio' 'flatscreen']\n",
      "good: ['decent' 'great' 'wise' 'excellent' 'descent']\n",
      "price: ['pricing' 'cost' 'priced' 'pricetag' 'expensive']\n"
     ]
    }
   ],
   "source": [
    "word_bank = [\"nook\", \"phone\", \"tv\", \"good\", \"price\"]\n",
    "\n",
    "for word in word_bank[:]:\n",
    "    related_vec = word_vec.wv.most_similar(word, topn=5)\n",
    "    related_words = np.array(related_vec)[:,0]\n",
    "    word_bank.extend(related_words)\n",
    "    print(f\"{word}: {related_words}\")"
   ]
  },
  {
   "cell_type": "markdown",
   "metadata": {},
   "source": [
    "### t-SNE ###\n",
    "Like PCA, the t-Distributed Stochastic Neighbor Embedding (*t-SNE*) is another dimensionality reduction technique to assist in visualizing high-dimensional datasets. To perceive the similarity between the related words in terms of spacial distance, t-SNE provided the coordinates of each word in a 2D scatterplot plane."
   ]
  },
  {
   "cell_type": "code",
   "execution_count": 34,
   "metadata": {},
   "outputs": [
    {
     "data": {
      "image/png": "[encoded data removed]",
      "text/plain": [
       "<Figure size 1440x504 with 1 Axes>"
      ]
     },
     "metadata": {
      "needs_background": "light"
     },
     "output_type": "display_data"
    }
   ],
   "source": [
    "from sklearn.manifold import TSNE\n",
    "\n",
    "tsne = TSNE(n_components=2, perplexity=5, n_iter=1000, random_state=42)\n",
    "\n",
    "sample_vecs = word_vec.wv[set(word_bank)]\n",
    "sample_tsne = tsne.fit_transform(sample_vecs)\n",
    "tsne_x = sample_tsne[:, 0]\n",
    "tsne_y = sample_tsne[:, 1]\n",
    "\n",
    "f, axes = plt.subplots(figsize=(20,7))\n",
    "ax = plt.scatter(x=tsne_x, y=tsne_y)\n",
    "\n",
    "for label, x, y in zip(word_bank, tsne_x, tsne_y):\n",
    "    plt.annotate(label, xy=(x+3, y+3))\n",
    "\n",
    "plt.show()"
   ]
  },
  {
   "cell_type": "markdown",
   "metadata": {},
   "source": [
    "### Word Algebra ###\n",
    "Since *Word2Vec* characterizes words into quantified tokens, we can consequently add or subtract word vectors together. To add is to combine the meaning of the components and to subtract is to take out the context of one token from another. The following are examples of this vector algebra:\n",
    "\n",
    "**Books + Touchscreen**"
   ]
  },
  {
   "cell_type": "code",
   "execution_count": 41,
   "metadata": {},
   "outputs": [
    {
     "data": {
      "text/plain": [
       "[('ebooks', 0.6847387552261353)]"
      ]
     },
     "execution_count": 41,
     "metadata": {},
     "output_type": "execute_result"
    }
   ],
   "source": [
    "word_vec.wv.most_similar(positive=[\"books\", \"touchscreen\"], \\\n",
    "                      negative=[], topn=1)"
   ]
  },
  {
   "cell_type": "markdown",
   "metadata": {},
   "source": [
    "**Cheap – Quality**"
   ]
  },
  {
   "cell_type": "code",
   "execution_count": 36,
   "metadata": {},
   "outputs": [
    {
     "data": {
      "text/plain": [
       "[('ebay', 0.4894425570964813)]"
      ]
     },
     "execution_count": 36,
     "metadata": {},
     "output_type": "execute_result"
    }
   ],
   "source": [
    "word_vec.wv.most_similar(positive=[\"cheap\"], \\\n",
    "                      negative=[\"quality\"], topn=1)"
   ]
  },
  {
   "cell_type": "markdown",
   "metadata": {},
   "source": [
    "**Tablet – Phone**"
   ]
  },
  {
   "cell_type": "code",
   "execution_count": 63,
   "metadata": {},
   "outputs": [
    {
     "data": {
      "text/plain": [
       "[('netbooks', 0.5097050666809082)]"
      ]
     },
     "execution_count": 63,
     "metadata": {},
     "output_type": "execute_result"
    }
   ],
   "source": [
    "word_vec.wv.most_similar(positive=[\"tablet\"], \\\n",
    "                      negative=[\"phone\"], topn=1)"
   ]
  },
  {
   "cell_type": "markdown",
   "metadata": {},
   "source": [
    "## Named-Entity Recognition ###\n",
    "We've seen *gensim* perform word tagging to identify part-of-speech. Now we use *spaCy* to go further and identify what nouns in the documents refer to. Some Named-Entity Recognition (*NER*) classification tags include distinguishing persons, organizations, products, places, dates, etc.\n",
    "\n",
    "In exploring *spaCy*, we'll be using the `most_helpful_text`, which is the highest-rated product review by Amazon users. The `helpful` series from the `df` dataframe is actually a list with its first element storing the number of *helpful* votes a review received, and the second element containing the total number of *helpful* and *not helpful* review votes."
   ]
  },
  {
   "cell_type": "code",
   "execution_count": 64,
   "metadata": {
    "scrolled": true
   },
   "outputs": [
    {
     "name": "stdout",
     "output_type": "stream",
     "text": [
      "I've been an iPad user since the original came out. I also have an iPad 3. I have worked in IT for the past few years so I would say I am pretty good with technology and fancy new devices. With that introduction out of the way, I will be reviewing key points that I have seen touched upon in other reviews. Here goes...BUILDThe device feels nice and solid. I'm a little surprised at how heavy it is, but that's not necessarily a bad thing. The rubberized backing is always nice for added grip. It's not as nice as say unibody aluminum, but it's not $500 either.SCREENThe screen is fantastic. But my problem is the same as when iPad got Retina Display, other than the OS, most apps look rather pixelated. A lot of the games I tried are not high definition, at least not high enough to look smooth on this screen. Hopefully apps get updated to higher resolutions.LOCK SCREEN ADSYeah there are ads on my lock screen. I'm not sure why this is such a big deal. How much time do people really spend looking at the lock screen? The first thing I thought when I saw the ads is WOW the pictures are really crisp! The ads are there to subsidize some of the $200 price tag. I might pay the $15 to get rid of them so I can customize it, but I might not. I feel like this has been blown out of proportion by other customers.SOUNDThe sound from the speakers is great. Much better than you would get from more expensive devices, very crisp and clean. I have the official Amazon case on and it has not affected the sound at all. Nothing much else to say, I doubt anyone will complain about this.CRASHINGI've had two apps crash on opening. I don't know if it is the app or the OS. It's probably somewhere in the middle. Again, not a big deal for me. If it crashes, then I just tap it again and it works. I've also watched a few movies using the built in player as well as Netflix and Amazon Prime. No crashes for me at all. I'm sure OS stability will be improved as time goes on.OVERALL SATISFACTIONCompared to my iPad 3, obviously the Fire HD is not as \"good\" so to speak. I mainly got it because I wanted something smaller. I also mainly used the iPad to surf the web, watch videos, and play some simple games. The Fire HD accomplishes this and does so much more. If you are expecting an iPad killer, or a desktop replacement, or a productivity machine, then you should look elsewhere.I bought this to be a media device, and I believe that is what Amazon meant this to be. In this regard, I think this is a great device. In fact, I decided to keep this and sell my iPad 3, which will give me another $200+ to spend on other things. Just remember, this device is not for everyone. If you want a media device, you will be happy with this. Do not expect an iPad for $200.UPDATE 9/18/12Just wanted to add a few more things I have noticed over the past 24 hours.- Power/Volume Buttons: There are a bit hard to press, which is somewhat alleviated by having the official case. Maybe it's because I'm a longtime iPad user, but this will definitely take some getting used to.- Screen Glare: It took me a little while to notice, but I was playing a Seek & Find game while on Caltrain, with the bright Palo Alto sun shining right on me, and didn't have any trouble seeing the screen. I remembered that Amazon mentioned how the screen was changed to reduce glare, and they did an amazing job.UPDATE 9/20/12Two days later and I am still very happy with the device. Here are some more thoughts from me:BATTERY LIFEI have been playing Enigmatis (a hidden object game) for about an hour and a half each day on my commute. This drains about 15 - 20% of the battery with the screen brightness almost at the highest setting. Again, not iPad gold standard, but still very good.SYNCING MUSICI have a Samsung Galaxy S3 and used an app called Easy Phone Transfer to get all my music from iTunes onto the phone. It transferred everything, including album covers, and I was hoping to find something like that for this device. I tried iSyncr, a $3 app, which did the job, but did not sync over album covers. I uploaded all my music into the Cloud, then downloaded it from Amazon, which increased the audio quality for a lot of my songs and added artwork, but this still did not show up on the device.I got very frustrated getting all the album artwork over and eventually just gave up. It's not a big deal but I am kind of anal about those kinds of things. Just a heads up if anyone else out there is crazy about it like I am.UPDATE 09/21/12I got a call from Amazon Customer Service about this review, which surprised me very much. They advised me the best way to get the artwork to show up is have the songs in both the Cloud Player as well as the device, which I know does work fine. I was hoping to have the artwork show without needing things in the Cloud, but not a big deal any more.I am more impressed with the fact that Amazon called me to give me advice on how to remedy the situation and ask if there were any other questions I had on the Kindle. The representative said he wanted to make sure I was happy with the Fire HD. This is one of the big reasons I went with the Kindle, and with Amazon in general. I have had great experiences with their customer service, who have always been able to handle my issues quickly and efficiently. No need to set up an appointment days later with a wannabe IT guy with a hugely overstated job title.So this update is not really for the device itself, but sometimes it's not just the device, it's the company that offers it that makes a difference. This is why I no longer have any Apple devices, as cool as they may be. But it's not 100% gravy, as I have noticed lately that the keyboard keeps popping up randomly on screens where there is nowhere to enter text, ie. while playing a game. I just have to press the Back arrow to get rid of it, but maybe a bug the Amazon engineers want to take a look at.UPDATE 10/05/12So I don't know if it was always there, but over this past weekend I noticed a dead pixel on my Kindle's screen. I called Kindle Support and after a short 5 minute call, they sent me a new Kindle, no questions asked. So once again, very happy with Amazon customer service. I am still very happy with the device, and have some more thoughts on it:HDMI CONNECTIONI bought an HDMI cable to hook up the Fire to my 46\" Samsung and was quite impressed with the results. The quality was very good, not Bluray quality of course, but better than SDTV on an HD screen. You actually see every single thing you do on the big screen, like you are using a giant Kindle.GOOGLE PLAY APPSOne of the main drawbacks in my opinion is, or should I say was, the lack of all the Google Play apps available on the Kindle. With a little research, I found out how to add apps that are not available in the Amazon store. It is pretty easy to do and works very well with the apps I tried. This greatly improves my opinion of the Fire HD.PLASTIC AROUND THE SCREENThe outer most edges of the Kindle are plastic. I noticed some kind of discoloration on the corner of mine, and just thought it was some dirt to scratch off. So I rubbed my thumb nail on the area, and noticed there were visible marks on the plastic. It appears this plastic can scratch some what easily, but I think this is just cosmetic as not of the plastic actually flaked. If you are not very anal about how your stuff looks, you probably won't notice it.OS CHANGESHere are two small gripes I have with the OS that I'm sure could be fixed with an OS update:- Battery Meter: It would be nice if the battery meter could show percentage instead of just a graphic bar. Some people have mentioned Battery HD, but you still have to swipe down to see the percentage, so this makes it easier but does not solve the issue I had.- Personal Videos: The mp4 videos I put on the device are located in the \"Personal Videos\" app, which shows screen shots of all the videos I put in. The problem is, all that is shown are the screen shots. You can get more info by holding your finger down on each video, but when you have multiple seasons of a show on the Kindle, it can get confusing. Ideally we should be able to look at videos in a list like our music.UPDATE 11/15/12Still very happy with the device. Here are some more thoughts:LEFT HAND MODEI did't think this would be a problem until I played a Solitaire game that DID have a left-handed mode. As a lefty who usually uses the Fire in landscape, I often have to reach across the screen to access the Settings or Home button in the menu. It's a small grievance, but can be really annoying when watching a movie or reading something. If there was an option for a left-handed layout with the menus on the left side of the device, that would be great.PERSONAL VIDEOS APPI had earlier complained about this app, as it did not list my movies and crashed playing a pair of them. I recently drove down to LA from SF, and put 5 movies on device, only to find that 4 of them would not play! I was pretty mad, until I remembered a simple solution, download another app. I downloaded Avia Media Player, which is not the greatest either, but it played all the movies I put on the Kindle. My faith was restored.GOOGLE PLAY APPSA lot of people have asked how to do this. If you are not having luck with Google searches, try this:[...]\n"
     ]
    }
   ],
   "source": [
    "helpful = df[\"helpful\"].tolist()\n",
    "most_helpful = max(helpful, key=lambda x: x[0])\n",
    "\n",
    "most_helpful_idx = df[\"helpful\"].astype(str) == str(most_helpful)\n",
    "most_helpful_idx = df[most_helpful_idx].index\n",
    "\n",
    "most_helpful_text = df[\"reviewText\"].iloc[most_helpful_idx].values[0]\n",
    "\n",
    "print(most_helpful_text)"
   ]
  },
  {
   "cell_type": "markdown",
   "metadata": {},
   "source": [
    "We use `ner_dict`, a dictionary initialized as a list, to segregate the nouns in the `most_helpful_text` into the NER tags."
   ]
  },
  {
   "cell_type": "code",
   "execution_count": 65,
   "metadata": {
    "scrolled": true
   },
   "outputs": [
    {
     "name": "stdout",
     "output_type": "stream",
     "text": [
      "ORG:\n",
      "[iPad, iPad, OS, LOCK SCREEN, Amazon, OS, Amazon, iPad, iPad, Amazon, iPad, iPad, Power/Volume Buttons, iPad, Seek & Find, Amazon, iPad, MUSICI, Samsung Galaxy S3, iSyncr, Amazon, Amazon Customer Service, Amazon, Amazon, Apple, Amazon, Amazon, HDMI CONNECTIONI, HDMI, Samsung, Amazon, OS, OS, LEFT HAND MODEI, Avia Media Player, GOOGLE, Google]\n",
      "\n",
      "DATE:\n",
      "[the past few years, the past 24, 9/20/12Two days later, an appointment days later, this past weekend]\n",
      "\n",
      "MONEY:\n",
      "[500, 200, 15, another $200+, 200.UPDATE, 3]\n",
      "\n",
      "PERSON:\n",
      "[Retina Display, Netflix, to.-, Screen Glare, Cloud Player, Battery HD, DID, Home, APPI]\n",
      "\n",
      "ORDINAL:\n",
      "[first]\n",
      "\n",
      "CARDINAL:\n",
      "[two, 46, two, 5, 4]\n",
      "\n",
      "GPE:\n",
      "[Caltrain, Palo Alto, iTunes, Cloud, Cloud, Kindle, Kindle, Bluray, Kindle, mp4, 11/15/12Still, Solitaire, LA, SF, Kindle]\n",
      "\n",
      "NORP:\n",
      "[Enigmatis]\n",
      "\n",
      "TIME:\n",
      "[about an hour and a half, 5 minute]\n",
      "\n",
      "PERCENT:\n",
      "[about 15 - 20%, 100%]\n",
      "\n",
      "WORK_OF_ART:\n",
      "[Easy Phone Transfer]\n",
      "\n",
      "FAC:\n",
      "[Kindle]\n",
      "\n",
      "LOC:\n",
      "[Kindle, Kindle Support, Kindle]\n",
      "\n",
      "PRODUCT:\n",
      "[Google Play]\n",
      "\n",
      "Wall time: 3.65 s\n"
     ]
    }
   ],
   "source": [
    "%%time\n",
    "import spacy\n",
    "\n",
    "from collections import defaultdict\n",
    "\n",
    "ner = spacy.load(\"en\")\n",
    "\n",
    "ner_helpful = ner(most_helpful_text)\n",
    "\n",
    "ner_dict = defaultdict(list)\n",
    "for entity in ner_helpful.ents:\n",
    "    ner_dict[entity.label_].append(entity)\n",
    "\n",
    "for NER, name in ner_dict.items():\n",
    "    print(f\"{NER}:\\n{name}\\n\")"
   ]
  },
  {
   "cell_type": "markdown",
   "metadata": {},
   "source": [
    "We use `displaCy` to visualize the tags in the review."
   ]
  },
  {
   "cell_type": "code",
   "execution_count": 66,
   "metadata": {},
   "outputs": [
    {
     "data": {
      "text/html": [
       "<div class=\"entities\" style=\"line-height: 2.5\">I've been an \n",
       "<mark class=\"entity\" style=\"background: #7aecec; padding: 0.45em 0.6em; margin: 0 0.25em; line-height: 1; border-radius: 0.35em; box-decoration-break: clone; -webkit-box-decoration-break: clone\">\n",
       "    iPad\n",
       "    <span style=\"font-size: 0.8em; font-weight: bold; line-height: 1; border-radius: 0.35em; text-transform: uppercase; vertical-align: middle; margin-left: 0.5rem\">ORG</span>\n",
       "</mark>\n",
       " user since the original came out. I also have an iPad 3. I have worked in IT for \n",
       "<mark class=\"entity\" style=\"background: #bfe1d9; padding: 0.45em 0.6em; margin: 0 0.25em; line-height: 1; border-radius: 0.35em; box-decoration-break: clone; -webkit-box-decoration-break: clone\">\n",
       "    the past few years\n",
       "    <span style=\"font-size: 0.8em; font-weight: bold; line-height: 1; border-radius: 0.35em; text-transform: uppercase; vertical-align: middle; margin-left: 0.5rem\">DATE</span>\n",
       "</mark>\n",
       " so I would say I am pretty good with technology and fancy new devices. With that introduction out of the way, I will be reviewing key points that I have seen touched upon in other reviews. Here goes...BUILDThe device feels nice and solid. I'm a little surprised at how heavy it is, but that's not necessarily a bad thing. The rubberized backing is always nice for added grip. It's not as nice as say unibody aluminum, but it's not $\n",
       "<mark class=\"entity\" style=\"background: #e4e7d2; padding: 0.45em 0.6em; margin: 0 0.25em; line-height: 1; border-radius: 0.35em; box-decoration-break: clone; -webkit-box-decoration-break: clone\">\n",
       "    500\n",
       "    <span style=\"font-size: 0.8em; font-weight: bold; line-height: 1; border-radius: 0.35em; text-transform: uppercase; vertical-align: middle; margin-left: 0.5rem\">MONEY</span>\n",
       "</mark>\n",
       " either.SCREENThe screen is fantastic. But my problem is the same as when \n",
       "<mark class=\"entity\" style=\"background: #7aecec; padding: 0.45em 0.6em; margin: 0 0.25em; line-height: 1; border-radius: 0.35em; box-decoration-break: clone; -webkit-box-decoration-break: clone\">\n",
       "    iPad\n",
       "    <span style=\"font-size: 0.8em; font-weight: bold; line-height: 1; border-radius: 0.35em; text-transform: uppercase; vertical-align: middle; margin-left: 0.5rem\">ORG</span>\n",
       "</mark>\n",
       " got \n",
       "<mark class=\"entity\" style=\"background: #aa9cfc; padding: 0.45em 0.6em; margin: 0 0.25em; line-height: 1; border-radius: 0.35em; box-decoration-break: clone; -webkit-box-decoration-break: clone\">\n",
       "    Retina Display\n",
       "    <span style=\"font-size: 0.8em; font-weight: bold; line-height: 1; border-radius: 0.35em; text-transform: uppercase; vertical-align: middle; margin-left: 0.5rem\">PERSON</span>\n",
       "</mark>\n",
       ", other than the \n",
       "<mark class=\"entity\" style=\"background: #7aecec; padding: 0.45em 0.6em; margin: 0 0.25em; line-height: 1; border-radius: 0.35em; box-decoration-break: clone; -webkit-box-decoration-break: clone\">\n",
       "    OS\n",
       "    <span style=\"font-size: 0.8em; font-weight: bold; line-height: 1; border-radius: 0.35em; text-transform: uppercase; vertical-align: middle; margin-left: 0.5rem\">ORG</span>\n",
       "</mark>\n",
       ", most apps look rather pixelated. A lot of the games I tried are not high definition, at least not high enough to look smooth on this screen. Hopefully apps get updated to higher resolutions.\n",
       "<mark class=\"entity\" style=\"background: #7aecec; padding: 0.45em 0.6em; margin: 0 0.25em; line-height: 1; border-radius: 0.35em; box-decoration-break: clone; -webkit-box-decoration-break: clone\">\n",
       "    LOCK SCREEN\n",
       "    <span style=\"font-size: 0.8em; font-weight: bold; line-height: 1; border-radius: 0.35em; text-transform: uppercase; vertical-align: middle; margin-left: 0.5rem\">ORG</span>\n",
       "</mark>\n",
       " ADSYeah there are ads on my lock screen. I'm not sure why this is such a big deal. How much time do people really spend looking at the lock screen? The \n",
       "<mark class=\"entity\" style=\"background: #e4e7d2; padding: 0.45em 0.6em; margin: 0 0.25em; line-height: 1; border-radius: 0.35em; box-decoration-break: clone; -webkit-box-decoration-break: clone\">\n",
       "    first\n",
       "    <span style=\"font-size: 0.8em; font-weight: bold; line-height: 1; border-radius: 0.35em; text-transform: uppercase; vertical-align: middle; margin-left: 0.5rem\">ORDINAL</span>\n",
       "</mark>\n",
       " thing I thought when I saw the ads is WOW the pictures are really crisp! The ads are there to subsidize some of the $\n",
       "<mark class=\"entity\" style=\"background: #e4e7d2; padding: 0.45em 0.6em; margin: 0 0.25em; line-height: 1; border-radius: 0.35em; box-decoration-break: clone; -webkit-box-decoration-break: clone\">\n",
       "    200\n",
       "    <span style=\"font-size: 0.8em; font-weight: bold; line-height: 1; border-radius: 0.35em; text-transform: uppercase; vertical-align: middle; margin-left: 0.5rem\">MONEY</span>\n",
       "</mark>\n",
       " price tag. I might pay the $\n",
       "<mark class=\"entity\" style=\"background: #e4e7d2; padding: 0.45em 0.6em; margin: 0 0.25em; line-height: 1; border-radius: 0.35em; box-decoration-break: clone; -webkit-box-decoration-break: clone\">\n",
       "    15\n",
       "    <span style=\"font-size: 0.8em; font-weight: bold; line-height: 1; border-radius: 0.35em; text-transform: uppercase; vertical-align: middle; margin-left: 0.5rem\">MONEY</span>\n",
       "</mark>\n",
       " to get rid of them so I can customize it, but I might not. I feel like this has been blown out of proportion by other customers.SOUNDThe sound from the speakers is great. Much better than you would get from more expensive devices, very crisp and clean. I have the official \n",
       "<mark class=\"entity\" style=\"background: #7aecec; padding: 0.45em 0.6em; margin: 0 0.25em; line-height: 1; border-radius: 0.35em; box-decoration-break: clone; -webkit-box-decoration-break: clone\">\n",
       "    Amazon\n",
       "    <span style=\"font-size: 0.8em; font-weight: bold; line-height: 1; border-radius: 0.35em; text-transform: uppercase; vertical-align: middle; margin-left: 0.5rem\">ORG</span>\n",
       "</mark>\n",
       " case on and it has not affected the sound at all. Nothing much else to say, I doubt anyone will complain about this.CRASHINGI've had \n",
       "<mark class=\"entity\" style=\"background: #e4e7d2; padding: 0.45em 0.6em; margin: 0 0.25em; line-height: 1; border-radius: 0.35em; box-decoration-break: clone; -webkit-box-decoration-break: clone\">\n",
       "    two\n",
       "    <span style=\"font-size: 0.8em; font-weight: bold; line-height: 1; border-radius: 0.35em; text-transform: uppercase; vertical-align: middle; margin-left: 0.5rem\">CARDINAL</span>\n",
       "</mark>\n",
       " apps crash on opening. I don't know if it is the app or the \n",
       "<mark class=\"entity\" style=\"background: #7aecec; padding: 0.45em 0.6em; margin: 0 0.25em; line-height: 1; border-radius: 0.35em; box-decoration-break: clone; -webkit-box-decoration-break: clone\">\n",
       "    OS\n",
       "    <span style=\"font-size: 0.8em; font-weight: bold; line-height: 1; border-radius: 0.35em; text-transform: uppercase; vertical-align: middle; margin-left: 0.5rem\">ORG</span>\n",
       "</mark>\n",
       ". It's probably somewhere in the middle. Again, not a big deal for me. If it crashes, then I just tap it again and it works. I've also watched a few movies using the built in player as well as \n",
       "<mark class=\"entity\" style=\"background: #aa9cfc; padding: 0.45em 0.6em; margin: 0 0.25em; line-height: 1; border-radius: 0.35em; box-decoration-break: clone; -webkit-box-decoration-break: clone\">\n",
       "    Netflix\n",
       "    <span style=\"font-size: 0.8em; font-weight: bold; line-height: 1; border-radius: 0.35em; text-transform: uppercase; vertical-align: middle; margin-left: 0.5rem\">PERSON</span>\n",
       "</mark>\n",
       " and \n",
       "<mark class=\"entity\" style=\"background: #7aecec; padding: 0.45em 0.6em; margin: 0 0.25em; line-height: 1; border-radius: 0.35em; box-decoration-break: clone; -webkit-box-decoration-break: clone\">\n",
       "    Amazon\n",
       "    <span style=\"font-size: 0.8em; font-weight: bold; line-height: 1; border-radius: 0.35em; text-transform: uppercase; vertical-align: middle; margin-left: 0.5rem\">ORG</span>\n",
       "</mark>\n",
       " Prime. No crashes for me at all. I'm sure OS stability will be improved as time goes on.OVERALL SATISFACTIONCompared to my iPad 3, obviously the Fire HD is not as \"good\" so to speak. I mainly got it because I wanted something smaller. I also mainly used the \n",
       "<mark class=\"entity\" style=\"background: #7aecec; padding: 0.45em 0.6em; margin: 0 0.25em; line-height: 1; border-radius: 0.35em; box-decoration-break: clone; -webkit-box-decoration-break: clone\">\n",
       "    iPad\n",
       "    <span style=\"font-size: 0.8em; font-weight: bold; line-height: 1; border-radius: 0.35em; text-transform: uppercase; vertical-align: middle; margin-left: 0.5rem\">ORG</span>\n",
       "</mark>\n",
       " to surf the web, watch videos, and play some simple games. The Fire HD accomplishes this and does so much more. If you are expecting an \n",
       "<mark class=\"entity\" style=\"background: #7aecec; padding: 0.45em 0.6em; margin: 0 0.25em; line-height: 1; border-radius: 0.35em; box-decoration-break: clone; -webkit-box-decoration-break: clone\">\n",
       "    iPad\n",
       "    <span style=\"font-size: 0.8em; font-weight: bold; line-height: 1; border-radius: 0.35em; text-transform: uppercase; vertical-align: middle; margin-left: 0.5rem\">ORG</span>\n",
       "</mark>\n",
       " killer, or a desktop replacement, or a productivity machine, then you should look elsewhere.I bought this to be a media device, and I believe that is what \n",
       "<mark class=\"entity\" style=\"background: #7aecec; padding: 0.45em 0.6em; margin: 0 0.25em; line-height: 1; border-radius: 0.35em; box-decoration-break: clone; -webkit-box-decoration-break: clone\">\n",
       "    Amazon\n",
       "    <span style=\"font-size: 0.8em; font-weight: bold; line-height: 1; border-radius: 0.35em; text-transform: uppercase; vertical-align: middle; margin-left: 0.5rem\">ORG</span>\n",
       "</mark>\n",
       " meant this to be. In this regard, I think this is a great device. In fact, I decided to keep this and sell my \n",
       "<mark class=\"entity\" style=\"background: #7aecec; padding: 0.45em 0.6em; margin: 0 0.25em; line-height: 1; border-radius: 0.35em; box-decoration-break: clone; -webkit-box-decoration-break: clone\">\n",
       "    iPad\n",
       "    <span style=\"font-size: 0.8em; font-weight: bold; line-height: 1; border-radius: 0.35em; text-transform: uppercase; vertical-align: middle; margin-left: 0.5rem\">ORG</span>\n",
       "</mark>\n",
       " 3, which will give me \n",
       "<mark class=\"entity\" style=\"background: #e4e7d2; padding: 0.45em 0.6em; margin: 0 0.25em; line-height: 1; border-radius: 0.35em; box-decoration-break: clone; -webkit-box-decoration-break: clone\">\n",
       "    another $200+\n",
       "    <span style=\"font-size: 0.8em; font-weight: bold; line-height: 1; border-radius: 0.35em; text-transform: uppercase; vertical-align: middle; margin-left: 0.5rem\">MONEY</span>\n",
       "</mark>\n",
       " to spend on other things. Just remember, this device is not for everyone. If you want a media device, you will be happy with this. Do not expect an \n",
       "<mark class=\"entity\" style=\"background: #7aecec; padding: 0.45em 0.6em; margin: 0 0.25em; line-height: 1; border-radius: 0.35em; box-decoration-break: clone; -webkit-box-decoration-break: clone\">\n",
       "    iPad\n",
       "    <span style=\"font-size: 0.8em; font-weight: bold; line-height: 1; border-radius: 0.35em; text-transform: uppercase; vertical-align: middle; margin-left: 0.5rem\">ORG</span>\n",
       "</mark>\n",
       " for $\n",
       "<mark class=\"entity\" style=\"background: #e4e7d2; padding: 0.45em 0.6em; margin: 0 0.25em; line-height: 1; border-radius: 0.35em; box-decoration-break: clone; -webkit-box-decoration-break: clone\">\n",
       "    200.UPDATE\n",
       "    <span style=\"font-size: 0.8em; font-weight: bold; line-height: 1; border-radius: 0.35em; text-transform: uppercase; vertical-align: middle; margin-left: 0.5rem\">MONEY</span>\n",
       "</mark>\n",
       " 9/18/12Just wanted to add a few more things I have noticed over \n",
       "<mark class=\"entity\" style=\"background: #bfe1d9; padding: 0.45em 0.6em; margin: 0 0.25em; line-height: 1; border-radius: 0.35em; box-decoration-break: clone; -webkit-box-decoration-break: clone\">\n",
       "    the past 24\n",
       "    <span style=\"font-size: 0.8em; font-weight: bold; line-height: 1; border-radius: 0.35em; text-transform: uppercase; vertical-align: middle; margin-left: 0.5rem\">DATE</span>\n",
       "</mark>\n",
       " hours.- \n",
       "<mark class=\"entity\" style=\"background: #7aecec; padding: 0.45em 0.6em; margin: 0 0.25em; line-height: 1; border-radius: 0.35em; box-decoration-break: clone; -webkit-box-decoration-break: clone\">\n",
       "    Power/Volume Buttons\n",
       "    <span style=\"font-size: 0.8em; font-weight: bold; line-height: 1; border-radius: 0.35em; text-transform: uppercase; vertical-align: middle; margin-left: 0.5rem\">ORG</span>\n",
       "</mark>\n",
       ": There are a bit hard to press, which is somewhat alleviated by having the official case. Maybe it's because I'm a longtime \n",
       "<mark class=\"entity\" style=\"background: #7aecec; padding: 0.45em 0.6em; margin: 0 0.25em; line-height: 1; border-radius: 0.35em; box-decoration-break: clone; -webkit-box-decoration-break: clone\">\n",
       "    iPad\n",
       "    <span style=\"font-size: 0.8em; font-weight: bold; line-height: 1; border-radius: 0.35em; text-transform: uppercase; vertical-align: middle; margin-left: 0.5rem\">ORG</span>\n",
       "</mark>\n",
       " user, but this will definitely take some getting used \n",
       "<mark class=\"entity\" style=\"background: #aa9cfc; padding: 0.45em 0.6em; margin: 0 0.25em; line-height: 1; border-radius: 0.35em; box-decoration-break: clone; -webkit-box-decoration-break: clone\">\n",
       "    to.-\n",
       "    <span style=\"font-size: 0.8em; font-weight: bold; line-height: 1; border-radius: 0.35em; text-transform: uppercase; vertical-align: middle; margin-left: 0.5rem\">PERSON</span>\n",
       "</mark>\n",
       " \n",
       "<mark class=\"entity\" style=\"background: #aa9cfc; padding: 0.45em 0.6em; margin: 0 0.25em; line-height: 1; border-radius: 0.35em; box-decoration-break: clone; -webkit-box-decoration-break: clone\">\n",
       "    Screen Glare\n",
       "    <span style=\"font-size: 0.8em; font-weight: bold; line-height: 1; border-radius: 0.35em; text-transform: uppercase; vertical-align: middle; margin-left: 0.5rem\">PERSON</span>\n",
       "</mark>\n",
       ": It took me a little while to notice, but I was playing a \n",
       "<mark class=\"entity\" style=\"background: #7aecec; padding: 0.45em 0.6em; margin: 0 0.25em; line-height: 1; border-radius: 0.35em; box-decoration-break: clone; -webkit-box-decoration-break: clone\">\n",
       "    Seek & Find\n",
       "    <span style=\"font-size: 0.8em; font-weight: bold; line-height: 1; border-radius: 0.35em; text-transform: uppercase; vertical-align: middle; margin-left: 0.5rem\">ORG</span>\n",
       "</mark>\n",
       " game while on \n",
       "<mark class=\"entity\" style=\"background: #feca74; padding: 0.45em 0.6em; margin: 0 0.25em; line-height: 1; border-radius: 0.35em; box-decoration-break: clone; -webkit-box-decoration-break: clone\">\n",
       "    Caltrain\n",
       "    <span style=\"font-size: 0.8em; font-weight: bold; line-height: 1; border-radius: 0.35em; text-transform: uppercase; vertical-align: middle; margin-left: 0.5rem\">GPE</span>\n",
       "</mark>\n",
       ", with the bright \n",
       "<mark class=\"entity\" style=\"background: #feca74; padding: 0.45em 0.6em; margin: 0 0.25em; line-height: 1; border-radius: 0.35em; box-decoration-break: clone; -webkit-box-decoration-break: clone\">\n",
       "    Palo Alto\n",
       "    <span style=\"font-size: 0.8em; font-weight: bold; line-height: 1; border-radius: 0.35em; text-transform: uppercase; vertical-align: middle; margin-left: 0.5rem\">GPE</span>\n",
       "</mark>\n",
       " sun shining right on me, and didn't have any trouble seeing the screen. I remembered that \n",
       "<mark class=\"entity\" style=\"background: #7aecec; padding: 0.45em 0.6em; margin: 0 0.25em; line-height: 1; border-radius: 0.35em; box-decoration-break: clone; -webkit-box-decoration-break: clone\">\n",
       "    Amazon\n",
       "    <span style=\"font-size: 0.8em; font-weight: bold; line-height: 1; border-radius: 0.35em; text-transform: uppercase; vertical-align: middle; margin-left: 0.5rem\">ORG</span>\n",
       "</mark>\n",
       " mentioned how the screen was changed to reduce glare, and they did an amazing job.UPDATE \n",
       "<mark class=\"entity\" style=\"background: #bfe1d9; padding: 0.45em 0.6em; margin: 0 0.25em; line-height: 1; border-radius: 0.35em; box-decoration-break: clone; -webkit-box-decoration-break: clone\">\n",
       "    9/20/12Two days later\n",
       "    <span style=\"font-size: 0.8em; font-weight: bold; line-height: 1; border-radius: 0.35em; text-transform: uppercase; vertical-align: middle; margin-left: 0.5rem\">DATE</span>\n",
       "</mark>\n",
       " and I am still very happy with the device. Here are some more thoughts from me:BATTERY LIFEI have been playing \n",
       "<mark class=\"entity\" style=\"background: #c887fb; padding: 0.45em 0.6em; margin: 0 0.25em; line-height: 1; border-radius: 0.35em; box-decoration-break: clone; -webkit-box-decoration-break: clone\">\n",
       "    Enigmatis\n",
       "    <span style=\"font-size: 0.8em; font-weight: bold; line-height: 1; border-radius: 0.35em; text-transform: uppercase; vertical-align: middle; margin-left: 0.5rem\">NORP</span>\n",
       "</mark>\n",
       " (a hidden object game) for \n",
       "<mark class=\"entity\" style=\"background: #bfe1d9; padding: 0.45em 0.6em; margin: 0 0.25em; line-height: 1; border-radius: 0.35em; box-decoration-break: clone; -webkit-box-decoration-break: clone\">\n",
       "    about an hour and a half\n",
       "    <span style=\"font-size: 0.8em; font-weight: bold; line-height: 1; border-radius: 0.35em; text-transform: uppercase; vertical-align: middle; margin-left: 0.5rem\">TIME</span>\n",
       "</mark>\n",
       " each day on my commute. This drains \n",
       "<mark class=\"entity\" style=\"background: #e4e7d2; padding: 0.45em 0.6em; margin: 0 0.25em; line-height: 1; border-radius: 0.35em; box-decoration-break: clone; -webkit-box-decoration-break: clone\">\n",
       "    about 15 - 20%\n",
       "    <span style=\"font-size: 0.8em; font-weight: bold; line-height: 1; border-radius: 0.35em; text-transform: uppercase; vertical-align: middle; margin-left: 0.5rem\">PERCENT</span>\n",
       "</mark>\n",
       " of the battery with the screen brightness almost at the highest setting. Again, not \n",
       "<mark class=\"entity\" style=\"background: #7aecec; padding: 0.45em 0.6em; margin: 0 0.25em; line-height: 1; border-radius: 0.35em; box-decoration-break: clone; -webkit-box-decoration-break: clone\">\n",
       "    iPad\n",
       "    <span style=\"font-size: 0.8em; font-weight: bold; line-height: 1; border-radius: 0.35em; text-transform: uppercase; vertical-align: middle; margin-left: 0.5rem\">ORG</span>\n",
       "</mark>\n",
       " gold standard, but still very good.SYNCING \n",
       "<mark class=\"entity\" style=\"background: #7aecec; padding: 0.45em 0.6em; margin: 0 0.25em; line-height: 1; border-radius: 0.35em; box-decoration-break: clone; -webkit-box-decoration-break: clone\">\n",
       "    MUSICI\n",
       "    <span style=\"font-size: 0.8em; font-weight: bold; line-height: 1; border-radius: 0.35em; text-transform: uppercase; vertical-align: middle; margin-left: 0.5rem\">ORG</span>\n",
       "</mark>\n",
       " have a \n",
       "<mark class=\"entity\" style=\"background: #7aecec; padding: 0.45em 0.6em; margin: 0 0.25em; line-height: 1; border-radius: 0.35em; box-decoration-break: clone; -webkit-box-decoration-break: clone\">\n",
       "    Samsung Galaxy S3\n",
       "    <span style=\"font-size: 0.8em; font-weight: bold; line-height: 1; border-radius: 0.35em; text-transform: uppercase; vertical-align: middle; margin-left: 0.5rem\">ORG</span>\n",
       "</mark>\n",
       " and used an app called \n",
       "<mark class=\"entity\" style=\"background: #f0d0ff; padding: 0.45em 0.6em; margin: 0 0.25em; line-height: 1; border-radius: 0.35em; box-decoration-break: clone; -webkit-box-decoration-break: clone\">\n",
       "    Easy Phone Transfer\n",
       "    <span style=\"font-size: 0.8em; font-weight: bold; line-height: 1; border-radius: 0.35em; text-transform: uppercase; vertical-align: middle; margin-left: 0.5rem\">WORK_OF_ART</span>\n",
       "</mark>\n",
       " to get all my music from \n",
       "<mark class=\"entity\" style=\"background: #feca74; padding: 0.45em 0.6em; margin: 0 0.25em; line-height: 1; border-radius: 0.35em; box-decoration-break: clone; -webkit-box-decoration-break: clone\">\n",
       "    iTunes\n",
       "    <span style=\"font-size: 0.8em; font-weight: bold; line-height: 1; border-radius: 0.35em; text-transform: uppercase; vertical-align: middle; margin-left: 0.5rem\">GPE</span>\n",
       "</mark>\n",
       " onto the phone. It transferred everything, including album covers, and I was hoping to find something like that for this device. I tried \n",
       "<mark class=\"entity\" style=\"background: #7aecec; padding: 0.45em 0.6em; margin: 0 0.25em; line-height: 1; border-radius: 0.35em; box-decoration-break: clone; -webkit-box-decoration-break: clone\">\n",
       "    iSyncr\n",
       "    <span style=\"font-size: 0.8em; font-weight: bold; line-height: 1; border-radius: 0.35em; text-transform: uppercase; vertical-align: middle; margin-left: 0.5rem\">ORG</span>\n",
       "</mark>\n",
       ", a $\n",
       "<mark class=\"entity\" style=\"background: #e4e7d2; padding: 0.45em 0.6em; margin: 0 0.25em; line-height: 1; border-radius: 0.35em; box-decoration-break: clone; -webkit-box-decoration-break: clone\">\n",
       "    3\n",
       "    <span style=\"font-size: 0.8em; font-weight: bold; line-height: 1; border-radius: 0.35em; text-transform: uppercase; vertical-align: middle; margin-left: 0.5rem\">MONEY</span>\n",
       "</mark>\n",
       " app, which did the job, but did not sync over album covers. I uploaded all my music into the \n",
       "<mark class=\"entity\" style=\"background: #feca74; padding: 0.45em 0.6em; margin: 0 0.25em; line-height: 1; border-radius: 0.35em; box-decoration-break: clone; -webkit-box-decoration-break: clone\">\n",
       "    Cloud\n",
       "    <span style=\"font-size: 0.8em; font-weight: bold; line-height: 1; border-radius: 0.35em; text-transform: uppercase; vertical-align: middle; margin-left: 0.5rem\">GPE</span>\n",
       "</mark>\n",
       ", then downloaded it from \n",
       "<mark class=\"entity\" style=\"background: #7aecec; padding: 0.45em 0.6em; margin: 0 0.25em; line-height: 1; border-radius: 0.35em; box-decoration-break: clone; -webkit-box-decoration-break: clone\">\n",
       "    Amazon\n",
       "    <span style=\"font-size: 0.8em; font-weight: bold; line-height: 1; border-radius: 0.35em; text-transform: uppercase; vertical-align: middle; margin-left: 0.5rem\">ORG</span>\n",
       "</mark>\n",
       ", which increased the audio quality for a lot of my songs and added artwork, but this still did not show up on the device.I got very frustrated getting all the album artwork over and eventually just gave up. It's not a big deal but I am kind of anal about those kinds of things. Just a heads up if anyone else out there is crazy about it like I am.UPDATE 09/21/12I got a call from \n",
       "<mark class=\"entity\" style=\"background: #7aecec; padding: 0.45em 0.6em; margin: 0 0.25em; line-height: 1; border-radius: 0.35em; box-decoration-break: clone; -webkit-box-decoration-break: clone\">\n",
       "    Amazon Customer Service\n",
       "    <span style=\"font-size: 0.8em; font-weight: bold; line-height: 1; border-radius: 0.35em; text-transform: uppercase; vertical-align: middle; margin-left: 0.5rem\">ORG</span>\n",
       "</mark>\n",
       " about this review, which surprised me very much. They advised me the best way to get the artwork to show up is have the songs in both the \n",
       "<mark class=\"entity\" style=\"background: #aa9cfc; padding: 0.45em 0.6em; margin: 0 0.25em; line-height: 1; border-radius: 0.35em; box-decoration-break: clone; -webkit-box-decoration-break: clone\">\n",
       "    Cloud Player\n",
       "    <span style=\"font-size: 0.8em; font-weight: bold; line-height: 1; border-radius: 0.35em; text-transform: uppercase; vertical-align: middle; margin-left: 0.5rem\">PERSON</span>\n",
       "</mark>\n",
       " as well as the device, which I know does work fine. I was hoping to have the artwork show without needing things in the \n",
       "<mark class=\"entity\" style=\"background: #feca74; padding: 0.45em 0.6em; margin: 0 0.25em; line-height: 1; border-radius: 0.35em; box-decoration-break: clone; -webkit-box-decoration-break: clone\">\n",
       "    Cloud\n",
       "    <span style=\"font-size: 0.8em; font-weight: bold; line-height: 1; border-radius: 0.35em; text-transform: uppercase; vertical-align: middle; margin-left: 0.5rem\">GPE</span>\n",
       "</mark>\n",
       ", but not a big deal any more.I am more impressed with the fact that \n",
       "<mark class=\"entity\" style=\"background: #7aecec; padding: 0.45em 0.6em; margin: 0 0.25em; line-height: 1; border-radius: 0.35em; box-decoration-break: clone; -webkit-box-decoration-break: clone\">\n",
       "    Amazon\n",
       "    <span style=\"font-size: 0.8em; font-weight: bold; line-height: 1; border-radius: 0.35em; text-transform: uppercase; vertical-align: middle; margin-left: 0.5rem\">ORG</span>\n",
       "</mark>\n",
       " called me to give me advice on how to remedy the situation and ask if there were any other questions I had on the \n",
       "<mark class=\"entity\" style=\"background: #ddd; padding: 0.45em 0.6em; margin: 0 0.25em; line-height: 1; border-radius: 0.35em; box-decoration-break: clone; -webkit-box-decoration-break: clone\">\n",
       "    Kindle\n",
       "    <span style=\"font-size: 0.8em; font-weight: bold; line-height: 1; border-radius: 0.35em; text-transform: uppercase; vertical-align: middle; margin-left: 0.5rem\">FAC</span>\n",
       "</mark>\n",
       ". The representative said he wanted to make sure I was happy with the Fire HD. This is one of the big reasons I went with the \n",
       "<mark class=\"entity\" style=\"background: #ff9561; padding: 0.45em 0.6em; margin: 0 0.25em; line-height: 1; border-radius: 0.35em; box-decoration-break: clone; -webkit-box-decoration-break: clone\">\n",
       "    Kindle\n",
       "    <span style=\"font-size: 0.8em; font-weight: bold; line-height: 1; border-radius: 0.35em; text-transform: uppercase; vertical-align: middle; margin-left: 0.5rem\">LOC</span>\n",
       "</mark>\n",
       ", and with \n",
       "<mark class=\"entity\" style=\"background: #7aecec; padding: 0.45em 0.6em; margin: 0 0.25em; line-height: 1; border-radius: 0.35em; box-decoration-break: clone; -webkit-box-decoration-break: clone\">\n",
       "    Amazon\n",
       "    <span style=\"font-size: 0.8em; font-weight: bold; line-height: 1; border-radius: 0.35em; text-transform: uppercase; vertical-align: middle; margin-left: 0.5rem\">ORG</span>\n",
       "</mark>\n",
       " in general. I have had great experiences with their customer service, who have always been able to handle my issues quickly and efficiently. No need to set up \n",
       "<mark class=\"entity\" style=\"background: #bfe1d9; padding: 0.45em 0.6em; margin: 0 0.25em; line-height: 1; border-radius: 0.35em; box-decoration-break: clone; -webkit-box-decoration-break: clone\">\n",
       "    an appointment days later\n",
       "    <span style=\"font-size: 0.8em; font-weight: bold; line-height: 1; border-radius: 0.35em; text-transform: uppercase; vertical-align: middle; margin-left: 0.5rem\">DATE</span>\n",
       "</mark>\n",
       " with a wannabe IT guy with a hugely overstated job title.So this update is not really for the device itself, but sometimes it's not just the device, it's the company that offers it that makes a difference. This is why I no longer have any \n",
       "<mark class=\"entity\" style=\"background: #7aecec; padding: 0.45em 0.6em; margin: 0 0.25em; line-height: 1; border-radius: 0.35em; box-decoration-break: clone; -webkit-box-decoration-break: clone\">\n",
       "    Apple\n",
       "    <span style=\"font-size: 0.8em; font-weight: bold; line-height: 1; border-radius: 0.35em; text-transform: uppercase; vertical-align: middle; margin-left: 0.5rem\">ORG</span>\n",
       "</mark>\n",
       " devices, as cool as they may be. But it's not \n",
       "<mark class=\"entity\" style=\"background: #e4e7d2; padding: 0.45em 0.6em; margin: 0 0.25em; line-height: 1; border-radius: 0.35em; box-decoration-break: clone; -webkit-box-decoration-break: clone\">\n",
       "    100%\n",
       "    <span style=\"font-size: 0.8em; font-weight: bold; line-height: 1; border-radius: 0.35em; text-transform: uppercase; vertical-align: middle; margin-left: 0.5rem\">PERCENT</span>\n",
       "</mark>\n",
       " gravy, as I have noticed lately that the keyboard keeps popping up randomly on screens where there is nowhere to enter text, ie. while playing a game. I just have to press the Back arrow to get rid of it, but maybe a bug the \n",
       "<mark class=\"entity\" style=\"background: #7aecec; padding: 0.45em 0.6em; margin: 0 0.25em; line-height: 1; border-radius: 0.35em; box-decoration-break: clone; -webkit-box-decoration-break: clone\">\n",
       "    Amazon\n",
       "    <span style=\"font-size: 0.8em; font-weight: bold; line-height: 1; border-radius: 0.35em; text-transform: uppercase; vertical-align: middle; margin-left: 0.5rem\">ORG</span>\n",
       "</mark>\n",
       " engineers want to take a look at.UPDATE 10/05/12So I don't know if it was always there, but over \n",
       "<mark class=\"entity\" style=\"background: #bfe1d9; padding: 0.45em 0.6em; margin: 0 0.25em; line-height: 1; border-radius: 0.35em; box-decoration-break: clone; -webkit-box-decoration-break: clone\">\n",
       "    this past weekend\n",
       "    <span style=\"font-size: 0.8em; font-weight: bold; line-height: 1; border-radius: 0.35em; text-transform: uppercase; vertical-align: middle; margin-left: 0.5rem\">DATE</span>\n",
       "</mark>\n",
       " I noticed a dead pixel on my \n",
       "<mark class=\"entity\" style=\"background: #feca74; padding: 0.45em 0.6em; margin: 0 0.25em; line-height: 1; border-radius: 0.35em; box-decoration-break: clone; -webkit-box-decoration-break: clone\">\n",
       "    Kindle\n",
       "    <span style=\"font-size: 0.8em; font-weight: bold; line-height: 1; border-radius: 0.35em; text-transform: uppercase; vertical-align: middle; margin-left: 0.5rem\">GPE</span>\n",
       "</mark>\n",
       "'s screen. I called \n",
       "<mark class=\"entity\" style=\"background: #ff9561; padding: 0.45em 0.6em; margin: 0 0.25em; line-height: 1; border-radius: 0.35em; box-decoration-break: clone; -webkit-box-decoration-break: clone\">\n",
       "    Kindle Support\n",
       "    <span style=\"font-size: 0.8em; font-weight: bold; line-height: 1; border-radius: 0.35em; text-transform: uppercase; vertical-align: middle; margin-left: 0.5rem\">LOC</span>\n",
       "</mark>\n",
       " and after a short \n",
       "<mark class=\"entity\" style=\"background: #bfe1d9; padding: 0.45em 0.6em; margin: 0 0.25em; line-height: 1; border-radius: 0.35em; box-decoration-break: clone; -webkit-box-decoration-break: clone\">\n",
       "    5 minute\n",
       "    <span style=\"font-size: 0.8em; font-weight: bold; line-height: 1; border-radius: 0.35em; text-transform: uppercase; vertical-align: middle; margin-left: 0.5rem\">TIME</span>\n",
       "</mark>\n",
       " call, they sent me a new \n",
       "<mark class=\"entity\" style=\"background: #feca74; padding: 0.45em 0.6em; margin: 0 0.25em; line-height: 1; border-radius: 0.35em; box-decoration-break: clone; -webkit-box-decoration-break: clone\">\n",
       "    Kindle\n",
       "    <span style=\"font-size: 0.8em; font-weight: bold; line-height: 1; border-radius: 0.35em; text-transform: uppercase; vertical-align: middle; margin-left: 0.5rem\">GPE</span>\n",
       "</mark>\n",
       ", no questions asked. So once again, very happy with \n",
       "<mark class=\"entity\" style=\"background: #7aecec; padding: 0.45em 0.6em; margin: 0 0.25em; line-height: 1; border-radius: 0.35em; box-decoration-break: clone; -webkit-box-decoration-break: clone\">\n",
       "    Amazon\n",
       "    <span style=\"font-size: 0.8em; font-weight: bold; line-height: 1; border-radius: 0.35em; text-transform: uppercase; vertical-align: middle; margin-left: 0.5rem\">ORG</span>\n",
       "</mark>\n",
       " customer service. I am still very happy with the device, and have some more thoughts on it:\n",
       "<mark class=\"entity\" style=\"background: #7aecec; padding: 0.45em 0.6em; margin: 0 0.25em; line-height: 1; border-radius: 0.35em; box-decoration-break: clone; -webkit-box-decoration-break: clone\">\n",
       "    HDMI CONNECTIONI\n",
       "    <span style=\"font-size: 0.8em; font-weight: bold; line-height: 1; border-radius: 0.35em; text-transform: uppercase; vertical-align: middle; margin-left: 0.5rem\">ORG</span>\n",
       "</mark>\n",
       " bought an \n",
       "<mark class=\"entity\" style=\"background: #7aecec; padding: 0.45em 0.6em; margin: 0 0.25em; line-height: 1; border-radius: 0.35em; box-decoration-break: clone; -webkit-box-decoration-break: clone\">\n",
       "    HDMI\n",
       "    <span style=\"font-size: 0.8em; font-weight: bold; line-height: 1; border-radius: 0.35em; text-transform: uppercase; vertical-align: middle; margin-left: 0.5rem\">ORG</span>\n",
       "</mark>\n",
       " cable to hook up the Fire to my \n",
       "<mark class=\"entity\" style=\"background: #e4e7d2; padding: 0.45em 0.6em; margin: 0 0.25em; line-height: 1; border-radius: 0.35em; box-decoration-break: clone; -webkit-box-decoration-break: clone\">\n",
       "    46\n",
       "    <span style=\"font-size: 0.8em; font-weight: bold; line-height: 1; border-radius: 0.35em; text-transform: uppercase; vertical-align: middle; margin-left: 0.5rem\">CARDINAL</span>\n",
       "</mark>\n",
       "\" \n",
       "<mark class=\"entity\" style=\"background: #7aecec; padding: 0.45em 0.6em; margin: 0 0.25em; line-height: 1; border-radius: 0.35em; box-decoration-break: clone; -webkit-box-decoration-break: clone\">\n",
       "    Samsung\n",
       "    <span style=\"font-size: 0.8em; font-weight: bold; line-height: 1; border-radius: 0.35em; text-transform: uppercase; vertical-align: middle; margin-left: 0.5rem\">ORG</span>\n",
       "</mark>\n",
       " and was quite impressed with the results. The quality was very good, not \n",
       "<mark class=\"entity\" style=\"background: #feca74; padding: 0.45em 0.6em; margin: 0 0.25em; line-height: 1; border-radius: 0.35em; box-decoration-break: clone; -webkit-box-decoration-break: clone\">\n",
       "    Bluray\n",
       "    <span style=\"font-size: 0.8em; font-weight: bold; line-height: 1; border-radius: 0.35em; text-transform: uppercase; vertical-align: middle; margin-left: 0.5rem\">GPE</span>\n",
       "</mark>\n",
       " quality of course, but better than SDTV on an HD screen. You actually see every single thing you do on the big screen, like you are using a giant \n",
       "<mark class=\"entity\" style=\"background: #feca74; padding: 0.45em 0.6em; margin: 0 0.25em; line-height: 1; border-radius: 0.35em; box-decoration-break: clone; -webkit-box-decoration-break: clone\">\n",
       "    Kindle\n",
       "    <span style=\"font-size: 0.8em; font-weight: bold; line-height: 1; border-radius: 0.35em; text-transform: uppercase; vertical-align: middle; margin-left: 0.5rem\">GPE</span>\n",
       "</mark>\n",
       ".GOOGLE PLAY APPSOne of the main drawbacks in my opinion is, or should I say was, the lack of all the \n",
       "<mark class=\"entity\" style=\"background: #bfeeb7; padding: 0.45em 0.6em; margin: 0 0.25em; line-height: 1; border-radius: 0.35em; box-decoration-break: clone; -webkit-box-decoration-break: clone\">\n",
       "    Google Play\n",
       "    <span style=\"font-size: 0.8em; font-weight: bold; line-height: 1; border-radius: 0.35em; text-transform: uppercase; vertical-align: middle; margin-left: 0.5rem\">PRODUCT</span>\n",
       "</mark>\n",
       " apps available on the \n",
       "<mark class=\"entity\" style=\"background: #ff9561; padding: 0.45em 0.6em; margin: 0 0.25em; line-height: 1; border-radius: 0.35em; box-decoration-break: clone; -webkit-box-decoration-break: clone\">\n",
       "    Kindle\n",
       "    <span style=\"font-size: 0.8em; font-weight: bold; line-height: 1; border-radius: 0.35em; text-transform: uppercase; vertical-align: middle; margin-left: 0.5rem\">LOC</span>\n",
       "</mark>\n",
       ". With a little research, I found out how to add apps that are not available in the \n",
       "<mark class=\"entity\" style=\"background: #7aecec; padding: 0.45em 0.6em; margin: 0 0.25em; line-height: 1; border-radius: 0.35em; box-decoration-break: clone; -webkit-box-decoration-break: clone\">\n",
       "    Amazon\n",
       "    <span style=\"font-size: 0.8em; font-weight: bold; line-height: 1; border-radius: 0.35em; text-transform: uppercase; vertical-align: middle; margin-left: 0.5rem\">ORG</span>\n",
       "</mark>\n",
       " store. It is pretty easy to do and works very well with the apps I tried. This greatly improves my opinion of the Fire HD.PLASTIC AROUND THE SCREENThe outer most edges of the Kindle are plastic. I noticed some kind of discoloration on the corner of mine, and just thought it was some dirt to scratch off. So I rubbed my thumb nail on the area, and noticed there were visible marks on the plastic. It appears this plastic can scratch some what easily, but I think this is just cosmetic as not of the plastic actually flaked. If you are not very anal about how your stuff looks, you probably won't notice it.OS CHANGESHere are \n",
       "<mark class=\"entity\" style=\"background: #e4e7d2; padding: 0.45em 0.6em; margin: 0 0.25em; line-height: 1; border-radius: 0.35em; box-decoration-break: clone; -webkit-box-decoration-break: clone\">\n",
       "    two\n",
       "    <span style=\"font-size: 0.8em; font-weight: bold; line-height: 1; border-radius: 0.35em; text-transform: uppercase; vertical-align: middle; margin-left: 0.5rem\">CARDINAL</span>\n",
       "</mark>\n",
       " small gripes I have with the \n",
       "<mark class=\"entity\" style=\"background: #7aecec; padding: 0.45em 0.6em; margin: 0 0.25em; line-height: 1; border-radius: 0.35em; box-decoration-break: clone; -webkit-box-decoration-break: clone\">\n",
       "    OS\n",
       "    <span style=\"font-size: 0.8em; font-weight: bold; line-height: 1; border-radius: 0.35em; text-transform: uppercase; vertical-align: middle; margin-left: 0.5rem\">ORG</span>\n",
       "</mark>\n",
       " that I'm sure could be fixed with an \n",
       "<mark class=\"entity\" style=\"background: #7aecec; padding: 0.45em 0.6em; margin: 0 0.25em; line-height: 1; border-radius: 0.35em; box-decoration-break: clone; -webkit-box-decoration-break: clone\">\n",
       "    OS\n",
       "    <span style=\"font-size: 0.8em; font-weight: bold; line-height: 1; border-radius: 0.35em; text-transform: uppercase; vertical-align: middle; margin-left: 0.5rem\">ORG</span>\n",
       "</mark>\n",
       " update:- Battery Meter: It would be nice if the battery meter could show percentage instead of just a graphic bar. Some people have mentioned \n",
       "<mark class=\"entity\" style=\"background: #aa9cfc; padding: 0.45em 0.6em; margin: 0 0.25em; line-height: 1; border-radius: 0.35em; box-decoration-break: clone; -webkit-box-decoration-break: clone\">\n",
       "    Battery HD\n",
       "    <span style=\"font-size: 0.8em; font-weight: bold; line-height: 1; border-radius: 0.35em; text-transform: uppercase; vertical-align: middle; margin-left: 0.5rem\">PERSON</span>\n",
       "</mark>\n",
       ", but you still have to swipe down to see the percentage, so this makes it easier but does not solve the issue I had.- Personal Videos: The \n",
       "<mark class=\"entity\" style=\"background: #feca74; padding: 0.45em 0.6em; margin: 0 0.25em; line-height: 1; border-radius: 0.35em; box-decoration-break: clone; -webkit-box-decoration-break: clone\">\n",
       "    mp4\n",
       "    <span style=\"font-size: 0.8em; font-weight: bold; line-height: 1; border-radius: 0.35em; text-transform: uppercase; vertical-align: middle; margin-left: 0.5rem\">GPE</span>\n",
       "</mark>\n",
       " videos I put on the device are located in the \"Personal Videos\" app, which shows screen shots of all the videos I put in. The problem is, all that is shown are the screen shots. You can get more info by holding your finger down on each video, but when you have multiple seasons of a show on the Kindle, it can get confusing. Ideally we should be able to look at videos in a list like our music.UPDATE \n",
       "<mark class=\"entity\" style=\"background: #feca74; padding: 0.45em 0.6em; margin: 0 0.25em; line-height: 1; border-radius: 0.35em; box-decoration-break: clone; -webkit-box-decoration-break: clone\">\n",
       "    11/15/12Still\n",
       "    <span style=\"font-size: 0.8em; font-weight: bold; line-height: 1; border-radius: 0.35em; text-transform: uppercase; vertical-align: middle; margin-left: 0.5rem\">GPE</span>\n",
       "</mark>\n",
       " very happy with the device. Here are some more thoughts:\n",
       "<mark class=\"entity\" style=\"background: #7aecec; padding: 0.45em 0.6em; margin: 0 0.25em; line-height: 1; border-radius: 0.35em; box-decoration-break: clone; -webkit-box-decoration-break: clone\">\n",
       "    LEFT HAND MODEI\n",
       "    <span style=\"font-size: 0.8em; font-weight: bold; line-height: 1; border-radius: 0.35em; text-transform: uppercase; vertical-align: middle; margin-left: 0.5rem\">ORG</span>\n",
       "</mark>\n",
       " did't think this would be a problem until I played a \n",
       "<mark class=\"entity\" style=\"background: #feca74; padding: 0.45em 0.6em; margin: 0 0.25em; line-height: 1; border-radius: 0.35em; box-decoration-break: clone; -webkit-box-decoration-break: clone\">\n",
       "    Solitaire\n",
       "    <span style=\"font-size: 0.8em; font-weight: bold; line-height: 1; border-radius: 0.35em; text-transform: uppercase; vertical-align: middle; margin-left: 0.5rem\">GPE</span>\n",
       "</mark>\n",
       " game that \n",
       "<mark class=\"entity\" style=\"background: #aa9cfc; padding: 0.45em 0.6em; margin: 0 0.25em; line-height: 1; border-radius: 0.35em; box-decoration-break: clone; -webkit-box-decoration-break: clone\">\n",
       "    DID\n",
       "    <span style=\"font-size: 0.8em; font-weight: bold; line-height: 1; border-radius: 0.35em; text-transform: uppercase; vertical-align: middle; margin-left: 0.5rem\">PERSON</span>\n",
       "</mark>\n",
       " have a left-handed mode. As a lefty who usually uses the Fire in landscape, I often have to reach across the screen to access the Settings or \n",
       "<mark class=\"entity\" style=\"background: #aa9cfc; padding: 0.45em 0.6em; margin: 0 0.25em; line-height: 1; border-radius: 0.35em; box-decoration-break: clone; -webkit-box-decoration-break: clone\">\n",
       "    Home\n",
       "    <span style=\"font-size: 0.8em; font-weight: bold; line-height: 1; border-radius: 0.35em; text-transform: uppercase; vertical-align: middle; margin-left: 0.5rem\">PERSON</span>\n",
       "</mark>\n",
       " button in the menu. It's a small grievance, but can be really annoying when watching a movie or reading something. If there was an option for a left-handed layout with the menus on the left side of the device, that would be great.PERSONAL VIDEOS \n",
       "<mark class=\"entity\" style=\"background: #aa9cfc; padding: 0.45em 0.6em; margin: 0 0.25em; line-height: 1; border-radius: 0.35em; box-decoration-break: clone; -webkit-box-decoration-break: clone\">\n",
       "    APPI\n",
       "    <span style=\"font-size: 0.8em; font-weight: bold; line-height: 1; border-radius: 0.35em; text-transform: uppercase; vertical-align: middle; margin-left: 0.5rem\">PERSON</span>\n",
       "</mark>\n",
       " had earlier complained about this app, as it did not list my movies and crashed playing a pair of them. I recently drove down to \n",
       "<mark class=\"entity\" style=\"background: #feca74; padding: 0.45em 0.6em; margin: 0 0.25em; line-height: 1; border-radius: 0.35em; box-decoration-break: clone; -webkit-box-decoration-break: clone\">\n",
       "    LA\n",
       "    <span style=\"font-size: 0.8em; font-weight: bold; line-height: 1; border-radius: 0.35em; text-transform: uppercase; vertical-align: middle; margin-left: 0.5rem\">GPE</span>\n",
       "</mark>\n",
       " from \n",
       "<mark class=\"entity\" style=\"background: #feca74; padding: 0.45em 0.6em; margin: 0 0.25em; line-height: 1; border-radius: 0.35em; box-decoration-break: clone; -webkit-box-decoration-break: clone\">\n",
       "    SF\n",
       "    <span style=\"font-size: 0.8em; font-weight: bold; line-height: 1; border-radius: 0.35em; text-transform: uppercase; vertical-align: middle; margin-left: 0.5rem\">GPE</span>\n",
       "</mark>\n",
       ", and put \n",
       "<mark class=\"entity\" style=\"background: #e4e7d2; padding: 0.45em 0.6em; margin: 0 0.25em; line-height: 1; border-radius: 0.35em; box-decoration-break: clone; -webkit-box-decoration-break: clone\">\n",
       "    5\n",
       "    <span style=\"font-size: 0.8em; font-weight: bold; line-height: 1; border-radius: 0.35em; text-transform: uppercase; vertical-align: middle; margin-left: 0.5rem\">CARDINAL</span>\n",
       "</mark>\n",
       " movies on device, only to find that \n",
       "<mark class=\"entity\" style=\"background: #e4e7d2; padding: 0.45em 0.6em; margin: 0 0.25em; line-height: 1; border-radius: 0.35em; box-decoration-break: clone; -webkit-box-decoration-break: clone\">\n",
       "    4\n",
       "    <span style=\"font-size: 0.8em; font-weight: bold; line-height: 1; border-radius: 0.35em; text-transform: uppercase; vertical-align: middle; margin-left: 0.5rem\">CARDINAL</span>\n",
       "</mark>\n",
       " of them would not play! I was pretty mad, until I remembered a simple solution, download another app. I downloaded \n",
       "<mark class=\"entity\" style=\"background: #7aecec; padding: 0.45em 0.6em; margin: 0 0.25em; line-height: 1; border-radius: 0.35em; box-decoration-break: clone; -webkit-box-decoration-break: clone\">\n",
       "    Avia Media Player\n",
       "    <span style=\"font-size: 0.8em; font-weight: bold; line-height: 1; border-radius: 0.35em; text-transform: uppercase; vertical-align: middle; margin-left: 0.5rem\">ORG</span>\n",
       "</mark>\n",
       ", which is not the greatest either, but it played all the movies I put on the \n",
       "<mark class=\"entity\" style=\"background: #feca74; padding: 0.45em 0.6em; margin: 0 0.25em; line-height: 1; border-radius: 0.35em; box-decoration-break: clone; -webkit-box-decoration-break: clone\">\n",
       "    Kindle\n",
       "    <span style=\"font-size: 0.8em; font-weight: bold; line-height: 1; border-radius: 0.35em; text-transform: uppercase; vertical-align: middle; margin-left: 0.5rem\">GPE</span>\n",
       "</mark>\n",
       ". My faith was restored.\n",
       "<mark class=\"entity\" style=\"background: #7aecec; padding: 0.45em 0.6em; margin: 0 0.25em; line-height: 1; border-radius: 0.35em; box-decoration-break: clone; -webkit-box-decoration-break: clone\">\n",
       "    GOOGLE\n",
       "    <span style=\"font-size: 0.8em; font-weight: bold; line-height: 1; border-radius: 0.35em; text-transform: uppercase; vertical-align: middle; margin-left: 0.5rem\">ORG</span>\n",
       "</mark>\n",
       " PLAY APPSA lot of people have asked how to do this. If you are not having luck with \n",
       "<mark class=\"entity\" style=\"background: #7aecec; padding: 0.45em 0.6em; margin: 0 0.25em; line-height: 1; border-radius: 0.35em; box-decoration-break: clone; -webkit-box-decoration-break: clone\">\n",
       "    Google\n",
       "    <span style=\"font-size: 0.8em; font-weight: bold; line-height: 1; border-radius: 0.35em; text-transform: uppercase; vertical-align: middle; margin-left: 0.5rem\">ORG</span>\n",
       "</mark>\n",
       " searches, try this:[...]</div>"
      ],
      "text/plain": [
       "<IPython.core.display.HTML object>"
      ]
     },
     "metadata": {},
     "output_type": "display_data"
    }
   ],
   "source": [
    "from spacy import displacy\n",
    "\n",
    "displacy.render(ner_helpful, style=\"ent\", jupyter=True)"
   ]
  },
  {
   "cell_type": "markdown",
   "metadata": {},
   "source": [
    "## Dependency Tree ##\n",
    "The capability of *spaCy'*s NER is based on deciphering the structure of the sentence by breaking down how tokens interact with and influence each other. Below is the dependency trees of the first two sentences of the `most_helpful_text`."
   ]
  },
  {
   "cell_type": "code",
   "execution_count": 67,
   "metadata": {
    "scrolled": false
   },
   "outputs": [
    {
     "data": {
      "text/html": [
       "<svg xmlns=\"http://www.w3.org/2000/svg\" xmlns:xlink=\"http://www.w3.org/1999/xlink\" id=\"0\" class=\"displacy\" width=\"1040\" height=\"242.0\" style=\"max-width: none; height: 242.0px; color: #000000; background: #ffffff; font-family: Arial\">\n",
       "<text class=\"displacy-token\" fill=\"currentColor\" text-anchor=\"middle\" y=\"202.0\">\n",
       "    <tspan class=\"displacy-word\" fill=\"currentColor\" x=\"50\">I</tspan>\n",
       "    <tspan class=\"displacy-tag\" dy=\"2em\" fill=\"currentColor\" x=\"50\">PRON</tspan>\n",
       "</text>\n",
       "\n",
       "<text class=\"displacy-token\" fill=\"currentColor\" text-anchor=\"middle\" y=\"202.0\">\n",
       "    <tspan class=\"displacy-word\" fill=\"currentColor\" x=\"140\">'ve</tspan>\n",
       "    <tspan class=\"displacy-tag\" dy=\"2em\" fill=\"currentColor\" x=\"140\">VERB</tspan>\n",
       "</text>\n",
       "\n",
       "<text class=\"displacy-token\" fill=\"currentColor\" text-anchor=\"middle\" y=\"202.0\">\n",
       "    <tspan class=\"displacy-word\" fill=\"currentColor\" x=\"230\">been</tspan>\n",
       "    <tspan class=\"displacy-tag\" dy=\"2em\" fill=\"currentColor\" x=\"230\">VERB</tspan>\n",
       "</text>\n",
       "\n",
       "<text class=\"displacy-token\" fill=\"currentColor\" text-anchor=\"middle\" y=\"202.0\">\n",
       "    <tspan class=\"displacy-word\" fill=\"currentColor\" x=\"320\">an</tspan>\n",
       "    <tspan class=\"displacy-tag\" dy=\"2em\" fill=\"currentColor\" x=\"320\">DET</tspan>\n",
       "</text>\n",
       "\n",
       "<text class=\"displacy-token\" fill=\"currentColor\" text-anchor=\"middle\" y=\"202.0\">\n",
       "    <tspan class=\"displacy-word\" fill=\"currentColor\" x=\"410\">iPad</tspan>\n",
       "    <tspan class=\"displacy-tag\" dy=\"2em\" fill=\"currentColor\" x=\"410\">PROPN</tspan>\n",
       "</text>\n",
       "\n",
       "<text class=\"displacy-token\" fill=\"currentColor\" text-anchor=\"middle\" y=\"202.0\">\n",
       "    <tspan class=\"displacy-word\" fill=\"currentColor\" x=\"500\">user</tspan>\n",
       "    <tspan class=\"displacy-tag\" dy=\"2em\" fill=\"currentColor\" x=\"500\">NOUN</tspan>\n",
       "</text>\n",
       "\n",
       "<text class=\"displacy-token\" fill=\"currentColor\" text-anchor=\"middle\" y=\"202.0\">\n",
       "    <tspan class=\"displacy-word\" fill=\"currentColor\" x=\"590\">since</tspan>\n",
       "    <tspan class=\"displacy-tag\" dy=\"2em\" fill=\"currentColor\" x=\"590\">ADP</tspan>\n",
       "</text>\n",
       "\n",
       "<text class=\"displacy-token\" fill=\"currentColor\" text-anchor=\"middle\" y=\"202.0\">\n",
       "    <tspan class=\"displacy-word\" fill=\"currentColor\" x=\"680\">the</tspan>\n",
       "    <tspan class=\"displacy-tag\" dy=\"2em\" fill=\"currentColor\" x=\"680\">DET</tspan>\n",
       "</text>\n",
       "\n",
       "<text class=\"displacy-token\" fill=\"currentColor\" text-anchor=\"middle\" y=\"202.0\">\n",
       "    <tspan class=\"displacy-word\" fill=\"currentColor\" x=\"770\">original</tspan>\n",
       "    <tspan class=\"displacy-tag\" dy=\"2em\" fill=\"currentColor\" x=\"770\">NOUN</tspan>\n",
       "</text>\n",
       "\n",
       "<text class=\"displacy-token\" fill=\"currentColor\" text-anchor=\"middle\" y=\"202.0\">\n",
       "    <tspan class=\"displacy-word\" fill=\"currentColor\" x=\"860\">came</tspan>\n",
       "    <tspan class=\"displacy-tag\" dy=\"2em\" fill=\"currentColor\" x=\"860\">VERB</tspan>\n",
       "</text>\n",
       "\n",
       "<text class=\"displacy-token\" fill=\"currentColor\" text-anchor=\"middle\" y=\"202.0\">\n",
       "    <tspan class=\"displacy-word\" fill=\"currentColor\" x=\"950\">out</tspan>\n",
       "    <tspan class=\"displacy-tag\" dy=\"2em\" fill=\"currentColor\" x=\"950\">PART</tspan>\n",
       "</text>\n",
       "\n",
       "<g class=\"displacy-arrow\">\n",
       "    <path class=\"displacy-arc\" id=\"arrow-0-0\" stroke-width=\"2px\" d=\"M60,182.0 C60,92.0 225.0,92.0 225.0,182.0\" fill=\"none\" stroke=\"currentColor\"/>\n",
       "    <text dy=\"1.25em\" style=\"font-size: 0.8em; letter-spacing: 1px\">\n",
       "        <textPath xlink:href=\"#arrow-0-0\" class=\"displacy-label\" startOffset=\"50%\" fill=\"currentColor\" text-anchor=\"middle\">nsubj</textPath>\n",
       "    </text>\n",
       "    <path class=\"displacy-arrowhead\" d=\"M60,184.0 L57,177.0 63,177.0\" fill=\"currentColor\"/>\n",
       "</g>\n",
       "\n",
       "<g class=\"displacy-arrow\">\n",
       "    <path class=\"displacy-arc\" id=\"arrow-0-1\" stroke-width=\"2px\" d=\"M150,182.0 C150,137.0 222.5,137.0 222.5,182.0\" fill=\"none\" stroke=\"currentColor\"/>\n",
       "    <text dy=\"1.25em\" style=\"font-size: 0.8em; letter-spacing: 1px\">\n",
       "        <textPath xlink:href=\"#arrow-0-1\" class=\"displacy-label\" startOffset=\"50%\" fill=\"currentColor\" text-anchor=\"middle\">aux</textPath>\n",
       "    </text>\n",
       "    <path class=\"displacy-arrowhead\" d=\"M150,184.0 L147,177.0 153,177.0\" fill=\"currentColor\"/>\n",
       "</g>\n",
       "\n",
       "<g class=\"displacy-arrow\">\n",
       "    <path class=\"displacy-arc\" id=\"arrow-0-2\" stroke-width=\"2px\" d=\"M330,182.0 C330,92.0 495.0,92.0 495.0,182.0\" fill=\"none\" stroke=\"currentColor\"/>\n",
       "    <text dy=\"1.25em\" style=\"font-size: 0.8em; letter-spacing: 1px\">\n",
       "        <textPath xlink:href=\"#arrow-0-2\" class=\"displacy-label\" startOffset=\"50%\" fill=\"currentColor\" text-anchor=\"middle\">det</textPath>\n",
       "    </text>\n",
       "    <path class=\"displacy-arrowhead\" d=\"M330,184.0 L327,177.0 333,177.0\" fill=\"currentColor\"/>\n",
       "</g>\n",
       "\n",
       "<g class=\"displacy-arrow\">\n",
       "    <path class=\"displacy-arc\" id=\"arrow-0-3\" stroke-width=\"2px\" d=\"M420,182.0 C420,137.0 492.5,137.0 492.5,182.0\" fill=\"none\" stroke=\"currentColor\"/>\n",
       "    <text dy=\"1.25em\" style=\"font-size: 0.8em; letter-spacing: 1px\">\n",
       "        <textPath xlink:href=\"#arrow-0-3\" class=\"displacy-label\" startOffset=\"50%\" fill=\"currentColor\" text-anchor=\"middle\">compound</textPath>\n",
       "    </text>\n",
       "    <path class=\"displacy-arrowhead\" d=\"M420,184.0 L417,177.0 423,177.0\" fill=\"currentColor\"/>\n",
       "</g>\n",
       "\n",
       "<g class=\"displacy-arrow\">\n",
       "    <path class=\"displacy-arc\" id=\"arrow-0-4\" stroke-width=\"2px\" d=\"M240,182.0 C240,47.0 497.5,47.0 497.5,182.0\" fill=\"none\" stroke=\"currentColor\"/>\n",
       "    <text dy=\"1.25em\" style=\"font-size: 0.8em; letter-spacing: 1px\">\n",
       "        <textPath xlink:href=\"#arrow-0-4\" class=\"displacy-label\" startOffset=\"50%\" fill=\"currentColor\" text-anchor=\"middle\">attr</textPath>\n",
       "    </text>\n",
       "    <path class=\"displacy-arrowhead\" d=\"M497.5,184.0 L500.5,177.0 494.5,177.0\" fill=\"currentColor\"/>\n",
       "</g>\n",
       "\n",
       "<g class=\"displacy-arrow\">\n",
       "    <path class=\"displacy-arc\" id=\"arrow-0-5\" stroke-width=\"2px\" d=\"M600,182.0 C600,47.0 857.5,47.0 857.5,182.0\" fill=\"none\" stroke=\"currentColor\"/>\n",
       "    <text dy=\"1.25em\" style=\"font-size: 0.8em; letter-spacing: 1px\">\n",
       "        <textPath xlink:href=\"#arrow-0-5\" class=\"displacy-label\" startOffset=\"50%\" fill=\"currentColor\" text-anchor=\"middle\">mark</textPath>\n",
       "    </text>\n",
       "    <path class=\"displacy-arrowhead\" d=\"M600,184.0 L597,177.0 603,177.0\" fill=\"currentColor\"/>\n",
       "</g>\n",
       "\n",
       "<g class=\"displacy-arrow\">\n",
       "    <path class=\"displacy-arc\" id=\"arrow-0-6\" stroke-width=\"2px\" d=\"M690,182.0 C690,137.0 762.5,137.0 762.5,182.0\" fill=\"none\" stroke=\"currentColor\"/>\n",
       "    <text dy=\"1.25em\" style=\"font-size: 0.8em; letter-spacing: 1px\">\n",
       "        <textPath xlink:href=\"#arrow-0-6\" class=\"displacy-label\" startOffset=\"50%\" fill=\"currentColor\" text-anchor=\"middle\">det</textPath>\n",
       "    </text>\n",
       "    <path class=\"displacy-arrowhead\" d=\"M690,184.0 L687,177.0 693,177.0\" fill=\"currentColor\"/>\n",
       "</g>\n",
       "\n",
       "<g class=\"displacy-arrow\">\n",
       "    <path class=\"displacy-arc\" id=\"arrow-0-7\" stroke-width=\"2px\" d=\"M780,182.0 C780,137.0 852.5,137.0 852.5,182.0\" fill=\"none\" stroke=\"currentColor\"/>\n",
       "    <text dy=\"1.25em\" style=\"font-size: 0.8em; letter-spacing: 1px\">\n",
       "        <textPath xlink:href=\"#arrow-0-7\" class=\"displacy-label\" startOffset=\"50%\" fill=\"currentColor\" text-anchor=\"middle\">nsubj</textPath>\n",
       "    </text>\n",
       "    <path class=\"displacy-arrowhead\" d=\"M780,184.0 L777,177.0 783,177.0\" fill=\"currentColor\"/>\n",
       "</g>\n",
       "\n",
       "<g class=\"displacy-arrow\">\n",
       "    <path class=\"displacy-arc\" id=\"arrow-0-8\" stroke-width=\"2px\" d=\"M240,182.0 C240,2.0 860.0,2.0 860.0,182.0\" fill=\"none\" stroke=\"currentColor\"/>\n",
       "    <text dy=\"1.25em\" style=\"font-size: 0.8em; letter-spacing: 1px\">\n",
       "        <textPath xlink:href=\"#arrow-0-8\" class=\"displacy-label\" startOffset=\"50%\" fill=\"currentColor\" text-anchor=\"middle\">advcl</textPath>\n",
       "    </text>\n",
       "    <path class=\"displacy-arrowhead\" d=\"M860.0,184.0 L863.0,177.0 857.0,177.0\" fill=\"currentColor\"/>\n",
       "</g>\n",
       "\n",
       "<g class=\"displacy-arrow\">\n",
       "    <path class=\"displacy-arc\" id=\"arrow-0-9\" stroke-width=\"2px\" d=\"M870,182.0 C870,137.0 942.5,137.0 942.5,182.0\" fill=\"none\" stroke=\"currentColor\"/>\n",
       "    <text dy=\"1.25em\" style=\"font-size: 0.8em; letter-spacing: 1px\">\n",
       "        <textPath xlink:href=\"#arrow-0-9\" class=\"displacy-label\" startOffset=\"50%\" fill=\"currentColor\" text-anchor=\"middle\">prt</textPath>\n",
       "    </text>\n",
       "    <path class=\"displacy-arrowhead\" d=\"M942.5,184.0 L945.5,177.0 939.5,177.0\" fill=\"currentColor\"/>\n",
       "</g>\n",
       "</svg>"
      ],
      "text/plain": [
       "<IPython.core.display.HTML object>"
      ]
     },
     "metadata": {},
     "output_type": "display_data"
    },
    {
     "data": {
      "text/html": [
       "<svg xmlns=\"http://www.w3.org/2000/svg\" xmlns:xlink=\"http://www.w3.org/1999/xlink\" id=\"0\" class=\"displacy\" width=\"680\" height=\"152.0\" style=\"max-width: none; height: 152.0px; color: #000000; background: #ffffff; font-family: Arial\">\n",
       "<text class=\"displacy-token\" fill=\"currentColor\" text-anchor=\"middle\" y=\"112.0\">\n",
       "    <tspan class=\"displacy-word\" fill=\"currentColor\" x=\"50\"> </tspan>\n",
       "    <tspan class=\"displacy-tag\" dy=\"2em\" fill=\"currentColor\" x=\"50\"></tspan>\n",
       "</text>\n",
       "\n",
       "<text class=\"displacy-token\" fill=\"currentColor\" text-anchor=\"middle\" y=\"112.0\">\n",
       "    <tspan class=\"displacy-word\" fill=\"currentColor\" x=\"140\">I</tspan>\n",
       "    <tspan class=\"displacy-tag\" dy=\"2em\" fill=\"currentColor\" x=\"140\">PRON</tspan>\n",
       "</text>\n",
       "\n",
       "<text class=\"displacy-token\" fill=\"currentColor\" text-anchor=\"middle\" y=\"112.0\">\n",
       "    <tspan class=\"displacy-word\" fill=\"currentColor\" x=\"230\">also</tspan>\n",
       "    <tspan class=\"displacy-tag\" dy=\"2em\" fill=\"currentColor\" x=\"230\">ADV</tspan>\n",
       "</text>\n",
       "\n",
       "<text class=\"displacy-token\" fill=\"currentColor\" text-anchor=\"middle\" y=\"112.0\">\n",
       "    <tspan class=\"displacy-word\" fill=\"currentColor\" x=\"320\">have</tspan>\n",
       "    <tspan class=\"displacy-tag\" dy=\"2em\" fill=\"currentColor\" x=\"320\">VERB</tspan>\n",
       "</text>\n",
       "\n",
       "<text class=\"displacy-token\" fill=\"currentColor\" text-anchor=\"middle\" y=\"112.0\">\n",
       "    <tspan class=\"displacy-word\" fill=\"currentColor\" x=\"410\">an</tspan>\n",
       "    <tspan class=\"displacy-tag\" dy=\"2em\" fill=\"currentColor\" x=\"410\">DET</tspan>\n",
       "</text>\n",
       "\n",
       "<text class=\"displacy-token\" fill=\"currentColor\" text-anchor=\"middle\" y=\"112.0\">\n",
       "    <tspan class=\"displacy-word\" fill=\"currentColor\" x=\"500\">iPad</tspan>\n",
       "    <tspan class=\"displacy-tag\" dy=\"2em\" fill=\"currentColor\" x=\"500\">NOUN</tspan>\n",
       "</text>\n",
       "\n",
       "<text class=\"displacy-token\" fill=\"currentColor\" text-anchor=\"middle\" y=\"112.0\">\n",
       "    <tspan class=\"displacy-word\" fill=\"currentColor\" x=\"590\">3</tspan>\n",
       "    <tspan class=\"displacy-tag\" dy=\"2em\" fill=\"currentColor\" x=\"590\">NUM</tspan>\n",
       "</text>\n",
       "\n",
       "<g class=\"displacy-arrow\">\n",
       "    <path class=\"displacy-arc\" id=\"arrow-0-0\" stroke-width=\"2px\" d=\"M60,92.0 C60,47.0 137.5,47.0 137.5,92.0\" fill=\"none\" stroke=\"currentColor\"/>\n",
       "    <text dy=\"1.25em\" style=\"font-size: 0.8em; letter-spacing: 1px\">\n",
       "        <textPath xlink:href=\"#arrow-0-0\" class=\"displacy-label\" startOffset=\"50%\" fill=\"currentColor\" text-anchor=\"middle\"></textPath>\n",
       "    </text>\n",
       "    <path class=\"displacy-arrowhead\" d=\"M60,94.0 L57,87.0 63,87.0\" fill=\"currentColor\"/>\n",
       "</g>\n",
       "\n",
       "<g class=\"displacy-arrow\">\n",
       "    <path class=\"displacy-arc\" id=\"arrow-0-1\" stroke-width=\"2px\" d=\"M150,92.0 C150,2.0 320.0,2.0 320.0,92.0\" fill=\"none\" stroke=\"currentColor\"/>\n",
       "    <text dy=\"1.25em\" style=\"font-size: 0.8em; letter-spacing: 1px\">\n",
       "        <textPath xlink:href=\"#arrow-0-1\" class=\"displacy-label\" startOffset=\"50%\" fill=\"currentColor\" text-anchor=\"middle\">nsubj</textPath>\n",
       "    </text>\n",
       "    <path class=\"displacy-arrowhead\" d=\"M150,94.0 L147,87.0 153,87.0\" fill=\"currentColor\"/>\n",
       "</g>\n",
       "\n",
       "<g class=\"displacy-arrow\">\n",
       "    <path class=\"displacy-arc\" id=\"arrow-0-2\" stroke-width=\"2px\" d=\"M240,92.0 C240,47.0 317.5,47.0 317.5,92.0\" fill=\"none\" stroke=\"currentColor\"/>\n",
       "    <text dy=\"1.25em\" style=\"font-size: 0.8em; letter-spacing: 1px\">\n",
       "        <textPath xlink:href=\"#arrow-0-2\" class=\"displacy-label\" startOffset=\"50%\" fill=\"currentColor\" text-anchor=\"middle\">advmod</textPath>\n",
       "    </text>\n",
       "    <path class=\"displacy-arrowhead\" d=\"M240,94.0 L237,87.0 243,87.0\" fill=\"currentColor\"/>\n",
       "</g>\n",
       "\n",
       "<g class=\"displacy-arrow\">\n",
       "    <path class=\"displacy-arc\" id=\"arrow-0-3\" stroke-width=\"2px\" d=\"M420,92.0 C420,47.0 497.5,47.0 497.5,92.0\" fill=\"none\" stroke=\"currentColor\"/>\n",
       "    <text dy=\"1.25em\" style=\"font-size: 0.8em; letter-spacing: 1px\">\n",
       "        <textPath xlink:href=\"#arrow-0-3\" class=\"displacy-label\" startOffset=\"50%\" fill=\"currentColor\" text-anchor=\"middle\">det</textPath>\n",
       "    </text>\n",
       "    <path class=\"displacy-arrowhead\" d=\"M420,94.0 L417,87.0 423,87.0\" fill=\"currentColor\"/>\n",
       "</g>\n",
       "\n",
       "<g class=\"displacy-arrow\">\n",
       "    <path class=\"displacy-arc\" id=\"arrow-0-4\" stroke-width=\"2px\" d=\"M330,92.0 C330,2.0 500.0,2.0 500.0,92.0\" fill=\"none\" stroke=\"currentColor\"/>\n",
       "    <text dy=\"1.25em\" style=\"font-size: 0.8em; letter-spacing: 1px\">\n",
       "        <textPath xlink:href=\"#arrow-0-4\" class=\"displacy-label\" startOffset=\"50%\" fill=\"currentColor\" text-anchor=\"middle\">dobj</textPath>\n",
       "    </text>\n",
       "    <path class=\"displacy-arrowhead\" d=\"M500.0,94.0 L503.0,87.0 497.0,87.0\" fill=\"currentColor\"/>\n",
       "</g>\n",
       "\n",
       "<g class=\"displacy-arrow\">\n",
       "    <path class=\"displacy-arc\" id=\"arrow-0-5\" stroke-width=\"2px\" d=\"M510,92.0 C510,47.0 587.5,47.0 587.5,92.0\" fill=\"none\" stroke=\"currentColor\"/>\n",
       "    <text dy=\"1.25em\" style=\"font-size: 0.8em; letter-spacing: 1px\">\n",
       "        <textPath xlink:href=\"#arrow-0-5\" class=\"displacy-label\" startOffset=\"50%\" fill=\"currentColor\" text-anchor=\"middle\">appos</textPath>\n",
       "    </text>\n",
       "    <path class=\"displacy-arrowhead\" d=\"M587.5,94.0 L590.5,87.0 584.5,87.0\" fill=\"currentColor\"/>\n",
       "</g>\n",
       "</svg>"
      ],
      "text/plain": [
       "<IPython.core.display.HTML object>"
      ]
     },
     "metadata": {},
     "output_type": "display_data"
    },
    {
     "data": {
      "text/html": [
       "<svg xmlns=\"http://www.w3.org/2000/svg\" xmlns:xlink=\"http://www.w3.org/1999/xlink\" id=\"0\" class=\"displacy\" width=\"2300\" height=\"242.0\" style=\"max-width: none; height: 242.0px; color: #000000; background: #ffffff; font-family: Arial\">\n",
       "<text class=\"displacy-token\" fill=\"currentColor\" text-anchor=\"middle\" y=\"202.0\">\n",
       "    <tspan class=\"displacy-word\" fill=\"currentColor\" x=\"50\"> </tspan>\n",
       "    <tspan class=\"displacy-tag\" dy=\"2em\" fill=\"currentColor\" x=\"50\"></tspan>\n",
       "</text>\n",
       "\n",
       "<text class=\"displacy-token\" fill=\"currentColor\" text-anchor=\"middle\" y=\"202.0\">\n",
       "    <tspan class=\"displacy-word\" fill=\"currentColor\" x=\"140\">I</tspan>\n",
       "    <tspan class=\"displacy-tag\" dy=\"2em\" fill=\"currentColor\" x=\"140\">PRON</tspan>\n",
       "</text>\n",
       "\n",
       "<text class=\"displacy-token\" fill=\"currentColor\" text-anchor=\"middle\" y=\"202.0\">\n",
       "    <tspan class=\"displacy-word\" fill=\"currentColor\" x=\"230\">have</tspan>\n",
       "    <tspan class=\"displacy-tag\" dy=\"2em\" fill=\"currentColor\" x=\"230\">VERB</tspan>\n",
       "</text>\n",
       "\n",
       "<text class=\"displacy-token\" fill=\"currentColor\" text-anchor=\"middle\" y=\"202.0\">\n",
       "    <tspan class=\"displacy-word\" fill=\"currentColor\" x=\"320\">worked</tspan>\n",
       "    <tspan class=\"displacy-tag\" dy=\"2em\" fill=\"currentColor\" x=\"320\">VERB</tspan>\n",
       "</text>\n",
       "\n",
       "<text class=\"displacy-token\" fill=\"currentColor\" text-anchor=\"middle\" y=\"202.0\">\n",
       "    <tspan class=\"displacy-word\" fill=\"currentColor\" x=\"410\">in</tspan>\n",
       "    <tspan class=\"displacy-tag\" dy=\"2em\" fill=\"currentColor\" x=\"410\">ADP</tspan>\n",
       "</text>\n",
       "\n",
       "<text class=\"displacy-token\" fill=\"currentColor\" text-anchor=\"middle\" y=\"202.0\">\n",
       "    <tspan class=\"displacy-word\" fill=\"currentColor\" x=\"500\">IT</tspan>\n",
       "    <tspan class=\"displacy-tag\" dy=\"2em\" fill=\"currentColor\" x=\"500\">PROPN</tspan>\n",
       "</text>\n",
       "\n",
       "<text class=\"displacy-token\" fill=\"currentColor\" text-anchor=\"middle\" y=\"202.0\">\n",
       "    <tspan class=\"displacy-word\" fill=\"currentColor\" x=\"590\">for</tspan>\n",
       "    <tspan class=\"displacy-tag\" dy=\"2em\" fill=\"currentColor\" x=\"590\">ADP</tspan>\n",
       "</text>\n",
       "\n",
       "<text class=\"displacy-token\" fill=\"currentColor\" text-anchor=\"middle\" y=\"202.0\">\n",
       "    <tspan class=\"displacy-word\" fill=\"currentColor\" x=\"680\">the</tspan>\n",
       "    <tspan class=\"displacy-tag\" dy=\"2em\" fill=\"currentColor\" x=\"680\">DET</tspan>\n",
       "</text>\n",
       "\n",
       "<text class=\"displacy-token\" fill=\"currentColor\" text-anchor=\"middle\" y=\"202.0\">\n",
       "    <tspan class=\"displacy-word\" fill=\"currentColor\" x=\"770\">past</tspan>\n",
       "    <tspan class=\"displacy-tag\" dy=\"2em\" fill=\"currentColor\" x=\"770\">ADJ</tspan>\n",
       "</text>\n",
       "\n",
       "<text class=\"displacy-token\" fill=\"currentColor\" text-anchor=\"middle\" y=\"202.0\">\n",
       "    <tspan class=\"displacy-word\" fill=\"currentColor\" x=\"860\">few</tspan>\n",
       "    <tspan class=\"displacy-tag\" dy=\"2em\" fill=\"currentColor\" x=\"860\">ADJ</tspan>\n",
       "</text>\n",
       "\n",
       "<text class=\"displacy-token\" fill=\"currentColor\" text-anchor=\"middle\" y=\"202.0\">\n",
       "    <tspan class=\"displacy-word\" fill=\"currentColor\" x=\"950\">years</tspan>\n",
       "    <tspan class=\"displacy-tag\" dy=\"2em\" fill=\"currentColor\" x=\"950\">NOUN</tspan>\n",
       "</text>\n",
       "\n",
       "<text class=\"displacy-token\" fill=\"currentColor\" text-anchor=\"middle\" y=\"202.0\">\n",
       "    <tspan class=\"displacy-word\" fill=\"currentColor\" x=\"1040\">so</tspan>\n",
       "    <tspan class=\"displacy-tag\" dy=\"2em\" fill=\"currentColor\" x=\"1040\">ADP</tspan>\n",
       "</text>\n",
       "\n",
       "<text class=\"displacy-token\" fill=\"currentColor\" text-anchor=\"middle\" y=\"202.0\">\n",
       "    <tspan class=\"displacy-word\" fill=\"currentColor\" x=\"1130\">I</tspan>\n",
       "    <tspan class=\"displacy-tag\" dy=\"2em\" fill=\"currentColor\" x=\"1130\">PRON</tspan>\n",
       "</text>\n",
       "\n",
       "<text class=\"displacy-token\" fill=\"currentColor\" text-anchor=\"middle\" y=\"202.0\">\n",
       "    <tspan class=\"displacy-word\" fill=\"currentColor\" x=\"1220\">would</tspan>\n",
       "    <tspan class=\"displacy-tag\" dy=\"2em\" fill=\"currentColor\" x=\"1220\">VERB</tspan>\n",
       "</text>\n",
       "\n",
       "<text class=\"displacy-token\" fill=\"currentColor\" text-anchor=\"middle\" y=\"202.0\">\n",
       "    <tspan class=\"displacy-word\" fill=\"currentColor\" x=\"1310\">say</tspan>\n",
       "    <tspan class=\"displacy-tag\" dy=\"2em\" fill=\"currentColor\" x=\"1310\">VERB</tspan>\n",
       "</text>\n",
       "\n",
       "<text class=\"displacy-token\" fill=\"currentColor\" text-anchor=\"middle\" y=\"202.0\">\n",
       "    <tspan class=\"displacy-word\" fill=\"currentColor\" x=\"1400\">I</tspan>\n",
       "    <tspan class=\"displacy-tag\" dy=\"2em\" fill=\"currentColor\" x=\"1400\">PRON</tspan>\n",
       "</text>\n",
       "\n",
       "<text class=\"displacy-token\" fill=\"currentColor\" text-anchor=\"middle\" y=\"202.0\">\n",
       "    <tspan class=\"displacy-word\" fill=\"currentColor\" x=\"1490\">am</tspan>\n",
       "    <tspan class=\"displacy-tag\" dy=\"2em\" fill=\"currentColor\" x=\"1490\">VERB</tspan>\n",
       "</text>\n",
       "\n",
       "<text class=\"displacy-token\" fill=\"currentColor\" text-anchor=\"middle\" y=\"202.0\">\n",
       "    <tspan class=\"displacy-word\" fill=\"currentColor\" x=\"1580\">pretty</tspan>\n",
       "    <tspan class=\"displacy-tag\" dy=\"2em\" fill=\"currentColor\" x=\"1580\">ADV</tspan>\n",
       "</text>\n",
       "\n",
       "<text class=\"displacy-token\" fill=\"currentColor\" text-anchor=\"middle\" y=\"202.0\">\n",
       "    <tspan class=\"displacy-word\" fill=\"currentColor\" x=\"1670\">good</tspan>\n",
       "    <tspan class=\"displacy-tag\" dy=\"2em\" fill=\"currentColor\" x=\"1670\">ADJ</tspan>\n",
       "</text>\n",
       "\n",
       "<text class=\"displacy-token\" fill=\"currentColor\" text-anchor=\"middle\" y=\"202.0\">\n",
       "    <tspan class=\"displacy-word\" fill=\"currentColor\" x=\"1760\">with</tspan>\n",
       "    <tspan class=\"displacy-tag\" dy=\"2em\" fill=\"currentColor\" x=\"1760\">ADP</tspan>\n",
       "</text>\n",
       "\n",
       "<text class=\"displacy-token\" fill=\"currentColor\" text-anchor=\"middle\" y=\"202.0\">\n",
       "    <tspan class=\"displacy-word\" fill=\"currentColor\" x=\"1850\">technology</tspan>\n",
       "    <tspan class=\"displacy-tag\" dy=\"2em\" fill=\"currentColor\" x=\"1850\">NOUN</tspan>\n",
       "</text>\n",
       "\n",
       "<text class=\"displacy-token\" fill=\"currentColor\" text-anchor=\"middle\" y=\"202.0\">\n",
       "    <tspan class=\"displacy-word\" fill=\"currentColor\" x=\"1940\">and</tspan>\n",
       "    <tspan class=\"displacy-tag\" dy=\"2em\" fill=\"currentColor\" x=\"1940\">CCONJ</tspan>\n",
       "</text>\n",
       "\n",
       "<text class=\"displacy-token\" fill=\"currentColor\" text-anchor=\"middle\" y=\"202.0\">\n",
       "    <tspan class=\"displacy-word\" fill=\"currentColor\" x=\"2030\">fancy</tspan>\n",
       "    <tspan class=\"displacy-tag\" dy=\"2em\" fill=\"currentColor\" x=\"2030\">ADJ</tspan>\n",
       "</text>\n",
       "\n",
       "<text class=\"displacy-token\" fill=\"currentColor\" text-anchor=\"middle\" y=\"202.0\">\n",
       "    <tspan class=\"displacy-word\" fill=\"currentColor\" x=\"2120\">new</tspan>\n",
       "    <tspan class=\"displacy-tag\" dy=\"2em\" fill=\"currentColor\" x=\"2120\">ADJ</tspan>\n",
       "</text>\n",
       "\n",
       "<text class=\"displacy-token\" fill=\"currentColor\" text-anchor=\"middle\" y=\"202.0\">\n",
       "    <tspan class=\"displacy-word\" fill=\"currentColor\" x=\"2210\">devices</tspan>\n",
       "    <tspan class=\"displacy-tag\" dy=\"2em\" fill=\"currentColor\" x=\"2210\">NOUN</tspan>\n",
       "</text>\n",
       "\n",
       "<g class=\"displacy-arrow\">\n",
       "    <path class=\"displacy-arc\" id=\"arrow-0-0\" stroke-width=\"2px\" d=\"M60,182.0 C60,137.0 132.5,137.0 132.5,182.0\" fill=\"none\" stroke=\"currentColor\"/>\n",
       "    <text dy=\"1.25em\" style=\"font-size: 0.8em; letter-spacing: 1px\">\n",
       "        <textPath xlink:href=\"#arrow-0-0\" class=\"displacy-label\" startOffset=\"50%\" fill=\"currentColor\" text-anchor=\"middle\"></textPath>\n",
       "    </text>\n",
       "    <path class=\"displacy-arrowhead\" d=\"M60,184.0 L57,177.0 63,177.0\" fill=\"currentColor\"/>\n",
       "</g>\n",
       "\n",
       "<g class=\"displacy-arrow\">\n",
       "    <path class=\"displacy-arc\" id=\"arrow-0-1\" stroke-width=\"2px\" d=\"M150,182.0 C150,92.0 315.0,92.0 315.0,182.0\" fill=\"none\" stroke=\"currentColor\"/>\n",
       "    <text dy=\"1.25em\" style=\"font-size: 0.8em; letter-spacing: 1px\">\n",
       "        <textPath xlink:href=\"#arrow-0-1\" class=\"displacy-label\" startOffset=\"50%\" fill=\"currentColor\" text-anchor=\"middle\">nsubj</textPath>\n",
       "    </text>\n",
       "    <path class=\"displacy-arrowhead\" d=\"M150,184.0 L147,177.0 153,177.0\" fill=\"currentColor\"/>\n",
       "</g>\n",
       "\n",
       "<g class=\"displacy-arrow\">\n",
       "    <path class=\"displacy-arc\" id=\"arrow-0-2\" stroke-width=\"2px\" d=\"M240,182.0 C240,137.0 312.5,137.0 312.5,182.0\" fill=\"none\" stroke=\"currentColor\"/>\n",
       "    <text dy=\"1.25em\" style=\"font-size: 0.8em; letter-spacing: 1px\">\n",
       "        <textPath xlink:href=\"#arrow-0-2\" class=\"displacy-label\" startOffset=\"50%\" fill=\"currentColor\" text-anchor=\"middle\">aux</textPath>\n",
       "    </text>\n",
       "    <path class=\"displacy-arrowhead\" d=\"M240,184.0 L237,177.0 243,177.0\" fill=\"currentColor\"/>\n",
       "</g>\n",
       "\n",
       "<g class=\"displacy-arrow\">\n",
       "    <path class=\"displacy-arc\" id=\"arrow-0-3\" stroke-width=\"2px\" d=\"M330,182.0 C330,137.0 402.5,137.0 402.5,182.0\" fill=\"none\" stroke=\"currentColor\"/>\n",
       "    <text dy=\"1.25em\" style=\"font-size: 0.8em; letter-spacing: 1px\">\n",
       "        <textPath xlink:href=\"#arrow-0-3\" class=\"displacy-label\" startOffset=\"50%\" fill=\"currentColor\" text-anchor=\"middle\">prep</textPath>\n",
       "    </text>\n",
       "    <path class=\"displacy-arrowhead\" d=\"M402.5,184.0 L405.5,177.0 399.5,177.0\" fill=\"currentColor\"/>\n",
       "</g>\n",
       "\n",
       "<g class=\"displacy-arrow\">\n",
       "    <path class=\"displacy-arc\" id=\"arrow-0-4\" stroke-width=\"2px\" d=\"M420,182.0 C420,137.0 492.5,137.0 492.5,182.0\" fill=\"none\" stroke=\"currentColor\"/>\n",
       "    <text dy=\"1.25em\" style=\"font-size: 0.8em; letter-spacing: 1px\">\n",
       "        <textPath xlink:href=\"#arrow-0-4\" class=\"displacy-label\" startOffset=\"50%\" fill=\"currentColor\" text-anchor=\"middle\">pobj</textPath>\n",
       "    </text>\n",
       "    <path class=\"displacy-arrowhead\" d=\"M492.5,184.0 L495.5,177.0 489.5,177.0\" fill=\"currentColor\"/>\n",
       "</g>\n",
       "\n",
       "<g class=\"displacy-arrow\">\n",
       "    <path class=\"displacy-arc\" id=\"arrow-0-5\" stroke-width=\"2px\" d=\"M330,182.0 C330,47.0 587.5,47.0 587.5,182.0\" fill=\"none\" stroke=\"currentColor\"/>\n",
       "    <text dy=\"1.25em\" style=\"font-size: 0.8em; letter-spacing: 1px\">\n",
       "        <textPath xlink:href=\"#arrow-0-5\" class=\"displacy-label\" startOffset=\"50%\" fill=\"currentColor\" text-anchor=\"middle\">prep</textPath>\n",
       "    </text>\n",
       "    <path class=\"displacy-arrowhead\" d=\"M587.5,184.0 L590.5,177.0 584.5,177.0\" fill=\"currentColor\"/>\n",
       "</g>\n",
       "\n",
       "<g class=\"displacy-arrow\">\n",
       "    <path class=\"displacy-arc\" id=\"arrow-0-6\" stroke-width=\"2px\" d=\"M690,182.0 C690,47.0 947.5,47.0 947.5,182.0\" fill=\"none\" stroke=\"currentColor\"/>\n",
       "    <text dy=\"1.25em\" style=\"font-size: 0.8em; letter-spacing: 1px\">\n",
       "        <textPath xlink:href=\"#arrow-0-6\" class=\"displacy-label\" startOffset=\"50%\" fill=\"currentColor\" text-anchor=\"middle\">det</textPath>\n",
       "    </text>\n",
       "    <path class=\"displacy-arrowhead\" d=\"M690,184.0 L687,177.0 693,177.0\" fill=\"currentColor\"/>\n",
       "</g>\n",
       "\n",
       "<g class=\"displacy-arrow\">\n",
       "    <path class=\"displacy-arc\" id=\"arrow-0-7\" stroke-width=\"2px\" d=\"M780,182.0 C780,92.0 945.0,92.0 945.0,182.0\" fill=\"none\" stroke=\"currentColor\"/>\n",
       "    <text dy=\"1.25em\" style=\"font-size: 0.8em; letter-spacing: 1px\">\n",
       "        <textPath xlink:href=\"#arrow-0-7\" class=\"displacy-label\" startOffset=\"50%\" fill=\"currentColor\" text-anchor=\"middle\">amod</textPath>\n",
       "    </text>\n",
       "    <path class=\"displacy-arrowhead\" d=\"M780,184.0 L777,177.0 783,177.0\" fill=\"currentColor\"/>\n",
       "</g>\n",
       "\n",
       "<g class=\"displacy-arrow\">\n",
       "    <path class=\"displacy-arc\" id=\"arrow-0-8\" stroke-width=\"2px\" d=\"M870,182.0 C870,137.0 942.5,137.0 942.5,182.0\" fill=\"none\" stroke=\"currentColor\"/>\n",
       "    <text dy=\"1.25em\" style=\"font-size: 0.8em; letter-spacing: 1px\">\n",
       "        <textPath xlink:href=\"#arrow-0-8\" class=\"displacy-label\" startOffset=\"50%\" fill=\"currentColor\" text-anchor=\"middle\">amod</textPath>\n",
       "    </text>\n",
       "    <path class=\"displacy-arrowhead\" d=\"M870,184.0 L867,177.0 873,177.0\" fill=\"currentColor\"/>\n",
       "</g>\n",
       "\n",
       "<g class=\"displacy-arrow\">\n",
       "    <path class=\"displacy-arc\" id=\"arrow-0-9\" stroke-width=\"2px\" d=\"M600,182.0 C600,2.0 950.0,2.0 950.0,182.0\" fill=\"none\" stroke=\"currentColor\"/>\n",
       "    <text dy=\"1.25em\" style=\"font-size: 0.8em; letter-spacing: 1px\">\n",
       "        <textPath xlink:href=\"#arrow-0-9\" class=\"displacy-label\" startOffset=\"50%\" fill=\"currentColor\" text-anchor=\"middle\">pobj</textPath>\n",
       "    </text>\n",
       "    <path class=\"displacy-arrowhead\" d=\"M950.0,184.0 L953.0,177.0 947.0,177.0\" fill=\"currentColor\"/>\n",
       "</g>\n",
       "\n",
       "<g class=\"displacy-arrow\">\n",
       "    <path class=\"displacy-arc\" id=\"arrow-0-10\" stroke-width=\"2px\" d=\"M1050,182.0 C1050,47.0 1307.5,47.0 1307.5,182.0\" fill=\"none\" stroke=\"currentColor\"/>\n",
       "    <text dy=\"1.25em\" style=\"font-size: 0.8em; letter-spacing: 1px\">\n",
       "        <textPath xlink:href=\"#arrow-0-10\" class=\"displacy-label\" startOffset=\"50%\" fill=\"currentColor\" text-anchor=\"middle\">advmod</textPath>\n",
       "    </text>\n",
       "    <path class=\"displacy-arrowhead\" d=\"M1050,184.0 L1047,177.0 1053,177.0\" fill=\"currentColor\"/>\n",
       "</g>\n",
       "\n",
       "<g class=\"displacy-arrow\">\n",
       "    <path class=\"displacy-arc\" id=\"arrow-0-11\" stroke-width=\"2px\" d=\"M1140,182.0 C1140,92.0 1305.0,92.0 1305.0,182.0\" fill=\"none\" stroke=\"currentColor\"/>\n",
       "    <text dy=\"1.25em\" style=\"font-size: 0.8em; letter-spacing: 1px\">\n",
       "        <textPath xlink:href=\"#arrow-0-11\" class=\"displacy-label\" startOffset=\"50%\" fill=\"currentColor\" text-anchor=\"middle\">nsubj</textPath>\n",
       "    </text>\n",
       "    <path class=\"displacy-arrowhead\" d=\"M1140,184.0 L1137,177.0 1143,177.0\" fill=\"currentColor\"/>\n",
       "</g>\n",
       "\n",
       "<g class=\"displacy-arrow\">\n",
       "    <path class=\"displacy-arc\" id=\"arrow-0-12\" stroke-width=\"2px\" d=\"M1230,182.0 C1230,137.0 1302.5,137.0 1302.5,182.0\" fill=\"none\" stroke=\"currentColor\"/>\n",
       "    <text dy=\"1.25em\" style=\"font-size: 0.8em; letter-spacing: 1px\">\n",
       "        <textPath xlink:href=\"#arrow-0-12\" class=\"displacy-label\" startOffset=\"50%\" fill=\"currentColor\" text-anchor=\"middle\">aux</textPath>\n",
       "    </text>\n",
       "    <path class=\"displacy-arrowhead\" d=\"M1230,184.0 L1227,177.0 1233,177.0\" fill=\"currentColor\"/>\n",
       "</g>\n",
       "\n",
       "<g class=\"displacy-arrow\">\n",
       "    <path class=\"displacy-arc\" id=\"arrow-0-13\" stroke-width=\"2px\" d=\"M1410,182.0 C1410,137.0 1482.5,137.0 1482.5,182.0\" fill=\"none\" stroke=\"currentColor\"/>\n",
       "    <text dy=\"1.25em\" style=\"font-size: 0.8em; letter-spacing: 1px\">\n",
       "        <textPath xlink:href=\"#arrow-0-13\" class=\"displacy-label\" startOffset=\"50%\" fill=\"currentColor\" text-anchor=\"middle\">nsubj</textPath>\n",
       "    </text>\n",
       "    <path class=\"displacy-arrowhead\" d=\"M1410,184.0 L1407,177.0 1413,177.0\" fill=\"currentColor\"/>\n",
       "</g>\n",
       "\n",
       "<g class=\"displacy-arrow\">\n",
       "    <path class=\"displacy-arc\" id=\"arrow-0-14\" stroke-width=\"2px\" d=\"M1320,182.0 C1320,92.0 1485.0,92.0 1485.0,182.0\" fill=\"none\" stroke=\"currentColor\"/>\n",
       "    <text dy=\"1.25em\" style=\"font-size: 0.8em; letter-spacing: 1px\">\n",
       "        <textPath xlink:href=\"#arrow-0-14\" class=\"displacy-label\" startOffset=\"50%\" fill=\"currentColor\" text-anchor=\"middle\">ccomp</textPath>\n",
       "    </text>\n",
       "    <path class=\"displacy-arrowhead\" d=\"M1485.0,184.0 L1488.0,177.0 1482.0,177.0\" fill=\"currentColor\"/>\n",
       "</g>\n",
       "\n",
       "<g class=\"displacy-arrow\">\n",
       "    <path class=\"displacy-arc\" id=\"arrow-0-15\" stroke-width=\"2px\" d=\"M1590,182.0 C1590,137.0 1662.5,137.0 1662.5,182.0\" fill=\"none\" stroke=\"currentColor\"/>\n",
       "    <text dy=\"1.25em\" style=\"font-size: 0.8em; letter-spacing: 1px\">\n",
       "        <textPath xlink:href=\"#arrow-0-15\" class=\"displacy-label\" startOffset=\"50%\" fill=\"currentColor\" text-anchor=\"middle\">advmod</textPath>\n",
       "    </text>\n",
       "    <path class=\"displacy-arrowhead\" d=\"M1590,184.0 L1587,177.0 1593,177.0\" fill=\"currentColor\"/>\n",
       "</g>\n",
       "\n",
       "<g class=\"displacy-arrow\">\n",
       "    <path class=\"displacy-arc\" id=\"arrow-0-16\" stroke-width=\"2px\" d=\"M1500,182.0 C1500,92.0 1665.0,92.0 1665.0,182.0\" fill=\"none\" stroke=\"currentColor\"/>\n",
       "    <text dy=\"1.25em\" style=\"font-size: 0.8em; letter-spacing: 1px\">\n",
       "        <textPath xlink:href=\"#arrow-0-16\" class=\"displacy-label\" startOffset=\"50%\" fill=\"currentColor\" text-anchor=\"middle\">acomp</textPath>\n",
       "    </text>\n",
       "    <path class=\"displacy-arrowhead\" d=\"M1665.0,184.0 L1668.0,177.0 1662.0,177.0\" fill=\"currentColor\"/>\n",
       "</g>\n",
       "\n",
       "<g class=\"displacy-arrow\">\n",
       "    <path class=\"displacy-arc\" id=\"arrow-0-17\" stroke-width=\"2px\" d=\"M1680,182.0 C1680,137.0 1752.5,137.0 1752.5,182.0\" fill=\"none\" stroke=\"currentColor\"/>\n",
       "    <text dy=\"1.25em\" style=\"font-size: 0.8em; letter-spacing: 1px\">\n",
       "        <textPath xlink:href=\"#arrow-0-17\" class=\"displacy-label\" startOffset=\"50%\" fill=\"currentColor\" text-anchor=\"middle\">prep</textPath>\n",
       "    </text>\n",
       "    <path class=\"displacy-arrowhead\" d=\"M1752.5,184.0 L1755.5,177.0 1749.5,177.0\" fill=\"currentColor\"/>\n",
       "</g>\n",
       "\n",
       "<g class=\"displacy-arrow\">\n",
       "    <path class=\"displacy-arc\" id=\"arrow-0-18\" stroke-width=\"2px\" d=\"M1770,182.0 C1770,137.0 1842.5,137.0 1842.5,182.0\" fill=\"none\" stroke=\"currentColor\"/>\n",
       "    <text dy=\"1.25em\" style=\"font-size: 0.8em; letter-spacing: 1px\">\n",
       "        <textPath xlink:href=\"#arrow-0-18\" class=\"displacy-label\" startOffset=\"50%\" fill=\"currentColor\" text-anchor=\"middle\">pobj</textPath>\n",
       "    </text>\n",
       "    <path class=\"displacy-arrowhead\" d=\"M1842.5,184.0 L1845.5,177.0 1839.5,177.0\" fill=\"currentColor\"/>\n",
       "</g>\n",
       "\n",
       "<g class=\"displacy-arrow\">\n",
       "    <path class=\"displacy-arc\" id=\"arrow-0-19\" stroke-width=\"2px\" d=\"M1860,182.0 C1860,137.0 1932.5,137.0 1932.5,182.0\" fill=\"none\" stroke=\"currentColor\"/>\n",
       "    <text dy=\"1.25em\" style=\"font-size: 0.8em; letter-spacing: 1px\">\n",
       "        <textPath xlink:href=\"#arrow-0-19\" class=\"displacy-label\" startOffset=\"50%\" fill=\"currentColor\" text-anchor=\"middle\">cc</textPath>\n",
       "    </text>\n",
       "    <path class=\"displacy-arrowhead\" d=\"M1932.5,184.0 L1935.5,177.0 1929.5,177.0\" fill=\"currentColor\"/>\n",
       "</g>\n",
       "\n",
       "<g class=\"displacy-arrow\">\n",
       "    <path class=\"displacy-arc\" id=\"arrow-0-20\" stroke-width=\"2px\" d=\"M1860,182.0 C1860,92.0 2025.0,92.0 2025.0,182.0\" fill=\"none\" stroke=\"currentColor\"/>\n",
       "    <text dy=\"1.25em\" style=\"font-size: 0.8em; letter-spacing: 1px\">\n",
       "        <textPath xlink:href=\"#arrow-0-20\" class=\"displacy-label\" startOffset=\"50%\" fill=\"currentColor\" text-anchor=\"middle\">conj</textPath>\n",
       "    </text>\n",
       "    <path class=\"displacy-arrowhead\" d=\"M2025.0,184.0 L2028.0,177.0 2022.0,177.0\" fill=\"currentColor\"/>\n",
       "</g>\n",
       "\n",
       "<g class=\"displacy-arrow\">\n",
       "    <path class=\"displacy-arc\" id=\"arrow-0-21\" stroke-width=\"2px\" d=\"M2130,182.0 C2130,137.0 2202.5,137.0 2202.5,182.0\" fill=\"none\" stroke=\"currentColor\"/>\n",
       "    <text dy=\"1.25em\" style=\"font-size: 0.8em; letter-spacing: 1px\">\n",
       "        <textPath xlink:href=\"#arrow-0-21\" class=\"displacy-label\" startOffset=\"50%\" fill=\"currentColor\" text-anchor=\"middle\">amod</textPath>\n",
       "    </text>\n",
       "    <path class=\"displacy-arrowhead\" d=\"M2130,184.0 L2127,177.0 2133,177.0\" fill=\"currentColor\"/>\n",
       "</g>\n",
       "\n",
       "<g class=\"displacy-arrow\">\n",
       "    <path class=\"displacy-arc\" id=\"arrow-0-22\" stroke-width=\"2px\" d=\"M1860,182.0 C1860,2.0 2210.0,2.0 2210.0,182.0\" fill=\"none\" stroke=\"currentColor\"/>\n",
       "    <text dy=\"1.25em\" style=\"font-size: 0.8em; letter-spacing: 1px\">\n",
       "        <textPath xlink:href=\"#arrow-0-22\" class=\"displacy-label\" startOffset=\"50%\" fill=\"currentColor\" text-anchor=\"middle\">conj</textPath>\n",
       "    </text>\n",
       "    <path class=\"displacy-arrowhead\" d=\"M2210.0,184.0 L2213.0,177.0 2207.0,177.0\" fill=\"currentColor\"/>\n",
       "</g>\n",
       "</svg>"
      ],
      "text/plain": [
       "<IPython.core.display.HTML object>"
      ]
     },
     "metadata": {},
     "output_type": "display_data"
    }
   ],
   "source": [
    "def ner_displacy(sentence):\n",
    "    ner_sentence = ner(sentence)\n",
    "    displacy.render(ner_sentence, jupyter=True, \\\n",
    "                    options={\"compact\": False, \\\n",
    "                             \"distance\": 90, \\\n",
    "                             \"word_spacing\":20, \\\n",
    "                             \"arrow_spacing\":10, \\\n",
    "                             \"arrow_stroke\": 2, \\\n",
    "                             \"arrow_width\": 5})\n",
    "\n",
    "for sentence in most_helpful_text.split(\".\")[0:3]:\n",
    "    ner_displacy(sentence)"
   ]
  },
  {
   "cell_type": "markdown",
   "metadata": {},
   "source": [
    "## Topic Modeling ##\n"
   ]
  },
  {
   "cell_type": "markdown",
   "metadata": {},
   "source": [
    "Because Latent Dirichlet Allocation (*LDA*) can cluster documents together according to topic, the reviews can be classified and grouped according to the type of electronics product they correspond to. The product reviews will have weights assigned to each of the topic, and the topics themselves will have weights on every token. As it is a clustering-based model, LDA is unsupervised and only the `num_topics` is configurable.\n",
    "\n",
    "The following are the top five words that are salient to the first group of product reviews."
   ]
  },
  {
   "cell_type": "code",
   "execution_count": 70,
   "metadata": {},
   "outputs": [
    {
     "name": "stdout",
     "output_type": "stream",
     "text": [
      "get 0.011734774\n",
      "work 0.011198829\n",
      "use 0.0095958505\n",
      "router 0.009158912\n",
      "device 0.008855804\n",
      "Wall time: 1h 6min 17s\n"
     ]
    }
   ],
   "source": [
    "%%time\n",
    "import multiprocessing\n",
    "\n",
    "from gensim.models.ldamulticore import LdaMulticore\n",
    "\n",
    "cores = multiprocessing.cpu_count()\n",
    "\n",
    "num_topics = 10\n",
    "bow_lda = LdaMulticore(bow, num_topics=num_topics, id2word=vocabulary, \\\n",
    "                       passes=5, workers=cores, random_state=42)\n",
    "\n",
    "for token, frequency in bow_lda.show_topic(0, topn=5):\n",
    "    print(token, frequency)"
   ]
  },
  {
   "cell_type": "markdown",
   "metadata": {},
   "source": [
    "The words that are the most characteristic of the topics are indeed thematic. And each word group do conjure a distinct topic."
   ]
  },
  {
   "cell_type": "code",
   "execution_count": 75,
   "metadata": {},
   "outputs": [
    {
     "name": "stdout",
     "output_type": "stream",
     "text": [
      "Topic 1:\n",
      " get, 0.011734774336218834\n",
      " work, 0.011198828928172588\n",
      " use, 0.009595850482583046\n",
      " router, 0.009158912114799023\n",
      " device, 0.008855803869664669\n",
      "Topic 2:\n",
      " sound, 0.034996841102838516\n",
      " speaker, 0.0209796279668808\n",
      " good, 0.015011309646070004\n",
      " headphone, 0.013791842386126518\n",
      " quality, 0.011160140857100487\n",
      "Topic 3:\n",
      " lens, 0.03160819783806801\n",
      " bag, 0.018301470205187798\n",
      " camera, 0.014126963913440704\n",
      " use, 0.01146912481635809\n",
      " strap, 0.008649271912872791\n",
      "Topic 4:\n",
      " cable, 0.031109070405364037\n",
      " work, 0.02897009812295437\n",
      " usb, 0.025115681812167168\n",
      " drive, 0.023603621870279312\n",
      " great, 0.017832685261964798\n",
      "Topic 5:\n",
      " case, 0.03297600895166397\n",
      " cover, 0.012749520130455494\n",
      " screen, 0.011409485712647438\n",
      " like, 0.011152341961860657\n",
      " ipad, 0.010687867179512978\n",
      "Topic 6:\n",
      " battery, 0.02778122015297413\n",
      " charge, 0.025451648980379105\n",
      " use, 0.017372693866491318\n",
      " phone, 0.016959380358457565\n",
      " one, 0.01309022307395935\n",
      "Topic 7:\n",
      " camera, 0.0475146621465683\n",
      " use, 0.01570322923362255\n",
      " picture, 0.012167769484221935\n",
      " take, 0.011743015609681606\n",
      " video, 0.011700318194925785\n",
      "Topic 8:\n",
      " card, 0.03473054617643356\n",
      " drive, 0.01358714234083891\n",
      " fan, 0.010703792795538902\n",
      " run, 0.0096812155097723\n",
      " memory, 0.009252899326384068\n",
      "Topic 9:\n",
      " use, 0.023249300196766853\n",
      " keyboard, 0.02211669646203518\n",
      " tablet, 0.015327784232795238\n",
      " mouse, 0.011338042095303535\n",
      " like, 0.01100770290941\n",
      "Topic 10:\n",
      " tv, 0.029768439009785652\n",
      " remote, 0.011976256966590881\n",
      " use, 0.010298002511262894\n",
      " get, 0.009141155518591404\n",
      " watch, 0.008147124201059341\n"
     ]
    }
   ],
   "source": [
    "for topic in range(0, num_topics):\n",
    "    print(f\"Topic {topic+1}:\")\n",
    "    for token, frequency in bow_lda.show_topic(topic, topn=5):\n",
    "        print(f\" {token}, {frequency}\")"
   ]
  },
  {
   "cell_type": "markdown",
   "metadata": {},
   "source": [
    "Using *pyLDAvis*, we can interactively explore the words associated with the topics derived by LDA. The Intertopic Distance Map shows how some product reviews in one topic converge with others due to similarity. If needed, we can adjust the `num-topics` accordingly to cluster together topic intersections so a more evident decision boundary between classes can be established."
   ]
  },
  {
   "cell_type": "code",
   "execution_count": 74,
   "metadata": {},
   "outputs": [
    {
     "data": {
      "text/html": [
       "\n",
       "<link rel=\"stylesheet\" type=\"text/css\" href=\"https://cdn.rawgit.com/bmabey/pyLDAvis/files/ldavis.v1.0.0.css\">\n",
       "\n",
       "\n",
       "<div id=\"ldavis_el1606030585833872565229617695\"></div>\n",
       "<script type=\"text/javascript\">\n",
       "\n",
       "var ldavis_el1606030585833872565229617695_data = {\"mdsDat\": {\"x\": [-0.10349523235649938, 0.11935986435816488, 0.0512191507509166, -0.03608086318360465, -0.05564612994009097, 0.005984515298418765, 0.04855664426445531, 0.007717721235684542, -0.18622545833420162, 0.14860978790675636], \"y\": [0.06429588201323967, 0.010037369869323373, 0.02674768155927724, 0.07128333565659563, 0.047699459210540196, 0.09415110075808575, -0.06751651447589861, 0.017453997298782293, -0.15275679726367752, -0.11139551462626775], \"topics\": [1, 2, 3, 4, 5, 6, 7, 8, 9, 10], \"cluster\": [1, 1, 1, 1, 1, 1, 1, 1, 1, 1], \"Freq\": [14.860810279846191, 12.714305877685547, 11.861117362976074, 10.265796661376953, 9.85591983795166, 9.629683494567871, 9.38902759552002, 9.186336517333984, 6.285892963409424, 5.951113224029541]}, \"tinfo\": {\"Category\": [\"Default\", \"Default\", \"Default\", \"Default\", \"Default\", \"Default\", \"Default\", \"Default\", \"Default\", \"Default\", \"Default\", \"Default\", \"Default\", \"Default\", \"Default\", \"Default\", \"Default\", \"Default\", \"Default\", \"Default\", \"Default\", \"Default\", \"Default\", \"Default\", \"Default\", \"Default\", \"Default\", \"Default\", \"Default\", \"Default\", \"Topic1\", \"Topic1\", \"Topic1\", \"Topic1\", \"Topic1\", \"Topic1\", \"Topic1\", \"Topic1\", \"Topic1\", \"Topic1\", \"Topic1\", \"Topic1\", \"Topic1\", \"Topic1\", \"Topic1\", \"Topic1\", \"Topic1\", \"Topic1\", \"Topic1\", \"Topic1\", \"Topic1\", \"Topic1\", \"Topic1\", \"Topic1\", \"Topic1\", \"Topic1\", \"Topic1\", \"Topic1\", \"Topic1\", \"Topic1\", \"Topic1\", \"Topic1\", \"Topic1\", \"Topic1\", \"Topic1\", \"Topic1\", \"Topic1\", \"Topic1\", \"Topic1\", \"Topic1\", \"Topic1\", \"Topic1\", \"Topic1\", \"Topic1\", \"Topic1\", \"Topic1\", \"Topic1\", \"Topic1\", \"Topic1\", \"Topic1\", \"Topic1\", \"Topic1\", \"Topic1\", \"Topic1\", \"Topic1\", \"Topic1\", \"Topic1\", \"Topic1\", \"Topic1\", \"Topic1\", \"Topic1\", \"Topic1\", \"Topic1\", \"Topic1\", \"Topic1\", \"Topic1\", \"Topic1\", \"Topic1\", \"Topic1\", \"Topic1\", \"Topic1\", \"Topic1\", \"Topic1\", \"Topic1\", \"Topic1\", \"Topic1\", \"Topic1\", \"Topic1\", \"Topic1\", \"Topic1\", \"Topic1\", \"Topic1\", \"Topic1\", \"Topic1\", \"Topic1\", \"Topic1\", \"Topic1\", \"Topic1\", \"Topic1\", \"Topic1\", \"Topic1\", \"Topic1\", \"Topic2\", \"Topic2\", \"Topic2\", \"Topic2\", \"Topic2\", \"Topic2\", \"Topic2\", \"Topic2\", \"Topic2\", \"Topic2\", \"Topic2\", \"Topic2\", \"Topic2\", \"Topic2\", \"Topic2\", \"Topic2\", \"Topic2\", \"Topic2\", \"Topic2\", \"Topic2\", \"Topic2\", \"Topic2\", \"Topic2\", \"Topic2\", \"Topic2\", \"Topic2\", \"Topic2\", \"Topic2\", \"Topic2\", \"Topic2\", \"Topic2\", \"Topic2\", \"Topic2\", \"Topic2\", \"Topic2\", \"Topic2\", \"Topic2\", \"Topic2\", \"Topic2\", \"Topic2\", \"Topic2\", \"Topic2\", \"Topic2\", \"Topic2\", \"Topic2\", \"Topic2\", \"Topic2\", \"Topic2\", \"Topic2\", \"Topic2\", \"Topic2\", \"Topic2\", \"Topic2\", \"Topic2\", \"Topic2\", \"Topic2\", \"Topic2\", \"Topic2\", \"Topic2\", \"Topic2\", \"Topic2\", \"Topic2\", \"Topic2\", \"Topic2\", \"Topic2\", \"Topic2\", \"Topic2\", \"Topic2\", \"Topic2\", \"Topic2\", \"Topic2\", \"Topic2\", \"Topic2\", \"Topic2\", \"Topic2\", \"Topic2\", \"Topic2\", \"Topic2\", \"Topic2\", \"Topic2\", \"Topic2\", \"Topic2\", \"Topic2\", \"Topic2\", \"Topic2\", \"Topic2\", \"Topic2\", \"Topic2\", \"Topic2\", \"Topic2\", \"Topic2\", \"Topic3\", \"Topic3\", \"Topic3\", \"Topic3\", \"Topic3\", \"Topic3\", \"Topic3\", \"Topic3\", \"Topic3\", \"Topic3\", \"Topic3\", \"Topic3\", \"Topic3\", \"Topic3\", \"Topic3\", \"Topic3\", \"Topic3\", \"Topic3\", \"Topic3\", \"Topic3\", \"Topic3\", \"Topic3\", \"Topic3\", \"Topic3\", \"Topic3\", \"Topic3\", \"Topic3\", \"Topic3\", \"Topic3\", \"Topic3\", \"Topic3\", \"Topic3\", \"Topic3\", \"Topic3\", \"Topic3\", \"Topic3\", \"Topic3\", \"Topic3\", \"Topic3\", \"Topic3\", \"Topic3\", \"Topic3\", \"Topic3\", \"Topic3\", \"Topic3\", \"Topic3\", \"Topic3\", \"Topic3\", \"Topic3\", \"Topic3\", \"Topic3\", \"Topic3\", \"Topic3\", \"Topic3\", \"Topic3\", \"Topic3\", \"Topic3\", \"Topic3\", \"Topic3\", \"Topic3\", \"Topic3\", \"Topic3\", \"Topic3\", \"Topic3\", \"Topic3\", \"Topic3\", \"Topic3\", \"Topic3\", \"Topic3\", \"Topic3\", \"Topic3\", \"Topic3\", \"Topic4\", \"Topic4\", \"Topic4\", \"Topic4\", \"Topic4\", \"Topic4\", \"Topic4\", \"Topic4\", \"Topic4\", \"Topic4\", \"Topic4\", \"Topic4\", \"Topic4\", \"Topic4\", \"Topic4\", \"Topic4\", \"Topic4\", \"Topic4\", \"Topic4\", \"Topic4\", \"Topic4\", \"Topic4\", \"Topic4\", \"Topic4\", \"Topic4\", \"Topic4\", \"Topic4\", \"Topic4\", \"Topic4\", \"Topic4\", \"Topic4\", \"Topic4\", \"Topic4\", \"Topic4\", \"Topic4\", \"Topic4\", \"Topic4\", \"Topic4\", \"Topic4\", \"Topic4\", \"Topic4\", \"Topic4\", \"Topic4\", \"Topic4\", \"Topic4\", \"Topic4\", \"Topic4\", \"Topic4\", \"Topic4\", \"Topic4\", \"Topic4\", \"Topic4\", \"Topic4\", \"Topic4\", \"Topic4\", \"Topic4\", \"Topic4\", \"Topic4\", \"Topic4\", \"Topic4\", \"Topic4\", \"Topic4\", \"Topic4\", \"Topic4\", \"Topic4\", \"Topic4\", \"Topic4\", \"Topic4\", \"Topic4\", \"Topic4\", \"Topic4\", \"Topic4\", \"Topic4\", \"Topic4\", \"Topic4\", \"Topic4\", \"Topic4\", \"Topic4\", \"Topic4\", \"Topic4\", \"Topic4\", \"Topic4\", \"Topic5\", \"Topic5\", \"Topic5\", \"Topic5\", \"Topic5\", \"Topic5\", \"Topic5\", \"Topic5\", \"Topic5\", \"Topic5\", \"Topic5\", \"Topic5\", \"Topic5\", \"Topic5\", \"Topic5\", \"Topic5\", \"Topic5\", \"Topic5\", \"Topic5\", \"Topic5\", \"Topic5\", \"Topic5\", \"Topic5\", \"Topic5\", \"Topic5\", \"Topic5\", \"Topic5\", \"Topic5\", \"Topic5\", \"Topic5\", \"Topic5\", \"Topic5\", \"Topic5\", \"Topic5\", \"Topic5\", \"Topic5\", \"Topic5\", \"Topic5\", \"Topic5\", \"Topic5\", \"Topic5\", \"Topic5\", \"Topic5\", \"Topic5\", \"Topic5\", \"Topic5\", \"Topic5\", \"Topic5\", \"Topic5\", \"Topic5\", \"Topic5\", \"Topic5\", \"Topic5\", \"Topic5\", \"Topic5\", \"Topic5\", \"Topic5\", \"Topic5\", \"Topic5\", \"Topic5\", \"Topic5\", \"Topic5\", \"Topic5\", \"Topic5\", \"Topic5\", \"Topic5\", \"Topic5\", \"Topic5\", \"Topic5\", \"Topic5\", \"Topic5\", \"Topic5\", \"Topic5\", \"Topic5\", \"Topic5\", \"Topic5\", \"Topic5\", \"Topic5\", \"Topic5\", \"Topic5\", \"Topic5\", \"Topic5\", \"Topic5\", \"Topic6\", \"Topic6\", \"Topic6\", \"Topic6\", \"Topic6\", \"Topic6\", \"Topic6\", \"Topic6\", \"Topic6\", \"Topic6\", \"Topic6\", \"Topic6\", \"Topic6\", \"Topic6\", \"Topic6\", \"Topic6\", \"Topic6\", \"Topic6\", \"Topic6\", \"Topic6\", \"Topic6\", \"Topic6\", \"Topic6\", \"Topic6\", \"Topic6\", \"Topic6\", \"Topic6\", \"Topic6\", \"Topic6\", \"Topic6\", \"Topic6\", \"Topic6\", \"Topic6\", \"Topic6\", \"Topic6\", \"Topic6\", \"Topic6\", \"Topic6\", \"Topic6\", \"Topic6\", \"Topic6\", \"Topic6\", \"Topic6\", \"Topic6\", \"Topic6\", \"Topic6\", \"Topic6\", \"Topic6\", \"Topic6\", \"Topic6\", \"Topic6\", \"Topic6\", \"Topic6\", \"Topic6\", \"Topic6\", \"Topic6\", \"Topic6\", \"Topic6\", \"Topic6\", \"Topic6\", \"Topic6\", \"Topic6\", \"Topic6\", \"Topic6\", \"Topic6\", \"Topic6\", \"Topic6\", \"Topic6\", \"Topic6\", \"Topic6\", \"Topic6\", \"Topic6\", \"Topic6\", \"Topic6\", \"Topic6\", \"Topic6\", \"Topic6\", \"Topic6\", \"Topic6\", \"Topic6\", \"Topic6\", \"Topic6\", \"Topic6\", \"Topic6\", \"Topic6\", \"Topic6\", \"Topic6\", \"Topic6\", \"Topic6\", \"Topic6\", \"Topic6\", \"Topic6\", \"Topic7\", \"Topic7\", \"Topic7\", \"Topic7\", \"Topic7\", \"Topic7\", \"Topic7\", \"Topic7\", \"Topic7\", \"Topic7\", \"Topic7\", \"Topic7\", \"Topic7\", \"Topic7\", \"Topic7\", \"Topic7\", \"Topic7\", \"Topic7\", \"Topic7\", \"Topic7\", \"Topic7\", \"Topic7\", \"Topic7\", \"Topic7\", \"Topic7\", \"Topic7\", \"Topic7\", \"Topic7\", \"Topic7\", \"Topic7\", \"Topic7\", \"Topic7\", \"Topic7\", \"Topic7\", \"Topic7\", \"Topic7\", \"Topic7\", \"Topic7\", \"Topic7\", \"Topic7\", \"Topic7\", \"Topic7\", \"Topic7\", \"Topic7\", \"Topic7\", \"Topic7\", \"Topic7\", \"Topic7\", \"Topic7\", \"Topic7\", \"Topic7\", \"Topic7\", \"Topic7\", \"Topic7\", \"Topic7\", \"Topic7\", \"Topic7\", \"Topic7\", \"Topic7\", \"Topic7\", \"Topic7\", \"Topic7\", \"Topic7\", \"Topic7\", \"Topic7\", \"Topic7\", \"Topic7\", \"Topic7\", \"Topic7\", \"Topic7\", \"Topic7\", \"Topic7\", \"Topic7\", \"Topic7\", \"Topic7\", \"Topic7\", \"Topic7\", \"Topic7\", \"Topic7\", \"Topic7\", \"Topic7\", \"Topic7\", \"Topic7\", \"Topic7\", \"Topic7\", \"Topic7\", \"Topic7\", \"Topic7\", \"Topic7\", \"Topic7\", \"Topic7\", \"Topic7\", \"Topic7\", \"Topic8\", \"Topic8\", \"Topic8\", \"Topic8\", \"Topic8\", \"Topic8\", \"Topic8\", \"Topic8\", \"Topic8\", \"Topic8\", \"Topic8\", \"Topic8\", \"Topic8\", \"Topic8\", \"Topic8\", \"Topic8\", \"Topic8\", \"Topic8\", \"Topic8\", \"Topic8\", \"Topic8\", \"Topic8\", \"Topic8\", \"Topic8\", \"Topic8\", \"Topic8\", \"Topic8\", \"Topic8\", \"Topic8\", \"Topic8\", \"Topic8\", \"Topic8\", \"Topic8\", \"Topic8\", \"Topic8\", \"Topic8\", \"Topic8\", \"Topic8\", \"Topic8\", \"Topic8\", \"Topic8\", \"Topic8\", \"Topic8\", \"Topic8\", \"Topic8\", \"Topic8\", \"Topic8\", \"Topic8\", \"Topic8\", \"Topic8\", \"Topic8\", \"Topic8\", \"Topic8\", \"Topic8\", \"Topic8\", \"Topic8\", \"Topic8\", \"Topic8\", \"Topic8\", \"Topic8\", \"Topic8\", \"Topic8\", \"Topic8\", \"Topic8\", \"Topic8\", \"Topic8\", \"Topic8\", \"Topic8\", \"Topic8\", \"Topic8\", \"Topic8\", \"Topic8\", \"Topic8\", \"Topic8\", \"Topic8\", \"Topic8\", \"Topic8\", \"Topic8\", \"Topic8\", \"Topic8\", \"Topic8\", \"Topic8\", \"Topic8\", \"Topic8\", \"Topic8\", \"Topic8\", \"Topic8\", \"Topic8\", \"Topic8\", \"Topic8\", \"Topic8\", \"Topic8\", \"Topic8\", \"Topic9\", \"Topic9\", \"Topic9\", \"Topic9\", \"Topic9\", \"Topic9\", \"Topic9\", \"Topic9\", \"Topic9\", \"Topic9\", \"Topic9\", \"Topic9\", \"Topic9\", \"Topic9\", \"Topic9\", \"Topic9\", \"Topic9\", \"Topic9\", \"Topic9\", \"Topic9\", \"Topic9\", \"Topic9\", \"Topic9\", \"Topic9\", \"Topic9\", \"Topic9\", \"Topic9\", \"Topic9\", \"Topic9\", \"Topic9\", \"Topic9\", \"Topic9\", \"Topic9\", \"Topic9\", \"Topic9\", \"Topic9\", \"Topic9\", \"Topic9\", \"Topic9\", \"Topic9\", \"Topic9\", \"Topic9\", \"Topic9\", \"Topic9\", \"Topic9\", \"Topic9\", \"Topic9\", \"Topic9\", \"Topic9\", \"Topic9\", \"Topic9\", \"Topic9\", \"Topic9\", \"Topic9\", \"Topic9\", \"Topic9\", \"Topic9\", \"Topic9\", \"Topic9\", \"Topic9\", \"Topic9\", \"Topic9\", \"Topic9\", \"Topic9\", \"Topic9\", \"Topic9\", \"Topic9\", \"Topic9\", \"Topic9\", \"Topic9\", \"Topic9\", \"Topic9\", \"Topic9\", \"Topic9\", \"Topic9\", \"Topic9\", \"Topic9\", \"Topic9\", \"Topic9\", \"Topic9\", \"Topic9\", \"Topic9\", \"Topic9\", \"Topic10\", \"Topic10\", \"Topic10\", \"Topic10\", \"Topic10\", \"Topic10\", \"Topic10\", \"Topic10\", \"Topic10\", \"Topic10\", \"Topic10\", \"Topic10\", \"Topic10\", \"Topic10\", \"Topic10\", \"Topic10\", \"Topic10\", \"Topic10\", \"Topic10\", \"Topic10\", \"Topic10\", \"Topic10\", \"Topic10\", \"Topic10\", \"Topic10\", \"Topic10\", \"Topic10\", \"Topic10\", \"Topic10\", \"Topic10\", \"Topic10\", \"Topic10\", \"Topic10\", \"Topic10\", \"Topic10\", \"Topic10\", \"Topic10\", \"Topic10\", \"Topic10\", \"Topic10\", \"Topic10\", \"Topic10\", \"Topic10\", \"Topic10\", \"Topic10\", \"Topic10\", \"Topic10\", \"Topic10\", \"Topic10\", \"Topic10\", \"Topic10\", \"Topic10\", \"Topic10\", \"Topic10\", \"Topic10\", \"Topic10\", \"Topic10\", \"Topic10\", \"Topic10\", \"Topic10\", \"Topic10\", \"Topic10\", \"Topic10\", \"Topic10\", \"Topic10\", \"Topic10\", \"Topic10\", \"Topic10\", \"Topic10\", \"Topic10\", \"Topic10\", \"Topic10\", \"Topic10\", \"Topic10\", \"Topic10\", \"Topic10\", \"Topic10\", \"Topic10\", \"Topic10\", \"Topic10\", \"Topic10\"], \"Freq\": [524055.0, 438438.0, 302006.0, 470815.0, 388443.0, 228462.0, 376911.0, 244051.0, 336006.0, 209290.0, 246792.0, 200783.0, 310617.0, 223514.0, 161664.0, 192586.0, 107734.0, 168134.0, 192477.0, 239356.0, 126823.0, 134526.0, 893106.0, 203273.0, 102931.0, 309128.0, 110513.0, 217068.0, 172508.0, 103773.0, 13312.052734375, 12868.732421875, 134508.328125, 4311.830078125, 16458.4765625, 3361.107421875, 3288.548095703125, 3102.104736328125, 2898.986328125, 2789.682861328125, 2648.11279296875, 2514.67236328125, 2703.202392578125, 2083.079345703125, 6213.23779296875, 2104.642333984375, 1897.3160400390625, 2154.953125, 1855.011474609375, 1812.5264892578125, 1770.22900390625, 1760.3984375, 2414.26171875, 1404.799560546875, 1361.59423828125, 1339.5888671875, 1208.0509033203125, 1160.85693359375, 1153.9217529296875, 1737.711669921875, 31301.013671875, 3636.615478515625, 16310.3720703125, 3490.74609375, 2183.154296875, 1543.0467529296875, 6117.1591796875, 5390.37646484375, 14045.84765625, 75357.6171875, 39439.34375, 42739.76953125, 8921.8681640625, 8226.908203125, 12978.337890625, 13636.2353515625, 19859.130859375, 54176.765625, 16891.162109375, 56250.13671875, 12030.11328125, 19037.625, 42826.76953125, 19572.51953125, 26744.216796875, 80306.2421875, 84765.5078125, 27796.279296875, 51079.0390625, 81842.5078125, 42570.98828125, 88763.28125, 67006.34375, 23374.033203125, 44074.71875, 25555.533203125, 47913.54296875, 130056.859375, 42816.1171875, 47431.85546875, 90251.453125, 82876.359375, 172337.578125, 114020.359375, 164466.65625, 49260.44140625, 64470.71484375, 77474.109375, 92990.859375, 64883.1484375, 140925.234375, 65617.9140625, 111544.1640625, 65498.75390625, 87263.0546875, 73960.5, 66357.390625, 62170.0390625, 61329.3046875, 57931.9140625, 62340.26171875, 55308.703125, 26114.732421875, 5116.720703125, 3755.02001953125, 4957.6728515625, 1674.3377685546875, 1510.0589599609375, 1408.19140625, 1223.7861328125, 1170.0535888671875, 1389.928955078125, 1149.867431640625, 993.05810546875, 1580.354248046875, 1056.9530029296875, 2340.49755859375, 853.8052978515625, 833.1002807617188, 1259.432861328125, 786.0269165039062, 5942.59521484375, 736.6765747070312, 653.7904052734375, 74216.3984375, 633.0404663085938, 617.2855834960938, 618.2841186523438, 572.139404296875, 588.4971313476562, 534.4653930664062, 500.8421630859375, 94919.078125, 30377.986328125, 7977.658203125, 6925.7216796875, 4987.27880859375, 3035.60107421875, 4073.913330078125, 3946.921875, 160195.140625, 2240.659423828125, 17401.875, 11587.7548828125, 5439.796875, 20805.990234375, 414336.90625, 7111.7451171875, 6410.697265625, 3559.380126953125, 26517.884765625, 13831.048828125, 8497.4013671875, 43860.08984375, 53608.4296875, 40117.48046875, 69510.375, 21049.078125, 57203.21875, 20314.1875, 30447.515625, 134290.890625, 18597.19140625, 60435.79296875, 20226.744140625, 20484.150390625, 114763.484375, 143357.890625, 80384.2109375, 24226.134765625, 23899.005859375, 34072.91796875, 106841.5234375, 140126.921875, 43848.08984375, 106019.1484375, 57033.9140625, 72897.9140625, 115941.8984375, 132879.875, 55162.64453125, 98358.7734375, 113289.1328125, 107246.6875, 130855.1953125, 71851.65625, 73616.2890625, 65372.4140625, 64392.51953125, 81481.375, 64098.64453125, 66564.0234375, 57318.1328125, 110512.578125, 82786.7734375, 161663.015625, 32070.09765625, 28384.4765625, 21120.3515625, 20550.767578125, 10628.6181640625, 10862.197265625, 8498.3720703125, 8382.328125, 8200.7060546875, 6736.740234375, 5782.7490234375, 6033.86962890625, 5270.9609375, 4917.14892578125, 4685.1455078125, 4567.83056640625, 4596.50341796875, 4372.10205078125, 4300.779296875, 4170.7548828125, 4786.27734375, 3876.365234375, 3792.9462890625, 3698.0234375, 3321.197265625, 3125.7841796875, 3110.98193359375, 245915.671875, 52096.859375, 14943.2724609375, 9126.82421875, 7800.61572265625, 5148.0654296875, 410220.40625, 5418.5185546875, 64193.0859375, 85877.6875, 121384.703125, 5395.01171875, 37591.51171875, 23201.65625, 57440.171875, 19683.591796875, 64367.046875, 53143.16015625, 19208.02734375, 29927.84765625, 24740.341796875, 19272.9921875, 69673.9296875, 21214.455078125, 55800.1640625, 130815.1640625, 175957.171875, 31642.0859375, 58022.90234375, 93904.09375, 90440.203125, 118012.0234375, 68088.875, 80122.8203125, 90661.8671875, 61149.5, 56271.3203125, 49696.25390625, 59301.0390625, 52797.21484375, 53952.92578125, 57861.03125, 302003.3125, 24447.892578125, 14007.01171875, 12140.3857421875, 11766.4892578125, 11632.6591796875, 15562.4814453125, 4786.45458984375, 2942.086181640625, 2583.513671875, 2486.388671875, 2910.51123046875, 2316.08642578125, 2323.028564453125, 2042.5335693359375, 45264.83203125, 2021.86328125, 2192.373291015625, 1972.4339599609375, 1809.9376220703125, 1710.5426025390625, 1671.229248046875, 1605.0189208984375, 1626.7816162109375, 1526.6868896484375, 1633.2633056640625, 1427.4769287109375, 2210.732421875, 1271.3740234375, 1266.3568115234375, 39568.24609375, 36702.7890625, 47133.80859375, 15917.9130859375, 44632.2890625, 9308.404296875, 10381.6435546875, 2748.714111328125, 12164.869140625, 2541.997802734375, 20350.712890625, 7146.169921875, 15098.6630859375, 121500.125, 61132.10546875, 7916.4951171875, 3515.44384765625, 17962.916015625, 18988.310546875, 43210.9765625, 79514.2578125, 82653.25, 53138.81640625, 69701.1640625, 73285.8828125, 42982.3984375, 40262.03125, 71431.9609375, 40575.14453125, 40058.296875, 44368.453125, 68266.265625, 76213.15625, 39512.1015625, 70831.9140625, 48817.515625, 43279.8828125, 54427.3671875, 70754.0078125, 92737.78125, 104474.1015625, 80975.9296875, 70723.7109375, 69765.046875, 69740.296875, 52190.26953125, 49413.609375, 50433.6171875, 50689.74609375, 47987.78515625, 46676.51171875, 46058.6015625, 5108.4130859375, 4885.9267578125, 5318.947265625, 2897.720947265625, 2594.411865234375, 2503.209228515625, 2034.0330810546875, 2032.198486328125, 1763.5413818359375, 1526.050048828125, 1210.15966796875, 1141.39599609375, 1098.82470703125, 1092.829345703125, 958.6749877929688, 947.0560913085938, 893.06103515625, 883.5512084960938, 833.706787109375, 829.6396484375, 825.5281982421875, 812.105712890625, 811.0863647460938, 1197.6778564453125, 768.9326782226562, 768.9093627929688, 741.3838500976562, 730.9373779296875, 729.8419189453125, 718.2000732421875, 6595.14501953125, 38959.90234375, 3788.40966796875, 8413.35546875, 1677.6810302734375, 3943.4892578125, 16085.4501953125, 5830.90673828125, 1531.609619140625, 5295.271484375, 3238.18212890625, 48318.88671875, 1621.838623046875, 303003.09375, 244627.34375, 103939.53125, 128252.5234375, 4872.6279296875, 7477.25244140625, 43410.95703125, 229899.84375, 127038.53125, 29509.375, 44526.1484375, 17650.53515625, 120672.3046875, 6355.4833984375, 50328.91015625, 282169.4375, 121535.4140625, 34060.39453125, 68752.1015625, 115359.0703125, 173690.78125, 24263.767578125, 118027.09375, 63082.43359375, 72228.46875, 112766.015625, 62466.48046875, 37722.1171875, 54668.69140625, 140919.265625, 159332.15625, 103000.6171875, 111590.5859375, 79574.8125, 50356.23046875, 58202.140625, 53712.51171875, 59735.21875, 51318.4375, 48881.9375, 22821.001953125, 4566.75830078125, 4897.32861328125, 3868.131103515625, 2839.1689453125, 3029.6279296875, 6820.0859375, 2472.69189453125, 1803.009765625, 4500.84814453125, 2061.618896484375, 1320.302001953125, 1269.833740234375, 1202.298095703125, 1168.8250732421875, 1113.4061279296875, 1097.4970703125, 1098.651611328125, 1006.3023071289062, 1011.3563842773438, 937.8547973632812, 937.85546875, 852.552978515625, 847.988525390625, 844.8878173828125, 866.1646118164062, 776.0519409179688, 740.8624267578125, 731.6854858398438, 8153.84521484375, 242209.21875, 41662.03125, 8386.6328125, 5381.51123046875, 3083.385009765625, 2680.590087890625, 1126.9111328125, 98963.8125, 3902.7919921875, 64277.10546875, 14798.51953125, 71221.7265625, 2965.13525390625, 1684.4071044921875, 2355.48583984375, 14827.90234375, 10611.7001953125, 15607.9345703125, 3749.4677734375, 23295.75, 17166.4140625, 264378.46875, 6150.92333984375, 161393.015625, 69426.953125, 54172.44921875, 14235.876953125, 5208.55712890625, 10080.16015625, 9002.609375, 21868.400390625, 21254.203125, 95969.6953125, 11214.6337890625, 7593.7958984375, 8870.951171875, 19124.01171875, 46133.8984375, 30951.578125, 39020.2734375, 83727.4765625, 65155.35546875, 92801.6015625, 165326.28125, 124572.390625, 116345.4453125, 47374.4765625, 93141.03125, 62960.78515625, 59162.43359375, 38230.546875, 37351.5546875, 55696.58203125, 58945.87109375, 54395.6015625, 55059.9765625, 55346.9765625, 44327.05078125, 39534.94921875, 45556.015625, 41345.47265625, 40235.28515625, 5023.12646484375, 4246.2333984375, 3842.98486328125, 3805.005615234375, 2428.655029296875, 2299.870361328125, 2640.00732421875, 1990.109619140625, 1905.3941650390625, 1676.2696533203125, 2551.894775390625, 1507.978515625, 1306.281005859375, 2623.9169921875, 1080.250244140625, 947.7119140625, 884.2432250976562, 865.2783813476562, 864.6651000976562, 859.4929809570312, 845.66064453125, 820.6914672851562, 821.431640625, 810.1797485351562, 796.4874877929688, 790.5970458984375, 782.7211303710938, 776.1609497070312, 705.2517700195312, 721.4663696289062, 18312.556640625, 16702.205078125, 13528.908203125, 4268.25, 10534.08984375, 3776.306396484375, 5041.6650390625, 3933.785400390625, 1631.125732421875, 1944.767578125, 13881.265625, 19777.044921875, 10665.4208984375, 2056.16259765625, 2197.5439453125, 12747.1953125, 51247.453125, 14494.9150390625, 6447.65087890625, 440870.8125, 66481.5625, 4589.44482421875, 78026.359375, 81028.703125, 49903.95703125, 12554.9970703125, 9036.4521484375, 22483.8359375, 41441.67578125, 65140.90234375, 112900.1875, 50956.08203125, 23742.859375, 14315.068359375, 108562.8828125, 46315.18359375, 18666.318359375, 21338.607421875, 28104.861328125, 108959.0546875, 74536.703125, 28290.880859375, 37949.35546875, 78628.6640625, 145704.390625, 108084.4765625, 37983.91796875, 42974.35546875, 73541.6484375, 81777.734375, 33204.26953125, 26590.513671875, 56491.9765625, 43786.41796875, 53803.6875, 45713.83203125, 48171.95703125, 40481.5625, 39726.11328125, 38800.07421875, 39995.80859375, 39855.34375, 39347.97265625, 200782.375, 102930.34375, 9828.091796875, 6340.5380859375, 3789.941650390625, 3293.364990234375, 3468.19873046875, 3106.93603515625, 2781.571044921875, 3148.976318359375, 2452.30224609375, 1761.40576171875, 1798.9207763671875, 1676.390869140625, 1583.1534423828125, 1499.9766845703125, 1446.3870849609375, 1248.1474609375, 996.587158203125, 1003.9342041015625, 973.4119873046875, 886.2630615234375, 867.09912109375, 850.0540771484375, 1159.8231201171875, 818.402587890625, 814.7140502929688, 1095.48779296875, 774.0551147460938, 749.0672607421875, 83749.1484375, 3649.0498046875, 2776.161865234375, 2240.574462890625, 1916.227783203125, 1043.35986328125, 14771.9560546875, 2876.990234375, 2207.919677734375, 1488.6644287109375, 3255.691650390625, 2393.677734375, 5627.84130859375, 5282.17138671875, 28853.30078125, 139150.484375, 16361.193359375, 9970.1171875, 8986.80078125, 33367.57421875, 16865.96875, 10598.109375, 33627.50390625, 90435.8515625, 24053.193359375, 23341.4453125, 10100.513671875, 42435.6796875, 67081.8203125, 41233.15234375, 17040.72265625, 8608.2001953125, 19355.431640625, 21441.125, 211064.515625, 15250.412109375, 74637.96875, 32858.1796875, 45125.1171875, 31102.125, 99931.4140625, 34244.41796875, 33017.9453125, 45728.796875, 28084.453125, 89252.90625, 42388.2265625, 75025.0234375, 49852.35546875, 72071.609375, 55491.19140625, 50317.28515625, 59322.96484375, 46711.9296875, 53249.3046875, 47862.38671875, 41479.78125, 38657.125, 38751.61328125, 38826.1015625, 38110.16015625, 36138.71875, 37581.8203125, 10535.28125, 10290.7001953125, 6296.82177734375, 7792.83203125, 7096.6337890625, 4356.32666015625, 27597.30859375, 3921.18017578125, 3666.84619140625, 43643.04296875, 3778.03955078125, 3504.060546875, 3249.15185546875, 3081.13037109375, 2859.909912109375, 2768.19140625, 2712.461669921875, 2779.478759765625, 2687.975341796875, 2708.162841796875, 8731.9833984375, 2496.3564453125, 6241.064453125, 15825.806640625, 2299.9638671875, 2237.76123046875, 2276.35302734375, 20554.0546875, 1877.9124755859375, 1818.6209716796875, 32759.49609375, 18327.234375, 22504.171875, 11682.4873046875, 9443.1103515625, 10434.9990234375, 8164.5849609375, 9627.9267578125, 6303.08642578125, 4847.66845703125, 19767.607421875, 6100.78857421875, 6654.33251953125, 5633.458984375, 215745.375, 12251.310546875, 32552.34375, 21676.595703125, 7615.63525390625, 6787.994140625, 66491.71875, 57478.8046875, 43123.42578125, 22956.1171875, 22358.5078125, 7646.4921875, 24789.06640625, 23828.029296875, 17827.166015625, 11636.580078125, 53670.85546875, 22520.212890625, 60139.4921875, 32690.7265625, 84403.0234375, 43537.90234375, 34513.453125, 26605.580078125, 29029.181640625, 33010.51953125, 21537.677734375, 34493.90625, 53283.01171875, 31300.134765625, 41780.76953125, 24941.99609375, 25176.48046875, 25020.48046875, 25210.978515625, 24705.43359375, 23293.2578125, 23862.90234375, 23371.580078125, 14045.8037109375, 9234.0576171875, 18261.634765625, 5981.94287109375, 7044.76025390625, 7419.50390625, 3577.801025390625, 3220.03564453125, 3139.2099609375, 3190.709228515625, 3124.441650390625, 2814.9296875, 2613.09375, 2700.4873046875, 3689.28955078125, 3484.103515625, 2234.880126953125, 2090.9482421875, 2073.59375, 1992.8846435546875, 1897.354736328125, 1801.087890625, 1799.47216796875, 1654.510498046875, 1621.289794921875, 1425.5106201171875, 1298.6162109375, 1314.43701171875, 1136.607177734375, 1136.6737060546875, 107633.453125, 13728.720703125, 24539.23046875, 2863.384033203125, 3280.452392578125, 4405.16650390625, 34205.28515625, 185892.140625, 2155.231201171875, 18611.4765625, 36382.23828125, 50867.55078125, 7684.392578125, 20674.3515625, 3942.066162109375, 45762.67578125, 10958.390625, 16468.96484375, 50206.0625, 4661.880859375, 26417.3515625, 12606.9306640625, 20289.876953125, 28654.896484375, 4512.8828125, 12880.697265625, 19156.28515625, 5188.47607421875, 11317.58984375, 28158.08984375, 83082.609375, 48382.90234375, 43536.81640625, 14763.9072265625, 67451.4921875, 47075.6015625, 45485.515625, 25366.9609375, 34648.73046875, 37978.2578125, 38743.75390625, 36898.26953125, 30373.548828125, 31787.638671875, 29998.8046875, 27153.771484375, 22502.779296875, 21594.357421875, 21772.333984375, 22540.17578125, 21920.82421875], \"Term\": [\"camera\", \"sound\", \"tv\", \"case\", \"cable\", \"card\", \"drive\", \"charge\", \"battery\", \"lens\", \"speaker\", \"keyboard\", \"usb\", \"phone\", \"headphone\", \"tablet\", \"bag\", \"cover\", \"picture\", \"video\", \"remote\", \"router\", \"work\", \"ipad\", \"mouse\", \"screen\", \"ear\", \"plug\", \"port\", \"charger\", \"ip\", \"linksys\", \"router\", \"ssid\", \"netgear\", \"admin\", \"isp\", \"wrt\", \"128gb\", \"wps\", \"dhcp\", \"168\", \"dlink\", \"vpn\", \"cisco\", \"docsis\", \"dns\", \"dir\", \"itx\", \"actiontec\", \"120gb\", \"ftp\", \"firewall\", \"qos\", \"wpa2\", \"wpa\", \"wep\", \"caviar\", \"n600\", \"slingbox\", \"modem\", \"dsl\", \"password\", \"ap\", \"11n\", \"avchd\", \"802\", \"tp\", \"reboot\", \"network\", \"firmware\", \"customer\", \"mbps\", \"log\", \"nas\", \"folder\", \"address\", \"service\", \"reset\", \"wifi\", \"refund\", \"wi\", \"download\", \"server\", \"link\", \"support\", \"software\", \"tech\", \"internet\", \"wireless\", \"send\", \"update\", \"file\", \"email\", \"access\", \"warranty\", \"return\", \"device\", \"call\", \"setup\", \"problem\", \"try\", \"get\", \"time\", \"work\", \"connection\", \"connect\", \"back\", \"go\", \"issue\", \"use\", \"review\", \"one\", \"computer\", \"would\", \"product\", \"set\", \"unit\", \"new\", \"first\", \"drive\", \"even\", \"bubble\", \"paperwhite\", \"dlna\", \"cutout\", \"marware\", \"squeegee\", \"dropcam\", \"softbox\", \"verso\", \"skinomi\", \"crease\", \"easel\", \"hdds\", \"gladius\", \"kickstand\", \"lifeproof\", \"benq\", \"odor\", \"gh2\", \"peel\", \"snugg\", \"acase\", \"protector\", \"rhapsody\", \"dolly\", \"stretchy\", \"gorillapod\", \"applicator\", \"usbs\", \"sketchbook\", \"kindle\", \"leather\", \"otterbox\", \"smell\", \"adhesive\", \"speck\", \"armor\", \"lint\", \"cover\", \"stud\", \"magnet\", \"magnetic\", \"glue\", \"hole\", \"case\", \"prop\", \"hdx\", \"bolt\", \"scratch\", \"protective\", \"elastic\", \"protection\", \"protect\", \"fire\", \"stand\", \"dust\", \"plastic\", \"fold\", \"screw\", \"ipad\", \"apply\", \"mount\", \"rubber\", \"slide\", \"fit\", \"screen\", \"hold\", \"edge\", \"material\", \"remove\", \"look\", \"like\", \"place\", \"make\", \"feel\", \"nice\", \"well\", \"one\", \"put\", \"would\", \"get\", \"good\", \"use\", \"easy\", \"product\", \"back\", \"little\", \"great\", \"really\", \"work\", \"also\", \"ear\", \"bass\", \"headphone\", \"bose\", \"earbuds\", \"bud\", \"earphone\", \"treble\", \"audiophile\", \"sennheiser\", \"headphones\", \"mids\", \"eq\", \"klipsch\", \"woofer\", \"sounding\", \"earbud\", \"ultrabook\", \"headband\", \"classical\", \"jbl\", \"soundlink\", \"vocal\", \"equalizer\", \"canal\", \"polk\", \"cancellation\", \"shure\", \"ue\", \"cancelling\", \"speaker\", \"headset\", \"subwoofer\", \"listening\", \"beats\", \"earpiece\", \"sound\", \"tinny\", \"listen\", \"volume\", \"music\", \"isolation\", \"loud\", \"mic\", \"hear\", \"sub\", \"pair\", \"noise\", \"microphone\", \"stereo\", \"amp\", \"song\", \"audio\", \"mp3\", \"bluetooth\", \"quality\", \"good\", \"comfortable\", \"high\", \"like\", \"great\", \"use\", \"price\", \"well\", \"get\", \"really\", \"much\", \"set\", \"would\", \"also\", \"make\", \"one\", \"tv\", \"projector\", \"chromecast\", \"tvs\", \"plasma\", \"vizio\", \"hdtv\", \"directv\", \"poetic\", \"vudu\", \"hbo\", \"oppo\", \"ota\", \"bdp\", \"mohu\", \"roku\", \"dlp\", \"rays\", \"rabbit\", \"mirrorless\", \"bravia\", \"miracast\", \"roamio\", \"uhf\", \"viera\", \"crt\", \"n7\", \"1080i\", \"pbs\", \"cbs\", \"ray\", \"blu\", \"netflix\", \"television\", \"3d\", \"harmony\", \"hulu\", \"vcr\", \"tivo\", \"120hz\", \"xbox\", \"wii\", \"dvr\", \"remote\", \"channel\", \"bluray\", \"2d\", \"ps3\", \"lg\", \"antenna\", \"hdmi\", \"watch\", \"receiver\", \"movie\", \"monitor\", \"dvd\", \"input\", \"player\", \"stream\", \"signal\", \"hd\", \"picture\", \"video\", \"samsung\", \"set\", \"box\", \"room\", \"play\", \"cable\", \"get\", \"use\", \"one\", \"great\", \"good\", \"work\", \"look\", \"screen\", \"buy\", \"like\", \"well\", \"go\", \"quality\", \"synology\", \"evga\", \"esata\", \"drobo\", \"microusb\", \"utf8\", \"que\", \"plugable\", \"bluerigger\", \"apu\", \"phenom\", \"lga\", \"para\", \"muy\", \"readynas\", \"nighthawk\", \"ceton\", \"sb6141\", \"pu\", \"12800\", \"qid\", \"2560x1440\", \"vivotab\", \"startech\", \"1155\", \"powerpak\", \"aacute\", \"oacute\", \"diskstation\", \"e4200\", \"gtx\", \"hub\", \"mediabridge\", \"thunderbolt\", \"caddy\", \"ref\", \"enclosure\", \"2tb\", \"terabyte\", \"www\", \"gp\", \"connector\", \"arduino\", \"cable\", \"usb\", \"adapter\", \"port\", \"firewire\", \"1tb\", \"works\", \"drive\", \"plug\", \"supply\", \"external\", \"seagate\", \"power\", \"described\", \"cord\", \"work\", \"product\", \"wire\", \"hard\", \"price\", \"great\", \"backup\", \"need\", \"laptop\", \"computer\", \"buy\", \"recommend\", \"item\", \"connect\", \"one\", \"use\", \"well\", \"good\", \"would\", \"purchase\", \"quality\", \"device\", \"get\", \"like\", \"make\", \"garmin\", \"zagg\", \"nuvi\", \"jambox\", \"charges\", \"radar\", \"tomtom\", \"highway\", \"brainwavz\", \"windshield\", \"ham\", \"fintie\", \"incipio\", \"armorsuit\", \"neewer\", \"lumia\", \"uniden\", \"freeway\", \"eton\", \"cobra\", \"nabi\", \"escort\", \"shortwave\", \"noaa\", \"mophie\", \"ravpower\", \"motoactv\", \"hackintosh\", \"fidelio\", \"vehicle\", \"charge\", \"gps\", \"dash\", \"mah\", \"magellan\", \"cigarette\", \"poi\", \"charger\", \"1a\", \"car\", \"charging\", \"radio\", \"discharge\", \"handset\", \"charged\", \"fm\", \"alarm\", \"recharge\", \"detector\", \"cell\", \"map\", \"battery\", \"emergency\", \"phone\", \"iphone\", \"ipod\", \"road\", \"4s\", \"rechargeable\", \"traffic\", \"station\", \"trip\", \"unit\", \"anker\", \"drain\", \"route\", \"dock\", \"last\", \"life\", \"hour\", \"device\", \"power\", \"time\", \"use\", \"one\", \"work\", \"long\", \"get\", \"buy\", \"go\", \"turn\", \"day\", \"would\", \"great\", \"well\", \"like\", \"good\", \"take\", \"plug\", \"need\", \"also\", \"come\", \"foscam\", \"kodak\", \"transcend\", \"hdr\", \"megapixel\", \"megapixels\", \"panorama\", \"hero3\", \"alienware\", \"suede\", \"dsc\", \"pogoplug\", \"panoramic\", \"ttl\", \"finepix\", \"gh3\", \"30x\", \"lx5\", \"ivisor\", \"exr\", \"s90\", \"tf\", \"g1x\", \"a500\", \"iluv\", \"60p\", \"ccd\", \"16mp\", \"vf\", \"cybershot\", \"iso\", \"camcorder\", \"cam\", \"footage\", \"exposure\", \"evf\", \"mp\", \"jpeg\", \"60fps\", \"elph\", \"gopro\", \"shutter\", \"viewfinder\", \"yongnuo\", \"moshi\", \"raw\", \"shot\", \"capture\", \"stabilization\", \"camera\", \"shoot\", \"underwater\", \"photo\", \"image\", \"zoom\", \"pic\", \"fuji\", \"sensor\", \"focus\", \"flash\", \"picture\", \"canon\", \"frame\", \"photography\", \"video\", \"mode\", \"dslr\", \"auto\", \"record\", \"take\", \"light\", \"manual\", \"sony\", \"quality\", \"use\", \"good\", \"low\", \"feature\", \"great\", \"get\", \"point\", \"digital\", \"like\", \"want\", \"one\", \"time\", \"well\", \"really\", \"look\", \"much\", \"make\", \"buy\", \"also\", \"keyboard\", \"mouse\", \"touchpad\", \"trackpad\", \"gesture\", \"wacom\", \"ipad2\", \"airbender\", \"displayport\", \"mbp\", \"trackball\", \"sharkk\", \"bamboo\", \"typist\", \"keystroke\", \"backspace\", \"unifying\", \"goflex\", \"wdtv\", \"nib\", \"pwm\", \"mousepad\", \"pc3\", \"setpoint\", \"ctrl\", \"edimax\", \"ultrathin\", \"eraser\", \"chiclet\", \"intuos\", \"key\", \"cursor\", \"pointer\", \"scrolling\", \"thrive\", \"vita\", \"scroll\", \"mx\", \"keys\", \"jot\", \"keypad\", \"dpi\", \"typing\", \"palm\", \"logitech\", \"tablet\", \"microsoft\", \"acer\", \"netbook\", \"android\", \"pen\", \"responsive\", \"apps\", \"laptop\", \"click\", \"macbook\", \"wheel\", \"touch\", \"button\", \"type\", \"finger\", \"chrome\", \"google\", \"pad\", \"use\", \"stylus\", \"screen\", \"apple\", \"feel\", \"hand\", \"like\", \"windows\", \"bluetooth\", \"ipad\", \"game\", \"work\", \"computer\", \"one\", \"really\", \"get\", \"well\", \"make\", \"good\", \"also\", \"great\", \"would\", \"much\", \"small\", \"thing\", \"device\", \"need\", \"love\", \"time\", \"amd\", \"chromebook\", \"pi\", \"microsd\", \"gpu\", \"ddr3\", \"cpu\", \"raspberry\", \"overclock\", \"ssd\", \"ssds\", \"msi\", \"sli\", \"840\", \"oc\", \"overclocked\", \"heatsink\", \"thermal\", \"i3\", \"radeon\", \"i7\", \"warner\", \"nvidia\", \"sandisk\", \"ocz\", \"geforce\", \"lexar\", \"intel\", \"sdxc\", \"noctua\", \"ram\", \"cooler\", \"mb\", \"corsair\", \"8gb\", \"32gb\", \"4gb\", \"16gb\", \"kingston\", \"mobo\", \"core\", \"i5\", \"pci\", \"2gb\", \"card\", \"bios\", \"gb\", \"motherboard\", \"usb3\", \"temp\", \"fan\", \"memory\", \"sd\", \"processor\", \"reader\", \"psu\", \"boot\", \"board\", \"graphic\", \"chip\", \"speed\", \"slot\", \"run\", \"performance\", \"drive\", \"fast\", \"windows\", \"upgrade\", \"game\", \"system\", \"write\", \"computer\", \"use\", \"video\", \"get\", \"file\", \"build\", \"read\", \"new\", \"go\", \"instal\", \"good\", \"high\", \"hood\", \"folio\", \"zipper\", \"sigma\", \"uv\", \"50mm\", \"baofeng\", \"rx100\", \"tamron\", \"lowepro\", \"300mm\", \"divider\", \"origami\", \"binoculars\", \"55mm\", \"ef\", \"nikkor\", \"5n\", \"85mm\", \"x100s\", \"roocase\", \"70d\", \"vignetting\", \"70mm\", \"usm\", \"stm\", \"135mm\", \"pelican\", \"timbuk2\", \"sew\", \"bag\", \"shoulder\", \"backpack\", \"vr\", \"bokeh\", \"monopod\", \"filter\", \"lens\", \"telescope\", \"compartment\", \"tripod\", \"strap\", \"lenses\", \"cap\", \"bottle\", \"pocket\", \"pouch\", \"ring\", \"carry\", \"sling\", \"grip\", \"gear\", \"body\", \"nikon\", \"200mm\", \"18\", \"kit\", \"focal\", \"70\", \"canon\", \"camera\", \"fit\", \"small\", \"wide\", \"use\", \"well\", \"one\", \"around\", \"make\", \"like\", \"get\", \"good\", \"need\", \"would\", \"great\", \"also\", \"hold\", \"large\", \"size\", \"buy\", \"much\"], \"Total\": [524055.0, 438438.0, 302006.0, 470815.0, 388443.0, 228462.0, 376911.0, 244051.0, 336006.0, 209290.0, 246792.0, 200783.0, 310617.0, 223514.0, 161664.0, 192586.0, 107734.0, 168134.0, 192477.0, 239356.0, 126823.0, 134526.0, 893106.0, 203273.0, 102931.0, 309128.0, 110513.0, 217068.0, 172508.0, 103773.0, 13313.02734375, 12869.712890625, 134526.609375, 4312.701171875, 16462.408203125, 3361.98876953125, 3289.423583984375, 3102.972900390625, 2899.85498046875, 2790.5517578125, 2648.982421875, 2515.542236328125, 2704.252685546875, 2083.971435546875, 6215.93505859375, 2105.576904296875, 1898.1846923828125, 2155.9619140625, 1855.880615234375, 1813.3958740234375, 1771.0975341796875, 1761.2677001953125, 2415.54150390625, 1405.6676025390625, 1362.4659423828125, 1340.4642333984375, 1208.932861328125, 1161.7257080078125, 1154.7899169921875, 1739.069091796875, 31357.89453125, 3645.966552734375, 16651.564453125, 3509.809814453125, 2185.311279296875, 1544.2877197265625, 6212.7646484375, 5463.86328125, 14574.9462890625, 81147.3984375, 41915.09765625, 47977.2265625, 9420.12109375, 8669.6875, 13989.8212890625, 14897.671875, 22231.091796875, 64278.82421875, 18797.98046875, 69370.1640625, 13472.2607421875, 22349.1796875, 54063.89453125, 23261.15625, 32897.53515625, 110675.140625, 117865.921875, 34752.5078125, 68802.421875, 123080.7578125, 58838.35546875, 139029.375, 101320.75, 30160.833984375, 69432.90625, 35126.4453125, 85011.0390625, 368416.21875, 78172.4765625, 95354.484375, 272503.6875, 242202.96875, 856276.5, 460163.5, 893106.5625, 109817.3203125, 178328.421875, 272218.1875, 443237.5, 209188.625, 1296428.375, 220739.5, 846318.625, 230893.515625, 557248.1875, 362057.0625, 257598.09375, 223379.796875, 242408.390625, 224238.265625, 376911.96875, 310715.875, 26116.30859375, 5117.703125, 3755.902587890625, 4959.79638671875, 1675.2769775390625, 1510.9876708984375, 1409.0733642578125, 1224.66748046875, 1170.9345703125, 1390.978271484375, 1150.75634765625, 993.9572143554688, 1581.814697265625, 1057.937255859375, 2342.720703125, 854.6864624023438, 833.9818115234375, 1260.8282470703125, 786.9091186523438, 5950.431640625, 737.6802368164062, 654.6835327148438, 74318.4609375, 633.9270629882812, 618.169677734375, 619.2317504882812, 573.0206298828125, 589.4161376953125, 535.3469848632812, 501.7240905761719, 96745.1953125, 30764.443359375, 7995.17919921875, 6954.98291015625, 5002.8017578125, 3041.111083984375, 4099.677734375, 3972.335205078125, 168134.328125, 2260.243896484375, 18091.865234375, 12053.4111328125, 5588.076171875, 22073.982421875, 470815.4375, 7403.79052734375, 6674.75, 3655.34765625, 29128.240234375, 14920.8466796875, 9014.189453125, 50179.56640625, 62182.59765625, 48086.3671875, 88446.40625, 24566.58984375, 72916.375, 24030.30859375, 37496.16796875, 203273.65625, 22734.685546875, 88202.640625, 26794.5703125, 27736.419921875, 232884.96875, 309128.875, 151767.34375, 34209.4296875, 34995.8203125, 59596.515625, 378858.96875, 649317.4375, 100323.015625, 464367.90625, 162495.21875, 254821.5, 605761.375, 846318.625, 163764.765625, 557248.1875, 856276.5, 795690.625, 1296428.375, 327057.9375, 362057.0625, 272218.1875, 278431.59375, 666212.5625, 354323.40625, 893106.5625, 398522.46875, 110513.71875, 82787.65625, 161664.78125, 32070.978515625, 28385.34375, 21121.2109375, 20552.029296875, 10629.4775390625, 10863.0986328125, 8499.2314453125, 8383.1923828125, 8201.5615234375, 6737.6201171875, 5783.60693359375, 6034.828125, 5271.8525390625, 4918.0068359375, 4686.00244140625, 4568.68896484375, 4597.3681640625, 4372.96923828125, 4301.6611328125, 4171.61474609375, 4787.298828125, 3877.22216796875, 3793.809326171875, 3698.885986328125, 3322.053955078125, 3126.64013671875, 3111.83837890625, 246792.3125, 52196.69921875, 14972.7373046875, 9133.4306640625, 7802.98583984375, 5161.34423828125, 438438.875, 5443.60986328125, 68786.34375, 95998.6484375, 143396.40625, 5441.8056640625, 43164.7734375, 25853.298828125, 71021.9296875, 22442.53515625, 82687.6171875, 71265.125, 22718.427734375, 38577.265625, 31808.869140625, 23660.46484375, 116797.7890625, 28133.44140625, 107465.5859375, 382507.46875, 795690.625, 57674.3046875, 189862.734375, 649317.4375, 666212.5625, 1296428.375, 376245.5, 605761.375, 856276.5, 354323.40625, 341826.59375, 257598.09375, 557248.1875, 398522.46875, 464367.90625, 846318.625, 302006.375, 24449.03515625, 14007.8759765625, 12141.265625, 11767.357421875, 11633.525390625, 15563.8359375, 4787.34375, 2942.951904296875, 2584.37890625, 2487.254638671875, 2911.53076171875, 2316.9521484375, 2323.93115234375, 2043.3985595703125, 45284.13671875, 2022.7286376953125, 2193.34130859375, 1973.3426513671875, 1810.806396484375, 1711.4083251953125, 1672.0946044921875, 1605.884033203125, 1627.68017578125, 1527.5521240234375, 1634.20947265625, 1428.3426513671875, 2212.09130859375, 1272.2396240234375, 1267.2222900390625, 39614.6328125, 36761.0078125, 47674.140625, 15929.8291015625, 45445.01953125, 9332.5419921875, 10475.744140625, 2750.900146484375, 12363.677734375, 2544.10205078125, 20804.7109375, 7230.55810546875, 15401.19921875, 126823.0234375, 65351.875, 8120.376953125, 3560.904296875, 19279.6015625, 20985.265625, 50042.0859375, 97749.6953125, 102018.515625, 67032.453125, 92405.0859375, 101147.5, 55659.2421875, 53080.39453125, 117430.609375, 58902.7890625, 77483.5703125, 92969.703125, 192477.46875, 239356.96875, 85123.328125, 257598.09375, 135882.5, 108747.96875, 171555.3125, 388443.28125, 856276.5, 1296428.375, 846318.625, 666212.5625, 795690.625, 893106.5625, 378858.96875, 309128.875, 490721.875, 649317.4375, 605761.375, 443237.5, 382507.46875, 5109.2744140625, 4886.810546875, 5319.958984375, 2898.5830078125, 2595.273681640625, 2504.072021484375, 2034.9002685546875, 2033.077392578125, 1764.402587890625, 1526.9149169921875, 1211.0213623046875, 1142.2576904296875, 1099.6861572265625, 1093.6907958984375, 959.536376953125, 947.9183349609375, 893.9226684570312, 884.412841796875, 834.5746459960938, 830.5040893554688, 826.3914794921875, 812.967529296875, 811.9488525390625, 1198.975830078125, 769.79443359375, 769.7731323242188, 742.245361328125, 731.799560546875, 730.7033081054688, 719.0616455078125, 6626.55859375, 40107.75, 3836.9521484375, 8591.0712890625, 1691.84814453125, 4012.417724609375, 16886.357421875, 6030.07470703125, 1551.395751953125, 5546.30322265625, 3355.90771484375, 55770.515625, 1662.1571044921875, 388443.28125, 310617.21875, 130916.2265625, 172508.625, 5325.09423828125, 8474.59765625, 57863.96484375, 376911.96875, 217068.9375, 42514.9140625, 68529.125, 24586.111328125, 257614.140625, 7810.31298828125, 98377.3046875, 893106.5625, 362057.0625, 70151.0234375, 176993.53125, 376245.5, 666212.5625, 48241.1484375, 444378.90625, 189338.125, 230893.515625, 490721.875, 203350.078125, 96285.53125, 178328.421875, 846318.625, 1296428.375, 605761.375, 795690.625, 557248.1875, 228701.53125, 382507.46875, 368416.21875, 856276.5, 649317.4375, 464367.90625, 22824.173828125, 4567.6201171875, 4898.2568359375, 3868.99267578125, 2840.030517578125, 3030.55126953125, 6822.26904296875, 2473.731201171875, 1803.87255859375, 4503.2373046875, 2062.820556640625, 1321.16357421875, 1270.6951904296875, 1203.1595458984375, 1169.6890869140625, 1114.267578125, 1098.37939453125, 1099.56689453125, 1007.163818359375, 1012.2316284179688, 938.71630859375, 938.71728515625, 853.4166259765625, 848.8499145507812, 845.749267578125, 867.0595703125, 776.9132690429688, 741.7244262695312, 732.5469970703125, 8163.4814453125, 244051.5, 42065.51953125, 8397.7177734375, 5413.71826171875, 3087.96240234375, 2685.919189453125, 1129.408447265625, 103773.46875, 3961.59521484375, 67826.390625, 15334.3291015625, 76936.484375, 3018.021484375, 1696.826904296875, 2393.52197265625, 15666.3271484375, 11201.458984375, 16742.916015625, 3852.536865234375, 25551.142578125, 18920.380859375, 336006.625, 6501.37548828125, 223514.046875, 92033.4765625, 75895.5625, 17513.07421875, 5685.95849609375, 12357.7724609375, 11032.8583984375, 33487.90234375, 32729.51171875, 223379.796875, 15441.2861328125, 9132.8291015625, 11342.779296875, 33466.32421875, 118548.2421875, 76245.625, 109322.9296875, 368416.21875, 257614.140625, 460163.5, 1296428.375, 846318.625, 893106.5625, 180295.84375, 856276.5, 490721.875, 443237.5, 159412.40625, 171267.8125, 557248.1875, 666212.5625, 605761.375, 649317.4375, 795690.625, 345971.96875, 217068.9375, 444378.90625, 398522.46875, 318929.8125, 5023.9833984375, 4247.16552734375, 3843.869384765625, 3806.270263671875, 2429.565185546875, 2300.732177734375, 2640.997802734375, 1990.980712890625, 1906.2601318359375, 1677.1275634765625, 2553.301025390625, 1508.8358154296875, 1307.2869873046875, 2625.970703125, 1081.123291015625, 948.5690307617188, 885.1010131835938, 866.1353759765625, 865.52294921875, 860.3499755859375, 846.5177001953125, 821.5491333007812, 822.2904663085938, 811.0409545898438, 797.3450317382812, 791.4540405273438, 783.5861206054688, 777.022705078125, 706.109375, 722.3795166015625, 18361.20703125, 16747.857421875, 13592.33203125, 4276.34130859375, 10660.056640625, 3785.13134765625, 5087.1533203125, 3967.173095703125, 1635.6727294921875, 1960.769775390625, 14276.7587890625, 20509.876953125, 11036.50390625, 2080.701416015625, 2226.971435546875, 13389.951171875, 55573.0546875, 15355.1826171875, 6689.9775390625, 524055.0, 75422.7265625, 4752.3212890625, 91439.1953125, 96445.9765625, 58391.921875, 13717.1708984375, 9774.3603515625, 27954.171875, 56524.984375, 100682.8125, 192477.46875, 79115.328125, 33510.9765625, 18635.044921875, 239356.96875, 91783.1875, 28551.015625, 36315.63671875, 52980.95703125, 345971.96875, 210702.75, 59039.57421875, 99080.46875, 382507.46875, 1296428.375, 795690.625, 131552.578125, 181647.390625, 666212.5625, 856276.5, 111736.21875, 63400.70703125, 649317.4375, 337222.40625, 846318.625, 460163.5, 605761.375, 354323.40625, 378858.96875, 341826.59375, 464367.90625, 490721.875, 398522.46875, 200783.53125, 102931.2734375, 9828.978515625, 6341.41943359375, 3790.84326171875, 3294.2470703125, 3469.1640625, 3107.826904296875, 2782.455078125, 3149.991943359375, 2453.189208984375, 1762.28759765625, 1799.8238525390625, 1677.2725830078125, 1584.08251953125, 1500.8582763671875, 1447.2685546875, 1249.0296630859375, 997.4691772460938, 1004.82470703125, 974.2943115234375, 887.1446533203125, 867.9816284179688, 850.9356079101562, 1161.0687255859375, 819.2846069335938, 815.5958251953125, 1096.705078125, 774.9366455078125, 749.9491577148438, 84937.5, 3657.87255859375, 2784.026123046875, 2243.903076171875, 1922.103759765625, 1044.6495361328125, 15298.0595703125, 2917.358642578125, 2240.497802734375, 1511.89013671875, 3419.20361328125, 2487.186767578125, 6128.29443359375, 5788.26904296875, 35289.921875, 192586.3125, 20274.32421875, 12252.638671875, 11144.2099609375, 50742.33203125, 23656.314453125, 14215.32421875, 55767.28125, 189338.125, 39673.56640625, 39026.95703125, 14044.7021484375, 88873.7421875, 162459.953125, 89434.796875, 30305.5390625, 12331.1689453125, 38854.7734375, 45092.859375, 1296428.375, 28948.599609375, 309128.875, 97488.875, 162495.21875, 92685.578125, 649317.4375, 110610.2421875, 107465.5859375, 203273.65625, 90569.1484375, 893106.5625, 230893.515625, 846318.625, 354323.40625, 856276.5, 605761.375, 464367.90625, 795690.625, 398522.46875, 666212.5625, 557248.1875, 341826.59375, 246028.140625, 282129.09375, 368416.21875, 444378.90625, 198998.09375, 460163.5, 10536.189453125, 10291.6923828125, 6297.70361328125, 7793.951171875, 7097.79736328125, 4357.23974609375, 27603.232421875, 3922.0595703125, 3667.72412109375, 43654.73046875, 3779.076171875, 3505.023193359375, 3250.072021484375, 3082.0546875, 2860.784912109375, 2769.06689453125, 2713.3359375, 2780.377197265625, 2688.859130859375, 2709.076904296875, 8734.9697265625, 2497.230712890625, 6243.265625, 15831.40234375, 2300.838623046875, 2238.64501953125, 2277.287109375, 20563.521484375, 1878.785888671875, 1819.49609375, 32804.7421875, 18336.2109375, 22665.4453125, 11690.45703125, 9469.8642578125, 10478.9619140625, 8189.9423828125, 9674.056640625, 6312.3994140625, 4852.521484375, 20094.18359375, 6129.177734375, 6695.17138671875, 5666.0126953125, 228462.03125, 12419.419921875, 33780.71484375, 22321.50390625, 7714.0244140625, 6857.9912109375, 74782.359375, 67385.8359375, 50481.48828125, 25992.591796875, 25257.78125, 7821.6240234375, 33726.4609375, 32367.962890625, 23620.6875, 13913.9501953125, 128319.4453125, 37296.890625, 190591.46875, 75695.84375, 376911.96875, 144371.875, 110610.2421875, 67217.9375, 90569.1484375, 164193.8125, 58636.08984375, 230893.515625, 1296428.375, 239356.96875, 856276.5, 101320.75, 118851.6484375, 129301.640625, 242408.390625, 443237.5, 79433.359375, 795690.625, 189862.734375, 14046.7021484375, 9234.9033203125, 18263.37109375, 5982.830078125, 7045.85986328125, 7420.9599609375, 3578.644775390625, 3220.879150390625, 3140.0556640625, 3191.57177734375, 3125.372314453125, 2815.77490234375, 2613.947509765625, 2701.37841796875, 3690.531982421875, 3485.372802734375, 2235.726806640625, 2091.792236328125, 2074.439453125, 1993.728271484375, 1898.19970703125, 1801.9315185546875, 1800.318115234375, 1655.355224609375, 1622.1602783203125, 1426.3544921875, 1299.466064453125, 1315.39208984375, 1137.45068359375, 1137.5186767578125, 107734.9921875, 13828.9443359375, 24995.609375, 2868.94287109375, 3294.87744140625, 4445.38720703125, 35674.3828125, 209290.921875, 2164.366943359375, 20279.185546875, 43357.4609375, 62139.71875, 8472.7705078125, 24698.986328125, 4178.93994140625, 65107.828125, 13172.1201171875, 20970.625, 81607.640625, 5076.9375, 39936.81640625, 16674.072265625, 30064.220703125, 50571.9609375, 4972.61083984375, 20557.7578125, 36659.83203125, 6075.10791015625, 19077.900390625, 79115.328125, 524055.0, 232884.96875, 246028.140625, 36502.3203125, 1296428.375, 605761.375, 846318.625, 172188.15625, 464367.90625, 649317.4375, 856276.5, 795690.625, 444378.90625, 557248.1875, 666212.5625, 398522.46875, 151767.34375, 115876.65625, 152533.34375, 490721.875, 341826.59375], \"loglift\": [30.0, 29.0, 28.0, 27.0, 26.0, 25.0, 24.0, 23.0, 22.0, 21.0, 20.0, 19.0, 18.0, 17.0, 16.0, 15.0, 14.0, 13.0, 12.0, 11.0, 10.0, 9.0, 8.0, 7.0, 6.0, 5.0, 4.0, 3.0, 2.0, 1.0, 1.9063999652862549, 1.9063999652862549, 1.9062999486923218, 1.9062000513076782, 1.9062000513076782, 1.9062000513076782, 1.9062000513076782, 1.9062000513076782, 1.9061000347137451, 1.9061000347137451, 1.9061000347137451, 1.9061000347137451, 1.9061000347137451, 1.906000018119812, 1.906000018119812, 1.906000018119812, 1.906000018119812, 1.906000018119812, 1.906000018119812, 1.906000018119812, 1.906000018119812, 1.905900001525879, 1.905900001525879, 1.9057999849319458, 1.9057999849319458, 1.9057999849319458, 1.9056999683380127, 1.9056999683380127, 1.9056999683380127, 1.9056999683380127, 1.9046000242233276, 1.9039000272750854, 1.885699987411499, 1.9010000228881836, 1.905500054359436, 1.9055999517440796, 1.8909000158309937, 1.892899990081787, 1.8695000410079956, 1.8323999643325806, 1.8456000089645386, 1.7907999753952026, 1.8521000146865845, 1.8539999723434448, 1.8314000368118286, 1.8179999589920044, 1.7935999631881714, 1.7354999780654907, 1.7994999885559082, 1.6967999935150146, 1.7932000160217285, 1.7460999488830566, 1.6734000444412231, 1.7338000535964966, 1.6993999481201172, 1.5857000350952148, 1.576799988746643, 1.6830999851226807, 1.6086000204086304, 1.4983999729156494, 1.582800030708313, 1.4577000141143799, 1.492900013923645, 1.6514999866485596, 1.4520000219345093, 1.5882999897003174, 1.3330999612808228, 0.8651999831199646, 1.3043999671936035, 1.2080999612808228, 0.8014000058174133, 0.8339999914169312, 0.30329999327659607, 0.5112000107765198, 0.21439999341964722, 1.104699969291687, 0.8889999985694885, 0.6498000025749207, 0.3447999954223633, 0.73580002784729, -0.3127000033855438, 0.6933000087738037, -0.11999999731779099, 0.6464999914169312, 0.052400000393390656, 0.3181999921798706, 0.5501000285148621, 0.6273999810218811, 0.5321000218391418, 0.5529999732971191, 0.10700000077486038, 0.18050000071525574, 2.0624001026153564, 2.062299966812134, 2.0622000694274902, 2.062000036239624, 2.0618999004364014, 2.061800003051758, 2.061800003051758, 2.0617001056671143, 2.0617001056671143, 2.0617001056671143, 2.0617001056671143, 2.061500072479248, 2.061500072479248, 2.061500072479248, 2.061500072479248, 2.0613999366760254, 2.0613999366760254, 2.061300039291382, 2.061300039291382, 2.0611000061035156, 2.0611000061035156, 2.0611000061035156, 2.0611000061035156, 2.061000108718872, 2.061000108718872, 2.0608999729156494, 2.0608999729156494, 2.0608999729156494, 2.060800075531006, 2.060699939727783, 2.0434000492095947, 2.049799919128418, 2.0601999759674072, 2.058199882507324, 2.059299945831299, 2.0606000423431396, 2.0560998916625977, 2.055999994277954, 2.0141000747680664, 2.0536999702453613, 2.0236001014709473, 2.0230000019073486, 2.0355000495910645, 2.0032999515533447, 1.9347000122070312, 2.022200107574463, 2.0220999717712402, 2.035799980163574, 1.9686000347137451, 1.9866000413894653, 2.0034000873565674, 1.9278000593185425, 1.9141000509262085, 1.8812999725341797, 1.8214999437332153, 1.9078999757766724, 1.819700002670288, 1.8944000005722046, 1.854200005531311, 1.6478999853134155, 1.8616000413894653, 1.684399962425232, 1.7812000513076782, 1.7592999935150146, 1.3547999858856201, 1.2940000295639038, 1.426900029182434, 1.7173999547958374, 1.6811000108718872, 1.5032999515533447, 0.7965999841690063, 0.5291000008583069, 1.2347999811172485, 0.5853999853134155, 1.0154000520706177, 0.8108999729156494, 0.4090000092983246, 0.210999995470047, 0.9743000268936157, 0.3280999958515167, 0.039799999445676804, 0.058400001376867294, -0.23080000281333923, 0.5468999743461609, 0.46950000524520874, 0.6359000205993652, 0.5982999801635742, -0.03880000114440918, 0.35269999504089355, -0.5340999960899353, 0.12330000102519989, 2.1319000720977783, 2.1319000720977783, 2.1319000720977783, 2.1319000720977783, 2.1319000720977783, 2.1319000720977783, 2.1317999362945557, 2.1317999362945557, 2.1317999362945557, 2.1317999362945557, 2.1317999362945557, 2.1317999362945557, 2.1317999362945557, 2.1317999362945557, 2.131700038909912, 2.131700038909912, 2.131700038909912, 2.131700038909912, 2.131700038909912, 2.131700038909912, 2.131700038909912, 2.131700038909912, 2.131700038909912, 2.131700038909912, 2.131700038909912, 2.131700038909912, 2.131700038909912, 2.1315999031066895, 2.1315999031066895, 2.1315999031066895, 2.1282999515533447, 2.130000114440918, 2.1298999786376953, 2.131200075149536, 2.1315999031066895, 2.129300117492676, 2.0653998851776123, 2.1273000240325928, 2.0627999305725098, 2.0204999446868896, 1.9652999639511108, 2.123300075531006, 1.9937000274658203, 2.023699998855591, 1.919700026512146, 2.000699996948242, 1.8813999891281128, 1.8385000228881836, 1.9641000032424927, 1.878000020980835, 1.8805999755859375, 1.926800012588501, 1.6153000593185425, 1.8495999574661255, 1.4765000343322754, 1.058899998664856, 0.6229000091552734, 1.531599998474121, 0.946399986743927, 0.19830000400543213, 0.13500000536441803, -0.2646999955177307, 0.42250001430511475, 0.10899999737739563, -0.1136000007390976, 0.375, 0.3278000056743622, 0.4864000082015991, -0.10849999636411667, 0.11060000211000443, -0.02070000022649765, -0.5508999824523926, 2.2762999534606934, 2.2762999534606934, 2.2762999534606934, 2.2762999534606934, 2.2762999534606934, 2.2762999534606934, 2.2762999534606934, 2.27620005607605, 2.276099920272827, 2.2760000228881836, 2.2760000228881836, 2.2760000228881836, 2.2760000228881836, 2.2760000228881836, 2.275899887084961, 2.275899887084961, 2.275899887084961, 2.275899887084961, 2.275899887084961, 2.275899887084961, 2.2757999897003174, 2.2757999897003174, 2.2757999897003174, 2.2757999897003174, 2.2757999897003174, 2.2757999897003174, 2.275700092315674, 2.275700092315674, 2.275700092315674, 2.275700092315674, 2.2751998901367188, 2.2748000621795654, 2.265000104904175, 2.275599956512451, 2.2583000659942627, 2.2737998962402344, 2.2672998905181885, 2.275599956512451, 2.2600998878479004, 2.2755000591278076, 2.254300117492676, 2.2646000385284424, 2.256500005722046, 2.2335000038146973, 2.2095999717712402, 2.2509000301361084, 2.2634999752044678, 2.2056000232696533, 2.1763999462127686, 2.1296000480651855, 2.0699000358581543, 2.0659000873565674, 2.044100046157837, 1.9944000244140625, 1.9541000127792358, 2.017899990081787, 2.0, 1.7792999744415283, 1.9035999774932861, 1.6166000366210938, 1.5365999937057495, 1.239799976348877, 1.1318999528884888, 1.5089000463485718, 0.9853000044822693, 1.2526999711990356, 1.3550000190734863, 1.1282999515533447, 0.5734000205993652, 0.05350000038743019, -0.24210000038146973, -0.07039999961853027, 0.03350000083446503, -0.15770000219345093, -0.2736000120639801, 0.29409998655319214, 0.44279998540878296, 0.0010999999940395355, -0.27379998564720154, -0.25920000672340393, 0.025499999523162842, 0.15950000286102295, 2.3169000148773193, 2.3169000148773193, 2.3169000148773193, 2.316800117492676, 2.316800117492676, 2.316800117492676, 2.316699981689453, 2.316699981689453, 2.3166000843048096, 2.316499948501587, 2.3164000511169434, 2.3162999153137207, 2.3162999153137207, 2.3162999153137207, 2.316200017929077, 2.316200017929077, 2.3160998821258545, 2.3160998821258545, 2.3160998821258545, 2.3160998821258545, 2.3160998821258545, 2.315999984741211, 2.315999984741211, 2.315999984741211, 2.315999984741211, 2.315999984741211, 2.3159000873565674, 2.3159000873565674, 2.3159000873565674, 2.3159000873565674, 2.312299966812134, 2.288100004196167, 2.3043999671936035, 2.2962000370025635, 2.3087000846862793, 2.299799919128418, 2.2685000896453857, 2.2834999561309814, 2.30430006980896, 2.2708001136779785, 2.281399965286255, 2.1737000942230225, 2.2925000190734863, 2.068700075149536, 2.0782999992370605, 2.086400032043457, 2.020699977874756, 2.228300094604492, 2.1919000148773193, 2.0297000408172607, 1.822700023651123, 1.7813999652862549, 1.9520000219345093, 1.8859000205993652, 1.985700011253357, 1.5586999654769897, 2.1110000610351562, 1.6469000577926636, 1.1648999452590942, 1.2254999876022339, 1.594599962234497, 1.371500015258789, 1.1348999738693237, 0.9728000164031982, 1.6298999786376953, 0.9912999868392944, 1.218000054359436, 1.1549999713897705, 0.8464999794960022, 1.1368000507354736, 1.3799999952316284, 1.1347999572753906, 0.524399995803833, 0.2206999957561493, 0.5453000068664551, 0.35269999504089355, 0.3707999885082245, 0.8037999868392944, 0.4343000054359436, 0.39149999618530273, -0.3456000089645386, -0.2207999974489212, 0.0658000037074089, 2.3401999473571777, 2.340100049972534, 2.340100049972534, 2.340100049972534, 2.3399999141693115, 2.3399999141693115, 2.3399999141693115, 2.339900016784668, 2.3397998809814453, 2.3397998809814453, 2.3396999835968018, 2.3396999835968018, 2.339600086212158, 2.339600086212158, 2.339600086212158, 2.3394999504089355, 2.3394999504089355, 2.3394999504089355, 2.3394999504089355, 2.3394999504089355, 2.339400053024292, 2.339400053024292, 2.3392999172210693, 2.3392999172210693, 2.3392999172210693, 2.3392999172210693, 2.339200019836426, 2.339200019836426, 2.339099884033203, 2.339099884033203, 2.33270001411438, 2.330699920654297, 2.3389999866485596, 2.334399938583374, 2.3387999534606934, 2.3382999897003174, 2.338099956512451, 2.2929000854492188, 2.3254001140594482, 2.286600112915039, 2.304800033569336, 2.2630999088287354, 2.3225998878479004, 2.3329999446868896, 2.3243000507354736, 2.2853000164031982, 2.2862000465393066, 2.2701001167297363, 2.313199996948242, 2.2479000091552734, 2.243000030517578, 2.100600004196167, 2.284899950027466, 2.014699935913086, 2.0583999156951904, 2.0030999183654785, 2.1331000328063965, 2.2525999546051025, 2.1366000175476074, 2.13700008392334, 1.914199948310852, 1.9085999727249146, 1.4954999685287476, 2.0204999446868896, 2.1558001041412354, 2.0945000648498535, 1.7806999683380127, 1.3964999914169312, 1.4387999773025513, 1.3100999593734741, 0.8586999773979187, 0.9656000137329102, 0.7391999959945679, 0.2809000015258789, 0.4242999851703644, 0.30219998955726624, 1.0038000345230103, 0.121799997985363, 0.28700000047683716, 0.3264999985694885, 0.9125000238418579, 0.8174999952316284, 0.03720000013709068, -0.08470000326633453, -0.06989999860525131, -0.12720000743865967, -0.325300008058548, 0.2856000065803528, 0.6373000144958496, 0.06260000169277191, 0.07450000196695328, 0.2700999975204468, 2.365499973297119, 2.3654000759124756, 2.3654000759124756, 2.365299940109253, 2.365299940109253, 2.365299940109253, 2.365299940109253, 2.3652000427246094, 2.3652000427246094, 2.3650999069213867, 2.3650999069213867, 2.3650999069213867, 2.3649001121520996, 2.364799976348877, 2.364799976348877, 2.3647000789642334, 2.3647000789642334, 2.3645999431610107, 2.3645999431610107, 2.3645999431610107, 2.3645999431610107, 2.3645999431610107, 2.3645999431610107, 2.3645999431610107, 2.3645999431610107, 2.364500045776367, 2.364500045776367, 2.364500045776367, 2.3643999099731445, 2.3643999099731445, 2.36299991607666, 2.3629000186920166, 2.3610000610351562, 2.3636999130249023, 2.3536999225616455, 2.363300085067749, 2.356600046157837, 2.3571999073028564, 2.362799882888794, 2.3573999404907227, 2.3375000953674316, 2.329200029373169, 2.331399917602539, 2.353800058364868, 2.352299928665161, 2.3164000511169434, 2.284600019454956, 2.308000087738037, 2.328700065612793, 2.1928000450134277, 2.2393999099731445, 2.3308000564575195, 2.2070000171661377, 2.1914000511169434, 2.2086000442504883, 2.277100086212158, 2.287100076675415, 2.147900104522705, 2.0552000999450684, 1.9301999807357788, 1.832200050354004, 1.9256999492645264, 2.0209999084472656, 2.101900100708008, 1.5750000476837158, 1.6816999912261963, 1.9407000541687012, 1.833899974822998, 1.731600046157837, 1.2101999521255493, 1.3265000581741333, 1.6299999952316284, 1.405900001525879, 0.7835999727249146, 0.17980000376701355, 0.3693000078201294, 1.1233999729156494, 0.9241999983787537, 0.16189999878406525, 0.017000000923871994, 1.1521999835968018, 1.4967000484466553, -0.07620000094175339, 0.32420000433921814, -0.38989999890327454, 0.05640000104904175, -0.16609999537467957, 0.19629999995231628, 0.11050000041723251, 0.18970000743865967, -0.08630000054836273, -0.14499999582767487, 0.0502999983727932, 2.387399911880493, 2.387399911880493, 2.387399911880493, 2.3873000144958496, 2.387200117111206, 2.387200117111206, 2.387200117111206, 2.387200117111206, 2.3870999813079834, 2.3870999813079834, 2.3870999813079834, 2.38700008392334, 2.38700008392334, 2.386899948120117, 2.386899948120117, 2.386899948120117, 2.3868000507354736, 2.386699914932251, 2.3866000175476074, 2.3866000175476074, 2.3864998817443848, 2.3864998817443848, 2.386399984359741, 2.386399984359741, 2.386399984359741, 2.386399984359741, 2.386399984359741, 2.3863000869750977, 2.3863000869750977, 2.3863000869750977, 2.3733999729156494, 2.384999990463257, 2.3845999240875244, 2.385999917984009, 2.384399890899658, 2.386199951171875, 2.3524999618530273, 2.373500108718872, 2.37280011177063, 2.371999979019165, 2.3385000228881836, 2.349100112915039, 2.302299976348877, 2.2960000038146973, 2.1861000061035156, 2.0625, 2.1730000972747803, 2.181299924850464, 2.172300100326538, 1.9682999849319458, 2.049099922180176, 2.0938000679016113, 1.881600022315979, 1.6485999822616577, 1.8869999647140503, 1.8733999729156494, 2.057800054550171, 1.6482000350952148, 1.5029000043869019, 1.6131999492645264, 1.8116999864578247, 2.0280001163482666, 1.690600037574768, 1.6440000534057617, 0.5722000002861023, 1.746500015258789, 0.9663000106811523, 1.2999000549316406, 1.1061999797821045, 1.2955000400543213, 0.515999972820282, 1.215000033378601, 1.2072999477386475, 0.8956000208854675, 1.216599941253662, 0.08420000225305557, 0.6923999786376953, -0.035599999129772186, 0.4262999892234802, -0.08749999850988388, -0.00279999990016222, 0.16509999334812164, -0.20880000293254852, 0.24369999766349792, -0.13920000195503235, -0.06719999760389328, 0.2784000039100647, 0.5367000102996826, 0.40230000019073486, 0.13729999959468842, -0.06870000064373016, 0.6815000176429749, -0.11760000139474869, 2.7667999267578125, 2.7667999267578125, 2.766700029373169, 2.766700029373169, 2.766700029373169, 2.766700029373169, 2.7665998935699463, 2.7665998935699463, 2.7665998935699463, 2.7665998935699463, 2.7665998935699463, 2.7665998935699463, 2.7665998935699463, 2.7665998935699463, 2.7665998935699463, 2.7664999961853027, 2.7664999961853027, 2.7664999961853027, 2.7664999961853027, 2.7664999961853027, 2.7664999961853027, 2.7664999961853027, 2.7664999961853027, 2.7664999961853027, 2.7664999961853027, 2.7664999961853027, 2.7664999961853027, 2.766400098800659, 2.766400098800659, 2.766400098800659, 2.765500068664551, 2.766400098800659, 2.759700059890747, 2.766200065612793, 2.7639999389648438, 2.762700080871582, 2.7637999057769775, 2.7620999813079834, 2.765399932861328, 2.765899896621704, 2.750499963760376, 2.762200117111206, 2.760699987411499, 2.7611000537872314, 2.7095999717712402, 2.753200054168701, 2.72979998588562, 2.737499952316284, 2.753999948501587, 2.7565999031066895, 2.649399995803833, 2.607800006866455, 2.609299898147583, 2.6426000595092773, 2.64490008354187, 2.7441999912261963, 2.4590001106262207, 2.460599899291992, 2.4855000972747803, 2.588099956512451, 1.8952000141143799, 2.262399911880493, 1.6133999824523926, 1.9271999597549438, 1.2704999446868896, 1.5680999755859375, 1.6022000312805176, 1.840000033378601, 1.62909996509552, 1.162600040435791, 1.7653000354766846, 0.8657000064849854, -0.42489999532699585, 0.7325000166893005, -0.2533000111579895, 1.3651000261306763, 1.214900016784668, 1.124400019645691, 0.5034999847412109, -0.12020000070333481, 1.5400999784469604, -0.7400000095367432, 0.6721000075340271, 2.821500062942505, 2.821500062942505, 2.821500062942505, 2.8213999271392822, 2.8213999271392822, 2.8213999271392822, 2.8213999271392822, 2.8213000297546387, 2.8213000297546387, 2.8213000297546387, 2.8213000297546387, 2.8213000297546387, 2.8213000297546387, 2.8213000297546387, 2.8213000297546387, 2.821199893951416, 2.821199893951416, 2.821199893951416, 2.821199893951416, 2.821199893951416, 2.8210999965667725, 2.8210999965667725, 2.8210999965667725, 2.8210999965667725, 2.8210999965667725, 2.821000099182129, 2.8208999633789062, 2.8208999633789062, 2.8208999633789062, 2.8208000659942627, 2.8206000328063965, 2.814300060272217, 2.8032000064849854, 2.819700002670288, 2.817199945449829, 2.8125, 2.7795000076293945, 2.703000068664551, 2.8173999786376953, 2.73580002784729, 2.646199941635132, 2.6214001178741455, 2.723900079727173, 2.643699884414673, 2.763200044631958, 2.4690001010894775, 2.6375999450683594, 2.579900026321411, 2.3357999324798584, 2.736299991607666, 2.4082999229431152, 2.5420000553131104, 2.4284000396728516, 2.253499984741211, 2.724600076675415, 2.354099988937378, 2.172499895095825, 2.663800001144409, 2.2994000911712646, 1.7884999513626099, 0.9797999858856201, 1.2502000331878662, 1.0898000001907349, 1.9163999557495117, -0.13439999520778656, 0.2669000029563904, -0.10189999639987946, 0.906499981880188, 0.22619999945163727, -0.01730000041425228, -0.27399998903274536, -0.24950000643730164, 0.13850000500679016, -0.04230000078678131, -0.27889999747276306, 0.13529999554157257, 0.9128999710083008, 1.1414999961853027, 0.8748000264167786, -0.2590000033378601, 0.0746999979019165], \"logprob\": [30.0, 29.0, 28.0, 27.0, 26.0, 25.0, 24.0, 23.0, 22.0, 21.0, 20.0, 19.0, 18.0, 17.0, 16.0, 15.0, 14.0, 13.0, 12.0, 11.0, 10.0, 9.0, 8.0, 7.0, 6.0, 5.0, 4.0, 3.0, 2.0, 1.0, -7.00600004196167, -7.039899826049805, -4.692999839782715, -8.133299827575684, -6.793799877166748, -8.382399559020996, -8.404199600219727, -8.462599754333496, -8.53030014038086, -8.568699836730957, -8.620800018310547, -8.672499656677246, -8.600199699401855, -8.860799789428711, -7.76800012588501, -8.850500106811523, -8.95419979095459, -8.826899528503418, -8.976799964904785, -8.999899864196777, -9.023500442504883, -9.02910041809082, -8.713299751281738, -9.254799842834473, -9.28600025177002, -9.302300453186035, -9.405599594116211, -9.445500373840332, -9.451499938964844, -9.042099952697754, -6.151000022888184, -8.303600311279297, -6.8028998374938965, -8.344499588012695, -8.813899993896484, -9.160900115966797, -7.783599853515625, -7.909999847412109, -6.952300071716309, -5.27239990234375, -5.919899940490723, -5.8394999504089355, -7.406099796295166, -7.487199783325195, -7.031400203704834, -6.981900215148926, -6.605999946594238, -5.602399826049805, -6.767899990081787, -5.564799785614014, -7.1072001457214355, -6.648200035095215, -5.837500095367432, -6.620500087738037, -6.308300018310547, -5.208799839019775, -5.154799938201904, -6.269800186157227, -5.661300182342529, -5.189899921417236, -5.843500137329102, -5.108699798583984, -5.389900207519531, -6.442999839782715, -5.808800220489502, -6.353799819946289, -5.725299835205078, -4.7266998291015625, -5.837699890136719, -5.735400199890137, -5.092100143432617, -5.177299976348877, -4.445199966430664, -4.85830020904541, -4.4918999671936035, -5.697500228881836, -5.428400039672852, -5.244699954986572, -5.06220006942749, -5.422100067138672, -4.646399974822998, -5.410799980163574, -4.880199909210205, -5.412600040435791, -5.125699996948242, -5.291100025177002, -5.399600028991699, -5.464799880981445, -5.478400230407715, -5.535399913787842, -5.461999893188477, -5.581699848175049, -6.176199913024902, -7.806099891662598, -8.115599632263184, -7.837699890136719, -8.923199653625488, -9.02649974822998, -9.09630012512207, -9.236700057983398, -9.281599998474121, -9.109399795532227, -9.298999786376953, -9.445599555969238, -8.980999946594238, -9.383299827575684, -8.588299751281738, -9.596699714660645, -9.621299743652344, -9.208000183105469, -9.679400444030762, -7.656499862670898, -9.74429988861084, -9.86359977722168, -5.131700038909912, -9.895899772644043, -9.921099662780762, -9.919500350952148, -9.996999740600586, -9.968799591064453, -10.065099716186523, -10.13010025024414, -4.8856000900268555, -6.024899959564209, -7.361999988555908, -7.503399848937988, -7.8317999839782715, -8.328200340270996, -8.034000396728516, -8.065699577331543, -4.362299919128418, -8.6318998336792, -6.582099914550781, -6.988699913024902, -7.744900226593018, -6.40339994430542, -3.4119999408721924, -7.476900100708008, -7.580699920654297, -8.169099807739258, -6.160799980163574, -6.811699867248535, -7.298900127410889, -5.657599925994873, -5.456900119781494, -5.746799945831299, -5.197199821472168, -6.3917999267578125, -5.392000198364258, -6.427299976348877, -6.022600173950195, -4.538599967956543, -6.515600204467773, -5.337100028991699, -6.431600093841553, -6.419000148773193, -4.695799827575684, -4.473299980163574, -5.051799774169922, -6.251200199127197, -6.264800071716309, -5.910200119018555, -4.767300128936768, -4.496099948883057, -5.657899856567383, -4.775000095367432, -5.394999980926514, -5.149600028991699, -4.6855998039245605, -4.549200057983398, -5.428400039672852, -4.849999904632568, -4.708700180053711, -4.763500213623047, -4.564599990844727, -5.164100170135498, -5.139800071716309, -5.258600234985352, -5.27370023727417, -5.038300037384033, -5.278200149536133, -5.240499973297119, -5.389999866485596, -4.664100170135498, -4.952899932861328, -4.283699989318848, -5.901299953460693, -6.0233001708984375, -6.318999767303467, -6.34630012512207, -7.0055999755859375, -6.98390007019043, -7.229300022125244, -7.243100166320801, -7.264999866485596, -7.461599826812744, -7.614299774169922, -7.571800231933594, -7.706999778747559, -7.776500225067139, -7.82480001449585, -7.850200176239014, -7.843900203704834, -7.893899917602539, -7.910399913787842, -7.941100120544434, -7.803400039672852, -8.014300346374512, -8.03600025177002, -8.061400413513184, -8.168899536132812, -8.229499816894531, -8.234299659729004, -3.8642001152038574, -5.416100025177002, -6.664899826049805, -7.1579999923706055, -7.315000057220459, -7.730599880218506, -3.3524999618530273, -7.6793999671936035, -5.207300186157227, -4.916299819946289, -4.570199966430664, -7.683700084686279, -5.742400169372559, -6.224999904632568, -5.318399906158447, -6.389400005340576, -5.204599857330322, -5.396200180053711, -6.413899898529053, -5.970399856567383, -6.160799980163574, -6.4105000495910645, -5.125400066375732, -6.314499855041504, -5.347400188446045, -4.4953999519348145, -4.198999881744385, -5.914700031280518, -5.3084001541137695, -4.826900005340576, -4.864500045776367, -4.598400115966797, -5.148399829864502, -4.985599994659424, -4.862100124359131, -5.255899906158447, -5.339000225067139, -5.4633002281188965, -5.286600112915039, -5.402699947357178, -5.381100177764893, -5.311100006103516, -3.5143001079559326, -6.028200149536133, -6.58519983291626, -6.7281999588012695, -6.759500026702881, -6.770899772644043, -6.479899883270264, -7.658999919891357, -8.145600318908691, -8.27560043334961, -8.313899993896484, -8.156399726867676, -8.384900093078613, -8.3818998336792, -8.510600090026855, -5.412199974060059, -8.520700454711914, -8.439800262451172, -8.545499801635742, -8.631500244140625, -8.687899589538574, -8.711199760437012, -8.75160026550293, -8.738100051879883, -8.801600456237793, -8.734199523925781, -8.868800163269043, -8.431400299072266, -8.984600067138672, -8.98859977722168, -5.5467000007629395, -5.6219000816345215, -5.371799945831299, -6.457300186157227, -5.426300048828125, -6.993800163269043, -6.884699821472168, -8.213600158691406, -6.726200103759766, -8.291799545288086, -6.211599826812744, -7.258200168609619, -6.5100998878479, -4.424799919128418, -5.111700057983398, -7.155799865722656, -7.967599868774414, -6.336400032043457, -6.280900001525879, -5.458600044250488, -4.848800182342529, -4.810100078582764, -5.251800060272217, -4.980500221252441, -4.9303998947143555, -5.464000225067139, -5.529300212860107, -4.955999851226807, -5.521599769592285, -5.53439998626709, -5.432199954986572, -5.001299858093262, -4.891200065612793, -5.548099994659424, -4.964399814605713, -5.336699962615967, -5.457099914550781, -5.22790002822876, -4.9654998779296875, -4.695000171661377, -4.575799942016602, -4.830599784851074, -4.966000080108643, -4.979599952697754, -4.980000019073486, -5.269800186157227, -5.32450008392334, -5.304100036621094, -5.298999786376953, -5.353799819946289, -5.381499767303467, -5.394800186157227, -7.553100109100342, -7.597599983215332, -7.512700080871582, -8.120100021362305, -8.230600357055664, -8.266400337219238, -8.473999977111816, -8.474900245666504, -8.616700172424316, -8.761300086975098, -8.993200302124023, -9.0516996383667, -9.089799880981445, -9.095199584960938, -9.226200103759766, -9.23840045928955, -9.297100067138672, -9.30780029296875, -9.365900039672852, -9.370800018310547, -9.375699996948242, -9.39210033416748, -9.393400192260742, -9.003600120544434, -9.446800231933594, -9.446800231933594, -9.483200073242188, -9.497400283813477, -9.498900413513184, -9.515000343322754, -7.297699928283691, -5.521500110626221, -7.852099895477295, -7.054200172424316, -8.666600227355957, -7.8119001388549805, -6.406099796295166, -7.42080020904541, -8.757699966430664, -7.517199993133545, -8.008999824523926, -5.30620002746582, -8.700400352478027, -3.4702999591827393, -3.684299945831299, -4.540200233459473, -4.329999923706055, -7.600399971008301, -7.172100067138672, -5.413300037384033, -3.7464001178741455, -4.3394999504089355, -5.799300193786621, -5.387899875640869, -6.313199996948242, -4.390900135040283, -7.334700107574463, -5.265399932861328, -3.5415000915527344, -4.383800029754639, -5.655900001525879, -4.953499794006348, -4.4359002113342285, -4.026700019836426, -5.994999885559082, -4.413099765777588, -5.039599895477295, -4.904200077056885, -4.458700180053711, -5.0493998527526855, -5.553800106048584, -5.182700157165527, -4.235799789428711, -4.11299991607666, -4.549300193786621, -4.469200134277344, -4.807300090789795, -5.264900207519531, -5.120100021362305, -5.200399875640869, -5.094099998474121, -5.2459001541137695, -5.294600009918213, -6.033100128173828, -7.642000198364258, -7.5721001625061035, -7.808000087738037, -8.117300033569336, -8.052300453186035, -7.240900039672852, -8.255499839782715, -8.57129955291748, -7.656499862670898, -8.437299728393555, -8.88290023803711, -8.921899795532227, -8.976499557495117, -9.004799842834473, -9.053400039672852, -9.067700386047363, -9.066699981689453, -9.154500007629395, -9.149499893188477, -9.224900245666504, -9.224900245666504, -9.320300102233887, -9.325699806213379, -9.329299926757812, -9.304499626159668, -9.414299964904785, -9.460700035095215, -9.473199844360352, -7.062300205230713, -3.6710000038146973, -5.43120002746582, -7.03410005569458, -7.477799892425537, -8.034700393676758, -8.174699783325195, -9.041299819946289, -4.565999984741211, -7.799099922180176, -4.997600078582764, -6.46619987487793, -4.894999980926514, -8.07390022277832, -8.639399528503418, -8.303999900817871, -6.464300155639648, -6.798799991607666, -6.413000106811523, -7.839200019836426, -6.012499809265137, -6.317800045013428, -3.583400011062622, -7.344200134277344, -4.076900005340576, -4.920499801635742, -5.168600082397461, -6.505000114440918, -7.510499954223633, -6.850200176239014, -6.9633002281188965, -6.075699806213379, -6.1041998863220215, -4.596700191497803, -6.743599891662598, -7.133399963378906, -6.978000164031982, -6.209799766540527, -5.32919979095459, -5.728400230407715, -5.496699810028076, -4.7332000732421875, -4.984000205993652, -4.630300045013428, -4.0528998374938965, -4.335899829864502, -4.404200077056885, -5.302700042724609, -4.626699924468994, -5.0183000564575195, -5.08050012588501, -5.517099857330322, -5.54040002822876, -5.140900135040283, -5.084199905395508, -5.1645002365112305, -5.152400016784668, -5.147200107574463, -5.369200229644775, -5.48360013961792, -5.341800212860107, -5.438799858093262, -5.466000080108643, -7.521399974822998, -7.6894001960754395, -7.7891998291015625, -7.799200057983398, -8.248100280761719, -8.302599906921387, -8.16469955444336, -8.44729995727539, -8.490799903869629, -8.618900299072266, -8.198599815368652, -8.724699974060059, -8.868300437927246, -8.17080020904541, -9.058300018310547, -9.189200401306152, -9.258500099182129, -9.280200004577637, -9.280900001525879, -9.28689956665039, -9.303099632263184, -9.333100318908691, -9.332200050354004, -9.345999717712402, -9.36299991607666, -9.370400428771973, -9.380399703979492, -9.388899803161621, -9.484700202941895, -9.461899757385254, -6.22790002822876, -6.319900035858154, -6.530600070953369, -7.684299945831299, -6.780900001525879, -7.806700229644775, -7.5177001953125, -7.765900135040283, -8.646200180053711, -8.47029972076416, -6.504899978637695, -6.150899887084961, -6.768499851226807, -8.414600372314453, -8.348099708557129, -6.590199947357178, -5.198800086975098, -6.461699962615967, -7.2718000411987305, -3.0467000007629395, -4.938499927520752, -7.611700057983398, -4.77839994430542, -4.740699768066406, -5.225399971008301, -6.605299949645996, -6.934199810028076, -6.02269983291626, -5.411200046539307, -4.958899974822998, -4.408999919891357, -5.204500198364258, -5.968200206756592, -6.4741997718811035, -4.4481000900268555, -5.300000190734863, -6.208700180053711, -6.074999809265137, -5.799499988555908, -4.444499969482422, -4.82420015335083, -5.792900085449219, -5.499199867248535, -4.770699977874756, -4.153900146484375, -4.452600002288818, -5.498300075531006, -5.374899864196777, -4.837600231170654, -4.731500148773193, -5.632800102233887, -5.854899883270264, -5.101399898529053, -5.356100082397461, -5.150100231170654, -5.3130998611450195, -5.260700225830078, -5.434599876403809, -5.453499794006348, -5.4770002365112305, -5.446700096130371, -5.450200080871582, -5.4629998207092285, -3.8113999366760254, -4.479599952697754, -6.828400135040283, -7.26669979095459, -7.781300067901611, -7.9217000007629395, -7.869999885559082, -7.980000019073486, -8.09060001373291, -7.966599941253662, -8.21660041809082, -8.547499656677246, -8.52649974822998, -8.597000122070312, -8.654199600219727, -8.708200454711914, -8.744600296020508, -8.892000198364258, -9.11709976196289, -9.109700202941895, -9.140600204467773, -9.234399795532227, -9.256199836730957, -9.276100158691406, -8.965399742126465, -9.314000129699707, -9.318599700927734, -9.02239990234375, -9.369799613952637, -9.402600288391113, -4.685800075531006, -7.819200038909912, -8.092599868774414, -8.306900024414062, -8.463299751281738, -9.071200370788574, -6.420899868011475, -8.056900024414062, -8.321599960327148, -8.715800285339355, -7.933199882507324, -8.240799903869629, -7.385900020599365, -7.4492998123168945, -5.751399993896484, -4.178100109100342, -6.318699836730957, -6.8140997886657715, -6.917900085449219, -5.606100082397461, -6.288300037384033, -6.752999782562256, -5.598299980163574, -4.609000205993652, -5.9334001541137695, -5.963399887084961, -6.80109977722168, -5.365699768066406, -4.907700061798096, -5.394400119781494, -6.2779998779296875, -6.960899829864502, -6.150700092315674, -6.048299789428711, -3.7614998817443848, -6.388999938964844, -4.801000118255615, -5.621399879455566, -5.304200172424316, -5.676400184631348, -4.509200096130371, -5.580100059509277, -5.616600036621094, -5.290900230407715, -5.77839994430542, -4.622200012207031, -5.366799831390381, -4.79580020904541, -5.204599857330322, -4.835999965667725, -5.097400188446045, -5.195300102233887, -5.030600070953369, -5.269599914550781, -5.138700008392334, -5.245299816131592, -5.388400077819824, -5.458899974822998, -5.456500053405762, -5.454599857330322, -5.473199844360352, -5.526299953460693, -5.487100124359131, -6.379499912261963, -6.4029998779296875, -6.894199848175049, -6.681000232696533, -6.774600028991699, -7.262599945068359, -5.416500091552734, -7.367800235748291, -7.434899806976318, -4.958199977874756, -7.40500020980835, -7.480299949645996, -7.555799961090088, -7.60890007019043, -7.6834001541137695, -7.716000080108643, -7.736400127410889, -7.711999893188477, -7.7453999519348145, -7.73799991607666, -6.567200183868408, -7.819399833679199, -6.90310001373291, -5.972599983215332, -7.901299953460693, -7.928800106048584, -7.9116997718811035, -5.71120023727417, -8.104100227355957, -8.136199951171875, -5.244999885559082, -5.825799942016602, -5.620500087738037, -6.276100158691406, -6.488900184631348, -6.389100074768066, -6.634399890899658, -6.469600200653076, -6.893199920654297, -7.155700206756592, -5.750199794769287, -6.92579984664917, -6.839000225067139, -7.005499839782715, -3.360100030899048, -6.228600025177002, -5.251399993896484, -5.6579999923706055, -6.703999996185303, -6.8190999031066895, -4.537199974060059, -4.682799816131592, -4.970200061798096, -5.600599765777588, -5.626999855041504, -6.699999809265137, -5.523799896240234, -5.563399791717529, -5.853499889373779, -6.280099868774414, -4.751399993896484, -5.619800090789795, -4.637599945068359, -5.247099876403809, -4.298600196838379, -4.960599899291992, -5.19290018081665, -5.453100204467773, -5.365900039672852, -5.237400054931641, -5.664400100708008, -5.19350004196167, -4.758600234985352, -5.290599822998047, -5.001800060272217, -5.5177001953125, -5.508299827575684, -5.514500141143799, -5.506999969482422, -5.527200222015381, -5.586100101470947, -5.5619001388549805, -5.582699775695801, -6.037199974060059, -6.456600189208984, -5.774700164794922, -6.8907999992370605, -6.727200031280518, -6.6753997802734375, -7.404799938201904, -7.5100998878479, -7.5355000495910645, -7.5192999839782715, -7.540200233459473, -7.644599914550781, -7.718999862670898, -7.686100006103516, -7.374100208282471, -7.431300163269043, -7.87529993057251, -7.94189977645874, -7.950200080871582, -7.9899001121521, -8.038999557495117, -8.091099739074707, -8.092000007629395, -8.175999641418457, -8.19629955291748, -8.324999809265137, -8.41819953918457, -8.406100273132324, -8.55150032043457, -8.551400184631348, -4.000800132751465, -6.059999942779541, -5.4791998863220215, -7.627500057220459, -7.491499900817871, -7.196700096130371, -5.14709997177124, -3.4542999267578125, -7.911600112915039, -5.75570011138916, -5.085400104522705, -4.75029993057251, -6.6402997970581055, -5.650599956512451, -7.307799816131592, -4.855999946594238, -6.285399913787842, -5.877999782562256, -4.763400077819824, -7.140100002288818, -5.4054999351501465, -6.145299911499023, -5.669400215148926, -5.32420015335083, -7.172599792480469, -6.123799800872803, -5.726900100708008, -7.033100128173828, -6.2530999183654785, -5.341700077056885, -4.259699821472168, -4.8003997802734375, -4.905900001525879, -5.987299919128418, -4.468100070953369, -4.8277997970581055, -4.862100124359131, -5.446100234985352, -5.134200096130371, -5.042500019073486, -5.022500038146973, -5.071300029754639, -5.265900135040283, -5.220399856567383, -5.278299808502197, -5.377999782562256, -5.565899848937988, -5.607100009918213, -5.598899841308594, -5.564199924468994, -5.592100143432617]}, \"token.table\": {\"Topic\": [4, 9, 5, 1, 9, 1, 3, 4, 5, 1, 10, 1, 1, 7, 8, 9, 7, 1, 2, 3, 4, 5, 6, 7, 8, 9, 10, 1, 6, 9, 1, 5, 9, 10, 5, 4, 6, 7, 9, 10, 1, 5, 7, 8, 9, 5, 9, 10, 7, 6, 7, 8, 9, 3, 4, 7, 8, 9, 1, 5, 7, 9, 3, 6, 7, 10, 7, 10, 10, 5, 7, 7, 1, 2, 3, 4, 5, 6, 7, 8, 9, 10, 10, 10, 1, 5, 9, 9, 10, 1, 7, 9, 7, 5, 2, 1, 2, 3, 4, 5, 6, 7, 8, 9, 10, 1, 4, 5, 8, 9, 1, 1, 2, 3, 4, 5, 6, 7, 8, 9, 10, 1, 2, 3, 4, 6, 7, 8, 10, 2, 6, 10, 1, 8, 1, 6, 7, 7, 1, 2, 3, 4, 5, 6, 7, 8, 9, 10, 9, 3, 4, 5, 6, 9, 1, 3, 4, 5, 6, 8, 9, 5, 6, 1, 4, 6, 1, 4, 1, 2, 3, 4, 5, 6, 8, 9, 2, 1, 2, 3, 4, 5, 6, 7, 8, 9, 10, 1, 4, 6, 8, 9, 5, 5, 9, 1, 2, 9, 10, 6, 1, 2, 3, 4, 5, 6, 7, 8, 9, 10, 1, 2, 3, 4, 5, 6, 7, 8, 9, 3, 1, 2, 3, 4, 5, 6, 7, 8, 9, 10, 1, 1, 2, 3, 4, 5, 6, 7, 8, 9, 10, 2, 3, 6, 8, 10, 8, 1, 2, 3, 5, 6, 7, 8, 9, 10, 2, 3, 5, 6, 7, 8, 10, 8, 10, 3, 1, 2, 3, 5, 6, 7, 8, 9, 10, 4, 3, 8, 2, 10, 1, 5, 8, 9, 1, 4, 9, 5, 1, 3, 4, 5, 6, 8, 1, 4, 5, 9, 1, 2, 3, 4, 5, 6, 7, 8, 9, 10, 1, 2, 3, 5, 6, 7, 8, 9, 10, 7, 10, 2, 4, 1, 3, 4, 5, 6, 7, 8, 9, 10, 3, 2, 3, 6, 9, 10, 1, 2, 3, 4, 5, 6, 7, 8, 9, 10, 6, 4, 2, 10, 3, 1, 2, 3, 4, 5, 6, 7, 8, 9, 10, 1, 2, 3, 4, 5, 6, 7, 8, 9, 10, 1, 2, 3, 4, 5, 6, 7, 8, 9, 10, 1, 2, 3, 4, 5, 6, 7, 8, 9, 10, 5, 9, 1, 2, 3, 4, 5, 6, 7, 8, 9, 10, 1, 2, 5, 6, 7, 8, 10, 7, 9, 10, 1, 2, 6, 7, 10, 3, 3, 3, 7, 10, 1, 2, 3, 5, 6, 7, 8, 9, 10, 1, 3, 4, 7, 8, 9, 10, 1, 2, 3, 6, 7, 10, 1, 2, 4, 5, 7, 8, 9, 10, 1, 2, 3, 4, 5, 6, 7, 8, 9, 10, 1, 2, 3, 4, 5, 6, 7, 8, 9, 10, 1, 4, 7, 1, 3, 4, 5, 6, 7, 8, 9, 10, 5, 1, 3, 4, 6, 9, 1, 2, 3, 4, 5, 6, 7, 8, 6, 7, 6, 7, 10, 6, 2, 5, 6, 7, 8, 8, 1, 2, 3, 4, 5, 6, 7, 8, 9, 10, 1, 2, 3, 4, 7, 8, 9, 9, 4, 6, 7, 1, 5, 3, 1, 2, 3, 4, 5, 6, 7, 8, 9, 10, 6, 1, 2, 3, 4, 5, 6, 7, 8, 9, 10, 1, 2, 3, 4, 6, 7, 8, 10, 6, 7, 8, 10, 1, 2, 3, 4, 5, 6, 7, 8, 9, 10, 1, 2, 3, 4, 5, 6, 7, 8, 9, 10, 1, 2, 3, 4, 5, 6, 7, 8, 9, 10, 1, 2, 3, 4, 5, 6, 8, 9, 10, 8, 9, 1, 2, 3, 4, 5, 6, 7, 8, 10, 1, 5, 8, 9, 5, 9, 1, 2, 3, 4, 5, 6, 7, 8, 9, 10, 8, 9, 2, 4, 8, 1, 4, 8, 1, 2, 3, 4, 5, 6, 7, 8, 9, 10, 2, 3, 7, 2, 6, 1, 2, 3, 4, 5, 6, 7, 8, 9, 10, 9, 1, 2, 4, 5, 6, 7, 10, 6, 7, 1, 2, 3, 4, 5, 6, 7, 8, 9, 10, 1, 1, 2, 3, 4, 5, 6, 7, 8, 9, 10, 1, 4, 6, 7, 9, 5, 8, 10, 1, 2, 4, 1, 1, 2, 3, 4, 5, 6, 7, 8, 9, 1, 2, 1, 3, 4, 5, 6, 7, 8, 9, 7, 8, 1, 3, 6, 7, 8, 9, 1, 2, 3, 4, 5, 6, 7, 8, 9, 10, 5, 2, 7, 10, 1, 4, 5, 7, 7, 10, 1, 2, 3, 4, 5, 6, 7, 8, 9, 10, 1, 3, 4, 5, 7, 8, 9, 1, 4, 5, 5, 3, 3, 3, 3, 3, 6, 2, 1, 2, 3, 4, 5, 6, 7, 8, 9, 10, 1, 2, 3, 4, 5, 6, 7, 8, 9, 10, 8, 7, 10, 2, 10, 7, 10, 1, 2, 4, 5, 6, 7, 8, 9, 1, 5, 6, 7, 8, 9, 10, 1, 2, 3, 5, 9, 3, 3, 8, 5, 6, 6, 1, 2, 3, 4, 5, 6, 7, 8, 9, 10, 7, 10, 5, 7, 10, 7, 1, 2, 3, 4, 5, 6, 7, 8, 9, 10, 1, 2, 3, 4, 5, 6, 7, 8, 9, 10, 1, 2, 3, 4, 5, 6, 7, 8, 9, 10, 1, 2, 3, 4, 5, 6, 7, 8, 9, 10, 1, 2, 3, 4, 5, 6, 7, 8, 9, 10, 6, 1, 3, 4, 5, 7, 8, 9, 10, 1, 2, 3, 4, 6, 7, 9, 10, 7, 1, 2, 3, 4, 6, 7, 8, 10, 6, 1, 2, 3, 4, 5, 6, 7, 8, 9, 10, 1, 5, 1, 5, 7, 9, 1, 4, 7, 9, 1, 2, 3, 4, 5, 6, 7, 8, 9, 10, 1, 2, 3, 4, 5, 6, 7, 8, 9, 10, 1, 2, 4, 5, 6, 7, 8, 9, 10, 1, 3, 4, 6, 3, 7, 10, 1, 3, 4, 7, 8, 10, 2, 3, 6, 7, 8, 10, 1, 7, 8, 9, 10, 10, 1, 7, 9, 7, 1, 2, 3, 4, 5, 7, 8, 9, 10, 6, 1, 7, 10, 7, 1, 2, 3, 4, 5, 6, 7, 8, 9, 10, 1, 6, 1, 5, 6, 7, 8, 9, 1, 2, 3, 4, 5, 6, 7, 8, 9, 10, 9, 8, 1, 2, 3, 4, 5, 6, 7, 8, 9, 10, 2, 7, 2, 2, 3, 6, 8, 10, 1, 2, 3, 4, 5, 6, 7, 8, 9, 10, 8, 1, 2, 3, 4, 5, 6, 7, 8, 9, 10, 1, 2, 3, 4, 5, 6, 7, 8, 9, 10, 2, 7, 10, 2, 5, 6, 7, 9, 10, 1, 6, 7, 9, 1, 2, 3, 4, 5, 6, 7, 8, 9, 1, 2, 3, 4, 5, 6, 7, 8, 9, 10, 2, 3, 6, 7, 8, 10, 5, 8, 6, 6, 1, 2, 3, 4, 5, 6, 7, 8, 9, 10, 3, 6, 1, 2, 3, 4, 5, 6, 7, 8, 9, 10, 4, 8, 4, 1, 2, 3, 4, 5, 6, 7, 8, 9, 10, 2, 3, 4, 5, 9, 7, 10, 4, 2, 4, 8, 3, 3, 6, 3, 3, 6, 1, 2, 3, 4, 5, 6, 7, 8, 9, 10, 9, 7, 1, 2, 3, 4, 5, 6, 7, 8, 9, 10, 6, 1, 2, 3, 4, 5, 6, 7, 8, 9, 10, 1, 2, 3, 4, 5, 6, 7, 8, 9, 10, 10, 1, 2, 3, 4, 5, 6, 7, 8, 9, 10, 1, 4, 5, 8, 1, 4, 8, 9, 8, 9, 8, 9, 7, 1, 2, 3, 4, 5, 7, 8, 9, 10, 6, 1, 3, 4, 5, 6, 8, 9, 1, 2, 3, 4, 5, 6, 7, 8, 9, 10, 1, 5, 8, 9, 1, 3, 4, 5, 6, 7, 8, 9, 8, 1, 1, 2, 3, 4, 5, 6, 8, 10, 8, 1, 2, 3, 4, 5, 6, 7, 8, 1, 2, 3, 6, 8, 1, 7, 9, 10, 3, 7, 10, 1, 1, 2, 3, 4, 5, 6, 7, 8, 9, 10, 1, 2, 3, 4, 5, 6, 7, 8, 9, 10, 1, 7, 6, 3, 1, 2, 8, 1, 4, 7, 9, 1, 2, 3, 4, 5, 6, 7, 8, 10, 8, 1, 4, 6, 8, 3, 8, 8, 2, 6, 1, 2, 4, 6, 8, 10, 5, 9, 1, 2, 3, 4, 5, 6, 7, 8, 9, 10, 3, 7, 1, 2, 3, 4, 5, 6, 7, 8, 9, 10, 1, 2, 3, 4, 5, 6, 7, 8, 9, 10, 1, 2, 3, 4, 5, 6, 7, 8, 9, 10, 2, 3, 10, 7, 10, 7, 10, 9, 1, 3, 4, 5, 6, 9, 5, 1, 2, 3, 4, 5, 6, 7, 8, 9, 10, 2, 1, 2, 3, 4, 5, 6, 7, 8, 9, 10, 1, 2, 3, 4, 5, 6, 7, 8, 9, 10, 1, 2, 3, 4, 5, 6, 7, 8, 9, 10, 1, 2, 10, 1, 3, 4, 6, 8, 9, 3, 4, 6, 1, 2, 3, 4, 5, 6, 7, 8, 9, 10, 1, 4, 6, 7, 8, 9, 1, 3, 4, 8, 1, 2, 3, 4, 5, 6, 7, 8, 9, 10, 1, 2, 3, 4, 5, 6, 7, 8, 9, 10, 1, 2, 3, 4, 6, 7, 8, 9, 10, 1, 2, 3, 4, 5, 6, 7, 8, 9, 10, 1, 2, 3, 4, 5, 6, 7, 8, 9, 10, 10, 6, 7, 1, 2, 3, 5, 8, 9, 10, 1, 6, 2, 3, 6, 8, 10, 2, 3, 6, 8, 9, 10, 6, 7, 1, 2, 3, 4, 5, 6, 7, 8, 9, 10, 1, 2, 3, 4, 5, 6, 7, 8, 9, 10, 1, 4, 6, 8, 9, 2, 1, 2, 3, 4, 5, 6, 7, 8, 9, 10, 1, 5, 7, 9, 10, 8, 1, 5, 9, 4, 5, 7, 7, 1, 3, 5, 6, 7, 8, 9, 10, 2, 3, 6, 7, 9, 1, 2, 3, 6, 7, 8, 9, 9, 1, 5, 8, 9, 5, 3, 4, 4, 5, 9, 1, 2, 3, 4, 5, 6, 7, 8, 9, 10, 1, 5, 4, 1, 2, 3, 4, 5, 6, 7, 8, 9, 2, 7, 10, 6, 6, 7, 5, 9, 6, 1, 2, 3, 4, 5, 6, 7, 9, 10, 8, 8, 1, 2, 3, 4, 5, 6, 7, 8, 9, 1, 7, 9, 10, 1, 3, 6, 9, 9, 1, 2, 3, 4, 5, 6, 7, 8, 9, 10, 1, 3, 4, 5, 6, 8, 9, 5, 3, 8, 9, 1, 4, 6, 1, 5, 1, 2, 3, 4, 5, 6, 7, 8, 9, 10, 6, 1, 5, 8, 9, 10, 1, 4, 8, 1, 5, 1, 4, 5, 1, 2, 3, 4, 5, 6, 7, 8, 9, 10, 8, 1, 2, 3, 4, 5, 6, 7, 8, 9, 10, 5, 10, 7, 10, 6, 9, 1, 2, 3, 4, 5, 6, 7, 8, 9, 10, 6, 4, 9, 5, 9, 9, 2, 10, 1, 2, 3, 4, 5, 6, 7, 8, 9, 10, 4, 10, 4, 2, 6, 9, 9, 2, 3, 6, 8, 10, 1, 2, 3, 4, 5, 6, 7, 8, 9, 10, 1, 2, 3, 6, 7, 8, 9, 10, 7, 7, 2, 5, 1, 4, 8, 4, 8, 5, 9, 2, 6, 8, 10, 2, 7, 8, 10, 1, 2, 3, 4, 5, 6, 7, 8, 9, 10, 5, 1, 2, 3, 4, 5, 6, 7, 8, 9, 10, 1, 2, 3, 4, 5, 6, 7, 8, 9, 10, 2, 7, 10, 9, 1, 2, 3, 4, 5, 6, 7, 8, 9, 10, 1, 2, 3, 4, 5, 6, 7, 8, 9, 10, 1, 2, 3, 4, 5, 6, 7, 8, 9, 10, 4, 1, 2, 3, 4, 5, 6, 7, 8, 9, 10, 1, 2, 3, 4, 5, 6, 7, 8, 9, 10, 1, 3, 4, 6, 8, 9, 1, 2, 3, 4, 5, 6, 7, 8, 9, 5, 1, 2, 3, 5, 6, 7, 8, 9, 10, 4, 7, 1, 6, 1, 2, 3, 4, 5, 6, 7, 8, 9, 10, 6, 8, 3, 1, 2, 3, 4, 5, 6, 7, 8, 9, 2, 3, 5, 6, 7, 8, 10, 1, 2, 3, 4, 5, 6, 7, 8, 9, 10, 5, 1, 2, 3, 4, 5, 6, 7, 8, 9, 10, 1, 2, 3, 4, 5, 6, 7, 8, 9, 10, 1, 4, 7, 8, 9, 1, 2, 3, 4, 5, 6, 7, 8, 9, 10, 4, 2, 4, 6, 8, 10, 1, 2, 3, 4, 5, 6, 7, 8, 9, 10, 1, 2, 3, 4, 5, 6, 8, 9, 10, 2, 3, 5, 6, 7, 8, 10, 2, 5, 6, 10, 1, 4, 5, 8, 9, 5, 9, 5, 1, 2, 3, 4, 5, 6, 7, 8, 9, 10, 1, 2, 3, 4, 5, 6, 7, 8, 9, 10, 8, 5, 1, 1, 2, 3, 4, 5, 6, 7, 8, 9, 10, 5, 4, 6, 9, 1, 3, 4, 6, 5, 8, 9, 9, 6, 1, 7, 9, 10, 1, 4, 9, 4, 1, 2, 3, 4, 5, 6, 7, 8, 9, 10, 1, 2, 5, 6, 7, 8, 9, 10, 5, 1, 2, 3, 4, 5, 6, 7, 8, 9, 10, 1, 4, 5, 8, 9, 1, 3, 4, 5, 6, 8, 9, 6, 7, 8, 3, 4, 6, 7, 8, 1, 2, 3, 4, 5, 6, 7, 8, 9, 10, 1, 3, 4, 6, 7, 8, 9, 3, 5, 7, 1, 2, 3, 4, 5, 6, 7, 8, 10, 1, 3, 4, 6, 7, 8, 10, 1, 2, 3, 4, 5, 6, 7, 8, 9, 10, 1, 2, 4, 5, 6, 7, 8, 9, 1, 2, 3, 4, 6, 7, 8, 9, 10, 1, 2, 3, 4, 5, 6, 7, 8, 9, 10, 1, 2, 3, 4, 5, 6, 7, 8, 9, 10, 2, 1, 2, 3, 4, 5, 6, 7, 8, 9, 10, 1, 2, 3, 4, 5, 6, 7, 8, 9, 10, 4, 1, 4, 10, 1, 2, 3, 4, 5, 6, 7, 8, 9, 10, 1, 2, 3, 4, 5, 6, 7, 9, 10, 1, 4, 5, 2, 3, 5, 6, 7, 8, 10, 1, 2, 3, 4, 5, 6, 7, 8, 9, 10, 10, 7, 1, 2, 3, 4, 5, 6, 7, 8, 9, 10, 1, 5, 9, 5, 1, 2, 3, 4, 6, 7, 8, 9, 10, 1, 2, 4, 5, 6, 7, 8, 9, 10, 1, 2, 3, 4, 5, 6, 7, 8, 9, 10, 1, 4, 6, 7, 8, 1, 6, 8, 1, 4, 6, 7, 9, 10, 9, 1, 5, 9, 1, 2, 3, 4, 5, 6, 7, 8, 9, 10, 3, 1, 2, 4, 6, 7, 8, 9, 10, 1, 4, 5, 8, 9, 1, 2, 3, 4, 5, 6, 7, 8, 9, 10, 1, 2, 3, 4, 5, 6, 7, 8, 9, 10, 8, 1, 2, 3, 4, 5, 6, 7, 8, 9, 10, 10, 8, 2, 7, 10, 6, 1, 2, 3, 4, 6, 7, 10, 3, 8, 10, 3, 7, 10, 10, 1, 3, 4, 5, 6, 8, 9, 1, 2, 3, 4, 5, 6, 7, 8, 9, 10, 2, 2, 9, 1, 2, 3, 4, 5, 6, 7, 8, 9, 10, 1, 4, 10, 1, 1, 2, 4, 5, 6, 7, 8, 9, 10, 1, 2, 3, 4, 5, 6, 7, 8, 9, 10, 1, 2, 3, 6, 10, 2, 2, 1, 3, 4, 5, 6, 7, 8, 9, 1, 3, 6, 9, 1, 2, 3, 4, 5, 6, 7, 8, 9, 10, 1, 2, 3, 4, 5, 6, 7, 8, 9, 3, 3, 1, 2, 3, 4, 5, 6, 8, 9, 2, 10, 1, 2, 4, 5, 6, 7, 8, 9, 10, 2, 1, 8, 9, 9, 1, 7, 10, 1, 2, 3, 4, 5, 6, 7, 8, 9, 10, 5, 9, 1, 3, 4, 5, 6, 8, 9, 1, 3, 4, 5, 6, 7, 9, 10, 2, 7, 10, 1, 3, 4, 5, 6, 8, 9, 2, 2, 4, 2, 7, 8, 1, 2, 3, 4, 5, 7, 8, 9, 10, 3, 4, 7, 1, 2, 3, 4, 5, 6, 7, 8, 9, 10, 1, 2, 3, 4, 5, 6, 7, 8, 9, 10, 5, 1, 2, 3, 4, 5, 6, 7, 8, 9, 10, 1, 2, 4, 5, 6, 8, 9, 10, 1, 2, 3, 4, 5, 6, 7, 8, 9, 10, 10, 1, 2, 3, 4, 5, 6, 7, 8, 9, 10, 2, 6, 7, 10, 3, 4, 4, 9, 4, 5, 8, 7, 9, 1, 2, 3, 4, 5, 6, 7, 8, 9, 10, 8, 9, 5, 8, 10, 1, 2, 3, 4, 5, 6, 7, 8, 9, 10, 3, 4, 1, 4, 1, 6, 1, 2, 3, 4, 5, 6, 7, 8, 9, 10, 8, 1, 5, 8, 8, 1, 3, 6, 7, 3, 1, 2, 3, 4, 5, 6, 7, 8, 9, 10, 2, 7, 10, 1, 2, 3, 4, 5, 6, 7, 8, 9, 10, 2, 7, 1, 2, 3, 4, 5, 6, 7, 8, 9, 10, 1, 3, 4, 4, 1, 2, 3, 4, 5, 6, 7, 8, 9, 10, 2, 8, 8, 3, 4, 3, 8, 3, 7, 6, 8, 1, 2, 3, 4, 5, 6, 7, 8, 9, 10, 1, 2, 3, 4, 5, 6, 7, 8, 9, 10, 1, 2, 3, 4, 5, 6, 7, 8, 9, 10, 1, 3, 4, 5, 6, 7, 8, 9, 1, 9, 2, 1, 2, 3, 4, 5, 6, 7, 8, 9, 10, 10, 5, 10, 1, 4, 2, 3, 6, 7, 10, 2, 7, 1, 2, 3, 4, 5, 6, 7, 8, 9, 10, 4, 7, 10, 10, 6, 8, 5, 4, 3, 1, 2, 3, 4, 6, 8, 9, 1, 7, 10, 4, 8, 1, 2, 3, 4, 5, 6, 7, 8, 9, 10, 9, 1, 2, 3, 4, 5, 6, 7, 8, 9, 10, 1, 2, 3, 4, 5, 6, 7, 8, 9, 10, 8, 1, 2, 3, 4, 5, 6, 7, 8, 9, 10, 1, 1, 2, 3, 4, 6, 7, 8, 10, 1, 4, 6, 7, 8, 9, 1, 2, 3, 4, 5, 6, 7, 8, 9, 10, 1, 4, 5, 6, 7, 8, 9, 1, 4, 5, 1, 4, 5, 8, 9, 2, 6, 1, 2, 3, 4, 5, 6, 7, 8, 9, 10, 1, 3, 4, 5, 6, 7, 8, 9, 10, 3, 1, 2, 3, 4, 5, 6, 7, 8, 9, 10, 1, 2, 3, 4, 5, 6, 7, 8, 9, 10, 1, 2, 3, 4, 5, 6, 7, 8, 9, 10, 1, 1, 1, 1, 2, 3, 4, 5, 6, 7, 8, 9, 10, 1, 1, 4, 5, 7, 8, 9, 10, 1, 3, 4, 5, 8, 9, 2, 7, 10, 6, 2, 10, 7, 8, 10], \"Freq\": [0.9995066523551941, 0.00045206089271232486, 0.9989680051803589, 0.9989423751831055, 0.00045760071952827275, 0.9993802905082703, 0.00039306600228883326, 0.9991737604141235, 0.9993930459022522, 0.9997051358222961, 0.9996413588523865, 0.9997844696044922, 0.00010336925333831459, 0.004238139372318983, 0.00031010774546302855, 0.9952391386032104, 0.9986838102340698, 0.07486224919557571, 9.728687291499227e-05, 0.03638529032468796, 0.04037405177950859, 0.035363778471946716, 0.05842076987028122, 0.039157968014478683, 0.017560280859470367, 0.07116534560918808, 0.6265761256217957, 0.0032815064769238234, 0.9852091670036316, 0.011359060183167458, 0.11764570325613022, 0.8822837471961975, 0.09230563789606094, 0.9075714945793152, 0.9988098740577698, 0.9871088266372681, 0.0070206886157393456, 0.0005616550915874541, 0.0016849652165547013, 0.003089102916419506, 0.0008824547985568643, 0.00017649095389060676, 0.0044122738763689995, 0.00017649095389060676, 0.9941735863685608, 0.966986358165741, 0.03283541277050972, 0.9995608925819397, 0.9987560510635376, 9.54292991082184e-05, 0.003340025432407856, 0.0006680050864815712, 0.9958047270774841, 2.2004611309967004e-05, 0.9821098446846008, 0.006007258780300617, 0.0003080645692534745, 0.011508411727845669, 0.002075716620311141, 0.0001221009879373014, 0.0008547068573534489, 0.9969545006752014, 0.0838908702135086, 0.9161164164543152, 0.00013475345622282475, 0.9998706579208374, 0.0002709636464715004, 0.9995849132537842, 0.9996212720870972, 0.0024454770609736443, 0.9971432089805603, 0.9994263052940369, 0.040727753192186356, 0.0014152501244097948, 0.07914917171001434, 0.10540992021560669, 0.001048333360813558, 0.0613275021314621, 0.013680750504136086, 0.012894500978291035, 0.09115258604288101, 0.5932518839836121, 0.999483048915863, 0.9997854232788086, 0.9845858216285706, 0.0003219178761355579, 0.014969181269407272, 0.9996578097343445, 0.9997881650924683, 0.0004223925352562219, 0.0023231590166687965, 0.9971631765365601, 0.9987165331840515, 0.9983221888542175, 0.9989559054374695, 0.6347854733467102, 0.12206028401851654, 5.760957355960272e-05, 0.057134293019771576, 0.0271053034812212, 0.010009663179516792, 0.013682273216545582, 0.040456321090459824, 0.018521476536989212, 0.07617425918579102, 0.0013874561991542578, 0.000489690457470715, 0.09793809056282043, 0.8137022852897644, 0.08643036335706711, 0.9997816681861877, 0.030599720776081085, 0.0001833233400247991, 0.010861908085644245, 0.005377484485507011, 0.7939428091049194, 0.09282271564006805, 0.000924255175050348, 0.0003972005797550082, 0.010067506693303585, 0.05483659356832504, 0.8932984471321106, 0.0032387073151767254, 0.001214515301398933, 0.0041833301074802876, 0.0688675120472908, 0.013224721886217594, 0.013449631631374359, 0.002474012551829219, 0.9968414306640625, 0.0025985438842326403, 0.0003997759777121246, 0.9997059106826782, 0.9997339248657227, 0.048386555165052414, 0.9473766088485718, 0.004195882007479668, 0.9993389248847961, 0.11301746964454651, 0.14382627606391907, 0.13248185813426971, 0.11245539039373398, 0.05862906575202942, 0.1037457212805748, 0.09873470664024353, 0.11721296608448029, 0.05175868794322014, 0.06813668459653854, 0.9998871088027954, 0.7777705192565918, 0.044673074036836624, 0.032412342727184296, 0.14480237662792206, 0.00031437771394848824, 0.1559644490480423, 0.02479192242026329, 0.0019707411993294954, 1.9707411411218345e-05, 0.15704835951328278, 0.6575968861579895, 0.0026013783644884825, 0.2736818790435791, 0.7262995839118958, 0.029834887012839317, 0.8634932041168213, 0.10665023326873779, 0.9946407675743103, 0.005128482822328806, 0.13826192915439606, 0.1002781093120575, 0.05648849532008171, 0.04880556836724281, 0.18880103528499603, 0.13028153777122498, 0.3370435833930969, 3.0772742320550606e-05, 0.9975973963737488, 0.09909968078136444, 0.8180012106895447, 0.005058350041508675, 0.008577202446758747, 4.398565215524286e-05, 0.002727110404521227, 0.029866259545087814, 0.010864456184208393, 0.021992826834321022, 0.0037387805059552193, 0.11521092057228088, 0.26510167121887207, 0.003102177521213889, 0.6030058860778809, 0.013574267737567425, 0.999400794506073, 0.9758403897285461, 0.024065114557743073, 0.00024392161867581308, 0.9937366247177124, 0.0039027458988130093, 0.0021952944807708263, 0.9990362524986267, 0.07006289064884186, 0.20203480124473572, 0.1611376851797104, 0.049376219511032104, 0.06171736866235733, 0.09545371681451797, 0.07664871215820312, 0.08500584959983826, 0.0512404590845108, 0.1473214030265808, 0.012363247573375702, 8.5618057710235e-06, 0.5965352654457092, 0.3442530930042267, 0.018698984757065773, 0.003613081993535161, 0.01182385440915823, 0.00019692153728101403, 0.012508798390626907, 0.9998988509178162, 0.08258150517940521, 0.08643659204244614, 0.005947851110249758, 0.12895271182060242, 0.001184062915854156, 0.07253073900938034, 0.5875981450080872, 0.018311671912670135, 0.008371049538254738, 0.00812322273850441, 0.9991661310195923, 0.2846025824546814, 0.24014559388160706, 0.06330951303243637, 0.071964330971241, 0.06082620844244957, 0.0880323275923729, 0.04223082959651947, 0.08575841039419174, 0.014661033637821674, 0.048472147434949875, 4.000702756457031e-05, 0.001240217825397849, 0.007721356116235256, 0.00928162969648838, 0.9817324280738831, 0.9994281530380249, 0.3691869080066681, 4.145838101976551e-05, 0.00016583352407906204, 0.5029730796813965, 0.0871247947216034, 0.03072066232562065, 0.0002902086707763374, 0.004125108942389488, 0.005348131526261568, 0.0002784610551316291, 0.0001763586769811809, 2.7846106604556553e-05, 0.0003805634332820773, 9.282035534852184e-06, 7.425628427881747e-05, 0.9990532994270325, 0.999542236328125, 0.999819815158844, 0.9999920725822449, 1.1904527127626352e-05, 2.976131781906588e-06, 2.6785186491906643e-05, 2.976131781906588e-06, 0.7868237495422363, 0.08536141365766525, 0.09756354987621307, 8.928395800467115e-06, 0.030198808759450912, 0.9995993375778198, 0.9997454881668091, 0.0002563121379353106, 0.9988227486610413, 0.9994897246360779, 0.0026571289636194706, 0.00040259529487229884, 0.010386958718299866, 0.9864389896392822, 2.7202735509490594e-05, 0.9984220266342163, 0.0015505559276789427, 0.9997718334197998, 0.0001674954837653786, 0.5192359685897827, 1.8610608094604686e-05, 9.305304047302343e-06, 0.17332060635089874, 0.3072425425052643, 0.008497142232954502, 0.9748315811157227, 0.0008620289736427367, 0.01576281525194645, 0.028639430180191994, 0.03679564222693443, 0.015200215391814709, 0.015200215391814709, 0.057464227080345154, 0.004696001298725605, 0.0065496861934661865, 0.0982452929019928, 0.7361600399017334, 0.0010195266222581267, 6.652426236541942e-05, 0.05541470646858215, 0.04081263393163681, 0.00013304852473083884, 0.001995727652683854, 0.19245468080043793, 0.03332865238189697, 0.0008648153743706644, 0.6748886108398438, 0.004249020013958216, 0.9954846501350403, 0.9736419916152954, 0.025989320129156113, 0.172001451253891, 5.930061888648197e-05, 0.0013342639431357384, 0.044297561049461365, 5.930061888648197e-05, 0.00014825155085418373, 0.04711434245109558, 0.7350015044212341, 2.9650309443240985e-05, 0.999969482421875, 0.043073125183582306, 0.00047859028563834727, 0.00023929514281917363, 0.012921937741339207, 0.9433014392852783, 0.21991059184074402, 0.09550163149833679, 0.08418302237987518, 0.3592662811279297, 0.15611281991004944, 0.02382941171526909, 0.016904311254620552, 0.026029841974377632, 0.009743712842464447, 0.008514709770679474, 0.9995163083076477, 0.9997614026069641, 0.9999498724937439, 3.82902508135885e-05, 0.9999426603317261, 0.020109102129936218, 0.10593879222869873, 0.16366621851921082, 0.05086172744631767, 0.16623243689537048, 0.030340345576405525, 0.08194249123334885, 0.07971282303333282, 0.2118270993232727, 0.08937191963195801, 0.04135788604617119, 0.09572204947471619, 0.07192541658878326, 0.13317742943763733, 6.1553632804134395e-06, 0.12368586659431458, 0.12070051580667496, 0.41291406750679016, 2.4621453121653758e-05, 0.00048627369687892497, 0.10562805831432343, 0.109728142619133, 0.09410422295331955, 0.10277511924505234, 0.2297961562871933, 0.12830281257629395, 0.08121708780527115, 0.05661863088607788, 0.04589768871665001, 0.045932330191135406, 0.0006950821843929589, 5.406194759416394e-05, 0.03586108982563019, 0.1821475774049759, 0.7800443768501282, 0.0011584702879190445, 2.574378413555678e-06, 1.0297513654222712e-05, 1.8020649804384448e-05, 5.148756827111356e-06, 0.9918147921562195, 0.007683904841542244, 0.547711968421936, 0.010553586296737194, 0.22731785476207733, 0.033886607736349106, 0.0002174678520532325, 0.1283572018146515, 0.01862548105418682, 0.01840801350772381, 0.0034155244939029217, 0.011474627070128918, 0.00411996990442276, 0.0001471417781431228, 7.35708890715614e-05, 7.35708890715614e-05, 0.9953405857086182, 0.0001471417781431228, 0.0001471417781431228, 0.9972618818283081, 5.9709131164709106e-05, 0.002627201844006777, 1.9081967366219033e-06, 0.00018509507935959846, 3.8163934732438065e-06, 0.8412685394287109, 0.15853869915008545, 0.9996848106384277, 0.9997604489326477, 0.9997305870056152, 0.644072413444519, 0.3559108078479767, 0.0012146247318014503, 0.012875022366642952, 0.0010931622236967087, 0.061986349523067474, 4.04874917876441e-05, 0.000485849886899814, 0.0658731460571289, 0.019353020936250687, 0.8370383977890015, 0.013350541703402996, 0.0007814951241016388, 0.021881863474845886, 0.9439809322357178, 0.0005209967494010925, 0.018951255828142166, 0.00045587215572595596, 5.897409573663026e-05, 0.0005897409282624722, 0.043331217020750046, 0.9476694464683533, 0.0008403808460570872, 0.007504453416913748, 0.00036329886643216014, 2.6262569008395076e-05, 4.377095137897413e-06, 9.629609121475369e-05, 0.043123140931129456, 4.377095137897413e-06, 0.9443363547325134, 0.012050142511725426, 0.0011641066521406174, 0.08646249026060104, 0.06516546756029129, 0.0020096157677471638, 0.03212934359908104, 0.09698846936225891, 0.038991447538137436, 0.061428070068359375, 0.0004288814088795334, 0.6152120232582092, 0.010158970020711422, 0.880041241645813, 0.008355716243386269, 0.0001890337298391387, 0.013022087514400482, 0.006913537159562111, 0.0007794986595399678, 0.004184229765087366, 0.032687969505786896, 0.043666791170835495, 0.9993753433227539, 0.9990354776382446, 0.9992520213127136, 0.018120519816875458, 0.014559036120772362, 0.0010567042045295238, 3.913719410775229e-05, 0.9117400646209717, 0.0061836764216423035, 0.023521453142166138, 0.005714030005037785, 0.019059812650084496, 0.9989678263664246, 0.010328701697289944, 0.04446697235107422, 0.9354283809661865, 0.0015301780076697469, 0.008232357911765575, 5.736494131269865e-05, 1.63899840117665e-05, 4.097496002941625e-06, 4.097496002941625e-06, 0.00018848480249289423, 0.9924503564834595, 0.0014628060162067413, 0.005810249131172895, 0.9839057326316833, 0.015458391979336739, 0.9536541700363159, 0.0008287281962111592, 0.045512598007917404, 0.9996371269226074, 0.00019563946989364922, 0.00019563946989364922, 0.9650894999504089, 0.00019563946989364922, 0.034367334097623825, 0.9987913370132446, 0.012936657294631004, 0.04024737700819969, 0.0009343140991404653, 0.0010061843786388636, 0.0019404985941946507, 0.032557252794504166, 0.062455303966999054, 0.0035935158375650644, 0.8363548517227173, 0.007905734702944756, 0.20809057354927063, 0.02805897779762745, 0.02084149606525898, 0.03754713013768196, 0.004054765682667494, 0.6980684399604797, 0.0033249077387154102, 0.9999327063560486, 0.9999374747276306, 0.9981685280799866, 0.00186156015843153, 0.9995278120040894, 0.000321753672324121, 0.9999198913574219, 0.2657688856124878, 0.01439245417714119, 0.026844069361686707, 0.010535982437431812, 0.0005545254098251462, 0.005671282298862934, 0.06223287433385849, 0.6062726974487305, 0.0012854906963184476, 0.006427453365176916, 0.9987832307815552, 0.09953600913286209, 0.15709099173545837, 0.13726845383644104, 0.08882205188274384, 0.1441194862127304, 0.126156285405159, 0.07880417257547379, 0.06838808953762054, 0.05202712118625641, 0.04779107868671417, 0.0002774198947008699, 0.07301344722509384, 0.5486325621604919, 1.733874341880437e-05, 6.935497367521748e-05, 0.003693152451887727, 0.208220973610878, 0.16607049107551575, 0.055722158402204514, 0.00024655822198837996, 0.026184484362602234, 0.9177390336990356, 0.2836762070655823, 4.331000673118979e-05, 0.03861520439386368, 0.020061194896697998, 0.3128195106983185, 0.0017237382708117366, 0.010000281035900116, 0.18358245491981506, 0.14939354360103607, 8.662001346237957e-05, 0.3615295886993408, 0.0006841309950686991, 0.053878121078014374, 0.1841265708208084, 0.3065635859966278, 0.04908920079469681, 2.8038155505782925e-05, 0.04378999024629593, 0.0001906594552565366, 0.00012336787767708302, 0.4485631287097931, 0.0020033270120620728, 0.04604920372366905, 0.13921301066875458, 0.32155218720436096, 0.016591189429163933, 9.10603193915449e-06, 0.0258975550532341, 0.00010927238326985389, 1.821206387830898e-05, 8.965310553321615e-05, 0.02434978447854519, 0.031055836006999016, 0.012031447142362595, 0.8663896918296814, 0.059924136847257614, 0.0014165190514177084, 0.004644031170755625, 8.965310553321615e-05, 0.000436295144027099, 0.999497652053833, 6.0989677876932546e-05, 0.017747996374964714, 0.2985139787197113, 0.004899504128843546, 0.5115915536880493, 0.1393309235572815, 6.0989677876932546e-05, 0.013082285411655903, 0.01469851192086935, 9.953128756023943e-05, 9.953128756023943e-05, 0.015974771231412888, 0.9837672710418701, 0.000598779006395489, 0.9992765784263611, 0.00944482907652855, 0.9527798295021057, 0.006661340594291687, 0.00020221926388330758, 2.9738126613665372e-05, 0.001980559201911092, 0.0021351976320147514, 0.004734309855848551, 6.542388291563839e-05, 0.021970529109239578, 0.00018113820988219231, 0.9997742176055908, 0.9993427395820618, 0.999259889125824, 0.9990795254707336, 0.0016402977053076029, 0.0008201488526538014, 0.9975743889808655, 0.8908393383026123, 0.02482427842915058, 0.008524877950549126, 0.017654208466410637, 0.032077718526124954, 0.012485089711844921, 0.0060445345006883144, 0.0009796314407140017, 0.0018133603734895587, 0.004731411579996347, 0.9996377825737, 0.0002016211801674217, 0.9980903267860413, 0.001190799754112959, 0.9987237453460693, 0.281453937292099, 0.0693008229136467, 0.07240122556686401, 0.06197895482182503, 0.042728401720523834, 0.2180911898612976, 0.08629175275564194, 0.1003224104642868, 0.02002711407840252, 0.047411125153303146, 0.9997154474258423, 0.00025607168208807707, 0.1503140777349472, 0.0005121433641761541, 0.8136677742004395, 0.03008842281997204, 0.00012803584104403853, 0.0048653618432581425, 0.9731250405311584, 0.0264760609716177, 0.3530164957046509, 0.0561104491353035, 0.024513036012649536, 0.08484968543052673, 0.1457943469285965, 0.2272619754076004, 6.514371489174664e-05, 0.10538624227046967, 0.0029857533518224955, 1.9000250176759437e-05, 0.9996291399002075, 0.04022037237882614, 1.5772695405757986e-05, 0.02294927090406418, 0.30166855454444885, 0.14447788894176483, 0.007476257160305977, 0.41941171884536743, 0.0001261815632460639, 0.038169920444488525, 0.025504447519779205, 0.9995538592338562, 0.9997193217277527, 0.9824317097663879, 0.001325371558777988, 0.015904460102319717, 0.999037504196167, 0.9998364448547363, 0.999724805355072, 0.9995367527008057, 0.9997596740722656, 0.9996397495269775, 0.9993758797645569, 0.0011055889772251248, 0.013745160773396492, 0.055877067148685455, 0.0001494039170211181, 0.23056012392044067, 0.5714401006698608, 5.9761568991234526e-05, 0.12654511630535126, 0.00044821176561526954, 0.9997259974479675, 0.9981078505516052, 0.7921552658081055, 3.699326407513581e-05, 0.010432100854814053, 0.0002959461126010865, 0.0045316750183701515, 0.04400349035859108, 0.07722344249486923, 0.07132301479578018, 0.03739164397120476, 0.9625332355499268, 0.0015329313464462757, 0.00010949509305646643, 0.8315057754516602, 0.06974837929010391, 0.09613669663667679, 0.000985455815680325, 0.16539670526981354, 2.6531395178608363e-06, 0.00010612557525746524, 2.6531395178608363e-06, 0.6099567413330078, 0.0004563399706967175, 5.306279035721673e-06, 0.0001406163937645033, 0.2239329218864441, 2.6531395178608363e-06, 0.9997988939285278, 0.9992382526397705, 0.9994904398918152, 0.0003916498681064695, 0.9975407123565674, 0.0016456542070955038, 0.00027427569148130715, 0.0005485513829626143, 0.6537771224975586, 0.3461873233318329, 0.004477625712752342, 0.8568140864372253, 0.002279518637806177, 0.0034192779567092657, 4.070569048053585e-05, 0.0001628227619221434, 0.005576679483056068, 0.009118074551224709, 0.003500689286738634, 0.11462722718715668, 0.14935524761676788, 1.7966467567021027e-05, 0.7722347378730774, 0.010258853435516357, 1.7966467567021027e-05, 5.389940270106308e-05, 0.06803901493549347, 0.01941407285630703, 0.9803782105445862, 0.00019479003094602376, 0.9985235929489136, 0.9999935030937195, 0.9997952580451965, 0.9999526739120483, 0.9999499320983887, 0.9974145889282227, 0.0025187237188220024, 0.999036967754364, 0.14141225814819336, 0.21969196200370789, 0.052354637533426285, 0.12400554865598679, 0.1298607885837555, 0.08623854070901871, 0.099337138235569, 0.10113193094730377, 0.013019099831581116, 0.03294523432850838, 0.0025723902508616447, 0.708167314529419, 0.009295682422816753, 0.06673598289489746, 5.8463410823605955e-05, 0.0015492804814130068, 0.0325348898768425, 0.09547075629234314, 0.006372511852532625, 0.07725939899682999, 0.9984320402145386, 0.00028691336046904325, 0.9996061325073242, 0.9426249861717224, 0.05724308267235756, 0.9919573664665222, 0.007650056853890419, 0.7749785780906677, 0.00016577790665905923, 0.00016577790665905923, 6.631116411881521e-05, 0.004277070052921772, 0.006200093775987625, 0.21411874890327454, 3.315558205940761e-05, 0.0215339045971632, 0.007229239214211702, 0.9461075067520142, 0.007075425703078508, 0.0012305087875574827, 0.0024610175751149654, 0.014458478428423405, 0.0003553164133336395, 0.017647381871938705, 0.029135946184396744, 0.952544093132019, 0.00029609701596200466, 0.9999079704284668, 0.9997286796569824, 0.9984452724456787, 0.9998197555541992, 0.9992358684539795, 0.9988444447517395, 0.17800506949424744, 0.11235345155000687, 0.1408424973487854, 0.10523762553930283, 0.034089021384716034, 0.09984041005373001, 0.11821732670068741, 0.0943981409072876, 0.062507264316082, 0.05451282486319542, 0.9975875616073608, 0.0021135329734534025, 0.9998341202735901, 0.9881748557090759, 0.01172601617872715, 0.9984309077262878, 0.09905277192592621, 0.00017510802717879415, 0.04368945211172104, 0.028163207694888115, 0.6497383117675781, 0.04228859022259712, 0.057304102927446365, 0.023727137595415115, 0.03637869283556938, 0.019466176629066467, 0.00034767558099702, 0.023227402940392494, 0.04681585356593132, 0.004907574504613876, 0.0012168645625934005, 1.3372137800615747e-05, 0.0014575630193576217, 0.032561156898736954, 0.8891401886940002, 0.00032093131449073553, 0.10278318077325821, 0.001025130390189588, 0.0002770622668322176, 0.028537414968013763, 0.25901859998703003, 0.052918896079063416, 0.12761488556861877, 0.09642459452152252, 0.3015684187412262, 0.02983267977833748, 0.1605803370475769, 0.0781128779053688, 0.07387939840555191, 0.1660139411687851, 0.00047894989256747067, 0.1397102326154709, 0.23657922446727753, 0.11798132956027985, 0.012970183975994587, 0.013685856014490128, 0.008997187949717045, 0.3509887754917145, 0.1512783020734787, 0.012369594536721706, 0.04073350504040718, 0.009772595018148422, 0.06348494440317154, 0.2777004837989807, 0.001735435682348907, 0.0829378217458725, 0.9992532730102539, 0.6613255143165588, 0.000740223505999893, 1.9739292838494293e-05, 0.04401862248778343, 0.04693017154932022, 0.0006513966945931315, 0.24616873264312744, 0.0001283054007217288, 0.018500670790672302, 0.0001401565968990326, 0.002074317540973425, 0.005017606075853109, 2.80313197436044e-05, 0.014996755868196487, 0.00039243846549652517, 0.9588112831115723, 0.9989609718322754, 0.0025077923201024532, 0.3588123023509979, 0.007886347360908985, 0.00019798360881395638, 0.0018478470155969262, 0.054907456040382385, 0.5623064637184143, 0.011516046710312366, 0.9991192817687988, 0.032774362713098526, 0.8342697024345398, 0.0027242647483944893, 0.018945079296827316, 0.005032611545175314, 0.050700441002845764, 0.03922109678387642, 0.011021834798157215, 0.005198978818953037, 8.31836587167345e-05, 0.9993618130683899, 0.00041398583562113345, 0.008262764662504196, 0.915101170539856, 0.006009283475577831, 0.07060907781124115, 0.9409258961677551, 0.02049380913376808, 0.03733738139271736, 0.0012167453533038497, 0.2583501935005188, 0.15884889662265778, 0.10945500433444977, 0.08609145879745483, 0.03566741943359375, 0.10349259525537491, 0.08390182256698608, 0.08987314999103546, 0.04235227033495903, 0.03196599707007408, 3.0057757612667046e-05, 0.4927883446216583, 0.13130946457386017, 0.00044227842590771616, 0.09887713938951492, 0.036730580031871796, 0.003486699890345335, 0.02294265665113926, 0.005633682478219271, 0.2077549248933792, 0.052600834518671036, 0.00829337164759636, 3.97287258238066e-05, 0.09023386985063553, 0.002979654585942626, 0.6469922661781311, 0.003386873984709382, 0.1281648725271225, 0.0673103928565979, 6.383116851793602e-05, 0.039894480258226395, 0.01346837729215622, 0.946488618850708, 0.00016460612823721021, 0.1456764191389084, 0.8539766073226929, 0.00019460421754047275, 0.010508627630770206, 5.307387618813664e-05, 0.733162522315979, 0.00012383903958834708, 0.25593993067741394, 0.845349133014679, 0.08676543086767197, 0.02101512812077999, 4.161411561653949e-05, 0.008780578151345253, 0.03803529962897301, 0.915310800075531, 0.00033562289900146425, 0.010135811753571033, 0.040811747312545776, 0.033293791115283966, 0.9999021887779236, 0.00023384475207421929, 0.9980494379997253, 0.0014030685415491462, 0.9998042583465576, 0.004237417597323656, 0.13309071958065033, 0.001939662965014577, 0.05454929172992706, 5.9681937273126096e-05, 0.7085140943527222, 0.0013130026636645198, 0.054489608854055405, 0.04183703660964966, 0.9994844198226929, 0.9992802143096924, 0.9244594573974609, 0.07540135085582733, 0.9984306693077087, 0.006271451245993376, 0.0001324954500887543, 0.07221002131700516, 0.285251647233963, 3.3123862522188574e-05, 0.0004747753555420786, 0.004261936992406845, 0.3100835084915161, 0.32051753997802734, 0.0007618488161824644, 8.762639481574297e-05, 0.999860942363739, 0.024126192554831505, 0.011722665280103683, 2.9602688300656155e-05, 0.0003552322741597891, 0.0001480134524172172, 0.9636267423629761, 0.0659107118844986, 0.008096402511000633, 0.07424701005220413, 0.029446914792060852, 0.018471792340278625, 0.01799200475215912, 0.012654377147555351, 0.013553977943956852, 0.0035384276416152716, 0.7560840249061584, 0.9997118711471558, 0.9997775554656982, 0.201264426112175, 0.13230422139167786, 0.10587935149669647, 0.10830380022525787, 0.06976134330034256, 0.10877444595098495, 0.09550419449806213, 0.08416907489299774, 0.048793818801641464, 0.045247066766023636, 0.9988446831703186, 0.9994001388549805, 0.9991140961647034, 0.9735013842582703, 0.016284674406051636, 0.002684287028387189, 0.00017895246855914593, 0.007337050978094339, 0.20979948341846466, 0.1091017797589302, 0.11125863343477249, 0.10530923306941986, 0.06806283444166183, 0.13347697257995605, 0.07903438061475754, 0.08170337229967117, 0.055737610906362534, 0.046516820788383484, 0.9991756081581116, 0.05984235554933548, 0.13478480279445648, 0.22113744914531708, 0.08767855167388916, 0.14024420082569122, 0.06955844163894653, 0.13583672046661377, 0.07455535978078842, 0.02999029867351055, 0.046372294425964355, 0.3477565050125122, 0.0004632635391317308, 0.0005662110052071512, 0.09641028940677643, 2.5736862880876288e-05, 0.04303203523159027, 0.005996689200401306, 0.4981369972229004, 0.007309269160032272, 0.0003088423691224307, 0.025215808302164078, 0.9722794890403748, 0.0024515369441360235, 0.998218834400177, 0.9648656249046326, 0.008045513182878494, 0.00029798198374919593, 0.02205066569149494, 0.004767711739987135, 0.00011886219726875424, 0.9904073476791382, 0.00943765789270401, 0.9998876452445984, 0.002074452815577388, 4.2335770558565855e-05, 4.2335770558565855e-05, 0.041108034551143646, 0.00021167885279282928, 0.002116788411512971, 4.2335770558565855e-05, 0.19965548813343048, 0.7547197937965393, 0.024702325463294983, 0.12230481207370758, 0.13575246930122375, 0.1061583086848259, 0.2607140839099884, 0.08847926557064056, 0.11038818955421448, 0.0799279436469078, 0.026544081047177315, 0.0450291708111763, 0.2709529995918274, 2.503955147403758e-05, 0.001026621670462191, 0.019806286320090294, 0.046698763966560364, 0.6614698767662048, 0.9952375888824463, 0.004678144585341215, 0.9990233182907104, 0.999602198600769, 0.015363771468400955, 0.29307687282562256, 0.03537767380475998, 0.008706856518983841, 0.0008631332311779261, 0.06894276291131973, 0.1258016675710678, 0.33556461334228516, 0.00080918736057356, 0.1154872253537178, 0.007072023581713438, 0.9924406409263611, 0.1458132416009903, 0.18954364955425262, 0.05847671255469322, 0.011723591946065426, 0.38844358921051025, 0.007938142865896225, 0.030989833176136017, 0.06946016848087311, 0.07816670089960098, 0.019435739144682884, 0.9973703026771545, 0.0024644946679472923, 0.9994955658912659, 0.017586374655365944, 0.1430681198835373, 0.029418185353279114, 0.4772307276725769, 0.041346803307533264, 0.0009465449256822467, 0.1295798420906067, 0.0003226857807021588, 0.16048239171504974, 1.0756191841210239e-05, 0.9988527894020081, 0.0006321853143163025, 0.813444972038269, 0.18631260097026825, 0.00023529485042672604, 0.9996662735939026, 0.00026272438117302954, 0.9998820424079895, 0.9604853987693787, 0.03925240784883499, 0.00029963668202981353, 0.9998492002487183, 0.9999889731407166, 6.185638994793408e-06, 0.9998577833175659, 0.9980899095535278, 0.0018966716015711427, 0.06022083759307861, 0.0018867411417886615, 0.8087642788887024, 0.019205335527658463, 0.00012672142474912107, 0.03680553287267685, 0.016487864777445793, 0.00963082816451788, 0.04218415543437004, 0.00468869274482131, 0.9995076656341553, 0.9995074272155762, 0.030300838872790337, 0.057947125285863876, 0.3056049942970276, 0.09890303015708923, 0.11182815581560135, 0.030395643785595894, 0.1756374090909958, 0.035746876150369644, 0.12309946119785309, 0.030543118715286255, 0.9997044205665588, 0.030909152701497078, 0.5296528339385986, 0.023377887904644012, 0.002708092564716935, 0.004289460368454456, 0.1500454545021057, 0.045194175094366074, 0.05721915885806084, 0.00833512656390667, 0.14827300608158112, 0.012684616260230541, 0.9425576329231262, 0.01726013794541359, 0.00765607226639986, 0.007791978772729635, 0.0060251927934587, 0.00036241760244593024, 4.530220030574128e-05, 0.0007701374124735594, 0.004847335629165173, 0.9999499917030334, 0.25645121932029724, 0.005232205148786306, 0.16735738515853882, 0.034558165818452835, 0.00016464981308672577, 0.3569242060184479, 0.030432773754000664, 0.09830508381128311, 0.047775886952877045, 0.0028081941418349743, 0.0021940895821899176, 0.02381085976958275, 0.9713833332061768, 0.0025930150877684355, 0.0003818344557657838, 0.9910513162612915, 0.008591274730861187, 0.9996804594993591, 0.004568312782794237, 0.9954026937484741, 0.000228964738198556, 0.9996600151062012, 0.9983131289482117, 0.013862683437764645, 0.00038363446947187185, 0.002695809816941619, 0.10178755223751068, 0.0015552748227491975, 0.8401491045951843, 0.0005287934327498078, 0.016278542578220367, 0.02273811772465706, 0.9994528889656067, 0.0009042886667884886, 0.1267511248588562, 0.7585098147392273, 0.014091831631958485, 0.059174392372369766, 0.03880905732512474, 0.001733219949528575, 0.34608885645866394, 0.11642463505268097, 0.005929498467594385, 0.04353334754705429, 0.12094414979219437, 0.041468724608421326, 2.5178338546538725e-05, 0.032228272408246994, 0.2932395040988922, 0.00011330252164043486, 4.862980131292716e-05, 4.862980131292716e-05, 0.0003404086164664477, 0.9995369911193848, 0.7424011826515198, 0.00017441246018279344, 0.2087862491607666, 0.001453437260352075, 0.00020348120597191155, 0.00011627497588051483, 0.0466117300093174, 0.00023254995176102966, 0.9987343549728394, 0.9999228119850159, 0.0037092852871865034, 0.6606414318084717, 7.379215094260871e-05, 0.00021153749548830092, 9.838952792051714e-06, 0.10988634824752808, 0.2249627411365509, 0.0005067060701549053, 0.9996644258499146, 0.06638888269662857, 0.0009887706255540252, 0.16008305549621582, 0.0014885887503623962, 3.259683580836281e-05, 0.7543668150901794, 0.002140525495633483, 0.014505591243505478, 0.0023980322293937206, 0.0032676481641829014, 0.28054341673851013, 0.71377032995224, 1.3176000720704906e-05, 0.001470491522923112, 0.9973745346069336, 0.0007624771096743643, 0.00038123855483718216, 0.9913988709449768, 0.00018376253137830645, 0.008269313722848892, 0.9998712539672852, 0.31016504764556885, 0.08547788113355637, 0.05278967693448067, 0.10563671588897705, 0.14315788447856903, 0.05783775448799133, 0.05064807087182999, 0.10044045001268387, 0.06876569241285324, 0.025082625448703766, 0.1313696801662445, 0.1836724579334259, 0.010988151654601097, 0.02939174696803093, 0.3917722702026367, 0.12594830989837646, 0.005722562782466412, 0.013865011744201183, 0.00033234484726563096, 0.10693195462226868, 0.9995254874229431, 0.9993957877159119, 0.9997434020042419, 0.9997783303260803, 0.005291389767080545, 0.009921356104314327, 0.9848599433898926, 0.005797578953206539, 0.0007562059909105301, 0.9916381239891052, 0.0017644806066527963, 0.00627520214766264, 0.000317880796501413, 1.1773362530220766e-05, 0.00012950699601788074, 1.1773362530220766e-05, 2.354672506044153e-05, 0.00035320088500157, 0.9860073328018188, 0.0068520973436534405, 0.9999923706054688, 0.0005849315202794969, 0.0005849315202794969, 0.04650205746293068, 0.9522685408592224, 0.014282540418207645, 0.9854952692985535, 0.9993166327476501, 0.9988386631011963, 0.0004268541233614087, 9.302787657361478e-05, 0.981123685836792, 1.0336430932511576e-05, 0.017820006236433983, 0.0009199423366226256, 3.100929097854532e-05, 0.0014257653383538127, 0.9985109567642212, 0.005100950598716736, 0.06830363720655441, 0.0008456121431663632, 0.012084070593118668, 0.14806395769119263, 0.09945490211248398, 0.06243891268968582, 8.183343743439764e-05, 0.08109693229198456, 0.5225337743759155, 0.9998950362205505, 0.9997255802154541, 0.06874474138021469, 2.640778257045895e-05, 0.0043942551128566265, 0.0005545634194277227, 0.33317115902900696, 0.0005651265382766724, 5.28155669599073e-06, 0.47764283418655396, 0.046065736562013626, 0.068829245865345, 0.037600327283144, 0.09634382277727127, 0.1354025900363922, 0.06838306039571762, 0.08788655698299408, 0.06196243688464165, 0.10068464279174805, 0.12888704240322113, 0.0964905321598053, 0.18635332584381104, 0.12189973890781403, 0.07865152508020401, 0.09404610097408295, 0.04743216559290886, 0.06309667229652405, 0.3891580402851105, 0.06325694918632507, 0.09237589687108994, 0.029262349009513855, 0.020818529650568962, 0.9874386191368103, 0.005883415229618549, 0.006631031632423401, 0.111796535551548, 0.8881990313529968, 0.09300381690263748, 0.9069052338600159, 0.9994348287582397, 0.007719702087342739, 0.033166129142045975, 0.9048253297805786, 0.00019060993508901447, 0.05098815634846687, 0.0030974112451076508, 0.9988989233970642, 0.03271007537841797, 0.0020722500048577785, 0.06716451048851013, 0.01028255745768547, 0.0016000918112695217, 0.4059511721134186, 0.13270269334316254, 0.3075455129146576, 0.03912355750799179, 0.0008656234131194651, 0.9991968274116516, 0.023003971204161644, 0.2075577974319458, 0.03697151690721512, 0.03953436762094498, 0.031565796583890915, 0.1289874017238617, 0.35375428199768066, 0.12240466475486755, 0.0008732681744731963, 0.05535760521888733, 0.07691153138875961, 0.21580661833286285, 0.14461955428123474, 0.07806659489870071, 0.079033762216568, 0.0847967341542244, 0.08700212836265564, 0.153901606798172, 0.02137167379260063, 0.0584891103208065, 0.81294846534729, 0.0016110629076138139, 0.012006978504359722, 0.06742146611213684, 0.05985250696539879, 0.0013070887653157115, 0.011399030685424805, 0.028056813403964043, 0.002522985450923443, 0.00285735703073442, 0.9999446272850037, 0.9936220645904541, 0.006041786167770624, 0.012575170025229454, 0.9332230091094971, 0.0027476383838802576, 0.051303789019584656, 0.00010176438809139654, 2.907553789555095e-05, 0.9992959499359131, 0.00021897576516494155, 0.0004379515303298831, 0.05068749561905861, 0.2312704473733902, 0.16643944382667542, 0.0664292424917221, 0.09756436198949814, 0.08783844858407974, 0.08901288360357285, 0.11854976415634155, 0.027134133502840996, 0.06507163494825363, 0.9489384889602661, 0.003921709954738617, 0.0017301661428064108, 0.0006920664454810321, 0.04452294111251831, 0.00023068882001098245, 0.0006234074244275689, 0.15488840639591217, 0.02686319313943386, 0.8175988793373108, 0.07482701539993286, 0.07616370916366577, 0.12302003055810928, 0.04010075703263283, 0.17066949605941772, 0.2627570331096649, 0.08412839472293854, 0.09034595638513565, 0.01370525173842907, 0.06427214294672012, 0.04770640656352043, 0.28200995922088623, 0.12659327685832977, 0.13775575160980225, 0.09437284618616104, 0.03822266682982445, 0.1048569604754448, 0.0954735204577446, 0.02276308834552765, 0.05024825036525726, 0.0005791760049760342, 2.316704012628179e-05, 0.8708953261375427, 0.0006255100597627461, 0.026456758379936218, 0.000440173753304407, 0.03190101310610771, 0.06804159283638, 0.0010656837839633226, 0.015442359261214733, 0.2130422443151474, 0.12140820175409317, 0.08848828822374344, 0.07423187047243118, 0.1287449449300766, 0.11881018429994583, 0.1816047579050064, 0.011934787966310978, 0.04629189893603325, 0.023382285609841347, 0.05279257893562317, 0.26520195603370667, 0.0682084709405899, 0.06592801213264465, 0.055658355355262756, 0.2887362539768219, 0.05064135044813156, 0.10003604739904404, 0.029425496235489845, 0.9998208284378052, 0.9988623857498169, 0.9986891746520996, 0.0031004210468381643, 7.686994649702683e-05, 2.562331428634934e-05, 0.32149574160575867, 0.5980737805366516, 0.06705621629953384, 0.010146833024919033, 0.0012953525874763727, 0.9983929991722107, 0.9618687629699707, 0.01663731224834919, 0.0012712895404547453, 0.02011954039335251, 0.00011054692004108801, 0.961387574672699, 0.009540867991745472, 0.018998771905899048, 0.0040652393363416195, 0.005392664112150669, 0.0005807484849356115, 0.994141161441803, 0.005726194009184837, 0.10528290271759033, 0.22830820083618164, 0.11618589609861374, 0.07221213728189468, 0.10526566952466965, 0.06720317900180817, 0.08612998574972153, 0.10835589468479156, 0.03644093498587608, 0.07461540400981903, 0.2868415117263794, 0.0006775116780772805, 0.01871625892817974, 0.11158616840839386, 0.0006266983109526336, 0.06888599693775177, 0.4791870713233948, 0.005386217497289181, 0.0071985614486038685, 0.02086735889315605, 0.06781047582626343, 0.0002642652834765613, 0.9072756171226501, 0.024418113753199577, 0.00015855918172746897, 0.9992377758026123, 0.004800573457032442, 0.682910144329071, 0.09858319908380508, 0.02165973000228405, 0.027974769473075867, 8.572452497901395e-05, 0.0001714490499580279, 0.01334445085376501, 0.00025717358221299946, 0.1501893699169159, 0.006176803261041641, 0.0006618003826588392, 0.000220600122702308, 0.9928770065307617, 4.41200245404616e-05, 0.9996851086616516, 0.9471215605735779, 0.01273868978023529, 0.040126871317625046, 0.01250992901623249, 0.9872419238090515, 0.9997673630714417, 0.9996817708015442, 0.0027602240443229675, 0.0024485858157277107, 0.00023743862402625382, 0.003709978424012661, 0.10742613673210144, 0.003932577092200518, 0.8529834151268005, 0.026489246636629105, 0.0006962360930629075, 0.8974483609199524, 7.735956751275808e-05, 0.10165046900510788, 0.00011603935126913711, 8.803426317172125e-05, 0.00563419284299016, 0.8454810380935669, 0.00026410279679112136, 0.13953430950641632, 0.008187185972929, 0.0007923083612695336, 0.9998779892921448, 0.18081983923912048, 4.932346928399056e-05, 0.8069812655448914, 0.012084250338375568, 0.9995092153549194, 0.9999315142631531, 0.9993453621864319, 0.9995546936988831, 0.0008243137272074819, 0.9990682005882263, 0.12195044010877609, 0.06554577499628067, 0.01729074865579605, 0.11550045758485794, 7.626668957527727e-05, 0.0542038269340992, 0.5046131014823914, 0.10206662118434906, 0.018554596230387688, 0.00021790483151562512, 0.9981856346130371, 0.0017858342034742236, 0.9998049736022949, 0.0008502434357069433, 0.009075854904949665, 0.017271805554628372, 0.7245458364486694, 0.16764625906944275, 0.00010875207226490602, 0.019605033099651337, 0.04977878928184509, 0.011122371070086956, 0.006298664025962353, 0.002699427306652069, 0.9909148216247559, 0.9991140961647034, 0.013022169470787048, 0.9869906306266785, 0.02885110303759575, 0.9711263179779053, 0.9988244771957397, 0.003934122622013092, 0.6851949095726013, 2.2675058062304743e-05, 0.10744576156139374, 0.002312856027856469, 0.08177759498357773, 0.009568874724209309, 0.002811707090586424, 0.10693557560443878, 0.9999876022338867, 0.9987097382545471, 0.053719986230134964, 0.007856710813939571, 0.059130944311618805, 0.7542983293533325, 7.57534071453847e-05, 0.00010821915202541277, 0.08325299620628357, 0.014306572265923023, 0.027238760143518448, 0.0003931471728719771, 0.9911240339279175, 0.008256090804934502, 0.00019657358643598855, 0.07816320657730103, 0.7540492415428162, 0.15241648256778717, 0.01531984657049179, 0.9997080564498901, 0.06713345646858215, 0.13478471338748932, 0.16461855173110962, 0.08879648149013519, 0.10755161195993423, 0.08565161377191544, 0.11350784450769424, 0.121348075568676, 0.0524798259139061, 0.06412900984287262, 0.09881000965833664, 0.8464996218681335, 0.001136709121055901, 6.973675681365421e-06, 0.02832707017660141, 0.005571966525167227, 0.01963786967098713, 0.9993683695793152, 0.009597723372280598, 0.9861660599708557, 0.004113310016691685, 0.9993159770965576, 0.9990599751472473, 0.9992369413375854, 0.9276744723320007, 0.0722668245434761, 0.10960916429758072, 0.09053310006856918, 0.060029853135347366, 0.09747987240552902, 0.26559990644454956, 0.10251611471176147, 0.07895289361476898, 0.08576014637947083, 0.041169822216033936, 0.06835158169269562, 0.99941086769104, 0.0037687732838094234, 0.08201568573713303, 0.8064277172088623, 0.0833616778254509, 0.024407293647527695, 0.010592744685709476, 0.9886701703071594, 0.00073415064252913, 0.9997321963310242, 0.00018223335791844875, 0.928655743598938, 0.06722334772348404, 0.004103643354028463, 0.2529986798763275, 0.09474094212055206, 0.041178442537784576, 0.10045032203197479, 0.10727763921022415, 0.1247275322675705, 0.06378491967916489, 0.08187422901391983, 0.10400217771530151, 0.02895939350128174, 0.9991792440414429, 0.024680020287632942, 0.28607475757598877, 0.1434219628572464, 0.0667329877614975, 0.11293395608663559, 0.06705085933208466, 0.07989513874053955, 0.13545560836791992, 0.016136785969138145, 0.06761595606803894, 0.9990311861038208, 0.999674916267395, 0.4333626627922058, 0.5666183233261108, 0.998998761177063, 0.9997273683547974, 0.003339641960337758, 1.4032108992978465e-05, 0.7457083463668823, 0.0010383760090917349, 0.0005051559419371188, 9.822476567933336e-05, 0.15759462118148804, 0.0030028712935745716, 0.08858470618724823, 0.00011225687194382772, 0.9997434020042419, 0.00016017258167266846, 0.9996371269226074, 0.9989073872566223, 0.9997256398200989, 0.9996355175971985, 0.9985499382019043, 0.000793129438534379, 0.13179905712604523, 0.15700942277908325, 0.0683678686618805, 0.09568027406930923, 0.16650821268558502, 0.1471927911043167, 0.0635741651058197, 0.08864864706993103, 0.027474286034703255, 0.05374571681022644, 0.9998177289962769, 0.9996375441551208, 0.9995890259742737, 0.9978513121604919, 0.0021262813825160265, 0.9998025894165039, 0.9996147155761719, 0.17776650190353394, 0.12343417853116989, 0.000354823365341872, 0.4754854738712311, 0.22291778028011322, 0.012807237915694714, 0.005913823843002319, 0.7784357666969299, 0.025771694257855415, 0.003676487598568201, 0.03606344014406204, 0.001136808656156063, 0.10064385086297989, 0.016108820214867592, 0.01943458989262581, 0.0008638161234557629, 0.018658427521586418, 0.0038007907569408417, 0.030924616381525993, 0.027987642213702202, 0.9125353097915649, 0.00017276321887038648, 0.0046646068803966045, 0.9996221661567688, 0.9990155100822449, 0.9998626112937927, 0.9993760585784912, 0.9794875383377075, 6.0054419009247795e-05, 0.020418502390384674, 0.9990256428718567, 0.9988690614700317, 0.005974454805254936, 0.993850588798523, 0.9987511038780212, 0.0003361100680194795, 0.0008402751991525292, 0.9989417195320129, 0.11654393374919891, 4.2272011341992766e-05, 0.7129597663879395, 0.17044074833393097, 0.12847468256950378, 0.0003831121721304953, 0.07279131561517715, 0.04996311292052269, 0.08730994910001755, 0.023132048547267914, 0.1346837431192398, 0.05824626237154007, 0.4318731129169464, 0.013144711032509804, 0.9991565942764282, 0.108780637383461, 0.002688869135454297, 0.16183769702911377, 0.0005950409104116261, 0.00016106369730550796, 0.7220709323883057, 0.00032660141005180776, 0.00227726181037724, 0.00022369959333445877, 0.0010379661107435822, 0.05892440304160118, 0.012915686704218388, 1.0936229045910295e-05, 0.00013123474491294473, 0.0022966081742197275, 0.00016404343477915972, 0.853310227394104, 0.008934899233281612, 0.02145688235759735, 0.04185295104980469, 0.0001073246676241979, 0.7681763172149658, 0.23171395063400269, 0.9998883008956909, 0.005686303600668907, 0.03265979513525963, 7.290132634807378e-05, 0.021432990208268166, 0.00014580265269614756, 0.00021870399359613657, 0.9152761697769165, 0.00014580265269614756, 0.019756261259317398, 0.00451988261193037, 0.0030808800365775824, 0.04307517036795616, 4.156330760451965e-05, 0.35467007756233215, 0.006296840962022543, 8.83220272953622e-05, 0.5865621566772461, 0.0003325064608361572, 0.0013663936406373978, 0.004483641590923071, 0.08875331282615662, 0.4370681941509247, 0.09073690325021744, 0.05975697562098503, 0.04981907829642296, 0.10490114986896515, 0.026245223358273506, 0.06486049294471741, 0.008671987801790237, 0.06917654722929001, 0.9998846650123596, 0.0003977158630732447, 0.7845014333724976, 0.07512715458869934, 5.4857362556504086e-05, 0.02287551946938038, 0.0030720122158527374, 0.0034148707054555416, 0.03146069869399071, 0.0010011468548327684, 0.07810316979885101, 0.15880009531974792, 0.0017895102500915527, 0.2446557879447937, 0.31725627183914185, 0.004558296408504248, 0.05294502153992653, 0.03366843983530998, 0.11551376432180405, 0.06995994597673416, 0.0008510374464094639, 0.108736552298069, 0.2543885409832001, 0.6082911491394043, 0.027003180235624313, 3.406266841921024e-05, 0.0015413358341902494, 0.07528944313526154, 0.0002533757360652089, 0.0859035849571228, 0.04196362569928169, 0.585247278213501, 0.1821310818195343, 2.7640988264465705e-05, 0.02859921008348465, 0.0005850676097907126, 0.999470055103302, 0.000522210611961782, 0.09688542783260345, 0.04034845158457756, 1.535913543193601e-05, 0.07989822328090668, 0.0787770077586174, 0.0006143654463812709, 6.143654172774404e-05, 0.7028801441192627, 0.999676525592804, 0.9994460344314575, 0.0017708385130390525, 0.9978675246238708, 0.22025983035564423, 0.08538860827684402, 0.10622338950634003, 0.08142390847206116, 0.01752341352403164, 0.054279625415802, 0.2971641719341278, 0.07096177339553833, 0.020619992166757584, 0.04614439234137535, 0.002514344174414873, 0.9971171021461487, 0.9997866749763489, 0.06935884803533554, 0.04523251950740814, 0.002237569307908416, 0.03940672427415848, 0.7434584498405457, 0.034815650433301926, 1.7390435459674336e-05, 0.05206696316599846, 0.013413822278380394, 0.012754211202263832, 0.1292882263660431, 0.000151835847645998, 0.02315496653318405, 7.5917923822999e-05, 0.002505291486158967, 0.8319085836410522, 0.04288584366440773, 0.006703824736177921, 0.04703158140182495, 0.05998894199728966, 0.46842148900032043, 0.25291702151298523, 0.01539899967610836, 0.02912883646786213, 0.07732494920492172, 0.00019797049753833562, 0.9989956617355347, 0.009233333170413971, 0.12913642823696136, 0.18096961081027985, 0.0866774469614029, 0.30660566687583923, 0.05032086744904518, 0.09949620813131332, 0.04602314159274101, 0.041797176003456116, 0.049741458147764206, 0.3311918377876282, 0.08581902086734772, 0.049393825232982635, 0.0831548348069191, 0.1722985804080963, 0.07943745702505112, 0.04691312834620476, 0.07397697865962982, 0.053103867918252945, 0.024711592122912407, 0.0005001425161026418, 0.0009233400342054665, 0.02596893720328808, 0.08941008895635605, 0.8831747174263, 0.2042771875858307, 0.20332705974578857, 0.06288235634565353, 0.027459759265184402, 0.33567914366722107, 0.08975380659103394, 0.011904200538992882, 0.04357600584626198, 0.0029691453091800213, 0.018165644258260727, 0.9999576807022095, 0.9605890512466431, 0.0001350659440504387, 0.0001350659440504387, 0.03903406113386154, 0.0001350659440504387, 0.01183610875159502, 0.8621061444282532, 3.216333789168857e-05, 1.6081668945844285e-05, 0.0014955953229218721, 0.003119844011962414, 4.824500865652226e-05, 4.824500865652226e-05, 4.824500865652226e-05, 0.12123970687389374, 0.02524932101368904, 0.8740609884262085, 1.992843135667499e-05, 0.00011957058450207114, 0.0027501233853399754, 0.004802751820534468, 9.964215132640675e-05, 0.00023914116900414228, 0.09262734651565552, 0.9269581437110901, 0.0009382845601066947, 0.0003351016202941537, 0.001809548819437623, 6.702032260363922e-05, 0.0003351016202941537, 0.06950007379055023, 0.9986213445663452, 2.6911213353741914e-05, 0.0013051938731223345, 2.6911213353741914e-05, 0.004097594879567623, 0.9317101240158081, 0.06276063621044159, 0.0013485755771398544, 5.186829002923332e-05, 0.022246019914746284, 0.9775463342666626, 0.9993114471435547, 0.14871348440647125, 0.11645308881998062, 0.07040180265903473, 0.12120163440704346, 0.2201821655035019, 0.118285171687603, 0.06936988979578018, 0.047052592039108276, 0.039614949375391006, 0.048727262765169144, 0.09552726149559021, 0.3368428945541382, 0.12042883783578873, 0.0635790005326271, 0.0458889901638031, 0.09306030720472336, 0.03591737151145935, 0.04435630515217781, 0.0766526311635971, 0.08774170279502869, 0.9986715316772461, 0.9995262622833252, 0.9995250701904297, 0.003911034669727087, 0.10014183819293976, 0.3419933319091797, 0.12041333317756653, 0.15215912461280823, 0.00689659733325243, 0.20556199550628662, 0.017050648108124733, 0.0025829561054706573, 0.04929576814174652, 0.999557614326477, 0.9993196129798889, 0.9998180866241455, 0.9996024966239929, 0.005641016643494368, 0.05134105309844017, 0.017286986112594604, 0.9257246255874634, 6.096679499023594e-05, 0.0012803026475012302, 0.9986056089401245, 0.9997298717498779, 0.9987779855728149, 0.0011202431051060557, 0.9519825577735901, 0.046676795929670334, 7.468287367373705e-05, 2.524319825170096e-05, 0.9988228678703308, 0.0011107006575912237, 0.9993884563446045, 0.2517601549625397, 0.16468468308448792, 0.05726145580410957, 0.07729213684797287, 0.019063949584960938, 0.08392778038978577, 0.08808859437704086, 0.053154777735471725, 0.19350102543830872, 0.011268225498497486, 0.002335913712158799, 0.06405946612358093, 0.00019795879779849201, 7.91835191193968e-05, 0.001781629165634513, 0.04584725573658943, 0.885232150554657, 0.0004355093406047672, 0.9994410276412964, 0.07037074118852615, 0.18090535700321198, 0.1725824475288391, 0.09061213582754135, 0.07179881632328033, 0.07227860391139984, 0.11425155401229858, 0.14069631695747375, 0.03483540564775467, 0.05167030915617943, 0.9637085199356079, 6.86108905938454e-05, 0.0006861088913865387, 0.012281348928809166, 0.02325909025967121, 5.967258766759187e-05, 0.08774854242801666, 0.7927353978157043, 0.00016409961972385645, 0.02179541252553463, 0.09746025502681732, 1.4918146916897967e-05, 0.93221515417099, 0.02860911376774311, 0.03912102431058884, 0.006635500118136406, 8.092073403531685e-05, 0.815680980682373, 0.08213454484939575, 0.09532462060451508, 0.047612473368644714, 0.16836482286453247, 0.10438156872987747, 0.070976123213768, 0.3071845471858978, 0.07382834702730179, 0.07431519031524658, 0.06472089886665344, 0.042094893753528595, 0.04651584103703499, 0.14954429864883423, 0.1078311949968338, 0.16694678366184235, 0.001113607664592564, 0.5304735898971558, 1.8874705347116105e-05, 0.0440346896648407, 0.007476788945496082, 0.9826992750167847, 0.00947059877216816, 0.8929458856582642, 0.022045297548174858, 0.0019298914121463895, 0.007051526103168726, 0.0313236229121685, 0.04245761036872864, 0.001632985076867044, 7.422659109579399e-05, 0.0005195861449465156, 0.010092804208397865, 0.015383642166852951, 0.9580279588699341, 0.005448537413030863, 0.004912357311695814, 0.0018135508289560676, 0.00431309686973691, 0.11260725557804108, 0.5717280507087708, 0.015252569690346718, 0.00672858115285635, 0.030035313218832016, 0.060020286589860916, 0.005201646592468023, 0.032787151634693146, 0.08539089560508728, 0.0802563726902008, 0.8985539674758911, 0.0006383664440363646, 0.021385276690125465, 0.00021278881467878819, 0.05367597937583923, 0.007766791619360447, 0.0063836644403636456, 0.01127780694514513, 0.10446473211050034, 0.005135303363204002, 0.011185112409293652, 0.041926585137844086, 0.015405909158289433, 0.06858795136213303, 0.7455334663391113, 0.007597434800118208, 7.034662121441215e-05, 0.563620924949646, 0.0863417312502861, 0.06756769865751266, 0.07141425460577011, 0.042535651475191116, 0.0635799765586853, 0.04441776126623154, 0.03384266421198845, 0.0017174240201711655, 0.024984991177916527, 0.29726442694664, 0.10354286432266235, 0.1411573439836502, 0.0819200947880745, 0.06134380027651787, 0.0740012526512146, 0.10733919590711594, 0.06983344256877899, 0.031684406101703644, 0.03191544860601425, 0.9985376000404358, 0.016546955332159996, 0.040056031197309494, 0.06084701791405678, 0.00014305725926533341, 4.7685749450465664e-05, 0.0445861779153347, 0.02155395969748497, 0.030852681025862694, 4.7685749450465664e-05, 0.7853366136550903, 0.06075461208820343, 0.007936927489936352, 0.025238286703824997, 0.003426011884585023, 0.0024553085677325726, 0.812878429889679, 0.011305838823318481, 0.043624550104141235, 0.017015859484672546, 0.015417053364217281, 0.9994494915008545, 0.000419572985265404, 0.9995774030685425, 0.9993679523468018, 0.039826031774282455, 0.059660885483026505, 0.20531877875328064, 0.39798444509506226, 0.07136684656143188, 0.026097038760781288, 0.013646231964230537, 0.030253438279032707, 0.036975402384996414, 0.11887118220329285, 0.06814908236265182, 0.002997501753270626, 0.00096977996872738, 0.04769553989171982, 0.06321202218532562, 0.7820834517478943, 0.00035264724283479154, 0.03341332823038101, 0.001146103604696691, 0.9998616576194763, 6.690125883324072e-05, 6.690125883324072e-05, 0.7548917531967163, 0.12995170056819916, 0.00041053094901144505, 0.001754086697474122, 3.7320995033951476e-05, 0.05008477345108986, 0.06288587301969528, 0.22785909473896027, 0.005446203984320164, 0.0761786475777626, 0.07869712263345718, 0.11882483959197998, 0.1036510169506073, 0.011480052024126053, 0.05855456367135048, 0.31553879380226135, 0.0037724669091403484, 0.9997270703315735, 0.9993884563446045, 0.01462583802640438, 0.048999492079019547, 0.00023495321511290967, 0.4641735851764679, 0.020018015056848526, 0.12050750851631165, 0.004734307527542114, 0.14198222756385803, 0.1847202181816101, 1.1747661119443364e-05, 0.00025266240118071437, 6.316560029517859e-05, 0.9996587634086609, 0.9995331764221191, 0.0326487272977829, 0.9103879928588867, 0.00041197132668457925, 0.0003089784877374768, 0.00175087817478925, 0.001716547179967165, 0.01156952790915966, 0.0010299283312633634, 0.04016720503568649, 0.02194877527654171, 0.46374833583831787, 0.15984918177127838, 6.469793333963025e-06, 0.04196954891085625, 0.07009374350309372, 0.24144622683525085, 0.0008895965875126421, 4.528855424723588e-05, 0.02610933408141136, 0.8120296597480774, 0.00010667756578186527, 0.014614826999604702, 0.07195401936769485, 8.000817615538836e-05, 2.6669391445466317e-05, 8.000817615538836e-05, 0.019201962277293205, 0.055819038301706314, 0.01039347518235445, 0.014446276240050793, 0.0005229421658441424, 0.00895538367331028, 0.9656126499176025, 0.00044565205462276936, 0.00044565205462276936, 0.9987062215805054, 3.96184841520153e-05, 0.020839322358369827, 1.980924207600765e-05, 0.12162874639034271, 0.8542339205741882, 0.0032090970780700445, 0.9995816946029663, 0.28178510069847107, 0.7179256677627563, 0.0002847135765478015, 0.7235246300697327, 0.05860123038291931, 0.026258381083607674, 0.06441376358270645, 0.030320357531309128, 0.0614905022084713, 0.016587819904088974, 0.01062232255935669, 0.00033991431700997055, 0.007852020673453808, 0.999855101108551, 7.154566992539912e-05, 0.021463701501488686, 0.042104627937078476, 0.024719029664993286, 0.8043164610862732, 0.03595170006155968, 0.00025040985201485455, 0.07111639529466629, 0.8414456844329834, 0.00034392098314128816, 0.03894905373454094, 0.00017196049157064408, 0.11912563443183899, 0.8428436517715454, 0.0004044878005515784, 0.0002955872332677245, 0.09069860726594925, 0.03724399209022522, 0.027318483218550682, 0.00045115945977158844, 0.00021780112001579255, 6.222889351192862e-05, 0.0004667166795115918, 0.25759896636009216, 0.03577278181910515, 0.19292068481445312, 0.27497097849845886, 0.01360646728426218, 0.04126971587538719, 0.11151091754436493, 0.0426439493894577, 0.012038132175803185, 0.017667056992650032, 0.9989004731178284, 0.4974280893802643, 0.00932310614734888, 0.051156483590602875, 0.3172582685947418, 0.04439225047826767, 0.00014682057371828705, 0.01239585131406784, 0.0332338847219944, 0.021309956908226013, 0.013350185006856918, 0.9995440244674683, 0.9992693662643433, 1.3258602848509327e-05, 0.8814584612846375, 0.1185186505317688, 0.9995118379592896, 0.00046785263111814857, 0.0001979376538656652, 0.00034189230063930154, 5.3982996178092435e-05, 3.598866533138789e-05, 0.9221555590629578, 0.07674582302570343, 0.0018801145488396287, 0.00527878338471055, 0.9927728176116943, 0.9996827244758606, 0.9642671346664429, 0.03569012135267258, 0.9998612403869629, 0.38621091842651367, 0.006517510861158371, 0.5169870257377625, 0.01725527085363865, 0.0729057788848877, 0.00011615365656325594, 1.2905961739306804e-05, 0.0029960661195218563, 0.08305724710226059, 0.19931380450725555, 0.04501310735940933, 0.08558128774166107, 0.062071673572063446, 0.12546764314174652, 0.19903188943862915, 0.05471590533852577, 0.14273600280284882, 0.9985567927360535, 0.9992967247962952, 0.999670147895813, 0.004110119305551052, 0.7385236024856567, 0.019468987360596657, 0.00789575558155775, 0.007174682337790728, 0.019541094079613686, 0.0376400426030159, 0.10455567389726639, 0.00396590493619442, 0.057181134819984436, 0.013196932151913643, 0.06834828853607178, 0.9182701110839844, 0.9993852376937866, 0.0009652278968133032, 0.20462831854820251, 0.0020108914468437433, 0.0650724470615387, 0.031128600239753723, 0.0003753664204850793, 0.060568053275346756, 0.6038036942481995, 0.03142353147268295, 0.018079232424497604, 0.11982369422912598, 0.16673296689987183, 0.04733604937791824, 0.11530794948339462, 0.07492232322692871, 0.10155748575925827, 0.15712429583072662, 0.02215600199997425, 0.17695942521095276, 0.0001437817991245538, 0.9958328008651733, 0.0001437817991245538, 0.003019417868927121, 0.0008626908529549837, 0.9990778565406799, 0.9994549751281738, 0.7191730737686157, 1.6968433556030504e-05, 0.0008314532460644841, 0.0010011375416070223, 2.5452649424551055e-05, 0.07655308395624161, 0.13644316792488098, 0.06595630198717117, 0.09712404012680054, 0.8145655393600464, 0.0876990407705307, 0.0005917043308727443, 0.017167864367365837, 4.037122562294826e-05, 0.19522514939308167, 0.3416011333465576, 6.055683843442239e-05, 0.01849002204835415, 0.38301190733909607, 9.083525947062299e-05, 0.01198016107082367, 0.032327260822057724, 0.0001801847538445145, 4.5616393435921054e-06, 0.9356378316879272, 0.06254463642835617, 2.2808196717960527e-06, 0.0001482532825320959, 0.0013046287931501865, 4.10547545470763e-05, 0.00013456835586111993, 0.9998382925987244, 0.9998462796211243, 4.051989890285768e-06, 0.00014992363867349923, 0.9964491724967957, 0.0032578001264482737, 8.103979780571535e-06, 8.103979780571535e-05, 4.457189061213285e-05, 4.051989890285768e-06, 0.9983193278312683, 0.0013153087347745895, 0.3070072531700134, 7.793050826876424e-06, 0.0001558610238134861, 0.1295205056667328, 0.005883753765374422, 0.11638922244310379, 0.018898149952292442, 0.4182608425617218, 0.0038731463719159365, 0.9993463158607483, 0.00018325619748793542, 6.872107769595459e-05, 0.9997313022613525, 0.9997152090072632, 0.9998373985290527, 0.9638298153877258, 0.036173515021800995, 0.01882495917379856, 0.7858996391296387, 0.04484071210026741, 0.08757846057415009, 0.0008705836953595281, 0.010887949727475643, 0.015647893771529198, 0.029091063886880875, 0.0002826570416800678, 0.006082779727876186, 0.999186098575592, 0.0008340451749972999, 0.03786442056298256, 0.00026875376352109015, 0.28962698578834534, 0.01893221028149128, 0.6530119180679321, 0.00014930765610188246, 0.00011944612197112292, 7.776600978104398e-05, 0.775793731212616, 0.08816073089838028, 0.0003888300561811775, 0.13046544790267944, 0.005002946592867374, 0.00010368801304139197, 0.9997514486312866, 0.18134938180446625, 3.218553320039064e-05, 0.8186068534851074, 0.2892732322216034, 0.019302990287542343, 0.6888468265533447, 3.395424937480129e-05, 0.0015788725577294827, 0.0003225653781555593, 0.0006451307563111186, 0.9980108141899109, 0.9914858937263489, 0.008406172506511211, 0.4731144309043884, 3.4543983929324895e-05, 0.5267958045005798, 0.016040967777371407, 8.911648910725489e-05, 0.877084493637085, 0.06309447437524796, 4.4558244553627446e-05, 0.029542116448283195, 0.00022279123368207365, 0.011629702523350716, 0.0022279121913015842, 0.9980139136314392, 0.0019368536304682493, 0.9993276596069336, 0.018628757447004318, 0.010090576484799385, 0.016253119334578514, 0.013830441050231457, 0.6940858364105225, 0.07096333056688309, 0.0012701425002887845, 0.0006585924420505762, 0.15458105504512787, 0.01964016631245613, 0.725601077079773, 0.03899701312184334, 0.0009396870736964047, 0.08188831061124802, 0.015965644270181656, 0.0031985503155738115, 0.005710406228899956, 0.03948492929339409, 0.0714162215590477, 0.016796907410025597, 0.999750554561615, 0.19954466819763184, 0.0014251450775191188, 0.24885834753513336, 0.19033603370189667, 0.04110386222600937, 0.022041024640202522, 0.045464564114809036, 0.026419997215270996, 0.20104898512363434, 0.02376459911465645, 9.865706670098007e-05, 0.2491142749786377, 5.192477146920282e-06, 0.00012461944425012916, 0.027862831950187683, 0.7225331664085388, 0.00010904201917583123, 0.0001401968766003847, 0.15447205305099487, 0.11387627571821213, 0.05803360417485237, 0.04454118013381958, 0.026273805648088455, 0.12812308967113495, 0.31493592262268066, 0.08168870210647583, 0.03306626155972481, 0.044989194720983505, 0.9996638298034668, 0.7998271584510803, 0.06839793920516968, 0.010675488971173763, 0.052686844021081924, 0.00630170339718461, 0.016804542392492294, 0.0040284860879182816, 0.017408816143870354, 0.006589452736079693, 0.017264941707253456, 0.0004620288673322648, 0.0027721731457859278, 0.0004620288673322648, 0.9956722259521484, 0.0006905284244567156, 0.9992574453353882, 0.010061255656182766, 0.9897941946983337, 0.0006445808685384691, 0.987497866153717, 0.011602455750107765, 0.9993315935134888, 0.9995046854019165, 0.1751609444618225, 0.1515476405620575, 0.11606743186712265, 0.09219183772802353, 0.056431613862514496, 0.10453016310930252, 0.07745745033025742, 0.13735556602478027, 0.039981696754693985, 0.049275316298007965, 0.9968244433403015, 0.0026013164315372705, 0.9792725443840027, 0.020602785050868988, 0.9996037483215332, 0.24778150022029877, 0.08844465017318726, 0.06743472814559937, 0.06405983865261078, 0.08033666014671326, 0.2016717940568924, 0.0993429496884346, 0.08167096972465515, 0.04271307960152626, 0.02654491364955902, 0.9954791069030762, 0.004408839158713818, 0.01601465232670307, 0.9839305281639099, 0.00014657879364676774, 0.9996674060821533, 0.018273113295435905, 0.24059975147247314, 0.0464816689491272, 0.009091549552977085, 0.00018003067816607654, 0.151124507188797, 0.05224265158176422, 0.47748637199401855, 0.0013164742849767208, 0.0032180482521653175, 0.9999004602432251, 0.9864814877510071, 0.013360509648919106, 0.9995152354240417, 0.9999338388442993, 0.17601966857910156, 0.007976174354553223, 0.8160169720649719, 0.9997738003730774, 0.9999550580978394, 0.005682944320142269, 0.0010999247897416353, 0.015582267194986343, 0.00018332079343963414, 9.166039671981707e-05, 0.6493833661079407, 0.1465955227613449, 0.0025970444548875093, 3.055346678593196e-05, 0.17870721220970154, 0.04172292351722717, 0.11912597715854645, 0.8391174077987671, 0.34217581152915955, 0.12541547417640686, 0.12964746356010437, 0.0867660716176033, 0.03953295946121216, 0.07852505147457123, 0.06940046697854996, 0.0788140594959259, 0.020008012652397156, 0.02971474640071392, 0.0003808115725405514, 0.9992495179176331, 0.13411127030849457, 0.09147343039512634, 0.13233600556850433, 0.18682987987995148, 0.0070822592824697495, 0.23982448875904083, 0.08809226751327515, 0.10487264394760132, 0.010325419716536999, 0.005062341224402189, 3.3111884931713575e-06, 3.3111884931713575e-06, 0.999988853931427, 0.9998957514762878, 0.07371851056814194, 0.1459387242794037, 0.08617451041936874, 0.037714626640081406, 0.06252599507570267, 0.042556144297122955, 0.047710735350847244, 0.46103978157043457, 0.011706852354109287, 0.03090519644320011, 0.08158876746892929, 0.9183632135391235, 0.999241292476654, 0.9997952580451965, 0.9995821118354797, 0.9997860789299011, 0.9992694854736328, 0.034088604152202606, 0.9656333923339844, 0.9987441301345825, 0.9991234540939331, 0.2783152461051941, 0.02727193757891655, 0.047645311802625656, 0.16253484785556793, 0.03841439634561539, 0.42962703108787537, 0.0025830448139458895, 0.0023860707879066467, 0.010636593215167522, 0.0005819684593006968, 0.6384478211402893, 0.012774278409779072, 0.021340813487768173, 0.06864017248153687, 0.00137381034437567, 0.11255175620317459, 0.03642395883798599, 0.04996785894036293, 0.04792512208223343, 0.010558919981122017, 0.261924147605896, 0.0013240512926131487, 0.05062636733055115, 0.10044937580823898, 0.025409884750843048, 0.014192639850080013, 0.08929163962602615, 0.046356674283742905, 0.39581695199012756, 0.01462407223880291, 0.033774688839912415, 0.0011686409125104547, 0.0005022258847020566, 0.7875513434410095, 0.05571809411048889, 6.438793207053095e-05, 0.07000900059938431, 0.05121093988418579, 0.012704133987426758, 0.9872927069664001, 0.9974839091300964, 0.10870249569416046, 0.10093500465154648, 0.09102855622768402, 0.0805860161781311, 0.12290073186159134, 0.1275242120027542, 0.11238877475261688, 0.16280497610569, 0.04109984263777733, 0.05202832818031311, 0.9992847442626953, 0.9995718598365784, 0.9998779892921448, 0.0003635173779912293, 0.999309241771698, 0.0002449935127515346, 0.0001224967563757673, 0.9988385438919067, 0.0003674902836792171, 0.0003674902836792171, 0.9992018342018127, 0.9984288811683655, 0.07515135407447815, 0.011037907563149929, 0.0010987772839143872, 0.318407267332077, 0.003709940006956458, 0.00013369153020903468, 0.45356106758117676, 0.0060787866823375225, 0.13076703250408173, 5.0134323828388005e-05, 0.999638557434082, 0.9663386344909668, 0.03352510929107666, 0.9992678165435791, 0.0009572588605806231, 0.9984209537506104, 0.9988313913345337, 0.9999548196792603, 0.9998526573181152, 0.0036771351005882025, 0.008510536514222622, 0.8945751190185547, 0.021583637222647667, 0.013416855596005917, 0.058167487382888794, 8.333450386999175e-05, 0.9995338320732117, 0.0017428022110834718, 0.9979285597801208, 0.9998533725738525, 0.9996214509010315, 0.14408887922763824, 0.12488790601491928, 0.12592875957489014, 0.12444012612104416, 0.06670671701431274, 0.07742961496114731, 0.1298430860042572, 0.10528066754341125, 0.040154509246349335, 0.06124148145318031, 0.9995071887969971, 0.7275429964065552, 0.027130555361509323, 0.046887751668691635, 0.026675058528780937, 0.05557066574692726, 0.04162106290459633, 0.0027899208944290876, 0.0023913607001304626, 0.05767734348773956, 0.011757523752748966, 0.030425850301980972, 0.054372482001781464, 0.01731058396399021, 0.810176432132721, 9.802141903492156e-06, 0.03904193267226219, 0.009321837686002254, 0.0342094749212265, 0.0047148303128778934, 0.000411689979955554, 0.9995296597480774, 0.06294062733650208, 0.19139879941940308, 0.1322682499885559, 0.07921931147575378, 0.17003560066223145, 0.0897977352142334, 0.07952306419610977, 0.09160538017749786, 0.025500141084194183, 0.07771377265453339, 0.9992283582687378, 0.00021360367827583104, 0.00868654903024435, 0.013528232462704182, 7.120122609194368e-05, 0.11648520082235336, 0.0773245319724083, 0.7192035913467407, 0.06450831145048141, 0.8518433570861816, 0.12523949146270752, 4.474437082535587e-05, 0.01087288185954094, 0.010917626321315765, 0.0010738648707047105, 0.006629715673625469, 0.07933742552995682, 0.08355633169412613, 0.07511851191520691, 0.013505990616977215, 0.009287080727517605, 0.2783658802509308, 0.04270961508154869, 0.007040648255497217, 0.4044674336910248, 0.8108673095703125, 0.11352142691612244, 0.002234390005469322, 0.0006919401348568499, 0.01963380165398121, 0.052169401198625565, 0.0008937559905461967, 0.011064153164625168, 0.9883054494857788, 0.00041490572039037943, 0.35380086302757263, 9.04075386642944e-06, 0.024563729763031006, 0.3095915913581848, 0.3120235502719879, 0.0004441249475348741, 0.9995031952857971, 0.04287891834974289, 0.014910687692463398, 0.35943880677223206, 0.054539475589990616, 0.48552390933036804, 0.032829172909259796, 4.276487743481994e-05, 0.009736137464642525, 1.425495975126978e-05, 7.12748005753383e-05, 0.6649536490440369, 0.06566420197486877, 0.0718308836221695, 0.009067217819392681, 0.0003899878356605768, 0.0004793600528500974, 0.18760040402412415, 8.124747182591818e-06, 1.6249494365183637e-05, 0.999862790107727, 0.18415158987045288, 0.07453086227178574, 0.03964252769947052, 0.0780869871377945, 0.3159410357475281, 0.13027000427246094, 0.040885377675294876, 0.09993544220924377, 0.016424691304564476, 0.020130855962634087, 0.0002419467782601714, 0.04769808053970337, 8.640956366434693e-05, 0.04258263483643532, 0.7502251267433167, 0.09738358110189438, 0.01059381291270256, 0.03276650607585907, 0.007431222591549158, 0.010974015109241009, 0.15659628808498383, 0.17650842666625977, 0.10641757398843765, 0.08121874928474426, 0.14279992878437042, 0.09995007514953613, 0.06986294686794281, 0.08588991314172745, 0.02371295355260372, 0.05704459920525551, 0.999653697013855, 0.9996579885482788, 0.99980229139328, 0.2631314694881439, 0.03825289011001587, 0.03987305611371994, 0.009431052021682262, 0.030305568128824234, 0.01389929000288248, 0.05445451661944389, 0.17734812200069427, 0.36731645464897156, 0.006003128830343485, 0.9996864795684814, 0.02794654294848442, 0.011719518341124058, 0.9546899795532227, 0.002163603203371167, 0.0027045041788369417, 0.0005409008008427918, 0.9996347427368164, 0.020139669999480247, 4.806603828910738e-05, 0.9781919121742249, 0.0013458490138873458, 0.00024033017689362168, 4.806603828910738e-05, 0.0028836429119110107, 0.9881283044815063, 0.008650928735733032, 0.9998642206192017, 5.475440411828458e-05, 0.999924898147583, 0.8546387553215027, 0.013101126998662949, 0.1322443187236786], \"Term\": [\"1080i\", \"1080i\", \"1155\", \"11n\", \"11n\", \"120gb\", \"120hz\", \"120hz\", \"12800\", \"128gb\", \"135mm\", \"168\", \"16gb\", \"16gb\", \"16gb\", \"16gb\", \"16mp\", \"18\", \"18\", \"18\", \"18\", \"18\", \"18\", \"18\", \"18\", \"18\", \"18\", \"1a\", \"1a\", \"1a\", \"1tb\", \"1tb\", \"200mm\", \"200mm\", \"2560x1440\", \"2d\", \"2d\", \"2d\", \"2d\", \"2d\", \"2gb\", \"2gb\", \"2gb\", \"2gb\", \"2gb\", \"2tb\", \"2tb\", \"300mm\", \"30x\", \"32gb\", \"32gb\", \"32gb\", \"32gb\", \"3d\", \"3d\", \"3d\", \"3d\", \"3d\", \"4gb\", \"4gb\", \"4gb\", \"4gb\", \"4s\", \"4s\", \"50mm\", \"50mm\", \"55mm\", \"55mm\", \"5n\", \"60fps\", \"60fps\", \"60p\", \"70\", \"70\", \"70\", \"70\", \"70\", \"70\", \"70\", \"70\", \"70\", \"70\", \"70d\", \"70mm\", \"802\", \"802\", \"802\", \"840\", \"85mm\", \"8gb\", \"8gb\", \"8gb\", \"a500\", \"aacute\", \"acase\", \"access\", \"access\", \"access\", \"access\", \"access\", \"access\", \"access\", \"access\", \"access\", \"access\", \"acer\", \"acer\", \"acer\", \"acer\", \"acer\", \"actiontec\", \"adapter\", \"adapter\", \"adapter\", \"adapter\", \"adapter\", \"adapter\", \"adapter\", \"adapter\", \"adapter\", \"adapter\", \"address\", \"address\", \"address\", \"address\", \"address\", \"address\", \"address\", \"address\", \"adhesive\", \"adhesive\", \"adhesive\", \"admin\", \"airbender\", \"alarm\", \"alarm\", \"alarm\", \"alienware\", \"also\", \"also\", \"also\", \"also\", \"also\", \"also\", \"also\", \"also\", \"also\", \"also\", \"amd\", \"amp\", \"amp\", \"amp\", \"amp\", \"amp\", \"android\", \"android\", \"android\", \"android\", \"android\", \"android\", \"android\", \"anker\", \"anker\", \"antenna\", \"antenna\", \"antenna\", \"ap\", \"ap\", \"apple\", \"apple\", \"apple\", \"apple\", \"apple\", \"apple\", \"apple\", \"apple\", \"applicator\", \"apply\", \"apply\", \"apply\", \"apply\", \"apply\", \"apply\", \"apply\", \"apply\", \"apply\", \"apply\", \"apps\", \"apps\", \"apps\", \"apps\", \"apps\", \"apu\", \"arduino\", \"arduino\", \"armor\", \"armor\", \"armor\", \"armor\", \"armorsuit\", \"around\", \"around\", \"around\", \"around\", \"around\", \"around\", \"around\", \"around\", \"around\", \"around\", \"audio\", \"audio\", \"audio\", \"audio\", \"audio\", \"audio\", \"audio\", \"audio\", \"audio\", \"audiophile\", \"auto\", \"auto\", \"auto\", \"auto\", \"auto\", \"auto\", \"auto\", \"auto\", \"auto\", \"auto\", \"avchd\", \"back\", \"back\", \"back\", \"back\", \"back\", \"back\", \"back\", \"back\", \"back\", \"back\", \"backpack\", \"backpack\", \"backpack\", \"backpack\", \"backpack\", \"backspace\", \"backup\", \"backup\", \"backup\", \"backup\", \"backup\", \"backup\", \"backup\", \"backup\", \"backup\", \"bag\", \"bag\", \"bag\", \"bag\", \"bag\", \"bag\", \"bag\", \"bamboo\", \"baofeng\", \"bass\", \"battery\", \"battery\", \"battery\", \"battery\", \"battery\", \"battery\", \"battery\", \"battery\", \"battery\", \"bdp\", \"beats\", \"beats\", \"benq\", \"binoculars\", \"bios\", \"bios\", \"bios\", \"bios\", \"blu\", \"blu\", \"blu\", \"bluerigger\", \"bluetooth\", \"bluetooth\", \"bluetooth\", \"bluetooth\", \"bluetooth\", \"bluetooth\", \"bluray\", \"bluray\", \"bluray\", \"bluray\", \"board\", \"board\", \"board\", \"board\", \"board\", \"board\", \"board\", \"board\", \"board\", \"board\", \"body\", \"body\", \"body\", \"body\", \"body\", \"body\", \"body\", \"body\", \"body\", \"bokeh\", \"bokeh\", \"bolt\", \"bolt\", \"boot\", \"boot\", \"boot\", \"boot\", \"boot\", \"boot\", \"boot\", \"boot\", \"boot\", \"bose\", \"bottle\", \"bottle\", \"bottle\", \"bottle\", \"bottle\", \"box\", \"box\", \"box\", \"box\", \"box\", \"box\", \"box\", \"box\", \"box\", \"box\", \"brainwavz\", \"bravia\", \"bubble\", \"bubble\", \"bud\", \"build\", \"build\", \"build\", \"build\", \"build\", \"build\", \"build\", \"build\", \"build\", \"build\", \"button\", \"button\", \"button\", \"button\", \"button\", \"button\", \"button\", \"button\", \"button\", \"button\", \"buy\", \"buy\", \"buy\", \"buy\", \"buy\", \"buy\", \"buy\", \"buy\", \"buy\", \"buy\", \"cable\", \"cable\", \"cable\", \"cable\", \"cable\", \"cable\", \"cable\", \"cable\", \"cable\", \"cable\", \"caddy\", \"caddy\", \"call\", \"call\", \"call\", \"call\", \"call\", \"call\", \"call\", \"call\", \"call\", \"call\", \"cam\", \"cam\", \"cam\", \"cam\", \"cam\", \"cam\", \"cam\", \"camcorder\", \"camcorder\", \"camcorder\", \"camera\", \"camera\", \"camera\", \"camera\", \"camera\", \"canal\", \"cancellation\", \"cancelling\", \"canon\", \"canon\", \"cap\", \"cap\", \"cap\", \"cap\", \"cap\", \"cap\", \"cap\", \"cap\", \"cap\", \"capture\", \"capture\", \"capture\", \"capture\", \"capture\", \"capture\", \"capture\", \"car\", \"car\", \"car\", \"car\", \"car\", \"car\", \"card\", \"card\", \"card\", \"card\", \"card\", \"card\", \"card\", \"card\", \"carry\", \"carry\", \"carry\", \"carry\", \"carry\", \"carry\", \"carry\", \"carry\", \"carry\", \"carry\", \"case\", \"case\", \"case\", \"case\", \"case\", \"case\", \"case\", \"case\", \"case\", \"case\", \"caviar\", \"cbs\", \"ccd\", \"cell\", \"cell\", \"cell\", \"cell\", \"cell\", \"cell\", \"cell\", \"cell\", \"cell\", \"ceton\", \"channel\", \"channel\", \"channel\", \"channel\", \"channel\", \"charge\", \"charge\", \"charge\", \"charge\", \"charge\", \"charge\", \"charge\", \"charge\", \"charged\", \"charged\", \"charger\", \"charger\", \"charger\", \"charges\", \"charging\", \"charging\", \"charging\", \"charging\", \"charging\", \"chiclet\", \"chip\", \"chip\", \"chip\", \"chip\", \"chip\", \"chip\", \"chip\", \"chip\", \"chip\", \"chip\", \"chrome\", \"chrome\", \"chrome\", \"chrome\", \"chrome\", \"chrome\", \"chrome\", \"chromebook\", \"chromecast\", \"cigarette\", \"cigarette\", \"cisco\", \"cisco\", \"classical\", \"click\", \"click\", \"click\", \"click\", \"click\", \"click\", \"click\", \"click\", \"click\", \"click\", \"cobra\", \"come\", \"come\", \"come\", \"come\", \"come\", \"come\", \"come\", \"come\", \"come\", \"come\", \"comfortable\", \"comfortable\", \"comfortable\", \"comfortable\", \"comfortable\", \"comfortable\", \"comfortable\", \"comfortable\", \"compartment\", \"compartment\", \"compartment\", \"compartment\", \"computer\", \"computer\", \"computer\", \"computer\", \"computer\", \"computer\", \"computer\", \"computer\", \"computer\", \"computer\", \"connect\", \"connect\", \"connect\", \"connect\", \"connect\", \"connect\", \"connect\", \"connect\", \"connect\", \"connect\", \"connection\", \"connection\", \"connection\", \"connection\", \"connection\", \"connection\", \"connection\", \"connection\", \"connection\", \"connection\", \"connector\", \"connector\", \"connector\", \"connector\", \"connector\", \"connector\", \"connector\", \"connector\", \"connector\", \"cooler\", \"cooler\", \"cord\", \"cord\", \"cord\", \"cord\", \"cord\", \"cord\", \"cord\", \"cord\", \"cord\", \"core\", \"core\", \"core\", \"core\", \"corsair\", \"corsair\", \"cover\", \"cover\", \"cover\", \"cover\", \"cover\", \"cover\", \"cover\", \"cover\", \"cover\", \"cover\", \"cpu\", \"cpu\", \"crease\", \"crt\", \"ctrl\", \"cursor\", \"cursor\", \"cursor\", \"customer\", \"customer\", \"customer\", \"customer\", \"customer\", \"customer\", \"customer\", \"customer\", \"customer\", \"customer\", \"cutout\", \"cutout\", \"cybershot\", \"dash\", \"dash\", \"day\", \"day\", \"day\", \"day\", \"day\", \"day\", \"day\", \"day\", \"day\", \"day\", \"ddr3\", \"described\", \"described\", \"described\", \"described\", \"described\", \"described\", \"described\", \"detector\", \"detector\", \"device\", \"device\", \"device\", \"device\", \"device\", \"device\", \"device\", \"device\", \"device\", \"device\", \"dhcp\", \"digital\", \"digital\", \"digital\", \"digital\", \"digital\", \"digital\", \"digital\", \"digital\", \"digital\", \"digital\", \"dir\", \"directv\", \"discharge\", \"discharge\", \"discharge\", \"diskstation\", \"displayport\", \"divider\", \"dlink\", \"dlna\", \"dlp\", \"dns\", \"dock\", \"dock\", \"dock\", \"dock\", \"dock\", \"dock\", \"dock\", \"dock\", \"dock\", \"docsis\", \"dolly\", \"download\", \"download\", \"download\", \"download\", \"download\", \"download\", \"download\", \"download\", \"dpi\", \"dpi\", \"drain\", \"drain\", \"drain\", \"drain\", \"drain\", \"drain\", \"drive\", \"drive\", \"drive\", \"drive\", \"drive\", \"drive\", \"drive\", \"drive\", \"drive\", \"drive\", \"drobo\", \"dropcam\", \"dsc\", \"dsc\", \"dsl\", \"dsl\", \"dsl\", \"dsl\", \"dslr\", \"dslr\", \"dust\", \"dust\", \"dust\", \"dust\", \"dust\", \"dust\", \"dust\", \"dust\", \"dust\", \"dust\", \"dvd\", \"dvd\", \"dvd\", \"dvd\", \"dvd\", \"dvd\", \"dvd\", \"dvr\", \"dvr\", \"dvr\", \"e4200\", \"ear\", \"earbud\", \"earbuds\", \"earphone\", \"earpiece\", \"earpiece\", \"easel\", \"easy\", \"easy\", \"easy\", \"easy\", \"easy\", \"easy\", \"easy\", \"easy\", \"easy\", \"easy\", \"edge\", \"edge\", \"edge\", \"edge\", \"edge\", \"edge\", \"edge\", \"edge\", \"edge\", \"edge\", \"edimax\", \"ef\", \"ef\", \"elastic\", \"elastic\", \"elph\", \"elph\", \"email\", \"email\", \"email\", \"email\", \"email\", \"email\", \"email\", \"email\", \"emergency\", \"emergency\", \"emergency\", \"emergency\", \"emergency\", \"emergency\", \"emergency\", \"enclosure\", \"enclosure\", \"enclosure\", \"enclosure\", \"enclosure\", \"eq\", \"equalizer\", \"eraser\", \"esata\", \"escort\", \"eton\", \"even\", \"even\", \"even\", \"even\", \"even\", \"even\", \"even\", \"even\", \"even\", \"even\", \"evf\", \"evf\", \"evga\", \"exposure\", \"exposure\", \"exr\", \"external\", \"external\", \"external\", \"external\", \"external\", \"external\", \"external\", \"external\", \"external\", \"external\", \"fan\", \"fan\", \"fan\", \"fan\", \"fan\", \"fan\", \"fan\", \"fan\", \"fan\", \"fan\", \"fast\", \"fast\", \"fast\", \"fast\", \"fast\", \"fast\", \"fast\", \"fast\", \"fast\", \"fast\", \"feature\", \"feature\", \"feature\", \"feature\", \"feature\", \"feature\", \"feature\", \"feature\", \"feature\", \"feature\", \"feel\", \"feel\", \"feel\", \"feel\", \"feel\", \"feel\", \"feel\", \"feel\", \"feel\", \"feel\", \"fidelio\", \"file\", \"file\", \"file\", \"file\", \"file\", \"file\", \"file\", \"file\", \"filter\", \"filter\", \"filter\", \"filter\", \"filter\", \"filter\", \"filter\", \"filter\", \"finepix\", \"finger\", \"finger\", \"finger\", \"finger\", \"finger\", \"finger\", \"finger\", \"finger\", \"fintie\", \"fire\", \"fire\", \"fire\", \"fire\", \"fire\", \"fire\", \"fire\", \"fire\", \"fire\", \"fire\", \"firewall\", \"firewall\", \"firewire\", \"firewire\", \"firewire\", \"firewire\", \"firmware\", \"firmware\", \"firmware\", \"firmware\", \"first\", \"first\", \"first\", \"first\", \"first\", \"first\", \"first\", \"first\", \"first\", \"first\", \"fit\", \"fit\", \"fit\", \"fit\", \"fit\", \"fit\", \"fit\", \"fit\", \"fit\", \"fit\", \"flash\", \"flash\", \"flash\", \"flash\", \"flash\", \"flash\", \"flash\", \"flash\", \"flash\", \"fm\", \"fm\", \"fm\", \"fm\", \"focal\", \"focal\", \"focal\", \"focus\", \"focus\", \"focus\", \"focus\", \"focus\", \"focus\", \"fold\", \"fold\", \"fold\", \"fold\", \"fold\", \"fold\", \"folder\", \"folder\", \"folder\", \"folder\", \"folder\", \"folio\", \"footage\", \"footage\", \"footage\", \"foscam\", \"frame\", \"frame\", \"frame\", \"frame\", \"frame\", \"frame\", \"frame\", \"frame\", \"frame\", \"freeway\", \"ftp\", \"fuji\", \"fuji\", \"g1x\", \"game\", \"game\", \"game\", \"game\", \"game\", \"game\", \"game\", \"game\", \"game\", \"game\", \"garmin\", \"garmin\", \"gb\", \"gb\", \"gb\", \"gb\", \"gb\", \"gb\", \"gear\", \"gear\", \"gear\", \"gear\", \"gear\", \"gear\", \"gear\", \"gear\", \"gear\", \"gear\", \"geforce\", \"gesture\", \"get\", \"get\", \"get\", \"get\", \"get\", \"get\", \"get\", \"get\", \"get\", \"get\", \"gh2\", \"gh3\", \"gladius\", \"glue\", \"glue\", \"glue\", \"glue\", \"glue\", \"go\", \"go\", \"go\", \"go\", \"go\", \"go\", \"go\", \"go\", \"go\", \"go\", \"goflex\", \"good\", \"good\", \"good\", \"good\", \"good\", \"good\", \"good\", \"good\", \"good\", \"good\", \"google\", \"google\", \"google\", \"google\", \"google\", \"google\", \"google\", \"google\", \"google\", \"google\", \"gopro\", \"gopro\", \"gopro\", \"gorillapod\", \"gp\", \"gp\", \"gp\", \"gp\", \"gp\", \"gps\", \"gps\", \"gps\", \"gpu\", \"graphic\", \"graphic\", \"graphic\", \"graphic\", \"graphic\", \"graphic\", \"graphic\", \"graphic\", \"graphic\", \"great\", \"great\", \"great\", \"great\", \"great\", \"great\", \"great\", \"great\", \"great\", \"great\", \"grip\", \"grip\", \"grip\", \"grip\", \"grip\", \"grip\", \"gtx\", \"gtx\", \"hackintosh\", \"ham\", \"hand\", \"hand\", \"hand\", \"hand\", \"hand\", \"hand\", \"hand\", \"hand\", \"hand\", \"hand\", \"handset\", \"handset\", \"hard\", \"hard\", \"hard\", \"hard\", \"hard\", \"hard\", \"hard\", \"hard\", \"hard\", \"hard\", \"harmony\", \"harmony\", \"hbo\", \"hd\", \"hd\", \"hd\", \"hd\", \"hd\", \"hd\", \"hd\", \"hd\", \"hd\", \"hd\", \"hdds\", \"hdds\", \"hdmi\", \"hdmi\", \"hdmi\", \"hdr\", \"hdr\", \"hdtv\", \"hdx\", \"hdx\", \"hdx\", \"headband\", \"headphone\", \"headphone\", \"headphones\", \"headset\", \"headset\", \"hear\", \"hear\", \"hear\", \"hear\", \"hear\", \"hear\", \"hear\", \"hear\", \"hear\", \"hear\", \"heatsink\", \"hero3\", \"high\", \"high\", \"high\", \"high\", \"high\", \"high\", \"high\", \"high\", \"high\", \"high\", \"highway\", \"hold\", \"hold\", \"hold\", \"hold\", \"hold\", \"hold\", \"hold\", \"hold\", \"hold\", \"hold\", \"hole\", \"hole\", \"hole\", \"hole\", \"hole\", \"hole\", \"hole\", \"hole\", \"hole\", \"hole\", \"hood\", \"hour\", \"hour\", \"hour\", \"hour\", \"hour\", \"hour\", \"hour\", \"hour\", \"hour\", \"hour\", \"hub\", \"hub\", \"hub\", \"hub\", \"hulu\", \"hulu\", \"hulu\", \"i3\", \"i5\", \"i5\", \"i7\", \"i7\", \"iluv\", \"image\", \"image\", \"image\", \"image\", \"image\", \"image\", \"image\", \"image\", \"image\", \"incipio\", \"input\", \"input\", \"input\", \"input\", \"input\", \"input\", \"input\", \"instal\", \"instal\", \"instal\", \"instal\", \"instal\", \"instal\", \"instal\", \"instal\", \"instal\", \"instal\", \"intel\", \"intel\", \"intel\", \"intel\", \"internet\", \"internet\", \"internet\", \"internet\", \"internet\", \"internet\", \"internet\", \"internet\", \"intuos\", \"ip\", \"ipad\", \"ipad\", \"ipad\", \"ipad\", \"ipad\", \"ipad\", \"ipad\", \"ipad\", \"ipad2\", \"iphone\", \"iphone\", \"iphone\", \"iphone\", \"iphone\", \"iphone\", \"iphone\", \"iphone\", \"ipod\", \"ipod\", \"ipod\", \"ipod\", \"ipod\", \"iso\", \"iso\", \"iso\", \"iso\", \"isolation\", \"isolation\", \"isolation\", \"isp\", \"issue\", \"issue\", \"issue\", \"issue\", \"issue\", \"issue\", \"issue\", \"issue\", \"issue\", \"issue\", \"item\", \"item\", \"item\", \"item\", \"item\", \"item\", \"item\", \"item\", \"item\", \"item\", \"itx\", \"ivisor\", \"jambox\", \"jbl\", \"jot\", \"jot\", \"jot\", \"jpeg\", \"jpeg\", \"jpeg\", \"jpeg\", \"key\", \"key\", \"key\", \"key\", \"key\", \"key\", \"key\", \"key\", \"key\", \"keyboard\", \"keypad\", \"keypad\", \"keypad\", \"keypad\", \"keys\", \"keys\", \"keystroke\", \"kickstand\", \"kickstand\", \"kindle\", \"kindle\", \"kindle\", \"kindle\", \"kindle\", \"kindle\", \"kingston\", \"kingston\", \"kit\", \"kit\", \"kit\", \"kit\", \"kit\", \"kit\", \"kit\", \"kit\", \"kit\", \"kit\", \"klipsch\", \"kodak\", \"laptop\", \"laptop\", \"laptop\", \"laptop\", \"laptop\", \"laptop\", \"laptop\", \"laptop\", \"laptop\", \"laptop\", \"large\", \"large\", \"large\", \"large\", \"large\", \"large\", \"large\", \"large\", \"large\", \"large\", \"last\", \"last\", \"last\", \"last\", \"last\", \"last\", \"last\", \"last\", \"last\", \"last\", \"leather\", \"leather\", \"leather\", \"lens\", \"lens\", \"lenses\", \"lenses\", \"lexar\", \"lg\", \"lg\", \"lg\", \"lg\", \"lg\", \"lg\", \"lga\", \"life\", \"life\", \"life\", \"life\", \"life\", \"life\", \"life\", \"life\", \"life\", \"life\", \"lifeproof\", \"light\", \"light\", \"light\", \"light\", \"light\", \"light\", \"light\", \"light\", \"light\", \"light\", \"like\", \"like\", \"like\", \"like\", \"like\", \"like\", \"like\", \"like\", \"like\", \"like\", \"link\", \"link\", \"link\", \"link\", \"link\", \"link\", \"link\", \"link\", \"link\", \"link\", \"linksys\", \"lint\", \"lint\", \"listen\", \"listen\", \"listen\", \"listen\", \"listen\", \"listen\", \"listening\", \"listening\", \"listening\", \"little\", \"little\", \"little\", \"little\", \"little\", \"little\", \"little\", \"little\", \"little\", \"little\", \"log\", \"log\", \"log\", \"log\", \"log\", \"log\", \"logitech\", \"logitech\", \"logitech\", \"logitech\", \"long\", \"long\", \"long\", \"long\", \"long\", \"long\", \"long\", \"long\", \"long\", \"long\", \"look\", \"look\", \"look\", \"look\", \"look\", \"look\", \"look\", \"look\", \"look\", \"look\", \"loud\", \"loud\", \"loud\", \"loud\", \"loud\", \"loud\", \"loud\", \"loud\", \"loud\", \"love\", \"love\", \"love\", \"love\", \"love\", \"love\", \"love\", \"love\", \"love\", \"love\", \"low\", \"low\", \"low\", \"low\", \"low\", \"low\", \"low\", \"low\", \"low\", \"low\", \"lowepro\", \"lumia\", \"lx5\", \"macbook\", \"macbook\", \"macbook\", \"macbook\", \"macbook\", \"macbook\", \"macbook\", \"magellan\", \"magellan\", \"magnet\", \"magnet\", \"magnet\", \"magnet\", \"magnet\", \"magnetic\", \"magnetic\", \"magnetic\", \"magnetic\", \"magnetic\", \"magnetic\", \"mah\", \"mah\", \"make\", \"make\", \"make\", \"make\", \"make\", \"make\", \"make\", \"make\", \"make\", \"make\", \"manual\", \"manual\", \"manual\", \"manual\", \"manual\", \"manual\", \"manual\", \"manual\", \"manual\", \"manual\", \"map\", \"map\", \"map\", \"map\", \"map\", \"marware\", \"material\", \"material\", \"material\", \"material\", \"material\", \"material\", \"material\", \"material\", \"material\", \"material\", \"mb\", \"mb\", \"mb\", \"mb\", \"mb\", \"mbp\", \"mbps\", \"mbps\", \"mbps\", \"mediabridge\", \"mediabridge\", \"megapixel\", \"megapixels\", \"memory\", \"memory\", \"memory\", \"memory\", \"memory\", \"memory\", \"memory\", \"memory\", \"mic\", \"mic\", \"mic\", \"mic\", \"mic\", \"microphone\", \"microphone\", \"microphone\", \"microphone\", \"microphone\", \"microphone\", \"microphone\", \"microsd\", \"microsoft\", \"microsoft\", \"microsoft\", \"microsoft\", \"microusb\", \"mids\", \"miracast\", \"mirrorless\", \"mobo\", \"mobo\", \"mode\", \"mode\", \"mode\", \"mode\", \"mode\", \"mode\", \"mode\", \"mode\", \"mode\", \"mode\", \"modem\", \"modem\", \"mohu\", \"monitor\", \"monitor\", \"monitor\", \"monitor\", \"monitor\", \"monitor\", \"monitor\", \"monitor\", \"monitor\", \"monopod\", \"monopod\", \"monopod\", \"mophie\", \"moshi\", \"moshi\", \"motherboard\", \"motherboard\", \"motoactv\", \"mount\", \"mount\", \"mount\", \"mount\", \"mount\", \"mount\", \"mount\", \"mount\", \"mount\", \"mouse\", \"mousepad\", \"movie\", \"movie\", \"movie\", \"movie\", \"movie\", \"movie\", \"movie\", \"movie\", \"movie\", \"mp\", \"mp\", \"mp\", \"mp\", \"mp3\", \"mp3\", \"mp3\", \"mp3\", \"msi\", \"much\", \"much\", \"much\", \"much\", \"much\", \"much\", \"much\", \"much\", \"much\", \"much\", \"music\", \"music\", \"music\", \"music\", \"music\", \"music\", \"music\", \"muy\", \"mx\", \"mx\", \"mx\", \"n600\", \"n7\", \"nabi\", \"nas\", \"nas\", \"need\", \"need\", \"need\", \"need\", \"need\", \"need\", \"need\", \"need\", \"need\", \"need\", \"neewer\", \"netbook\", \"netbook\", \"netbook\", \"netbook\", \"netbook\", \"netflix\", \"netflix\", \"netflix\", \"netgear\", \"netgear\", \"network\", \"network\", \"network\", \"new\", \"new\", \"new\", \"new\", \"new\", \"new\", \"new\", \"new\", \"new\", \"new\", \"nib\", \"nice\", \"nice\", \"nice\", \"nice\", \"nice\", \"nice\", \"nice\", \"nice\", \"nice\", \"nice\", \"nighthawk\", \"nikkor\", \"nikon\", \"nikon\", \"noaa\", \"noctua\", \"noise\", \"noise\", \"noise\", \"noise\", \"noise\", \"noise\", \"noise\", \"noise\", \"noise\", \"noise\", \"nuvi\", \"nvidia\", \"nvidia\", \"oacute\", \"oc\", \"ocz\", \"odor\", \"odor\", \"one\", \"one\", \"one\", \"one\", \"one\", \"one\", \"one\", \"one\", \"one\", \"one\", \"oppo\", \"origami\", \"ota\", \"otterbox\", \"otterbox\", \"overclock\", \"overclocked\", \"pad\", \"pad\", \"pad\", \"pad\", \"pad\", \"pair\", \"pair\", \"pair\", \"pair\", \"pair\", \"pair\", \"pair\", \"pair\", \"pair\", \"pair\", \"palm\", \"palm\", \"palm\", \"palm\", \"palm\", \"palm\", \"palm\", \"palm\", \"panorama\", \"panoramic\", \"paperwhite\", \"para\", \"password\", \"password\", \"password\", \"pbs\", \"pc3\", \"pci\", \"pci\", \"peel\", \"peel\", \"peel\", \"pelican\", \"pen\", \"pen\", \"pen\", \"pen\", \"performance\", \"performance\", \"performance\", \"performance\", \"performance\", \"performance\", \"performance\", \"performance\", \"performance\", \"performance\", \"phenom\", \"phone\", \"phone\", \"phone\", \"phone\", \"phone\", \"phone\", \"phone\", \"phone\", \"phone\", \"phone\", \"photo\", \"photo\", \"photo\", \"photo\", \"photo\", \"photo\", \"photo\", \"photo\", \"photo\", \"photo\", \"photography\", \"photography\", \"photography\", \"pi\", \"pic\", \"pic\", \"pic\", \"pic\", \"pic\", \"pic\", \"pic\", \"pic\", \"pic\", \"pic\", \"picture\", \"picture\", \"picture\", \"picture\", \"picture\", \"picture\", \"picture\", \"picture\", \"picture\", \"picture\", \"place\", \"place\", \"place\", \"place\", \"place\", \"place\", \"place\", \"place\", \"place\", \"place\", \"plasma\", \"plastic\", \"plastic\", \"plastic\", \"plastic\", \"plastic\", \"plastic\", \"plastic\", \"plastic\", \"plastic\", \"plastic\", \"play\", \"play\", \"play\", \"play\", \"play\", \"play\", \"play\", \"play\", \"play\", \"play\", \"player\", \"player\", \"player\", \"player\", \"player\", \"player\", \"plug\", \"plug\", \"plug\", \"plug\", \"plug\", \"plug\", \"plug\", \"plug\", \"plug\", \"plugable\", \"pocket\", \"pocket\", \"pocket\", \"pocket\", \"pocket\", \"pocket\", \"pocket\", \"pocket\", \"pocket\", \"poetic\", \"pogoplug\", \"poi\", \"poi\", \"point\", \"point\", \"point\", \"point\", \"point\", \"point\", \"point\", \"point\", \"point\", \"point\", \"pointer\", \"pointer\", \"polk\", \"port\", \"port\", \"port\", \"port\", \"port\", \"port\", \"port\", \"port\", \"port\", \"pouch\", \"pouch\", \"pouch\", \"pouch\", \"pouch\", \"pouch\", \"pouch\", \"power\", \"power\", \"power\", \"power\", \"power\", \"power\", \"power\", \"power\", \"power\", \"power\", \"powerpak\", \"price\", \"price\", \"price\", \"price\", \"price\", \"price\", \"price\", \"price\", \"price\", \"price\", \"problem\", \"problem\", \"problem\", \"problem\", \"problem\", \"problem\", \"problem\", \"problem\", \"problem\", \"problem\", \"processor\", \"processor\", \"processor\", \"processor\", \"processor\", \"product\", \"product\", \"product\", \"product\", \"product\", \"product\", \"product\", \"product\", \"product\", \"product\", \"projector\", \"prop\", \"prop\", \"prop\", \"prop\", \"prop\", \"protect\", \"protect\", \"protect\", \"protect\", \"protect\", \"protect\", \"protect\", \"protect\", \"protect\", \"protect\", \"protection\", \"protection\", \"protection\", \"protection\", \"protection\", \"protection\", \"protection\", \"protection\", \"protection\", \"protective\", \"protective\", \"protective\", \"protective\", \"protective\", \"protective\", \"protective\", \"protector\", \"protector\", \"protector\", \"protector\", \"ps3\", \"ps3\", \"ps3\", \"ps3\", \"ps3\", \"psu\", \"psu\", \"pu\", \"purchase\", \"purchase\", \"purchase\", \"purchase\", \"purchase\", \"purchase\", \"purchase\", \"purchase\", \"purchase\", \"purchase\", \"put\", \"put\", \"put\", \"put\", \"put\", \"put\", \"put\", \"put\", \"put\", \"put\", \"pwm\", \"qid\", \"qos\", \"quality\", \"quality\", \"quality\", \"quality\", \"quality\", \"quality\", \"quality\", \"quality\", \"quality\", \"quality\", \"que\", \"rabbit\", \"radar\", \"radeon\", \"radio\", \"radio\", \"radio\", \"radio\", \"ram\", \"ram\", \"ram\", \"raspberry\", \"ravpower\", \"raw\", \"raw\", \"raw\", \"raw\", \"ray\", \"ray\", \"ray\", \"rays\", \"read\", \"read\", \"read\", \"read\", \"read\", \"read\", \"read\", \"read\", \"read\", \"read\", \"reader\", \"reader\", \"reader\", \"reader\", \"reader\", \"reader\", \"reader\", \"reader\", \"readynas\", \"really\", \"really\", \"really\", \"really\", \"really\", \"really\", \"really\", \"really\", \"really\", \"really\", \"reboot\", \"reboot\", \"reboot\", \"reboot\", \"reboot\", \"receiver\", \"receiver\", \"receiver\", \"receiver\", \"receiver\", \"receiver\", \"receiver\", \"recharge\", \"recharge\", \"recharge\", \"rechargeable\", \"rechargeable\", \"rechargeable\", \"rechargeable\", \"rechargeable\", \"recommend\", \"recommend\", \"recommend\", \"recommend\", \"recommend\", \"recommend\", \"recommend\", \"recommend\", \"recommend\", \"recommend\", \"record\", \"record\", \"record\", \"record\", \"record\", \"record\", \"record\", \"ref\", \"ref\", \"ref\", \"refund\", \"refund\", \"refund\", \"refund\", \"refund\", \"refund\", \"refund\", \"refund\", \"refund\", \"remote\", \"remote\", \"remote\", \"remote\", \"remote\", \"remote\", \"remote\", \"remove\", \"remove\", \"remove\", \"remove\", \"remove\", \"remove\", \"remove\", \"remove\", \"remove\", \"remove\", \"reset\", \"reset\", \"reset\", \"reset\", \"reset\", \"reset\", \"reset\", \"reset\", \"responsive\", \"responsive\", \"responsive\", \"responsive\", \"responsive\", \"responsive\", \"responsive\", \"responsive\", \"responsive\", \"return\", \"return\", \"return\", \"return\", \"return\", \"return\", \"return\", \"return\", \"return\", \"return\", \"review\", \"review\", \"review\", \"review\", \"review\", \"review\", \"review\", \"review\", \"review\", \"review\", \"rhapsody\", \"ring\", \"ring\", \"ring\", \"ring\", \"ring\", \"ring\", \"ring\", \"ring\", \"ring\", \"ring\", \"road\", \"road\", \"road\", \"road\", \"road\", \"road\", \"road\", \"road\", \"road\", \"road\", \"roamio\", \"roku\", \"roku\", \"roocase\", \"room\", \"room\", \"room\", \"room\", \"room\", \"room\", \"room\", \"room\", \"room\", \"room\", \"route\", \"route\", \"route\", \"route\", \"route\", \"route\", \"route\", \"route\", \"route\", \"router\", \"router\", \"router\", \"rubber\", \"rubber\", \"rubber\", \"rubber\", \"rubber\", \"rubber\", \"rubber\", \"run\", \"run\", \"run\", \"run\", \"run\", \"run\", \"run\", \"run\", \"run\", \"run\", \"rx100\", \"s90\", \"samsung\", \"samsung\", \"samsung\", \"samsung\", \"samsung\", \"samsung\", \"samsung\", \"samsung\", \"samsung\", \"samsung\", \"sandisk\", \"sandisk\", \"sandisk\", \"sb6141\", \"scratch\", \"scratch\", \"scratch\", \"scratch\", \"scratch\", \"scratch\", \"scratch\", \"scratch\", \"scratch\", \"screen\", \"screen\", \"screen\", \"screen\", \"screen\", \"screen\", \"screen\", \"screen\", \"screen\", \"screw\", \"screw\", \"screw\", \"screw\", \"screw\", \"screw\", \"screw\", \"screw\", \"screw\", \"screw\", \"scroll\", \"scroll\", \"scroll\", \"scroll\", \"scroll\", \"scrolling\", \"scrolling\", \"scrolling\", \"sd\", \"sd\", \"sd\", \"sd\", \"sd\", \"sd\", \"sdxc\", \"seagate\", \"seagate\", \"seagate\", \"send\", \"send\", \"send\", \"send\", \"send\", \"send\", \"send\", \"send\", \"send\", \"send\", \"sennheiser\", \"sensor\", \"sensor\", \"sensor\", \"sensor\", \"sensor\", \"sensor\", \"sensor\", \"sensor\", \"server\", \"server\", \"server\", \"server\", \"server\", \"service\", \"service\", \"service\", \"service\", \"service\", \"service\", \"service\", \"service\", \"service\", \"service\", \"set\", \"set\", \"set\", \"set\", \"set\", \"set\", \"set\", \"set\", \"set\", \"set\", \"setpoint\", \"setup\", \"setup\", \"setup\", \"setup\", \"setup\", \"setup\", \"setup\", \"setup\", \"setup\", \"setup\", \"sew\", \"sharkk\", \"shoot\", \"shoot\", \"shoot\", \"shortwave\", \"shot\", \"shot\", \"shot\", \"shot\", \"shot\", \"shot\", \"shot\", \"shoulder\", \"shoulder\", \"shoulder\", \"shure\", \"shutter\", \"shutter\", \"sigma\", \"signal\", \"signal\", \"signal\", \"signal\", \"signal\", \"signal\", \"signal\", \"size\", \"size\", \"size\", \"size\", \"size\", \"size\", \"size\", \"size\", \"size\", \"size\", \"sketchbook\", \"skinomi\", \"sli\", \"slide\", \"slide\", \"slide\", \"slide\", \"slide\", \"slide\", \"slide\", \"slide\", \"slide\", \"slide\", \"sling\", \"sling\", \"sling\", \"slingbox\", \"slot\", \"slot\", \"slot\", \"slot\", \"slot\", \"slot\", \"slot\", \"slot\", \"slot\", \"small\", \"small\", \"small\", \"small\", \"small\", \"small\", \"small\", \"small\", \"small\", \"small\", \"smell\", \"smell\", \"smell\", \"smell\", \"smell\", \"snugg\", \"softbox\", \"software\", \"software\", \"software\", \"software\", \"software\", \"software\", \"software\", \"software\", \"song\", \"song\", \"song\", \"song\", \"sony\", \"sony\", \"sony\", \"sony\", \"sony\", \"sony\", \"sony\", \"sony\", \"sony\", \"sony\", \"sound\", \"sound\", \"sound\", \"sound\", \"sound\", \"sound\", \"sound\", \"sound\", \"sound\", \"sounding\", \"soundlink\", \"speaker\", \"speaker\", \"speaker\", \"speaker\", \"speaker\", \"speaker\", \"speaker\", \"speaker\", \"speck\", \"speck\", \"speed\", \"speed\", \"speed\", \"speed\", \"speed\", \"speed\", \"speed\", \"speed\", \"speed\", \"squeegee\", \"ssd\", \"ssd\", \"ssd\", \"ssds\", \"ssid\", \"stabilization\", \"stabilization\", \"stand\", \"stand\", \"stand\", \"stand\", \"stand\", \"stand\", \"stand\", \"stand\", \"stand\", \"stand\", \"startech\", \"startech\", \"station\", \"station\", \"station\", \"station\", \"station\", \"station\", \"station\", \"stereo\", \"stereo\", \"stereo\", \"stereo\", \"stereo\", \"stereo\", \"stereo\", \"stm\", \"strap\", \"strap\", \"strap\", \"stream\", \"stream\", \"stream\", \"stream\", \"stream\", \"stream\", \"stream\", \"stretchy\", \"stud\", \"stud\", \"stylus\", \"stylus\", \"stylus\", \"sub\", \"sub\", \"sub\", \"sub\", \"sub\", \"sub\", \"sub\", \"sub\", \"sub\", \"subwoofer\", \"subwoofer\", \"suede\", \"supply\", \"supply\", \"supply\", \"supply\", \"supply\", \"supply\", \"supply\", \"supply\", \"supply\", \"supply\", \"support\", \"support\", \"support\", \"support\", \"support\", \"support\", \"support\", \"support\", \"support\", \"support\", \"synology\", \"system\", \"system\", \"system\", \"system\", \"system\", \"system\", \"system\", \"system\", \"system\", \"system\", \"tablet\", \"tablet\", \"tablet\", \"tablet\", \"tablet\", \"tablet\", \"tablet\", \"tablet\", \"take\", \"take\", \"take\", \"take\", \"take\", \"take\", \"take\", \"take\", \"take\", \"take\", \"tamron\", \"tech\", \"tech\", \"tech\", \"tech\", \"tech\", \"tech\", \"tech\", \"tech\", \"tech\", \"tech\", \"telescope\", \"telescope\", \"telescope\", \"telescope\", \"television\", \"television\", \"temp\", \"temp\", \"terabyte\", \"terabyte\", \"terabyte\", \"tf\", \"thermal\", \"thing\", \"thing\", \"thing\", \"thing\", \"thing\", \"thing\", \"thing\", \"thing\", \"thing\", \"thing\", \"thrive\", \"thrive\", \"thunderbolt\", \"thunderbolt\", \"timbuk2\", \"time\", \"time\", \"time\", \"time\", \"time\", \"time\", \"time\", \"time\", \"time\", \"time\", \"tinny\", \"tinny\", \"tivo\", \"tivo\", \"tomtom\", \"tomtom\", \"touch\", \"touch\", \"touch\", \"touch\", \"touch\", \"touch\", \"touch\", \"touch\", \"touch\", \"touch\", \"touchpad\", \"tp\", \"tp\", \"trackball\", \"trackpad\", \"traffic\", \"traffic\", \"traffic\", \"transcend\", \"treble\", \"trip\", \"trip\", \"trip\", \"trip\", \"trip\", \"trip\", \"trip\", \"trip\", \"trip\", \"trip\", \"tripod\", \"tripod\", \"tripod\", \"try\", \"try\", \"try\", \"try\", \"try\", \"try\", \"try\", \"try\", \"try\", \"try\", \"ttl\", \"ttl\", \"turn\", \"turn\", \"turn\", \"turn\", \"turn\", \"turn\", \"turn\", \"turn\", \"turn\", \"turn\", \"tv\", \"tv\", \"tv\", \"tvs\", \"type\", \"type\", \"type\", \"type\", \"type\", \"type\", \"type\", \"type\", \"type\", \"type\", \"typing\", \"typing\", \"typist\", \"ue\", \"uhf\", \"ultrabook\", \"ultrathin\", \"underwater\", \"underwater\", \"uniden\", \"unifying\", \"unit\", \"unit\", \"unit\", \"unit\", \"unit\", \"unit\", \"unit\", \"unit\", \"unit\", \"unit\", \"update\", \"update\", \"update\", \"update\", \"update\", \"update\", \"update\", \"update\", \"update\", \"update\", \"upgrade\", \"upgrade\", \"upgrade\", \"upgrade\", \"upgrade\", \"upgrade\", \"upgrade\", \"upgrade\", \"upgrade\", \"upgrade\", \"usb\", \"usb\", \"usb\", \"usb\", \"usb\", \"usb\", \"usb\", \"usb\", \"usb3\", \"usb3\", \"usbs\", \"use\", \"use\", \"use\", \"use\", \"use\", \"use\", \"use\", \"use\", \"use\", \"use\", \"usm\", \"utf8\", \"uv\", \"vcr\", \"vcr\", \"vehicle\", \"vehicle\", \"vehicle\", \"vehicle\", \"vehicle\", \"verso\", \"vf\", \"video\", \"video\", \"video\", \"video\", \"video\", \"video\", \"video\", \"video\", \"video\", \"video\", \"viera\", \"viewfinder\", \"viewfinder\", \"vignetting\", \"vita\", \"vita\", \"vivotab\", \"vizio\", \"vocal\", \"volume\", \"volume\", \"volume\", \"volume\", \"volume\", \"volume\", \"volume\", \"vpn\", \"vr\", \"vr\", \"vudu\", \"wacom\", \"want\", \"want\", \"want\", \"want\", \"want\", \"want\", \"want\", \"want\", \"want\", \"want\", \"warner\", \"warranty\", \"warranty\", \"warranty\", \"warranty\", \"warranty\", \"warranty\", \"warranty\", \"warranty\", \"warranty\", \"warranty\", \"watch\", \"watch\", \"watch\", \"watch\", \"watch\", \"watch\", \"watch\", \"watch\", \"watch\", \"watch\", \"wdtv\", \"well\", \"well\", \"well\", \"well\", \"well\", \"well\", \"well\", \"well\", \"well\", \"well\", \"wep\", \"wheel\", \"wheel\", \"wheel\", \"wheel\", \"wheel\", \"wheel\", \"wheel\", \"wheel\", \"wi\", \"wi\", \"wi\", \"wi\", \"wi\", \"wi\", \"wide\", \"wide\", \"wide\", \"wide\", \"wide\", \"wide\", \"wide\", \"wide\", \"wide\", \"wide\", \"wifi\", \"wifi\", \"wifi\", \"wifi\", \"wifi\", \"wifi\", \"wifi\", \"wii\", \"wii\", \"wii\", \"windows\", \"windows\", \"windows\", \"windows\", \"windows\", \"windshield\", \"windshield\", \"wire\", \"wire\", \"wire\", \"wire\", \"wire\", \"wire\", \"wire\", \"wire\", \"wire\", \"wire\", \"wireless\", \"wireless\", \"wireless\", \"wireless\", \"wireless\", \"wireless\", \"wireless\", \"wireless\", \"wireless\", \"woofer\", \"work\", \"work\", \"work\", \"work\", \"work\", \"work\", \"work\", \"work\", \"work\", \"work\", \"works\", \"works\", \"works\", \"works\", \"works\", \"works\", \"works\", \"works\", \"works\", \"works\", \"would\", \"would\", \"would\", \"would\", \"would\", \"would\", \"would\", \"would\", \"would\", \"would\", \"wpa\", \"wpa2\", \"wps\", \"write\", \"write\", \"write\", \"write\", \"write\", \"write\", \"write\", \"write\", \"write\", \"write\", \"wrt\", \"www\", \"www\", \"www\", \"www\", \"www\", \"www\", \"x100s\", \"xbox\", \"xbox\", \"xbox\", \"xbox\", \"xbox\", \"xbox\", \"yongnuo\", \"yongnuo\", \"yongnuo\", \"zagg\", \"zipper\", \"zipper\", \"zoom\", \"zoom\", \"zoom\"]}, \"R\": 30, \"lambda.step\": 0.01, \"plot.opts\": {\"xlab\": \"PC1\", \"ylab\": \"PC2\"}, \"topic.order\": [1, 5, 2, 10, 4, 6, 7, 9, 8, 3]};\n",
       "\n",
       "function LDAvis_load_lib(url, callback){\n",
       "  var s = document.createElement('script');\n",
       "  s.src = url;\n",
       "  s.async = true;\n",
       "  s.onreadystatechange = s.onload = callback;\n",
       "  s.onerror = function(){console.warn(\"failed to load library \" + url);};\n",
       "  document.getElementsByTagName(\"head\")[0].appendChild(s);\n",
       "}\n",
       "\n",
       "if(typeof(LDAvis) !== \"undefined\"){\n",
       "   // already loaded: just create the visualization\n",
       "   !function(LDAvis){\n",
       "       new LDAvis(\"#\" + \"ldavis_el1606030585833872565229617695\", ldavis_el1606030585833872565229617695_data);\n",
       "   }(LDAvis);\n",
       "}else if(typeof define === \"function\" && define.amd){\n",
       "   // require.js is available: use it to load d3/LDAvis\n",
       "   require.config({paths: {d3: \"https://cdnjs.cloudflare.com/ajax/libs/d3/3.5.5/d3.min\"}});\n",
       "   require([\"d3\"], function(d3){\n",
       "      window.d3 = d3;\n",
       "      LDAvis_load_lib(\"https://cdn.rawgit.com/bmabey/pyLDAvis/files/ldavis.v1.0.0.js\", function(){\n",
       "        new LDAvis(\"#\" + \"ldavis_el1606030585833872565229617695\", ldavis_el1606030585833872565229617695_data);\n",
       "      });\n",
       "    });\n",
       "}else{\n",
       "    // require.js not available: dynamically load d3 & LDAvis\n",
       "    LDAvis_load_lib(\"https://cdnjs.cloudflare.com/ajax/libs/d3/3.5.5/d3.min.js\", function(){\n",
       "         LDAvis_load_lib(\"https://cdn.rawgit.com/bmabey/pyLDAvis/files/ldavis.v1.0.0.js\", function(){\n",
       "                 new LDAvis(\"#\" + \"ldavis_el1606030585833872565229617695\", ldavis_el1606030585833872565229617695_data);\n",
       "            })\n",
       "         });\n",
       "}\n",
       "</script>"
      ],
      "text/plain": [
       "<IPython.core.display.HTML object>"
      ]
     },
     "execution_count": 74,
     "metadata": {},
     "output_type": "execute_result"
    }
   ],
   "source": [
    "import pyLDAvis.gensim\n",
    "\n",
    "lda_idm = pyLDAvis.gensim.prepare(bow_lda, bow, vocabulary)\n",
    "\n",
    "pyLDAvis.display(lda_idm)"
   ]
  },
  {
   "cell_type": "code",
   "execution_count": null,
   "metadata": {},
   "outputs": [],
   "source": [
    "#word cloud for visualization AFTER the model is trained and tuned"
   ]
  }
 ],
 "metadata": {
  "hide_input": false,
  "kernelspec": {
   "display_name": "Python 3",
   "language": "python",
   "name": "python3"
  },
  "language_info": {
   "codemirror_mode": {
    "name": "ipython",
    "version": 3
   },
   "file_extension": ".py",
   "mimetype": "text/x-python",
   "name": "python",
   "nbconvert_exporter": "python",
   "pygments_lexer": "ipython3",
   "version": "3.7.0"
  }
 },
 "nbformat": 4,
 "nbformat_minor": 2
}
